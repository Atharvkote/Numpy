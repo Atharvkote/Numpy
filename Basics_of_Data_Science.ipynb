{
 "cells": [
  {
   "cell_type": "markdown",
   "id": "b6c721a2",
   "metadata": {},
   "source": [
    "INDEX\n",
    "Sr no\tTopics\t\n",
    "1\tIntroduction \t\n",
    "2\tBasic Python(All Basic)\t\n",
    "3\tPython is the collection type(Tup,list,set,dict)\t\n",
    "4\tFile Handling\t\n",
    "5\tException handlng\t\n",
    "6\tFunction\t\n",
    "7\tWorking with the JSON file\t\n",
    "8\tList Comprehension\t\n",
    "9\tOperation on the csv file\t\n",
    "10\tLambda function\t\n",
    "11\tPython For Datascience (Pandas)\t\n",
    "12\tPandas data Frame operation\t\n",
    "13\tShuffle\t\n",
    "14\tJoin\t\n",
    "15\tPandas Series\t\n",
    "16\tGraph\t\n",
    "17\tUse of Numpy\t\n",
    "18\tOperation on array and matrix\t\n",
    "19\t\t\n",
    "20\t\t\n",
    "\t\t\n",
    "\t\n",
    "\t\t\n",
    "Data Science\n",
    "Introduction\n",
    "What is Python?\n",
    "Python is a high-level, general-purpose, and very popular programming language. Python programming language (latest Python 3) is being used in web development, Machine Learning applications, along with all cutting-edge technology in Software Industry. Python language is being used by almost all tech-giant companies like – Google, Amazon, Facebook, Instagram, Dropbox, Uber… etc.\n",
    "The biggest strength of Python is huge collection of standard library which can be used for the following:\n",
    "\tMachine Learning\n",
    "\tGUI Applications (like Kivy, Tkinter, PyQt etc. )\n",
    "\tWeb frameworks like Django (used by YouTube, Instagram, Dropbox)\n",
    "\tImage processing (like OpenCV, Pillow)\n",
    "\tWeb scraping (like Scrapy, BeautifulSoup, Selenium)\n",
    "\tTest frameworks\n",
    "\tMultimedia\n",
    "\tScientific computing\n",
    "\tText processing and many more.\n",
    "\t.\n",
    "Why Learn Python?\n",
    "Python is currently the most widely used multi-purpose, high-level programming language, which allows programming in Object-Oriented and Procedural paradigms. Python programs generally are smaller than other programming languages like Java. Programmers have to type relatively less and the indentation requirement of the language, makes them readable all the time.\n",
    "Basics, Input/Output, Data Types, Variables, Operators, Control Flow, Functions, Object Oriented Concepts, Exception Handling, Python Collections, Django Framework, Data Analysis, Numpy, Pandas, Machine Learning with Python, Python GUI, Modules in Python, Working with Database, Misc, Applications and Projects, Multiple Choice Questions\n",
    "\n",
    "Python is a high-level, interpreted, and general-purpose dynamic programming language that focuses on code readability. It generally has small programs when compared to Java and C. It was founded in 1991 by developer Guido Van Rossum. Python ranks among the most popular and fastest-growing languages in the world. Python is a powerful, flexible, and easy-to-use language. In addition, the python community is very active. It is used in many organizations as it supports multiple programming paradigms. It also performs automatic memory management.\n",
    "\n",
    "Advantages:\n",
    "\tPresence of third-party modules\n",
    "\tExtensive support libraries(NumPy for numerical calculations, Pandas for data analytics, etc.)\n",
    "\tOpen source and large active community base\n",
    "\tVersatile, Easy to read, learn and write\n",
    "\tUser-friendly data structures\n",
    "\tHigh-level language\n",
    "\tDynamically typed language(No need to mention data type based on the value assigned, it takes data type)\n",
    "\tObject-Oriented and Procedural  Programming language\n",
    "\tPortable and Interactive\n",
    "\tIdeal for prototypes – provide more functionality with less coding\n",
    "\tHighly Efficient(Python’s clean object-oriented design provides enhanced process control, and the language is equipped with excellent text processing and integration capabilities, as well as its own unit testing framework, which makes it more efficient.)\n",
    "\tInternet of Things(IoT) Opportunities\n",
    "\tInterpreted Language\n",
    "\tPortable across Operating systems\n",
    "\n",
    "Disadvantages:\n",
    "\tPerformance: Python is an interpreted language, which means that it can be slower than compiled languages like C or Java. This can be an issue for performance-intensive tasks.\n",
    "\tGlobal Interpreter Lock: The Global Interpreter Lock (GIL) is a mechanism in Python that prevents multiple threads from executing Python code at once. This can limit the parallelism and concurrency of some applications.\n",
    "\tMemory consumption: Python can consume a lot of memory, especially when working with large datasets or running complex algorithms.\n",
    "\tDynamically typed: Python is a dynamically typed language, which means that the types of variables can change at runtime. This can make it more difficult to catch errors and can lead to bugs.\n",
    "\tPackaging and versioning: Python has a large number of packages and libraries, which can sometimes lead to versioning issues and package conflicts.\n",
    "\tLack of strictness: Python’s flexibility can sometimes be a double-edged sword. While it can be great for rapid development and prototyping, it can also lead to code that is difficult to read and maintain.\n",
    "\tSteep learning curve: While Python is generally considered to be a relatively easy language to learn, it can still have a steep learning curve for beginners, especially if they have no prior experience with programming.\n",
    "\n",
    "Applications:\n",
    "\tGUI-based desktop applications\n",
    "\tGraphic design, image processing applications, Games, and Scientific/ computational Applications\n",
    "\tWeb frameworks and applications\n",
    "\tEnterprise and Business applications\n",
    "\tOperating Systems\n",
    "\tEducation\n",
    "\tDatabase Access\n",
    "\tLanguage Development\n",
    "\tPrototyping\n",
    "\tSoftware Development\n",
    "\tData Science and Machine Learning\n",
    " \n",
    "Scripting organizations using Python :\n",
    "\tGoogle(Components of Google spider and Search Engine)\n",
    "\tYahoo(Maps)\n",
    "\tYouTube\n",
    "\tMozilla\n",
    "\tDropbox\n",
    "\tMicrosoft\n",
    "\tCisco\n",
    "\tSpotify\n",
    "\tQuora\n",
    "\tFacebook\n",
    "\n",
    "Python 3 basics\n",
    "Python 3 is a popular high-level programming language used for a wide variety of applications. Here are some basics of Python 3 that you should know:\n",
    "\tVariables: In Python 3, variables are created by assigning a value to a name. For example, x = 5 creates a variable called x and assigns the value 5 to it.\n",
    "\tData types: Python 3 supports several built-in data types, including integers, floats, strings, booleans, lists, tuples, and dictionaries.\n",
    "\tOperators: Python 3 supports a variety of operators, including arithmetic operators (+, -, *, /), comparison operators (>, <, ==, !=), and logical operators (and, or, not).\n",
    "\tControl flow statements: Python 3 supports several control flow statements, including if-else statements, for loops, and while loops. These statements allow you to control the flow of execution in your code.\n",
    "\tFunctions: In Python 3, functions are created using the def keyword. For example, def my_function(x): creates a function called my_function that takes one argument called x.\n",
    "\tInput and output: In Python 3, you can use the input() function to get user input, and the print() function to output text to the console.\n",
    "\tModules: Python 3 supports modules, which are collections of functions and variables that can be imported and used in other Python code. You can import modules using the import keyword.\n",
    "\n",
    "Advantages of Python 3:\n",
    "\tPython 3 has a simple syntax that is easy to learn and read, making it a good choice for beginners.\n",
    "\tPython 3 is a high-level language that has a large standard library and many third-party libraries available, making it a versatile language that can be used for a wide variety of applications.\n",
    "\tPython 3 supports multiple programming paradigms, including object-oriented, functional, and procedural programming.\n",
    "\tPython 3 is an interpreted language, meaning that it does not need to be compiled before running, making it easy to write and test code quickly.\n",
    "\tPython 3 has good support for data analysis and scientific computing, with libraries such as NumPy and Pandas.\n",
    "\n",
    "Disadvantages of Python 3:\n",
    "\tPython 3 can be slower than compiled languages such as C++ or Java, which may be a concern for applications that require high performance.\n",
    "\tPython 3 has a global interpreter lock (GIL), which can limit its ability to take advantage of multiple CPU cores.\n",
    "\tPython 3 may not be the best choice for low-level systems programming, as it does not offer the same level of control over hardware as other languages.\n",
    "\tPython 3 is not as popular in some fields as other languages, such as R for data analysis or C++ for game development, so it may not always be the best choice for specific applications.\n",
    "\tPython was developed by Guido van Rossum in the early 1990s and its latest version is 3.11.0, we can simply call it Python3. Python 3.0 was released in 2008. and is interpreted language i.e it’s not compiled and the interpreter will check the code line by line. This article can be used to learn the very basics of Python programming language. So before moving on further.. let’s do the most popular ‘HelloWorld’ tradition and hence compare Python’s Syntax with C, C++, and Java ( I have taken these 3 because they are the most famous and mostly used languages).\n",
    "\n",
    "\n",
    "\n",
    "BASIC Python\n",
    "Basic program:-"
   ]
  },
  {
   "cell_type": "code",
   "execution_count": null,
   "id": "450e3656",
   "metadata": {},
   "outputs": [],
   "source": [
    "#print Hello World"
   ]
  },
  {
   "cell_type": "markdown",
   "id": "e52de0bd",
   "metadata": {},
   "source": []
  },
  {
   "cell_type": "code",
   "execution_count": null,
   "id": "29476607",
   "metadata": {},
   "outputs": [],
   "source": [
    "print('Hello World')"
   ]
  },
  {
   "cell_type": "markdown",
   "id": "d93e9589",
   "metadata": {},
   "source": [
    "O/p:- Hello word\n",
    "\n",
    "\"”” .py extension. Such a file can contain one or more Python statements that represent a Python program or Script.\"\"\"\n",
    "Note: Please note that Python for its scope doesn’t depend on the braces ( { } ), instead it uses indentation for its scope\n",
    "In the python2 the ‘print’ is not the function  but a keyword and therefore can be used without parentheses In python 3  the “print” is the function and must be involked with paraentheses\n",
    "\n",
    "Variables\n",
    "Variables are containers for storing data values.\n",
    "Creating Variables:-Python has no command for declaring a variable. A variable is created the moment you first assign a value to it."
   ]
  },
  {
   "cell_type": "code",
   "execution_count": null,
   "id": "aaee35c5",
   "metadata": {},
   "outputs": [],
   "source": [
    "#Types of Numbers-There are three types used to represent numbers in Python; these are integers (or integral) types, floating point numbers and complex numbers."
   ]
  },
  {
   "cell_type": "markdown",
   "id": "cc705314",
   "metadata": {},
   "source": [
    "\n",
    "x = 1"
   ]
  },
  {
   "cell_type": "code",
   "execution_count": null,
   "id": "dab18565",
   "metadata": {},
   "outputs": [],
   "source": [
    "print(x)\t\t\t\t# o/p:-1"
   ]
  },
  {
   "cell_type": "code",
   "execution_count": null,
   "id": "7239f81a",
   "metadata": {},
   "outputs": [],
   "source": [
    "print(type(x)) \t\t\t# o/p:- integer"
   ]
  },
  {
   "cell_type": "markdown",
   "id": "66e68e07",
   "metadata": {},
   "source": [
    "x =100000000000000000000000000000000000000000000000000000000001"
   ]
  },
  {
   "cell_type": "code",
   "execution_count": null,
   "id": "a42f8f7b",
   "metadata": {},
   "outputs": [],
   "source": [
    "print(x)\t\t\t\t#o/p:100000000000000000000000000000000000000000000000000000000001"
   ]
  },
  {
   "cell_type": "code",
   "execution_count": null,
   "id": "3b9f2def",
   "metadata": {},
   "outputs": [],
   "source": [
    "print(type(x))\t\t# o/p:- integer"
   ]
  },
  {
   "cell_type": "markdown",
   "id": "f5bff905",
   "metadata": {},
   "source": [
    "'''\n",
    "This makes it very easy to work with integer numbers in Python. Unlike some programming languages such as C# and Java have different integer types depending on the size of the number, small numbers having to be converted into larger types in some situations.\n",
    "'''\n",
    "Example\n",
    "x= 5\n",
    "y= \"John\""
   ]
  },
  {
   "cell_type": "code",
   "execution_count": null,
   "id": "9e83654a",
   "metadata": {},
   "outputs": [],
   "source": [
    "print(x)\t\t#o/p:-5"
   ]
  },
  {
   "cell_type": "code",
   "execution_count": null,
   "id": "9301bbff",
   "metadata": {},
   "outputs": [],
   "source": [
    "print(y)\t\t#o/p:-John"
   ]
  },
  {
   "cell_type": "markdown",
   "id": "3d8868cd",
   "metadata": {},
   "source": []
  },
  {
   "cell_type": "code",
   "execution_count": null,
   "id": "08156e94",
   "metadata": {},
   "outputs": [],
   "source": [
    "#Variables do not need to be declared with any particular type, and can even change type after they have been set."
   ]
  },
  {
   "cell_type": "markdown",
   "id": "2a0cf32b",
   "metadata": {},
   "source": [
    "example\n",
    "x= 4       #x is of type int\n",
    "x = \"Sally\" # x is now of type str"
   ]
  },
  {
   "cell_type": "code",
   "execution_count": null,
   "id": "0ce07e04",
   "metadata": {},
   "outputs": [],
   "source": [
    "print(x)\t\t#o/p:-Sally"
   ]
  },
  {
   "cell_type": "markdown",
   "id": "54215dc3",
   "metadata": {},
   "source": [
    "\n",
    "\n",
    "Casting\n",
    "If you want to specify the data type of a variable, this can be done with casting.\n",
    "Example\n",
    "x = str(3)    # x will be '3'\n",
    "y = int(3)    # y will be 3\n",
    "z = float(3)  # z will be 3.0\n",
    "\n",
    "Get the Type\n",
    "You can get the data type of a variable with the type() function.\n",
    "Example\n",
    "x = 5\n",
    "y = \"John\""
   ]
  },
  {
   "cell_type": "code",
   "execution_count": null,
   "id": "db2d7c2a",
   "metadata": {},
   "outputs": [],
   "source": [
    "print(type(x))\t\t#o/p:-integer"
   ]
  },
  {
   "cell_type": "code",
   "execution_count": null,
   "id": "466b37e3",
   "metadata": {},
   "outputs": [],
   "source": [
    "print(type(y))\t\t#o/p:-string"
   ]
  },
  {
   "cell_type": "markdown",
   "id": "afd2c981",
   "metadata": {},
   "source": [
    "\n",
    "Single or Double Quotes?\n",
    "String variables can be declared either by using single or double quotes:\n",
    "Example\n",
    "x = \"John\"\t\t# is the same as\n",
    "x = 'John'\n",
    "\n",
    "Case-Sensitive\n",
    "Variable names are case-sensitive.\n",
    "Example\n",
    "This will create two variables:\n",
    "a = 4\n",
    "A = \"Sally\"\t\t#A will not overwrite a\n",
    "\n",
    "Variable Names\n",
    "A variable can have a short name (like x and y) or a more descriptive name (age, carname, total_volume).\n",
    " Rules for Python variables:\n",
    "\tA variable name must start with a letter or the underscore character\n",
    "\tA variable name cannot start with a number\n",
    "\tA variable name can only contain alpha-numeric characters and underscores (A-z, 0-9, and _ )\n",
    "\tVariable names are case-sensitive (age, Age and AGE are three different variables)\n",
    "\tA variable name cannot be any of the Python keywords.\n",
    "\n",
    "Example \n",
    "Legal variable names:\n",
    "myvar = \"John\"\n",
    "my_var = \"John\"\n",
    "_my_var = \"John\"\n",
    "myVar = \"John\"\n",
    "MYVAR = \"John\"\n",
    "myvar2 = \"John\"\n",
    "\n",
    "\n",
    "\n",
    "Example\n",
    "Illegal variable names:\n",
    "2myvar = \"John\"\n",
    "my-var = \"John\"\n",
    "my var = \"John\"\n",
    "Remember that variable names are case-sensitive\n",
    "\n",
    "Multi Words Variable Names\n",
    "Variable names with more than one word can be difficult to read.\n",
    "There are several techniques you can use to make them more readable:\n",
    "\n",
    "Camel Case\n",
    "Each word, except the first, starts with a capital letter:\n",
    "myVariableName = \"John\"\n",
    "\n",
    "Pascal Case\n",
    "Each word starts with a capital letter:\n",
    "MyVariableName = \"John\"\n",
    "\n",
    "Snake Case\n",
    "Each word is separated by an underscore character:\n",
    "my_variable_name = \"John\"\n",
    "\n",
    "Many Values to Multiple Variables\n",
    "Python allows you to assign values to multiple variables in one line:\n",
    "Example \n",
    "x, y, z = \"Orange\", \"Banana\", \"Cherry\""
   ]
  },
  {
   "cell_type": "code",
   "execution_count": null,
   "id": "068bcee9",
   "metadata": {},
   "outputs": [],
   "source": [
    "print(x)\t\t\t\t\t\t#o/p:- Orange"
   ]
  },
  {
   "cell_type": "code",
   "execution_count": null,
   "id": "8488d9ba",
   "metadata": {},
   "outputs": [],
   "source": [
    "print(y)\t\t\t\t\t\t#o/p:-Banana"
   ]
  },
  {
   "cell_type": "code",
   "execution_count": null,
   "id": "e7885cf0",
   "metadata": {},
   "outputs": [],
   "source": [
    "print(z)\t\t\t\t\t\t#o/p:- Cherry"
   ]
  },
  {
   "cell_type": "markdown",
   "id": "7aee94d6",
   "metadata": {},
   "source": [
    "\n",
    "Note: Make sure the number of variables matches the number of values, or else you will get an error.\n",
    "\n",
    "One Value to Multiple Variables\n",
    "And you can assign the same value to multiple variables in one line:\n",
    "Example\n",
    "x = y = z = \"Orange\""
   ]
  },
  {
   "cell_type": "code",
   "execution_count": null,
   "id": "1fea5867",
   "metadata": {},
   "outputs": [],
   "source": [
    "print(x)\t#o/p:-Orange"
   ]
  },
  {
   "cell_type": "code",
   "execution_count": null,
   "id": "8a571b68",
   "metadata": {},
   "outputs": [],
   "source": [
    "print(y)\t#o/p:-Orange"
   ]
  },
  {
   "cell_type": "code",
   "execution_count": null,
   "id": "8de6ffe7",
   "metadata": {},
   "outputs": [],
   "source": [
    "print(z)\t\t#o/p:-Orange"
   ]
  },
  {
   "cell_type": "markdown",
   "id": "d9f6ed33",
   "metadata": {},
   "source": [
    "\n",
    "Unpack a Collection\n",
    "If you have a collection of values in a list, tuple etc. Python allows you to extract the values into variables. This is called unpacking.\n",
    "Example\n",
    "Unpack a list:\n",
    "fruits = [\"apple\", \"banana\", \"cherry\"]\n",
    "x, y, z = fruits"
   ]
  },
  {
   "cell_type": "code",
   "execution_count": null,
   "id": "87f032f5",
   "metadata": {},
   "outputs": [],
   "source": [
    "print(x)\t#o/p:-apple"
   ]
  },
  {
   "cell_type": "code",
   "execution_count": null,
   "id": "36c1fa9e",
   "metadata": {},
   "outputs": [],
   "source": [
    "print(y)\t#o/p:-banana"
   ]
  },
  {
   "cell_type": "code",
   "execution_count": null,
   "id": "e35d392d",
   "metadata": {},
   "outputs": [],
   "source": [
    "print(z)\t\t#o/p:-cherry"
   ]
  },
  {
   "cell_type": "markdown",
   "id": "74c883d1",
   "metadata": {},
   "source": [
    " \n",
    "Output Variables\n",
    "The Python print() function is often used to output variables.\n",
    "Example \n",
    "x = \"Python is awesome\""
   ]
  },
  {
   "cell_type": "code",
   "execution_count": null,
   "id": "a7038bc2",
   "metadata": {},
   "outputs": [],
   "source": [
    "print(x)\t#o/p:- Python is awesome\t"
   ]
  },
  {
   "cell_type": "markdown",
   "id": "efff8bc7",
   "metadata": {},
   "source": [
    "\n",
    "In the print() function, you output multiple variables, separated by a comma:\n",
    "Example\n",
    "x = \"Python\"\n",
    "y = \"is\"\n",
    "z = \"awesome\""
   ]
  },
  {
   "cell_type": "code",
   "execution_count": null,
   "id": "49c285ce",
   "metadata": {},
   "outputs": [],
   "source": [
    "print(x, y, z)\t\t#o/p:-Python,is, awesome"
   ]
  },
  {
   "cell_type": "markdown",
   "id": "e95daef3",
   "metadata": {},
   "source": [
    "\n",
    "You can also use the + operator to output multiple variables:\n",
    "Example\n",
    "x = \"Python \"\n",
    "y = \"is \"\n",
    "z = \"awesome\""
   ]
  },
  {
   "cell_type": "code",
   "execution_count": null,
   "id": "d87a9bf9",
   "metadata": {},
   "outputs": [],
   "source": [
    "print(x + y + z)\t#o/p:- Pythonisawesome"
   ]
  },
  {
   "cell_type": "markdown",
   "id": "1fa039d5",
   "metadata": {},
   "source": [
    "Notice the space character after \"Python \" and \"is \", without them the result would be \"Pythonisawesome\".\n"
   ]
  },
  {
   "cell_type": "code",
   "execution_count": null,
   "id": "9720c25b",
   "metadata": {},
   "outputs": [],
   "source": [
    "##################################################"
   ]
  },
  {
   "cell_type": "markdown",
   "id": "444070b7",
   "metadata": {},
   "source": [
    "For numbers, the + character works as a mathematical operator:\n",
    "Example\n",
    "x = 5\n",
    "y = 10"
   ]
  },
  {
   "cell_type": "code",
   "execution_count": null,
   "id": "e2d9abe7",
   "metadata": {},
   "outputs": [],
   "source": [
    "print(x + y)\t\t#o/p:-15"
   ]
  },
  {
   "cell_type": "markdown",
   "id": "d9fe9f49",
   "metadata": {},
   "source": []
  },
  {
   "cell_type": "code",
   "execution_count": null,
   "id": "78507876",
   "metadata": {},
   "outputs": [],
   "source": [
    "###################################################"
   ]
  },
  {
   "cell_type": "markdown",
   "id": "fa8eb5a1",
   "metadata": {},
   "source": [
    "In the print() function, when you try to combine a string and a number with the + operator, Python will give you an error:\n",
    "Example\n",
    "x = 5\n",
    "y = \"John\""
   ]
  },
  {
   "cell_type": "code",
   "execution_count": null,
   "id": "5ed27fdb",
   "metadata": {},
   "outputs": [],
   "source": [
    "print(x + y)\t\t#o/p:-error"
   ]
  },
  {
   "cell_type": "markdown",
   "id": "ea98c86a",
   "metadata": {},
   "source": [
    "\n",
    "The best way to output multiple variables in the print() function is to separate them with commas, which even support different data types:\n",
    "Example\n",
    "x = 5\n",
    "y = \"John\""
   ]
  },
  {
   "cell_type": "code",
   "execution_count": null,
   "id": "48e38dde",
   "metadata": {},
   "outputs": [],
   "source": [
    "print(x, y)\t#o/p:-5 John"
   ]
  },
  {
   "cell_type": "markdown",
   "id": "22102dff",
   "metadata": {},
   "source": [
    "\n",
    "\n",
    "Global Variables\n",
    "Variables that are created outside of a function (as in all of the examples above) are known as global variables. Global variables can be used by everyone, both inside of functions and outside.\n",
    "Example\n",
    "Create a variable outside of a function, and use it inside the function\n",
    "x = \"awesome\""
   ]
  },
  {
   "cell_type": "code",
   "execution_count": null,
   "id": "59ead71b",
   "metadata": {},
   "outputs": [],
   "source": [
    "def myfunc():"
   ]
  },
  {
   "cell_type": "code",
   "execution_count": null,
   "id": "7a85adcd",
   "metadata": {},
   "outputs": [],
   "source": [
    "  print(\"Python is \" + x)\t\t"
   ]
  },
  {
   "cell_type": "markdown",
   "id": "f7af217e",
   "metadata": {},
   "source": [
    "myfunc()\t\t\t\t#o/p:- Python is awesome\n",
    "\n",
    "If you create a variable with the same name inside a function, this variable will be local, and can only be used inside the function. The global variable with the same name will remain as it was, global and with the original value.\n",
    "Example\n",
    "Create a variable inside a function, with the same name as the global variable\n",
    "x = \"awesome\" \t#golable declare"
   ]
  },
  {
   "cell_type": "code",
   "execution_count": null,
   "id": "112bae5b",
   "metadata": {},
   "outputs": [],
   "source": [
    "def myfunc():\t\t#function create"
   ]
  },
  {
   "cell_type": "markdown",
   "id": "3b2392e2",
   "metadata": {},
   "source": [
    " \t x = \"fantastic\""
   ]
  },
  {
   "cell_type": "code",
   "execution_count": null,
   "id": "4af53e9b",
   "metadata": {},
   "outputs": [],
   "source": [
    "  \tprint(\"Python is \" + x)"
   ]
  },
  {
   "cell_type": "markdown",
   "id": "9e9f290d",
   "metadata": {},
   "source": [
    "myfunc()\t\t"
   ]
  },
  {
   "cell_type": "code",
   "execution_count": null,
   "id": "67563e93",
   "metadata": {},
   "outputs": [],
   "source": [
    "print(\"Python is \" + x) "
   ]
  },
  {
   "cell_type": "markdown",
   "id": "e4b248ee",
   "metadata": {},
   "source": []
  },
  {
   "cell_type": "code",
   "execution_count": null,
   "id": "94b9636f",
   "metadata": {},
   "outputs": [],
   "source": [
    "#Converting to Ints"
   ]
  },
  {
   "cell_type": "markdown",
   "id": "aa2efdb2",
   "metadata": {},
   "source": [
    "It is possible to convert another type into an integer using the int() function. For example, if we want to convert a string into an int (assuming the string contains a integer number) then we can do this using the int() function.\n",
    "\n",
    "For example \n",
    "total = int('100')\n",
    "\n",
    "This can be useful when used with the input() function. The input() function always returns a string. If we want to ask the user to input   an integer number, then we will need  to convert the string returned from the input() function into an int. We can do this by wrapping the call to the input() function in a call to the int() function.\n",
    "Example\n",
    "age = input('Please enter your age:')"
   ]
  },
  {
   "cell_type": "code",
   "execution_count": null,
   "id": "520e4b9c",
   "metadata": {},
   "outputs": [],
   "source": [
    "print(type(age))\t\t\t\t#o/p:-string"
   ]
  },
  {
   "cell_type": "code",
   "execution_count": null,
   "id": "c1b81e7c",
   "metadata": {},
   "outputs": [],
   "source": [
    "print(age)\t\t\t\t\t#o/p:- user need"
   ]
  },
  {
   "cell_type": "markdown",
   "id": "587079ed",
   "metadata": {},
   "source": []
  },
  {
   "cell_type": "code",
   "execution_count": null,
   "id": "cdd9d2f6",
   "metadata": {},
   "outputs": [],
   "source": [
    "########################################"
   ]
  },
  {
   "cell_type": "markdown",
   "id": "30547a6a",
   "metadata": {},
   "source": [
    "example\n",
    "age1 = input('Please enter your age:')"
   ]
  },
  {
   "cell_type": "code",
   "execution_count": null,
   "id": "48b411bf",
   "metadata": {},
   "outputs": [],
   "source": [
    "print(type(age1))\t\t\t\t#o.p:- string"
   ]
  },
  {
   "cell_type": "code",
   "execution_count": null,
   "id": "b3f66e06",
   "metadata": {},
   "outputs": [],
   "source": [
    "print(age1)\t\t\t\t\t#o.p:- user need"
   ]
  },
  {
   "cell_type": "markdown",
   "id": "c36b82e2",
   "metadata": {},
   "source": [
    " "
   ]
  },
  {
   "cell_type": "code",
   "execution_count": null,
   "id": "41e349ce",
   "metadata": {},
   "outputs": [],
   "source": [
    "########################################"
   ]
  },
  {
   "cell_type": "markdown",
   "id": "c18b4be0",
   "metadata": {},
   "source": [
    "example\n",
    "age2 = input('Please enter your age:')"
   ]
  },
  {
   "cell_type": "code",
   "execution_count": null,
   "id": "de4a626b",
   "metadata": {},
   "outputs": [],
   "source": [
    "print(type(age2))\t\t\t\t#o.p:- string"
   ]
  },
  {
   "cell_type": "code",
   "execution_count": null,
   "id": "9c6eb56a",
   "metadata": {},
   "outputs": [],
   "source": [
    "print(age2)\t\t\t\t\t#o.p:- as per user need"
   ]
  },
  {
   "cell_type": "markdown",
   "id": "924483af",
   "metadata": {},
   "source": [
    "age=age1+age2\t\t\t\t#o.p:- the two string are concatenated"
   ]
  },
  {
   "cell_type": "code",
   "execution_count": null,
   "id": "8ea33603",
   "metadata": {},
   "outputs": [],
   "source": [
    "print(age)\t\t\t\t\t#o.p:- 2 concatenated string"
   ]
  },
  {
   "cell_type": "markdown",
   "id": "620d90ad",
   "metadata": {},
   "source": []
  },
  {
   "cell_type": "code",
   "execution_count": null,
   "id": "e74e6759",
   "metadata": {},
   "outputs": [],
   "source": [
    "########################################"
   ]
  },
  {
   "cell_type": "markdown",
   "id": "5d693e95",
   "metadata": {},
   "source": [
    "example\n",
    "age = int(input('Please enter your age:'))"
   ]
  },
  {
   "cell_type": "code",
   "execution_count": null,
   "id": "7c05e27f",
   "metadata": {},
   "outputs": [],
   "source": [
    "print(type(age))\t\t\t\t#o.p:- int"
   ]
  },
  {
   "cell_type": "code",
   "execution_count": null,
   "id": "e031c6eb",
   "metadata": {},
   "outputs": [],
   "source": [
    "print(age)\t\t\t\t\t#o.p:-- as per user need"
   ]
  },
  {
   "cell_type": "markdown",
   "id": "b2429fb2",
   "metadata": {},
   "source": []
  },
  {
   "cell_type": "code",
   "execution_count": null,
   "id": "94ea50d5",
   "metadata": {},
   "outputs": [],
   "source": [
    "########################################"
   ]
  },
  {
   "cell_type": "markdown",
   "id": "9b6127e1",
   "metadata": {},
   "source": [
    "example\n",
    "age1 = int(input('Please enter your age:'))"
   ]
  },
  {
   "cell_type": "code",
   "execution_count": null,
   "id": "8c82a677",
   "metadata": {},
   "outputs": [],
   "source": [
    "print(type(age1))\t\t\t\t#o.p:- int"
   ]
  },
  {
   "cell_type": "code",
   "execution_count": null,
   "id": "9c39549b",
   "metadata": {},
   "outputs": [],
   "source": [
    "print(age1)\t\t\t\t\t#o.p:- as per user need"
   ]
  },
  {
   "cell_type": "markdown",
   "id": "819ffdf7",
   "metadata": {},
   "source": []
  },
  {
   "cell_type": "code",
   "execution_count": null,
   "id": "0c67d586",
   "metadata": {},
   "outputs": [],
   "source": [
    "########################################"
   ]
  },
  {
   "cell_type": "markdown",
   "id": "1d98f925",
   "metadata": {},
   "source": [
    "example\n",
    "age2 = int(input('Please enter your age:'))"
   ]
  },
  {
   "cell_type": "code",
   "execution_count": null,
   "id": "0782aa7a",
   "metadata": {},
   "outputs": [],
   "source": [
    "print(type(age2))\t\t\t\t#o.p:-int"
   ]
  },
  {
   "cell_type": "code",
   "execution_count": null,
   "id": "6dc6f2ab",
   "metadata": {},
   "outputs": [],
   "source": [
    "print(age2)\t\t\t\t\t#o.p:- as per user need"
   ]
  },
  {
   "cell_type": "markdown",
   "id": "7944e8da",
   "metadata": {},
   "source": [
    "age=age1+age2\t\t\t\t#o.p:- 2 integer value are added"
   ]
  },
  {
   "cell_type": "code",
   "execution_count": null,
   "id": "684617a8",
   "metadata": {},
   "outputs": [],
   "source": [
    "print(age)\t\t\t\t\t# o.p:- total of the age1and age2"
   ]
  },
  {
   "cell_type": "markdown",
   "id": "00ca0663",
   "metadata": {},
   "source": []
  },
  {
   "cell_type": "code",
   "execution_count": null,
   "id": "830e8ec3",
   "metadata": {},
   "outputs": [],
   "source": [
    "########################################"
   ]
  },
  {
   "cell_type": "markdown",
   "id": "d70d614c",
   "metadata": {},
   "source": [
    "Floating Point Numbers\n",
    "Real numbers, or floating point numbers, are represented in Python using the IEEE 754 double-precision binary floating-point number format\n",
    "\n",
    "Example\n",
    "exchange_rate = 1.83"
   ]
  },
  {
   "cell_type": "code",
   "execution_count": null,
   "id": "c55c5e98",
   "metadata": {},
   "outputs": [],
   "source": [
    "print(exchange_rate)\t\t\t\t\t#o.p:- 1.83"
   ]
  },
  {
   "cell_type": "code",
   "execution_count": null,
   "id": "ca992e0d",
   "metadata": {},
   "outputs": [],
   "source": [
    "print(type(exchange_rate))\t\t\t\t#o.p:- float"
   ]
  },
  {
   "cell_type": "markdown",
   "id": "d6e9fe60",
   "metadata": {},
   "source": [
    "\n",
    "Converting to Floats\n",
    "As with integers it is possible to convert other types such as an int or a string into a float.\n",
    "Example\n",
    "int_value = 100\n",
    "string_value = '1.5'\n",
    "float_value = float(int_value)\t\t# here the integer value are converted into the float\n",
    "print ('int value as a float:', float_value)\t#o.p:- 100.00"
   ]
  },
  {
   "cell_type": "code",
   "execution_count": null,
   "id": "4bfa7b96",
   "metadata": {},
   "outputs": [],
   "source": [
    "print(type(float_value))\t\t\t#o.p  :- float"
   ]
  },
  {
   "cell_type": "markdown",
   "id": "c1529fbc",
   "metadata": {},
   "source": [
    "float_value = float(string_value)\t\t# here the string is converted into the float\n",
    "print ('string value as a float:', float_value)\t#o.p:-1.5"
   ]
  },
  {
   "cell_type": "code",
   "execution_count": null,
   "id": "4f628329",
   "metadata": {},
   "outputs": [],
   "source": [
    "print(type(float_value))\t\t\t#o.p:- float"
   ]
  },
  {
   "cell_type": "markdown",
   "id": "c775f392",
   "metadata": {},
   "source": [
    "\n",
    "\n",
    "\n",
    "\n",
    "Complex Numbers\n",
    "c1 = 1\n",
    "c2 = 2j"
   ]
  },
  {
   "cell_type": "code",
   "execution_count": null,
   "id": "d02f993e",
   "metadata": {},
   "outputs": [],
   "source": [
    "print('c1:', c1, ', c2:', c2)\t\t#o.p:- c1:-1;c2:-2j"
   ]
  },
  {
   "cell_type": "code",
   "execution_count": null,
   "id": "dbc09262",
   "metadata": {},
   "outputs": [],
   "source": [
    "print(type(c1))\t\t\t\t#o.p:-real"
   ]
  },
  {
   "cell_type": "code",
   "execution_count": null,
   "id": "3e5fba38",
   "metadata": {},
   "outputs": [],
   "source": [
    "print(type(c2))\t\t\t\t#o.p:-imagenery"
   ]
  },
  {
   "cell_type": "code",
   "execution_count": null,
   "id": "2dfeeefd",
   "metadata": {},
   "outputs": [],
   "source": [
    "print(c1.real)\t\t\t\t#print  the real part i.e 1"
   ]
  },
  {
   "cell_type": "code",
   "execution_count": null,
   "id": "d8b70fb5",
   "metadata": {},
   "outputs": [],
   "source": [
    "print(c2.imag)\t\t\t\t#print the imaginary part 2j"
   ]
  },
  {
   "cell_type": "markdown",
   "id": "e2498a71",
   "metadata": {},
   "source": [
    "\n",
    "Boolean Values\n",
    "Python supports another type called Boolean; a Boolean type can only be one of True or False\n",
    "Example\n",
    "all_ok = True"
   ]
  },
  {
   "cell_type": "code",
   "execution_count": null,
   "id": "3a8c2cc8",
   "metadata": {},
   "outputs": [],
   "source": [
    "print(all_ok)\t\t\t#O.p:- True"
   ]
  },
  {
   "cell_type": "markdown",
   "id": "75a4c6dd",
   "metadata": {},
   "source": [
    "all_ok = False"
   ]
  },
  {
   "cell_type": "code",
   "execution_count": null,
   "id": "cab90f55",
   "metadata": {},
   "outputs": [],
   "source": [
    "print(all_ok)\t\t\t#o.p:- False"
   ]
  },
  {
   "cell_type": "code",
   "execution_count": null,
   "id": "6c369159",
   "metadata": {},
   "outputs": [],
   "source": [
    "print(type(all_ok))\t\t#o.p:-Boolean"
   ]
  },
  {
   "cell_type": "markdown",
   "id": "bd2838f1",
   "metadata": {},
   "source": []
  },
  {
   "cell_type": "code",
   "execution_count": null,
   "id": "75d40e7f",
   "metadata": {},
   "outputs": [],
   "source": [
    "###############################################"
   ]
  },
  {
   "cell_type": "code",
   "execution_count": null,
   "id": "33c0e59f",
   "metadata": {},
   "outputs": [],
   "source": [
    "#You can also convert strings into Booleans as long as the strings contain either True or False (and nothing else). "
   ]
  },
  {
   "cell_type": "markdown",
   "id": "58c3c3ee",
   "metadata": {},
   "source": [
    "status = bool (input ('OK it is confirmed: '))"
   ]
  },
  {
   "cell_type": "code",
   "execution_count": null,
   "id": "7d14c477",
   "metadata": {},
   "outputs": [],
   "source": [
    "print(status)\t\t\t\t\t#o.p:- true"
   ]
  },
  {
   "cell_type": "code",
   "execution_count": null,
   "id": "b209d692",
   "metadata": {},
   "outputs": [],
   "source": [
    "print(type(status))\t\t\t\t#o.p:- true"
   ]
  },
  {
   "cell_type": "markdown",
   "id": "56279390",
   "metadata": {},
   "source": [
    "\n",
    "Arithmetic Operators\n",
    "Arithmetic operators are used to perform some form of mathematical operation such as addition, subtraction, multiplication and division etc. In Python they are represented by one or two characters.\n",
    "Example\n",
    "home = 10\n",
    "away = 15"
   ]
  },
  {
   "cell_type": "code",
   "execution_count": null,
   "id": "7fc42ea0",
   "metadata": {},
   "outputs": [],
   "source": [
    "print(home + away) \t\t\t#o.p:- 1015"
   ]
  },
  {
   "cell_type": "code",
   "execution_count": null,
   "id": "7b1fecc1",
   "metadata": {},
   "outputs": [],
   "source": [
    "print(type(home + away))\t\t#o.p:- string"
   ]
  },
  {
   "cell_type": "code",
   "execution_count": null,
   "id": "d17b9035",
   "metadata": {},
   "outputs": [],
   "source": [
    "print(10 * 4)\t\t\t\t#o.p:- 40"
   ]
  },
  {
   "cell_type": "code",
   "execution_count": null,
   "id": "a386cb9d",
   "metadata": {},
   "outputs": [],
   "source": [
    "print(type(10*4))\t\t\t#o.p:- int"
   ]
  },
  {
   "cell_type": "markdown",
   "id": "67ed97ac",
   "metadata": {},
   "source": [
    "goals_for = 10\n",
    "goals_against = 7"
   ]
  },
  {
   "cell_type": "code",
   "execution_count": null,
   "id": "d7a2485b",
   "metadata": {},
   "outputs": [],
   "source": [
    "print(goals_for - goals_against)\t#o.p:- 3\t"
   ]
  },
  {
   "cell_type": "code",
   "execution_count": null,
   "id": "ae3928c1",
   "metadata": {},
   "outputs": [],
   "source": [
    "print(type(goals_for - goals_against))\t\t# o.p:- int"
   ]
  },
  {
   "cell_type": "markdown",
   "id": "0b2c8f2d",
   "metadata": {},
   "source": []
  },
  {
   "cell_type": "code",
   "execution_count": null,
   "id": "273f4f9d",
   "metadata": {},
   "outputs": [],
   "source": [
    "###########################################"
   ]
  },
  {
   "cell_type": "markdown",
   "id": "88bc700a",
   "metadata": {},
   "source": [
    "However, you may notice that we have missed out division with respect to integers, why is this? It is because it depends on which division operator you use as to what the returned type actually is.\n",
    "For example, if we divide the integer 100 by 20 then the result you might reasonably expect to produce might be 5; but it is not, it is actually 5.0:\n",
    "Example"
   ]
  },
  {
   "cell_type": "code",
   "execution_count": null,
   "id": "6158606d",
   "metadata": {},
   "outputs": [],
   "source": [
    "print(100 / 20)\t\t\t\t#o.p;- 5"
   ]
  },
  {
   "cell_type": "code",
   "execution_count": null,
   "id": "51d85602",
   "metadata": {},
   "outputs": [],
   "source": [
    "print(type(100 / 20))\t\t\t#o.p:- int"
   ]
  },
  {
   "cell_type": "code",
   "execution_count": null,
   "id": "0a1ec364",
   "metadata": {},
   "outputs": [],
   "source": [
    "##########################################"
   ]
  },
  {
   "cell_type": "markdown",
   "id": "3f7de601",
   "metadata": {},
   "source": [
    "To ignore the fractional part then there is an alternative version of the divide operator //. This operator is referred to as the integer division operator\n",
    "Example"
   ]
  },
  {
   "cell_type": "code",
   "execution_count": null,
   "id": "70de520f",
   "metadata": {},
   "outputs": [],
   "source": [
    "print(100 // 20)\t\t#o.p:- 5.0"
   ]
  },
  {
   "cell_type": "code",
   "execution_count": null,
   "id": "47c45fe7",
   "metadata": {},
   "outputs": [],
   "source": [
    "print(type(100 // 20))\t\t#o.p:- float"
   ]
  },
  {
   "cell_type": "markdown",
   "id": "063397b2",
   "metadata": {},
   "source": []
  },
  {
   "cell_type": "code",
   "execution_count": null,
   "id": "cd60d5db",
   "metadata": {},
   "outputs": [],
   "source": [
    "###########################################"
   ]
  },
  {
   "cell_type": "markdown",
   "id": "567f4582",
   "metadata": {},
   "source": [
    "But what if you are only interested in the remainder part of a division, the integer division operator has lost that? Well in that case you can use the modulus operation %\n",
    "Example"
   ]
  },
  {
   "cell_type": "code",
   "execution_count": null,
   "id": "81c7fd64",
   "metadata": {},
   "outputs": [],
   "source": [
    "print('Modulus division 100 % 13:', 100 % 13)\t\t#o.p:- 9"
   ]
  },
  {
   "cell_type": "code",
   "execution_count": null,
   "id": "0f57f926",
   "metadata": {},
   "outputs": [],
   "source": [
    "print('Modulus division 3 % 2:', 3 % 2)\t\t\t#o.p:- 1"
   ]
  },
  {
   "cell_type": "markdown",
   "id": "b79d6e6a",
   "metadata": {},
   "source": []
  },
  {
   "cell_type": "code",
   "execution_count": null,
   "id": "280fb430",
   "metadata": {},
   "outputs": [],
   "source": [
    "##########################################"
   ]
  },
  {
   "cell_type": "markdown",
   "id": "219f7918",
   "metadata": {},
   "source": [
    "A final integer operator we will look at is the power operator that can be used to raise an integer by a given power, "
   ]
  },
  {
   "cell_type": "code",
   "execution_count": null,
   "id": "6465dd04",
   "metadata": {},
   "outputs": [],
   "source": [
    "for example"
   ]
  },
  {
   "cell_type": "markdown",
   "id": "edbf469d",
   "metadata": {},
   "source": [
    "5 to the power of 3. \n",
    "The power operator is '**'\n",
    "a = 5\n",
    "b = 3"
   ]
  },
  {
   "cell_type": "code",
   "execution_count": null,
   "id": "4a1edebc",
   "metadata": {},
   "outputs": [],
   "source": [
    "print(a ** b)\t\t#o.p:- 125"
   ]
  },
  {
   "cell_type": "markdown",
   "id": "1fbba27d",
   "metadata": {},
   "source": [
    "\n",
    "Assignment Operators\n",
    "These assignment operators are actually referred to as compound operators  as they combine together a numeric operation  (such as add) with the assignment operator. \n",
    " For example, the += compound operator is a combination of the add operator and the = operator \n",
    "example\n",
    "x = 0\n",
    "x += 1 # has the same behaviour as x = x + 1\n",
    "\n",
    "!!!!!!!!!!!None Value\n",
    "Python has a special type, the None Type, with a single value, None.\n",
    "Example\n",
    "winner = None"
   ]
  },
  {
   "cell_type": "code",
   "execution_count": null,
   "id": "82580b27",
   "metadata": {},
   "outputs": [],
   "source": [
    "print(winner is None)\t\t#o.p:- True"
   ]
  },
  {
   "cell_type": "code",
   "execution_count": null,
   "id": "757710f8",
   "metadata": {},
   "outputs": [],
   "source": [
    "#Alternatively you can also write:"
   ]
  },
  {
   "cell_type": "code",
   "execution_count": null,
   "id": "9fca079b",
   "metadata": {},
   "outputs": [],
   "source": [
    "print(winner is not None)\t\t#o.p:-False"
   ]
  },
  {
   "cell_type": "markdown",
   "id": "ae9622de",
   "metadata": {},
   "source": []
  },
  {
   "cell_type": "code",
   "execution_count": null,
   "id": "744434fd",
   "metadata": {},
   "outputs": [],
   "source": [
    "#Which will print out True only if the"
   ]
  },
  {
   "cell_type": "markdown",
   "id": "d8ba009f",
   "metadata": {},
   "source": [
    "winner = None"
   ]
  },
  {
   "cell_type": "code",
   "execution_count": null,
   "id": "85d8f8f1",
   "metadata": {},
   "outputs": [],
   "source": [
    "print('winner:', winner)\t\t#o.p:- winner: None"
   ]
  },
  {
   "cell_type": "code",
   "execution_count": null,
   "id": "0bd417b5",
   "metadata": {},
   "outputs": [],
   "source": [
    "print('winner is None:', winner is None)\t\t#o.p:- winner is None: True"
   ]
  },
  {
   "cell_type": "code",
   "execution_count": null,
   "id": "fd8f5699",
   "metadata": {},
   "outputs": [],
   "source": [
    "print('winner is not None:', winner is not None)\t\t#o.p:- winner is not None: False"
   ]
  },
  {
   "cell_type": "code",
   "execution_count": null,
   "id": "f0d3e80b",
   "metadata": {},
   "outputs": [],
   "source": [
    "print(type(winner))\t\t\t\t\t\t#o.p:- <class 'NoneType'>"
   ]
  },
  {
   "cell_type": "code",
   "execution_count": null,
   "id": "95250c64",
   "metadata": {},
   "outputs": [],
   "source": [
    "print('Set winner to True')\t\t\t\t\t#o.p:- Set winner to True"
   ]
  },
  {
   "cell_type": "markdown",
   "id": "fc1c8f26",
   "metadata": {},
   "source": [
    "winner = True\n",
    "\n",
    "Flow of Control Using If Statements\n",
    "Comparison Operators\n",
    "Before exploring if statements we need to discuss comparison operators. These are operators that return Boolean values. They are key to the conditional elements of flow of control statements such as if. A comparison operator is an operator that performs some form of test and returns True of False.\n",
    "\n",
    "Note that indentation, this is very important in Python; indeed, layout of the code is very, very important in Python. Indentation is used to determine how one piece of code should be associated with another piece of the code.\n",
    "Example\n",
    "num = int(input('Enter a number: '))"
   ]
  },
  {
   "cell_type": "code",
   "execution_count": null,
   "id": "b7c042f3",
   "metadata": {},
   "outputs": [],
   "source": [
    "if num > 0:"
   ]
  },
  {
   "cell_type": "code",
   "execution_count": null,
   "id": "ff7be062",
   "metadata": {},
   "outputs": [],
   "source": [
    "print(num)\t\t\t\t\t#o.p:- it  gives an error due to indentation"
   ]
  },
  {
   "cell_type": "markdown",
   "id": "4446a86a",
   "metadata": {},
   "source": []
  },
  {
   "cell_type": "code",
   "execution_count": null,
   "id": "93166a9f",
   "metadata": {},
   "outputs": [],
   "source": [
    "#######################################"
   ]
  },
  {
   "cell_type": "code",
   "execution_count": null,
   "id": "246dd026",
   "metadata": {},
   "outputs": [],
   "source": [
    "#Now let us give the indentation"
   ]
  },
  {
   "cell_type": "markdown",
   "id": "fc2e91bd",
   "metadata": {},
   "source": [
    "num = int(input('Enter a number: '))"
   ]
  },
  {
   "cell_type": "code",
   "execution_count": null,
   "id": "dfc1fca2",
   "metadata": {},
   "outputs": [],
   "source": [
    "if num > 0:"
   ]
  },
  {
   "cell_type": "code",
   "execution_count": null,
   "id": "0c48c85e",
   "metadata": {},
   "outputs": [],
   "source": [
    "   print(num)\t\t\t\t\t#o.p:- it give the user input to and check with it"
   ]
  },
  {
   "cell_type": "markdown",
   "id": "f69264a5",
   "metadata": {},
   "source": []
  },
  {
   "cell_type": "code",
   "execution_count": null,
   "id": "56ba98bf",
   "metadata": {},
   "outputs": [],
   "source": [
    "#######################################"
   ]
  },
  {
   "cell_type": "code",
   "execution_count": null,
   "id": "073a6d36",
   "metadata": {},
   "outputs": [],
   "source": [
    "#Else in an If Statement"
   ]
  },
  {
   "cell_type": "markdown",
   "id": "8c82d95e",
   "metadata": {},
   "source": [
    "num = int(input('Enter yet another number: '))"
   ]
  },
  {
   "cell_type": "code",
   "execution_count": null,
   "id": "c05ba944",
   "metadata": {},
   "outputs": [],
   "source": [
    "if num < 0:"
   ]
  },
  {
   "cell_type": "code",
   "execution_count": null,
   "id": "a296fcd3",
   "metadata": {},
   "outputs": [],
   "source": [
    "  print('Its negative')"
   ]
  },
  {
   "cell_type": "markdown",
   "id": "fa65a707",
   "metadata": {},
   "source": [
    "else:"
   ]
  },
  {
   "cell_type": "code",
   "execution_count": null,
   "id": "0d935b4e",
   "metadata": {},
   "outputs": [],
   "source": [
    "  print('Its not negative')"
   ]
  },
  {
   "cell_type": "markdown",
   "id": "3777a094",
   "metadata": {},
   "source": []
  },
  {
   "cell_type": "code",
   "execution_count": null,
   "id": "ad56808f",
   "metadata": {},
   "outputs": [],
   "source": [
    "########################################"
   ]
  },
  {
   "cell_type": "code",
   "execution_count": null,
   "id": "6d7704e8",
   "metadata": {},
   "outputs": [],
   "source": [
    "#The Use of elif"
   ]
  },
  {
   "cell_type": "markdown",
   "id": "e8f90932",
   "metadata": {},
   "source": [
    "savings = float(input(\"Enter how much you have in savings: \"))"
   ]
  },
  {
   "cell_type": "code",
   "execution_count": null,
   "id": "1cedd425",
   "metadata": {},
   "outputs": [],
   "source": [
    "if savings == 0:"
   ]
  },
  {
   "cell_type": "code",
   "execution_count": null,
   "id": "ee9724a1",
   "metadata": {},
   "outputs": [],
   "source": [
    "   print(\"Sorry no savings\")"
   ]
  },
  {
   "cell_type": "markdown",
   "id": "6b9263a1",
   "metadata": {},
   "source": [
    "elif savings < 500:"
   ]
  },
  {
   "cell_type": "code",
   "execution_count": null,
   "id": "8419740f",
   "metadata": {},
   "outputs": [],
   "source": [
    "   print('Well done')"
   ]
  },
  {
   "cell_type": "markdown",
   "id": "4d0f975f",
   "metadata": {},
   "source": [
    "elif savings < 1000:"
   ]
  },
  {
   "cell_type": "code",
   "execution_count": null,
   "id": "e2f366e9",
   "metadata": {},
   "outputs": [],
   "source": [
    "   print('Thats a tidy sum')"
   ]
  },
  {
   "cell_type": "markdown",
   "id": "f9e08068",
   "metadata": {},
   "source": [
    "elif savings < 10000:"
   ]
  },
  {
   "cell_type": "code",
   "execution_count": null,
   "id": "2a6af228",
   "metadata": {},
   "outputs": [],
   "source": [
    "   print('Welcome Sir!')"
   ]
  },
  {
   "cell_type": "markdown",
   "id": "b3b065db",
   "metadata": {},
   "source": [
    "else:"
   ]
  },
  {
   "cell_type": "code",
   "execution_count": null,
   "id": "a94b1449",
   "metadata": {},
   "outputs": [],
   "source": [
    "   print('Thank you')"
   ]
  },
  {
   "cell_type": "markdown",
   "id": "736ff0ed",
   "metadata": {},
   "source": [
    "\n",
    "Iteration/Looping\n",
    "While Loop\n",
    "The while loop exists in almost all programming languages and is used to iterative (or repeat) one or more code statements as long as the test condition (expression) is True\n",
    "\n",
    "\n",
    "\n",
    "Example\n",
    "count = 1"
   ]
  },
  {
   "cell_type": "code",
   "execution_count": null,
   "id": "eb045880",
   "metadata": {},
   "outputs": [],
   "source": [
    "print('Starting')"
   ]
  },
  {
   "cell_type": "code",
   "execution_count": null,
   "id": "2f820a07",
   "metadata": {},
   "outputs": [],
   "source": [
    "while count <= 10:"
   ]
  },
  {
   "cell_type": "code",
   "execution_count": null,
   "id": "d7fb8a7e",
   "metadata": {},
   "outputs": [],
   "source": [
    "    print(count)"
   ]
  },
  {
   "cell_type": "markdown",
   "id": "2c5e53ac",
   "metadata": {},
   "source": [
    "    count+=1"
   ]
  },
  {
   "cell_type": "code",
   "execution_count": null,
   "id": "76e4b6cd",
   "metadata": {},
   "outputs": [],
   "source": [
    "  #o.p:- Starting"
   ]
  },
  {
   "cell_type": "markdown",
   "id": "164a3e82",
   "metadata": {},
   "source": [
    "12345678910  \n",
    "  \n",
    "For Loop:- Loop over a set of values in a range\n",
    "Example"
   ]
  },
  {
   "cell_type": "code",
   "execution_count": null,
   "id": "c77c867a",
   "metadata": {},
   "outputs": [],
   "source": [
    "print('Print out values in a range')"
   ]
  },
  {
   "cell_type": "code",
   "execution_count": null,
   "id": "6f850fa6",
   "metadata": {},
   "outputs": [],
   "source": [
    "for i in range(2,10):"
   ]
  },
  {
   "cell_type": "code",
   "execution_count": null,
   "id": "cc25acde",
   "metadata": {},
   "outputs": [],
   "source": [
    "   print(i)"
   ]
  },
  {
   "cell_type": "code",
   "execution_count": null,
   "id": "aecfcfb9",
   "metadata": {},
   "outputs": [],
   "source": [
    "   print('Done')"
   ]
  },
  {
   "cell_type": "code",
   "execution_count": null,
   "id": "3667e39e",
   "metadata": {},
   "outputs": [],
   "source": [
    "#o.p:- Print out values in a range"
   ]
  },
  {
   "cell_type": "markdown",
   "id": "83b2283e",
   "metadata": {},
   "source": [
    "2Done\n",
    "3Done\n",
    "4Done\n",
    "5Done\n",
    "6Done\n",
    "7Done\n",
    "8Done\n",
    "9Done\n",
    "Taking the input from the user\n"
   ]
  },
  {
   "cell_type": "code",
   "execution_count": null,
   "id": "004ae31b",
   "metadata": {},
   "outputs": [],
   "source": [
    "######################################"
   ]
  },
  {
   "cell_type": "markdown",
   "id": "6db022ed",
   "metadata": {},
   "source": [
    "Example"
   ]
  },
  {
   "cell_type": "code",
   "execution_count": null,
   "id": "1376f88a",
   "metadata": {},
   "outputs": [],
   "source": [
    "print('Only print code if all iterations completed')"
   ]
  },
  {
   "cell_type": "markdown",
   "id": "a864f5a1",
   "metadata": {},
   "source": [
    "num = int(input('Enter a number to check for: '))"
   ]
  },
  {
   "cell_type": "code",
   "execution_count": null,
   "id": "fd1932e3",
   "metadata": {},
   "outputs": [],
   "source": [
    "for i in range(0, 16):"
   ]
  },
  {
   "cell_type": "code",
   "execution_count": null,
   "id": "cd940979",
   "metadata": {},
   "outputs": [],
   "source": [
    "    if i == num:"
   ]
  },
  {
   "cell_type": "markdown",
   "id": "0868f3f9",
   "metadata": {},
   "source": [
    "      break"
   ]
  },
  {
   "cell_type": "code",
   "execution_count": null,
   "id": "93fbff4a",
   "metadata": {},
   "outputs": [],
   "source": [
    "    print(i)"
   ]
  },
  {
   "cell_type": "code",
   "execution_count": null,
   "id": "3e85b7d2",
   "metadata": {},
   "outputs": [],
   "source": [
    "    print('Done')"
   ]
  },
  {
   "cell_type": "code",
   "execution_count": null,
   "id": "27c149f3",
   "metadata": {},
   "outputs": [],
   "source": [
    "#o.p:-Only print code if all iterations completed"
   ]
  },
  {
   "cell_type": "markdown",
   "id": "5b08dce6",
   "metadata": {},
   "source": [
    "Enter a number to check for: 2\n",
    "0Done\n",
    "1Done\n"
   ]
  },
  {
   "cell_type": "code",
   "execution_count": null,
   "id": "09099a95",
   "metadata": {},
   "outputs": [],
   "source": [
    "######################################"
   ]
  },
  {
   "cell_type": "markdown",
   "id": "41d2eb75",
   "metadata": {},
   "source": [
    "Now use an 'anonymous' loop variable"
   ]
  },
  {
   "cell_type": "code",
   "execution_count": null,
   "id": "bc37a512",
   "metadata": {},
   "outputs": [],
   "source": [
    "for _ in range(0,10):"
   ]
  },
  {
   "cell_type": "code",
   "execution_count": null,
   "id": "0150fe2a",
   "metadata": {},
   "outputs": [],
   "source": [
    "   print('.', end='')"
   ]
  },
  {
   "cell_type": "code",
   "execution_count": null,
   "id": "7a17860c",
   "metadata": {},
   "outputs": [],
   "source": [
    "   print()"
   ]
  },
  {
   "cell_type": "code",
   "execution_count": null,
   "id": "24cbaa2c",
   "metadata": {},
   "outputs": [],
   "source": [
    "#o.p:- ."
   ]
  },
  {
   "cell_type": "markdown",
   "id": "5062367d",
   "metadata": {},
   "source": [
    ".\n",
    ".\n",
    ".\n",
    ".\n",
    ".\n",
    ".\n",
    ".\n",
    ".\n",
    "."
   ]
  },
  {
   "cell_type": "code",
   "execution_count": null,
   "id": "a7bc1248",
   "metadata": {},
   "outputs": [],
   "source": [
    "################################################"
   ]
  },
  {
   "cell_type": "code",
   "execution_count": null,
   "id": "3c9702ef",
   "metadata": {},
   "outputs": [],
   "source": [
    "for _ in range(0,10):"
   ]
  },
  {
   "cell_type": "code",
   "execution_count": null,
   "id": "6fdc60ab",
   "metadata": {},
   "outputs": [],
   "source": [
    "   print('.', end='')\t\t#o.p:- .........."
   ]
  },
  {
   "cell_type": "markdown",
   "id": "b830237b",
   "metadata": {},
   "source": []
  },
  {
   "cell_type": "code",
   "execution_count": null,
   "id": "8b691228",
   "metadata": {},
   "outputs": [],
   "source": [
    "#Break Loop Statement"
   ]
  },
  {
   "cell_type": "markdown",
   "id": "df0b317a",
   "metadata": {},
   "source": [
    "With the break statement we can stop the loop before it has looped through all the items:"
   ]
  },
  {
   "cell_type": "code",
   "execution_count": null,
   "id": "1aa2db34",
   "metadata": {},
   "outputs": [],
   "source": [
    "print('Only print code if all iterations completed')"
   ]
  },
  {
   "cell_type": "markdown",
   "id": "4fb82f85",
   "metadata": {},
   "source": [
    "num = int(input('Enter a number to check for: '))"
   ]
  },
  {
   "cell_type": "code",
   "execution_count": null,
   "id": "44cfaac6",
   "metadata": {},
   "outputs": [],
   "source": [
    "for i in range(0, 6):"
   ]
  },
  {
   "cell_type": "code",
   "execution_count": null,
   "id": "d073dd81",
   "metadata": {},
   "outputs": [],
   "source": [
    "   if i == num:"
   ]
  },
  {
   "cell_type": "markdown",
   "id": "07e0cc36",
   "metadata": {},
   "source": [
    "     break"
   ]
  },
  {
   "cell_type": "code",
   "execution_count": null,
   "id": "340ddd97",
   "metadata": {},
   "outputs": [],
   "source": [
    "   print(i, ' ', end='')"
   ]
  },
  {
   "cell_type": "code",
   "execution_count": null,
   "id": "362aeb4f",
   "metadata": {},
   "outputs": [],
   "source": [
    "print('Done')"
   ]
  },
  {
   "cell_type": "code",
   "execution_count": null,
   "id": "64ac68f1",
   "metadata": {},
   "outputs": [],
   "source": [
    "#o.p:- Only print code if all iterations completed"
   ]
  },
  {
   "cell_type": "markdown",
   "id": "f7092918",
   "metadata": {},
   "source": [
    "Enter a number to check for: 2\n",
    "0  1  Done\n"
   ]
  },
  {
   "cell_type": "code",
   "execution_count": null,
   "id": "8145f41e",
   "metadata": {},
   "outputs": [],
   "source": [
    "#################################################"
   ]
  },
  {
   "cell_type": "code",
   "execution_count": null,
   "id": "5e5cc6dd",
   "metadata": {},
   "outputs": [],
   "source": [
    "#location of print is changed"
   ]
  },
  {
   "cell_type": "code",
   "execution_count": null,
   "id": "afc209f1",
   "metadata": {},
   "outputs": [],
   "source": [
    "for i in range(0, 6):"
   ]
  },
  {
   "cell_type": "code",
   "execution_count": null,
   "id": "de658165",
   "metadata": {},
   "outputs": [],
   "source": [
    "   if i == num:"
   ]
  },
  {
   "cell_type": "markdown",
   "id": "40cb9536",
   "metadata": {},
   "source": [
    "     break "
   ]
  },
  {
   "cell_type": "code",
   "execution_count": null,
   "id": "91ba4719",
   "metadata": {},
   "outputs": [],
   "source": [
    "   print(i, ' ', end='')"
   ]
  },
  {
   "cell_type": "code",
   "execution_count": null,
   "id": "961da4d7",
   "metadata": {},
   "outputs": [],
   "source": [
    "   print('Done')"
   ]
  },
  {
   "cell_type": "code",
   "execution_count": null,
   "id": "02f1a6f3",
   "metadata": {},
   "outputs": [],
   "source": [
    "#o.p:- 0  Done"
   ]
  },
  {
   "cell_type": "markdown",
   "id": "98903d33",
   "metadata": {},
   "source": [
    "1  Done\n"
   ]
  },
  {
   "cell_type": "code",
   "execution_count": null,
   "id": "d2e29ed4",
   "metadata": {},
   "outputs": [],
   "source": [
    "##############################################"
   ]
  },
  {
   "cell_type": "code",
   "execution_count": null,
   "id": "29945e1b",
   "metadata": {},
   "outputs": [],
   "source": [
    "#Even number logic:-"
   ]
  },
  {
   "cell_type": "code",
   "execution_count": null,
   "id": "7d4325f6",
   "metadata": {},
   "outputs": [],
   "source": [
    "for i in range(0, 10):"
   ]
  },
  {
   "cell_type": "code",
   "execution_count": null,
   "id": "da93b72c",
   "metadata": {},
   "outputs": [],
   "source": [
    "   #print(i, ' ', end='')"
   ]
  },
  {
   "cell_type": "code",
   "execution_count": null,
   "id": "d67890be",
   "metadata": {},
   "outputs": [],
   "source": [
    "    if i % 2 == 1:"
   ]
  },
  {
   "cell_type": "markdown",
   "id": "5e92e565",
   "metadata": {},
   "source": [
    "     continue"
   ]
  },
  {
   "cell_type": "code",
   "execution_count": null,
   "id": "20a756b5",
   "metadata": {},
   "outputs": [],
   "source": [
    "     print('hey its an even number')"
   ]
  },
  {
   "cell_type": "code",
   "execution_count": null,
   "id": "3b899a92",
   "metadata": {},
   "outputs": [],
   "source": [
    "     print('we love even numbers')"
   ]
  },
  {
   "cell_type": "code",
   "execution_count": null,
   "id": "cc60b56b",
   "metadata": {},
   "outputs": [],
   "source": [
    "print('Done')"
   ]
  },
  {
   "cell_type": "code",
   "execution_count": null,
   "id": "5fdafaae",
   "metadata": {},
   "outputs": [],
   "source": [
    "#o.p:- 0  1  2  3  4  5  6  7  8  9  Done"
   ]
  },
  {
   "cell_type": "markdown",
   "id": "b968fb87",
   "metadata": {},
   "source": [
    "\n",
    "The continue Statement\n",
    "With the continue statement we can stop the current iteration of the loop, and continue with the next:\n",
    "Example\n",
    "Do not print banana:\n",
    "fruits = [\"apple\", \"banana\", \"cherry\"]"
   ]
  },
  {
   "cell_type": "code",
   "execution_count": null,
   "id": "6e05d02a",
   "metadata": {},
   "outputs": [],
   "source": [
    "for x in fruits:"
   ]
  },
  {
   "cell_type": "code",
   "execution_count": null,
   "id": "c72423a2",
   "metadata": {},
   "outputs": [],
   "source": [
    "  if x == \"banana\":"
   ]
  },
  {
   "cell_type": "markdown",
   "id": "cd3e38b4",
   "metadata": {},
   "source": [
    "    continue"
   ]
  },
  {
   "cell_type": "code",
   "execution_count": null,
   "id": "8bd1e5a3",
   "metadata": {},
   "outputs": [],
   "source": [
    "  print(x)"
   ]
  },
  {
   "cell_type": "code",
   "execution_count": null,
   "id": "507997d6",
   "metadata": {},
   "outputs": [],
   "source": [
    "#o.p:- apple"
   ]
  },
  {
   "cell_type": "markdown",
   "id": "39633e6a",
   "metadata": {},
   "source": [
    "cherry\n",
    "\n",
    "The range() Function\n",
    "To loop through a set of code a specified number of times, we can use the range() function, The range() function returns a sequence of numbers, starting from 0 by default, and increments by 1 (by default), and ends at a specified number.\n",
    "Example\n",
    "Using the range() function:"
   ]
  },
  {
   "cell_type": "code",
   "execution_count": null,
   "id": "3c7a8e44",
   "metadata": {},
   "outputs": [],
   "source": [
    "for x in range(6):"
   ]
  },
  {
   "cell_type": "code",
   "execution_count": null,
   "id": "6b3606db",
   "metadata": {},
   "outputs": [],
   "source": [
    "  print(x)"
   ]
  },
  {
   "cell_type": "code",
   "execution_count": null,
   "id": "a56d25cc",
   "metadata": {},
   "outputs": [],
   "source": [
    "#o.p:- "
   ]
  },
  {
   "cell_type": "markdown",
   "id": "dbc7742b",
   "metadata": {},
   "source": [
    "0\n",
    "1\n",
    "2\n",
    "3\n",
    "4\n",
    "5\n"
   ]
  },
  {
   "cell_type": "code",
   "execution_count": null,
   "id": "28d4e79c",
   "metadata": {},
   "outputs": [],
   "source": [
    "#######################"
   ]
  },
  {
   "cell_type": "markdown",
   "id": "4b1f33f7",
   "metadata": {},
   "source": [
    "Note that range(6) is not the values of 0 to 6, but the values 0 to 5.\n",
    "The range() function defaults to 0 as a starting value, however it is possible to specify the starting value by adding a parameter: range(2, 6), which means values from 2 to 6 (but not including 6)\n",
    "Example\n",
    "Using the start parameter:"
   ]
  },
  {
   "cell_type": "code",
   "execution_count": null,
   "id": "b3eb553b",
   "metadata": {},
   "outputs": [],
   "source": [
    "for x in range(2, 6):"
   ]
  },
  {
   "cell_type": "code",
   "execution_count": null,
   "id": "24f25c3c",
   "metadata": {},
   "outputs": [],
   "source": [
    "  print(x)"
   ]
  },
  {
   "cell_type": "code",
   "execution_count": null,
   "id": "e804cd44",
   "metadata": {},
   "outputs": [],
   "source": [
    "#o.p:- 2"
   ]
  },
  {
   "cell_type": "markdown",
   "id": "01541b87",
   "metadata": {},
   "source": [
    "3\n",
    "4\n",
    "5"
   ]
  },
  {
   "cell_type": "code",
   "execution_count": null,
   "id": "f88a7dea",
   "metadata": {},
   "outputs": [],
   "source": [
    "#####################################"
   ]
  },
  {
   "cell_type": "markdown",
   "id": "92a9a8a7",
   "metadata": {},
   "source": [
    "The range() function defaults to increment the sequence by 1, however it is possible to specify the increment value by adding a third parameter: range(2, 30, 3):\n",
    "Example\n",
    "Increment the sequence with 3 (default is 1):"
   ]
  },
  {
   "cell_type": "code",
   "execution_count": null,
   "id": "44d4a86e",
   "metadata": {},
   "outputs": [],
   "source": [
    "for x in range(2, 30, 3):"
   ]
  },
  {
   "cell_type": "code",
   "execution_count": null,
   "id": "16dcb598",
   "metadata": {},
   "outputs": [],
   "source": [
    "  print(x)"
   ]
  },
  {
   "cell_type": "code",
   "execution_count": null,
   "id": "1884cbdc",
   "metadata": {},
   "outputs": [],
   "source": [
    "#o.p:- 2"
   ]
  },
  {
   "cell_type": "markdown",
   "id": "d6ef53fc",
   "metadata": {},
   "source": [
    "5\n",
    "8\n",
    "11\n",
    "14\n",
    "17\n",
    "20\n",
    "23\n",
    "26\n",
    "29\n",
    "\n",
    "Nested if_else :-\n",
    "Write python code using nested if else.so as to check height as well as so as to allow for roller coster\n",
    "example"
   ]
  },
  {
   "cell_type": "code",
   "execution_count": null,
   "id": "3cb957ec",
   "metadata": {},
   "outputs": [],
   "source": [
    "print(\"Welcome to the roller coaster\")"
   ]
  },
  {
   "cell_type": "markdown",
   "id": "6d8bbb76",
   "metadata": {},
   "source": [
    "height=int(input(\"Please enter your height\"))\n",
    "age=int(input(\"Please enter your age \"))"
   ]
  },
  {
   "cell_type": "code",
   "execution_count": null,
   "id": "9d45c13f",
   "metadata": {},
   "outputs": [],
   "source": [
    "if height>=120:"
   ]
  },
  {
   "cell_type": "code",
   "execution_count": null,
   "id": "150afcac",
   "metadata": {},
   "outputs": [],
   "source": [
    "    print(\"you can ride the roller coaster\")"
   ]
  },
  {
   "cell_type": "code",
   "execution_count": null,
   "id": "fd8d7435",
   "metadata": {},
   "outputs": [],
   "source": [
    "    if age<=18:"
   ]
  },
  {
   "cell_type": "code",
   "execution_count": null,
   "id": "6beb43bf",
   "metadata": {},
   "outputs": [],
   "source": [
    "        print(\"your ticket will be 7$\")"
   ]
  },
  {
   "cell_type": "markdown",
   "id": "b5abf15b",
   "metadata": {},
   "source": [
    "    else:"
   ]
  },
  {
   "cell_type": "code",
   "execution_count": null,
   "id": "dc9743ba",
   "metadata": {},
   "outputs": [],
   "source": [
    "        print(\"your ticket will be 12$\")"
   ]
  },
  {
   "cell_type": "markdown",
   "id": "c7a78829",
   "metadata": {},
   "source": [
    "else:"
   ]
  },
  {
   "cell_type": "code",
   "execution_count": null,
   "id": "9c899fdd",
   "metadata": {},
   "outputs": [],
   "source": [
    "    print(\"Sorry,you need to grow taller before you can ride\")    "
   ]
  },
  {
   "cell_type": "code",
   "execution_count": null,
   "id": "a78d7dda",
   "metadata": {},
   "outputs": [],
   "source": [
    "#o.p:-"
   ]
  },
  {
   "cell_type": "markdown",
   "id": "c2b3e63b",
   "metadata": {},
   "source": [
    "Welcome to the roller coaster\n",
    "Please enter your height23\n",
    "Please enter your age 18\n",
    "Sorry,you need to grow taller before you can ride\n",
    "\n",
    "Nested if-elif statment :-\n",
    "Write python code using   if elif.so as to check height as well as so as to allow for roller coster, using elif further you check age category and charge ticket accordingly\n",
    "Example"
   ]
  },
  {
   "cell_type": "code",
   "execution_count": null,
   "id": "7c635811",
   "metadata": {},
   "outputs": [],
   "source": [
    "print(\"Welcome to the roller coaster\")"
   ]
  },
  {
   "cell_type": "markdown",
   "id": "0a96677a",
   "metadata": {},
   "source": [
    "height=int(input(\"Please enter your height\"))"
   ]
  },
  {
   "cell_type": "code",
   "execution_count": null,
   "id": "1d1f26d6",
   "metadata": {},
   "outputs": [],
   "source": [
    "if height>=120:"
   ]
  },
  {
   "cell_type": "code",
   "execution_count": null,
   "id": "83945e4e",
   "metadata": {},
   "outputs": [],
   "source": [
    "    print(\"you can ride the roller coaster\")"
   ]
  },
  {
   "cell_type": "markdown",
   "id": "c63a002c",
   "metadata": {},
   "source": [
    "    age=int(input(\"Please enter your age \"))"
   ]
  },
  {
   "cell_type": "code",
   "execution_count": null,
   "id": "37f98057",
   "metadata": {},
   "outputs": [],
   "source": [
    "    if age<12:"
   ]
  },
  {
   "cell_type": "code",
   "execution_count": null,
   "id": "09bd3cee",
   "metadata": {},
   "outputs": [],
   "source": [
    "        print(\"your ticket will be 5$\")"
   ]
  },
  {
   "cell_type": "markdown",
   "id": "7a2e0147",
   "metadata": {},
   "source": [
    "    elif age>12 and age<18:"
   ]
  },
  {
   "cell_type": "code",
   "execution_count": null,
   "id": "85e0fa36",
   "metadata": {},
   "outputs": [],
   "source": [
    "        print(\"your ticket will be 7$\")"
   ]
  },
  {
   "cell_type": "markdown",
   "id": "1e8711ba",
   "metadata": {},
   "source": [
    "\n",
    "    elif age>18:"
   ]
  },
  {
   "cell_type": "code",
   "execution_count": null,
   "id": "c1756439",
   "metadata": {},
   "outputs": [],
   "source": [
    "        print(\"your ticket will be 12$\")"
   ]
  },
  {
   "cell_type": "markdown",
   "id": "c912c99d",
   "metadata": {},
   "source": [
    "else:"
   ]
  },
  {
   "cell_type": "code",
   "execution_count": null,
   "id": "b984904a",
   "metadata": {},
   "outputs": [],
   "source": [
    "    print(\"Sorry,you need to grow taller before you can ride\")    "
   ]
  },
  {
   "cell_type": "code",
   "execution_count": null,
   "id": "9af4ca97",
   "metadata": {},
   "outputs": [],
   "source": [
    "#o.p:-"
   ]
  },
  {
   "cell_type": "markdown",
   "id": "cf7e3648",
   "metadata": {},
   "source": [
    "Welcome to the roller coaster\n",
    "Please enter your height85\n",
    "Sorry,you need to grow taller before you can ride"
   ]
  },
  {
   "cell_type": "code",
   "execution_count": null,
   "id": "65a2786b",
   "metadata": {},
   "outputs": [],
   "source": [
    "#we can put the input as per our requirements so the  answer is change so if the input are change"
   ]
  },
  {
   "cell_type": "markdown",
   "id": "a477ee21",
   "metadata": {},
   "source": [
    "\n",
    "Iterators\n",
    "numbers=[1,4,6]\n",
    "value=numbers.__iter__()\n",
    "item1=value._next__()"
   ]
  },
  {
   "cell_type": "code",
   "execution_count": null,
   "id": "d2867a31",
   "metadata": {},
   "outputs": [],
   "source": [
    "print(item1)\t\t\t#o.p:-1"
   ]
  },
  {
   "cell_type": "markdown",
   "id": "af20041e",
   "metadata": {},
   "source": [
    "item2=value.__next__()"
   ]
  },
  {
   "cell_type": "code",
   "execution_count": null,
   "id": "5170183f",
   "metadata": {},
   "outputs": [],
   "source": [
    "print(item2)\t\t\t#o.p:-4"
   ]
  },
  {
   "cell_type": "markdown",
   "id": "40f433dc",
   "metadata": {},
   "source": [
    "item3=value.__next__()"
   ]
  },
  {
   "cell_type": "code",
   "execution_count": null,
   "id": "6a5c0e36",
   "metadata": {},
   "outputs": [],
   "source": [
    "print(item3)\t\t\t#o.p:-6"
   ]
  },
  {
   "cell_type": "markdown",
   "id": "815dc0c1",
   "metadata": {},
   "source": []
  },
  {
   "cell_type": "code",
   "execution_count": null,
   "id": "6ac039c6",
   "metadata": {},
   "outputs": [],
   "source": [
    "################################"
   ]
  },
  {
   "cell_type": "markdown",
   "id": "9dafdd06",
   "metadata": {},
   "source": [
    "num2=[6,8,2]\n",
    "val=iter(num2)\n",
    "itm1=next(val)"
   ]
  },
  {
   "cell_type": "code",
   "execution_count": null,
   "id": "afc45cec",
   "metadata": {},
   "outputs": [],
   "source": [
    "print(itm1)\t\t\t#o.p:-6"
   ]
  },
  {
   "cell_type": "markdown",
   "id": "3b7490b3",
   "metadata": {},
   "source": [
    "itm2=next(val)"
   ]
  },
  {
   "cell_type": "code",
   "execution_count": null,
   "id": "da708bb9",
   "metadata": {},
   "outputs": [],
   "source": [
    "print(itm2)\t\t\t#o.p:-8"
   ]
  },
  {
   "cell_type": "markdown",
   "id": "cce7ecc1",
   "metadata": {},
   "source": [
    "itm3=next(val)"
   ]
  },
  {
   "cell_type": "code",
   "execution_count": null,
   "id": "ff649c7e",
   "metadata": {},
   "outputs": [],
   "source": [
    "print(itm3)\t\t\t#o.p:-2"
   ]
  },
  {
   "cell_type": "markdown",
   "id": "c7e3cebe",
   "metadata": {},
   "source": [
    "\n",
    "\n",
    "\n",
    "\n",
    "\n",
    "\n",
    "\n",
    "\n",
    "\n",
    "\n",
    "\n",
    "\n",
    "\n",
    "\n",
    "\n",
    "\n",
    "\n"
   ]
  },
  {
   "cell_type": "code",
   "execution_count": null,
   "id": "b37f6cc9",
   "metadata": {},
   "outputs": [],
   "source": [
    "#Python Collection Types"
   ]
  },
  {
   "cell_type": "markdown",
   "id": "c857a860",
   "metadata": {},
   "source": [
    "Tuples \n",
    "A Tuple represents a collection of objects that are ordered and immutable (cannot be modified).\n",
    "Syntax:- ( )\n"
   ]
  },
  {
   "cell_type": "code",
   "execution_count": null,
   "id": "3c281cbd",
   "metadata": {},
   "outputs": [],
   "source": [
    "#####################################"
   ]
  },
  {
   "cell_type": "markdown",
   "id": "7ee9d906",
   "metadata": {},
   "source": [
    "Lists\n",
    "Lists hold a collection of objects that are ordered and mutable (changeable), they are indexed and allow duplicate members.\n",
    "Syntax :- [ ]\n"
   ]
  },
  {
   "cell_type": "code",
   "execution_count": null,
   "id": "30719176",
   "metadata": {},
   "outputs": [],
   "source": [
    "#####################################"
   ]
  },
  {
   "cell_type": "markdown",
   "id": "d7ff39ef",
   "metadata": {},
   "source": [
    "Sets\n",
    "Sets are a collection that is unordered and unindexed. They are mutable (changeable) but do not allow duplicate values to be held.\n",
    "Syntax :- {}\n"
   ]
  },
  {
   "cell_type": "code",
   "execution_count": null,
   "id": "3cb38c48",
   "metadata": {},
   "outputs": [],
   "source": [
    "####################################"
   ]
  },
  {
   "cell_type": "markdown",
   "id": "7dd9c21e",
   "metadata": {},
   "source": [
    "Dictionary\n",
    "A dictionary is an unordered collection that is indexed by a key which references a value. The value is returned when the key is provided.\n",
    "Syntax :-{key : value}\n"
   ]
  },
  {
   "cell_type": "code",
   "execution_count": null,
   "id": "c2035ebf",
   "metadata": {},
   "outputs": [],
   "source": [
    "#opertion on the tuple"
   ]
  },
  {
   "cell_type": "markdown",
   "id": "6fb60266",
   "metadata": {},
   "source": [
    "Creating Tuples\n",
    "tup1 = (1, 3, 5, 7)\n"
   ]
  },
  {
   "cell_type": "code",
   "execution_count": null,
   "id": "e22cf5fa",
   "metadata": {},
   "outputs": [],
   "source": [
    "###############################################"
   ]
  },
  {
   "cell_type": "code",
   "execution_count": null,
   "id": "d9b135da",
   "metadata": {},
   "outputs": [],
   "source": [
    "#Accessing Elements of a Tuple"
   ]
  },
  {
   "cell_type": "code",
   "execution_count": null,
   "id": "528642c1",
   "metadata": {},
   "outputs": [],
   "source": [
    "print(f'tup1[0]:\\t{tup1[0]}')"
   ]
  },
  {
   "cell_type": "code",
   "execution_count": null,
   "id": "ae1c0517",
   "metadata": {},
   "outputs": [],
   "source": [
    "print('tup1[1]:\\t', tup1[1])"
   ]
  },
  {
   "cell_type": "code",
   "execution_count": null,
   "id": "f857c47c",
   "metadata": {},
   "outputs": [],
   "source": [
    "print('tup1[2]:\\t', tup1[2])"
   ]
  },
  {
   "cell_type": "code",
   "execution_count": null,
   "id": "623a906c",
   "metadata": {},
   "outputs": [],
   "source": [
    "print('tup1[3]:\\t', tup1[3])"
   ]
  },
  {
   "cell_type": "code",
   "execution_count": null,
   "id": "c53aa5a3",
   "metadata": {},
   "outputs": [],
   "source": [
    "#o.p :- tup1[0]:\t1"
   ]
  },
  {
   "cell_type": "markdown",
   "id": "b832833d",
   "metadata": {},
   "source": [
    "tup1[1]:\t 3\n",
    "tup1[2]:\t 5\n",
    "tup1[3]:\t 7\n"
   ]
  },
  {
   "cell_type": "code",
   "execution_count": null,
   "id": "41b71f5a",
   "metadata": {},
   "outputs": [],
   "source": [
    "#############################################"
   ]
  },
  {
   "cell_type": "code",
   "execution_count": null,
   "id": "36bd918a",
   "metadata": {},
   "outputs": [],
   "source": [
    "#Tuples Can Hold Different Types"
   ]
  },
  {
   "cell_type": "markdown",
   "id": "04238005",
   "metadata": {},
   "source": [
    "tup2 = (1, 'John',  True, -23.45)"
   ]
  },
  {
   "cell_type": "code",
   "execution_count": null,
   "id": "0186357a",
   "metadata": {},
   "outputs": [],
   "source": [
    "print(tup2)"
   ]
  },
  {
   "cell_type": "code",
   "execution_count": null,
   "id": "d80e2f43",
   "metadata": {},
   "outputs": [],
   "source": [
    "#o.p:- (1, 'John', True, -23.45)"
   ]
  },
  {
   "cell_type": "markdown",
   "id": "4856b0eb",
   "metadata": {},
   "source": []
  },
  {
   "cell_type": "code",
   "execution_count": null,
   "id": "82b247b8",
   "metadata": {},
   "outputs": [],
   "source": [
    "#############################################"
   ]
  },
  {
   "cell_type": "code",
   "execution_count": null,
   "id": "52cb1729",
   "metadata": {},
   "outputs": [],
   "source": [
    "#Iterating Over Tuples"
   ]
  },
  {
   "cell_type": "markdown",
   "id": "548dba76",
   "metadata": {},
   "source": [
    "tup3 = ('apple', 'orange', 'plum', 'apple')"
   ]
  },
  {
   "cell_type": "code",
   "execution_count": null,
   "id": "614a3264",
   "metadata": {},
   "outputs": [],
   "source": [
    "for x in tup3:"
   ]
  },
  {
   "cell_type": "code",
   "execution_count": null,
   "id": "4281b4e2",
   "metadata": {},
   "outputs": [],
   "source": [
    "   print(x)"
   ]
  },
  {
   "cell_type": "code",
   "execution_count": null,
   "id": "47d06d4a",
   "metadata": {},
   "outputs": [],
   "source": [
    "#o.p:- apple"
   ]
  },
  {
   "cell_type": "markdown",
   "id": "259fa887",
   "metadata": {},
   "source": [
    "orange\n",
    "plum  apple\n"
   ]
  },
  {
   "cell_type": "code",
   "execution_count": null,
   "id": "fce8b96b",
   "metadata": {},
   "outputs": [],
   "source": [
    "#################################################"
   ]
  },
  {
   "cell_type": "code",
   "execution_count": null,
   "id": "d3c7ffc3",
   "metadata": {},
   "outputs": [],
   "source": [
    "#Tuple Related Functions"
   ]
  },
  {
   "cell_type": "code",
   "execution_count": null,
   "id": "5cc6b9e5",
   "metadata": {},
   "outputs": [],
   "source": [
    "#You can also find out the length of a Tuple"
   ]
  },
  {
   "cell_type": "markdown",
   "id": "9ab8b5fa",
   "metadata": {},
   "source": [
    "len(tup3)"
   ]
  },
  {
   "cell_type": "code",
   "execution_count": null,
   "id": "659b3f42",
   "metadata": {},
   "outputs": [],
   "source": [
    "#o.p:-4"
   ]
  },
  {
   "cell_type": "markdown",
   "id": "6124f6b9",
   "metadata": {},
   "source": []
  },
  {
   "cell_type": "code",
   "execution_count": null,
   "id": "cefe1e64",
   "metadata": {},
   "outputs": [],
   "source": [
    "#################################################"
   ]
  },
  {
   "cell_type": "code",
   "execution_count": null,
   "id": "de784d65",
   "metadata": {},
   "outputs": [],
   "source": [
    "#You can count how many times a specified value appears in a Tuple "
   ]
  },
  {
   "cell_type": "markdown",
   "id": "cb8a40c2",
   "metadata": {},
   "source": [
    "tup4 = ('apple', 'orange', 'plum', 'apple', 'apple')\t\t# Tuples allow duplicates;\n",
    "tup4.count('apple')"
   ]
  },
  {
   "cell_type": "code",
   "execution_count": null,
   "id": "80696c3f",
   "metadata": {},
   "outputs": [],
   "source": [
    "#o.p:-3"
   ]
  },
  {
   "cell_type": "markdown",
   "id": "0decb793",
   "metadata": {},
   "source": []
  },
  {
   "cell_type": "code",
   "execution_count": null,
   "id": "982b96e0",
   "metadata": {},
   "outputs": [],
   "source": [
    "##############################################"
   ]
  },
  {
   "cell_type": "code",
   "execution_count": null,
   "id": "80b32f79",
   "metadata": {},
   "outputs": [],
   "source": [
    "#You can also find out the (first) index of a value in a Tuple:"
   ]
  },
  {
   "cell_type": "code",
   "execution_count": null,
   "id": "3e679334",
   "metadata": {},
   "outputs": [],
   "source": [
    "print(tup4.index('apple'))\t\t#o.p:-0"
   ]
  },
  {
   "cell_type": "code",
   "execution_count": null,
   "id": "9e06f210",
   "metadata": {},
   "outputs": [],
   "source": [
    "print(tup4.index('plum'))\t\t#o.p:-2"
   ]
  },
  {
   "cell_type": "markdown",
   "id": "99d74542",
   "metadata": {},
   "source": []
  },
  {
   "cell_type": "code",
   "execution_count": null,
   "id": "e0dc1556",
   "metadata": {},
   "outputs": [],
   "source": [
    "##############################################"
   ]
  },
  {
   "cell_type": "code",
   "execution_count": null,
   "id": "34829eb0",
   "metadata": {},
   "outputs": [],
   "source": [
    "#Checking if an Element Exists"
   ]
  },
  {
   "cell_type": "code",
   "execution_count": null,
   "id": "88667c14",
   "metadata": {},
   "outputs": [],
   "source": [
    "if 'orange' in tup3:"
   ]
  },
  {
   "cell_type": "code",
   "execution_count": null,
   "id": "5f062e6f",
   "metadata": {},
   "outputs": [],
   "source": [
    "   print('orange is in the Tuple')\t\t\t#o.p:- orange is in the Tuple"
   ]
  },
  {
   "cell_type": "markdown",
   "id": "6ea05ae8",
   "metadata": {},
   "source": []
  },
  {
   "cell_type": "code",
   "execution_count": null,
   "id": "0c123105",
   "metadata": {},
   "outputs": [],
   "source": [
    "###############################################"
   ]
  },
  {
   "cell_type": "code",
   "execution_count": null,
   "id": "8b8d296f",
   "metadata": {},
   "outputs": [],
   "source": [
    "#Nested Tuples"
   ]
  },
  {
   "cell_type": "markdown",
   "id": "739d0548",
   "metadata": {},
   "source": [
    "Tuples can be nested within Tuples; that is a Tuple can contain, as one of its elements, another Tuple.\n",
    "tuple1 = (1, 3, 5, 7)\n",
    "tuple2 = ('John', 'Denise', 'Phoebe', 'Adam')\n",
    "tuple3 = (42, tuple1, tuple2, 5.5)"
   ]
  },
  {
   "cell_type": "code",
   "execution_count": null,
   "id": "c9003ab7",
   "metadata": {},
   "outputs": [],
   "source": [
    "print(tuple3)\t\t#o.p:- (42, (1, 3, 5, 7), ('John', 'Denise', 'Phoebe', 'Adam'), 5.5)"
   ]
  },
  {
   "cell_type": "markdown",
   "id": "70c626de",
   "metadata": {},
   "source": [
    "\n",
    "Note:-It is not possible to add or remove elements from a Tuple; they are immutable.\n",
    "\n",
    "\n",
    "\n",
    "\n",
    "\n",
    "\n",
    "\n",
    "\n",
    "Lists\n",
    "Lists are mutable ordered containers of other objects."
   ]
  },
  {
   "cell_type": "code",
   "execution_count": null,
   "id": "7381c589",
   "metadata": {},
   "outputs": [],
   "source": [
    "#opertion on the list"
   ]
  },
  {
   "cell_type": "code",
   "execution_count": null,
   "id": "66239037",
   "metadata": {},
   "outputs": [],
   "source": [
    "#Creating Lists"
   ]
  },
  {
   "cell_type": "markdown",
   "id": "78cb72b0",
   "metadata": {},
   "source": [
    "lst1 = ['John', 'Paul', 'George', 'Ringo']\t\t#o.p:- lst1 = ['John', 'Paul', 'George', 'Ringo']\n"
   ]
  },
  {
   "cell_type": "code",
   "execution_count": null,
   "id": "eb5979eb",
   "metadata": {},
   "outputs": [],
   "source": [
    "#################################################"
   ]
  },
  {
   "cell_type": "code",
   "execution_count": null,
   "id": "428c5b4c",
   "metadata": {},
   "outputs": [],
   "source": [
    "#As with Tuples we can have nested lists and lists containing different types of elements."
   ]
  },
  {
   "cell_type": "markdown",
   "id": "24119279",
   "metadata": {},
   "source": [
    "lst1 = [1, 43.5, True]\n",
    "lst2 = ['apple', 'orange', 31]\n",
    "root_list = ['John', lst1, lst2, 'Denise']"
   ]
  },
  {
   "cell_type": "code",
   "execution_count": null,
   "id": "ccb41d4f",
   "metadata": {},
   "outputs": [],
   "source": [
    "print(root_list)\t\t#o.p:- ['John', [1, 43.5, True], ['apple', 'orange', 31], 'Denise']"
   ]
  },
  {
   "cell_type": "markdown",
   "id": "91170e80",
   "metadata": {},
   "source": []
  },
  {
   "cell_type": "code",
   "execution_count": null,
   "id": "25dc36ce",
   "metadata": {},
   "outputs": [],
   "source": [
    "#################################################"
   ]
  },
  {
   "cell_type": "code",
   "execution_count": null,
   "id": "3ad87721",
   "metadata": {},
   "outputs": [],
   "source": [
    "#Accessing Elements from a List"
   ]
  },
  {
   "cell_type": "markdown",
   "id": "9f759fb3",
   "metadata": {},
   "source": [
    "lst1 = ['John', 'Paul', 'George', 'Ringo']"
   ]
  },
  {
   "cell_type": "code",
   "execution_count": null,
   "id": "5febd5f3",
   "metadata": {},
   "outputs": [],
   "source": [
    "print(lst1[-1])\t\t\t\t\t#o.p:- Ringo"
   ]
  },
  {
   "cell_type": "markdown",
   "id": "582d9e4a",
   "metadata": {},
   "source": [
    "lst1[-1]\t\t\t\t\t\t#o.p:- 'Ringo'\n",
    "lst1[-2]\t\t\t\t\t\t#o.p:- 'George'\n"
   ]
  },
  {
   "cell_type": "code",
   "execution_count": null,
   "id": "22703e71",
   "metadata": {},
   "outputs": [],
   "source": [
    "################################################"
   ]
  },
  {
   "cell_type": "markdown",
   "id": "806cf0a0",
   "metadata": {},
   "source": [
    "lst1 = ['John', 'Paul', 'George', 'Ringo']"
   ]
  },
  {
   "cell_type": "code",
   "execution_count": null,
   "id": "cb83cd32",
   "metadata": {},
   "outputs": [],
   "source": [
    "print('lst1[1]:', lst1[1])\t\t\t\t#o.p:- lst1[1]: Paul"
   ]
  },
  {
   "cell_type": "code",
   "execution_count": null,
   "id": "8f80d928",
   "metadata": {},
   "outputs": [],
   "source": [
    "print('lst1[-1]:', lst1[-1])\t\t\t#o.p:- lst1[-1]: Ringo"
   ]
  },
  {
   "cell_type": "code",
   "execution_count": null,
   "id": "1a5956b2",
   "metadata": {},
   "outputs": [],
   "source": [
    "print('lst1[1:3]:', lst1[1:3])\t\t\t#o.p:- lst1[1:3]: ['Paul', 'George']"
   ]
  },
  {
   "cell_type": "code",
   "execution_count": null,
   "id": "89f95142",
   "metadata": {},
   "outputs": [],
   "source": [
    "print('lst[:3]:', lst1[:3])\t\t\t\t#o.p:- lst[:3]: ['John', 'Paul', 'George']"
   ]
  },
  {
   "cell_type": "code",
   "execution_count": null,
   "id": "c651b49a",
   "metadata": {},
   "outputs": [],
   "source": [
    "print('lst[1:]:', lst1[1:])\t\t\t\t#o.p:-lst[1:]: ['Paul', 'George', 'Ringo']"
   ]
  },
  {
   "cell_type": "markdown",
   "id": "3dcefb09",
   "metadata": {},
   "source": []
  },
  {
   "cell_type": "code",
   "execution_count": null,
   "id": "0ea14c57",
   "metadata": {},
   "outputs": [],
   "source": [
    "###############################################"
   ]
  },
  {
   "cell_type": "code",
   "execution_count": null,
   "id": "62ec8a49",
   "metadata": {},
   "outputs": [],
   "source": [
    "#Adding to a List:- append()"
   ]
  },
  {
   "cell_type": "markdown",
   "id": "1023f7ef",
   "metadata": {},
   "source": [
    "lst1 = ['John', 'Paul', 'George', 'Ringo']\n",
    "lst1.append('Pete')"
   ]
  },
  {
   "cell_type": "code",
   "execution_count": null,
   "id": "c8b1b158",
   "metadata": {},
   "outputs": [],
   "source": [
    "print(lst1)\t\t\t\t\t#o.p:-['John', 'Paul', 'George', 'Ringo', 'Pete']"
   ]
  },
  {
   "cell_type": "markdown",
   "id": "b608471b",
   "metadata": {},
   "source": []
  },
  {
   "cell_type": "code",
   "execution_count": null,
   "id": "912ac639",
   "metadata": {},
   "outputs": [],
   "source": [
    "###############################################"
   ]
  },
  {
   "cell_type": "code",
   "execution_count": null,
   "id": "a7d53894",
   "metadata": {},
   "outputs": [],
   "source": [
    "#You can also add all the items in a list to another list. There are several options"
   ]
  },
  {
   "cell_type": "markdown",
   "id": "9a1caa85",
   "metadata": {},
   "source": [
    "lst1 = ['John', 'Paul', 'George', 'Ringo', 'Pete']"
   ]
  },
  {
   "cell_type": "code",
   "execution_count": null,
   "id": "d004c513",
   "metadata": {},
   "outputs": [],
   "source": [
    "print(lst1)\t\t\t\t\t#o.p:- ['John', 'Paul', 'George', 'Ringo', 'Pete']"
   ]
  },
  {
   "cell_type": "code",
   "execution_count": null,
   "id": "bfaafaef",
   "metadata": {},
   "outputs": [],
   "source": [
    "#extend():- to add the more than one element in the list"
   ]
  },
  {
   "cell_type": "markdown",
   "id": "a94c8e51",
   "metadata": {},
   "source": [
    "lst1.extend(['Albert', 'Bob'])\t\t\t#here, we can use the extend()\n",
    "lst1\t\t\t\t\t\t#o.p:- ['John', 'Paul', 'George', 'Ringo', 'Pete', 'Albert', 'Bob']\n"
   ]
  },
  {
   "cell_type": "code",
   "execution_count": null,
   "id": "bd2fef96",
   "metadata": {},
   "outputs": [],
   "source": [
    "#############################################"
   ]
  },
  {
   "cell_type": "code",
   "execution_count": null,
   "id": "47288bfe",
   "metadata": {},
   "outputs": [],
   "source": [
    "#Inserting into a List"
   ]
  },
  {
   "cell_type": "markdown",
   "id": "36573117",
   "metadata": {},
   "source": [
    "Sytanx:- list_name.insert(location _index_value,inserting_element_name )\n",
    "a_list = ['Adele', 'Madonna', 'Cher']"
   ]
  },
  {
   "cell_type": "code",
   "execution_count": null,
   "id": "3118c366",
   "metadata": {},
   "outputs": [],
   "source": [
    "print(a_list)\t\t\t\t\t#o.p:- ['Adele', 'Madonna', 'Cher']"
   ]
  },
  {
   "cell_type": "markdown",
   "id": "5bbb083e",
   "metadata": {},
   "source": [
    "a_list.insert(1, 'Paloma')"
   ]
  },
  {
   "cell_type": "code",
   "execution_count": null,
   "id": "d3ea5af1",
   "metadata": {},
   "outputs": [],
   "source": [
    "print(a_list)\t\t\t\t\t#o.p:-['Adele', 'Paloma', 'Madonna', 'Cher']"
   ]
  },
  {
   "cell_type": "code",
   "execution_count": null,
   "id": "9396e7c2",
   "metadata": {},
   "outputs": [],
   "source": [
    "#############################################"
   ]
  },
  {
   "cell_type": "code",
   "execution_count": null,
   "id": "8b4274d8",
   "metadata": {},
   "outputs": [],
   "source": [
    "#List Concatenation :- we can easily concatenate the list as like the concatenating the two string."
   ]
  },
  {
   "cell_type": "markdown",
   "id": "8de3029a",
   "metadata": {},
   "source": [
    "lst1 = [3, 2, 1]\n",
    "lst2 = [6, 5, 4]\n",
    "lst3 = lst1 + lst2"
   ]
  },
  {
   "cell_type": "code",
   "execution_count": null,
   "id": "b64f3c36",
   "metadata": {},
   "outputs": [],
   "source": [
    "print(lst3)\t\t\t\t\t#o.p:- [3, 2, 1, 6, 5, 4]"
   ]
  },
  {
   "cell_type": "markdown",
   "id": "0cbcb8ad",
   "metadata": {},
   "source": [
    " "
   ]
  },
  {
   "cell_type": "code",
   "execution_count": null,
   "id": "fea0b8a8",
   "metadata": {},
   "outputs": [],
   "source": [
    "#############################################"
   ]
  },
  {
   "cell_type": "code",
   "execution_count": null,
   "id": "371dcdb0",
   "metadata": {},
   "outputs": [],
   "source": [
    "#Removing from a List"
   ]
  },
  {
   "cell_type": "markdown",
   "id": "3b0d64ca",
   "metadata": {},
   "source": [
    "another_lst = ['Gary', 'Mark', 'Robbie', 'Jason', 'Howard']"
   ]
  },
  {
   "cell_type": "code",
   "execution_count": null,
   "id": "2b5eeaff",
   "metadata": {},
   "outputs": [],
   "source": [
    "print(another_lst)\t\t\t#o.p:- ['Gary', 'Mark', 'Robbie', 'Jason', 'Howard']"
   ]
  },
  {
   "cell_type": "markdown",
   "id": "6398cf08",
   "metadata": {},
   "source": [
    "another_lst.remove('Robbie')"
   ]
  },
  {
   "cell_type": "code",
   "execution_count": null,
   "id": "cdc8ec09",
   "metadata": {},
   "outputs": [],
   "source": [
    "print(another_lst)\t\t\t#o.p:- ['Gary', 'Mark', 'Jason', 'Howard']"
   ]
  },
  {
   "cell_type": "markdown",
   "id": "ff56fae8",
   "metadata": {},
   "source": []
  },
  {
   "cell_type": "code",
   "execution_count": null,
   "id": "2ce753b7",
   "metadata": {},
   "outputs": [],
   "source": [
    "#############################################"
   ]
  },
  {
   "cell_type": "code",
   "execution_count": null,
   "id": "e872f79b",
   "metadata": {},
   "outputs": [],
   "source": [
    "#The pop() Method"
   ]
  },
  {
   "cell_type": "markdown",
   "id": "157ae7d2",
   "metadata": {},
   "source": [
    "It removes an element from the List; however, it differs from the remove() method in two ways: It takes an index which is the index of the item to remove from the list rather than the object itself.\n",
    "lst6 = ['Once', 'Upon', 'a', 'Time']"
   ]
  },
  {
   "cell_type": "code",
   "execution_count": null,
   "id": "e74ab2a7",
   "metadata": {},
   "outputs": [],
   "source": [
    "print(lst6)\t\t#o.p:- ['Once', 'Upon', 'a', 'Time']"
   ]
  },
  {
   "cell_type": "code",
   "execution_count": null,
   "id": "c7b91d5a",
   "metadata": {},
   "outputs": [],
   "source": [
    "print(lst6.pop(2))\t#o.p:-a"
   ]
  },
  {
   "cell_type": "code",
   "execution_count": null,
   "id": "03423a5e",
   "metadata": {},
   "outputs": [],
   "source": [
    "print(lst6)\t\t#o.p:-['Once', 'Upon', 'Time']"
   ]
  },
  {
   "cell_type": "markdown",
   "id": "1cd9517a",
   "metadata": {},
   "source": []
  },
  {
   "cell_type": "code",
   "execution_count": null,
   "id": "f3750094",
   "metadata": {},
   "outputs": [],
   "source": [
    "#############################################"
   ]
  },
  {
   "cell_type": "code",
   "execution_count": null,
   "id": "4df6449b",
   "metadata": {},
   "outputs": [],
   "source": [
    "#Inserting into a List "
   ]
  },
  {
   "cell_type": "markdown",
   "id": "8901ed64",
   "metadata": {},
   "source": [
    "a_list = ['Adele', 'Madonna', 'Cher']"
   ]
  },
  {
   "cell_type": "code",
   "execution_count": null,
   "id": "aa71b4e5",
   "metadata": {},
   "outputs": [],
   "source": [
    "print(a_list)\t\t\t\t#o.p:-['Adele', 'Madonna', 'Cher']"
   ]
  },
  {
   "cell_type": "markdown",
   "id": "268522b2",
   "metadata": {},
   "source": [
    "a_list.insert(1, 'Paloma')"
   ]
  },
  {
   "cell_type": "code",
   "execution_count": null,
   "id": "909eb898",
   "metadata": {},
   "outputs": [],
   "source": [
    "print(a_list)\t\t\t\t#o.p:-['Adele', 'Paloma', 'Madonna', 'Cher']"
   ]
  },
  {
   "cell_type": "markdown",
   "id": "2b5e1c8e",
   "metadata": {},
   "source": []
  },
  {
   "cell_type": "code",
   "execution_count": null,
   "id": "0427c553",
   "metadata": {},
   "outputs": [],
   "source": [
    "#######################"
   ]
  },
  {
   "cell_type": "code",
   "execution_count": null,
   "id": "cee254dc",
   "metadata": {},
   "outputs": [],
   "source": [
    "#List Concatenation"
   ]
  },
  {
   "cell_type": "markdown",
   "id": "4677d038",
   "metadata": {},
   "source": [
    "list1 = [3, 2, 1]\n",
    "list2 = [6, 5, 4]\n",
    "list3 = list1 + list2\t\t\t#here the 2 list are added"
   ]
  },
  {
   "cell_type": "code",
   "execution_count": null,
   "id": "935e55a8",
   "metadata": {},
   "outputs": [],
   "source": [
    "print(list3)\t\t\t\t#o.p:- [3, 2, 1, 6, 5, 4]"
   ]
  },
  {
   "cell_type": "markdown",
   "id": "af598707",
   "metadata": {},
   "source": []
  },
  {
   "cell_type": "code",
   "execution_count": null,
   "id": "af61055e",
   "metadata": {},
   "outputs": [],
   "source": [
    "##############################################"
   ]
  },
  {
   "cell_type": "code",
   "execution_count": null,
   "id": "66411549",
   "metadata": {},
   "outputs": [],
   "source": [
    "#clear removes all the elements from the list"
   ]
  },
  {
   "cell_type": "markdown",
   "id": "63cc6b5f",
   "metadata": {},
   "source": [
    "lst=[\"cherry\",\"banana\",\"apple\"]\n",
    "lst.clear()"
   ]
  },
  {
   "cell_type": "code",
   "execution_count": null,
   "id": "efe09f1e",
   "metadata": {},
   "outputs": [],
   "source": [
    "print(lst)"
   ]
  },
  {
   "cell_type": "markdown",
   "id": "ede5612c",
   "metadata": {},
   "source": []
  },
  {
   "cell_type": "code",
   "execution_count": null,
   "id": "675f6b53",
   "metadata": {},
   "outputs": [],
   "source": [
    "##############################################"
   ]
  },
  {
   "cell_type": "code",
   "execution_count": null,
   "id": "54c60864",
   "metadata": {},
   "outputs": [],
   "source": [
    "#copy() method"
   ]
  },
  {
   "cell_type": "markdown",
   "id": "cf2435b3",
   "metadata": {},
   "source": [
    "lst=[\"cherry\",\"banana\",\"apple\"]\n",
    "lst2=lst.copy()"
   ]
  },
  {
   "cell_type": "code",
   "execution_count": null,
   "id": "0486ff2b",
   "metadata": {},
   "outputs": [],
   "source": [
    "print(lst2)\t\t\t\t#o.p:- the same another list is made"
   ]
  },
  {
   "cell_type": "markdown",
   "id": "0ef311a0",
   "metadata": {},
   "source": []
  },
  {
   "cell_type": "code",
   "execution_count": null,
   "id": "e008fa54",
   "metadata": {},
   "outputs": [],
   "source": [
    "############################################"
   ]
  },
  {
   "cell_type": "markdown",
   "id": "56fbff80",
   "metadata": {},
   "source": []
  },
  {
   "cell_type": "markdown",
   "id": "c24c916c",
   "metadata": {},
   "source": [
    "# Reverse  :-it is used to reveres the list\n",
    "lst=[\"cherry\",\"cherry\",\"banana\"]\n",
    "lst.reverse()"
   ]
  },
  {
   "cell_type": "code",
   "execution_count": null,
   "id": "a4dbd641",
   "metadata": {},
   "outputs": [],
   "source": [
    "print(lst)"
   ]
  },
  {
   "cell_type": "markdown",
   "id": "8722be8c",
   "metadata": {},
   "source": []
  },
  {
   "cell_type": "code",
   "execution_count": null,
   "id": "a4bf1ad6",
   "metadata": {},
   "outputs": [],
   "source": [
    "###########################################"
   ]
  },
  {
   "cell_type": "code",
   "execution_count": null,
   "id": "03d825cb",
   "metadata": {},
   "outputs": [],
   "source": [
    "#sort() :-Sort the list alphabetically"
   ]
  },
  {
   "cell_type": "markdown",
   "id": "c9c9a467",
   "metadata": {},
   "source": [
    "lst=[\"cherry\",\"orange\",\"banana\"]\n",
    "lst.sort()"
   ]
  },
  {
   "cell_type": "code",
   "execution_count": null,
   "id": "4871d2d1",
   "metadata": {},
   "outputs": [],
   "source": [
    "print(lst)"
   ]
  },
  {
   "cell_type": "markdown",
   "id": "6e6abcc3",
   "metadata": {},
   "source": []
  },
  {
   "cell_type": "code",
   "execution_count": null,
   "id": "e281161f",
   "metadata": {},
   "outputs": [],
   "source": [
    "##########################################"
   ]
  },
  {
   "cell_type": "code",
   "execution_count": null,
   "id": "acbf1215",
   "metadata": {},
   "outputs": [],
   "source": [
    "#multiplying all the element from the list"
   ]
  },
  {
   "cell_type": "markdown",
   "id": "f31d4a6f",
   "metadata": {},
   "source": [
    "lst=[1,23,12,3]\n",
    "mul1=1"
   ]
  },
  {
   "cell_type": "code",
   "execution_count": null,
   "id": "f06b6bde",
   "metadata": {},
   "outputs": [],
   "source": [
    "for i in lst:\t\t\t# accessing the element from the list"
   ]
  },
  {
   "cell_type": "markdown",
   "id": "b024b2dd",
   "metadata": {},
   "source": [
    "    mul1=mul1*i"
   ]
  },
  {
   "cell_type": "code",
   "execution_count": null,
   "id": "640826b9",
   "metadata": {},
   "outputs": [],
   "source": [
    "print(mul1)"
   ]
  },
  {
   "cell_type": "markdown",
   "id": "38d33094",
   "metadata": {},
   "source": []
  },
  {
   "cell_type": "code",
   "execution_count": null,
   "id": "339a6b60",
   "metadata": {},
   "outputs": [],
   "source": [
    "###########################################"
   ]
  },
  {
   "cell_type": "markdown",
   "id": "fae508f3",
   "metadata": {},
   "source": [
    "Write a method that takes in an integer n ,then iterates through all the numbers from 0 to n,return the sum of numbers which are divisible by 5 or 7\n",
    "lst=[1,2,5,7,14,55,45,21,49,8,9]"
   ]
  },
  {
   "cell_type": "code",
   "execution_count": null,
   "id": "c2216ab4",
   "metadata": {},
   "outputs": [],
   "source": [
    "def return_sum(lst):"
   ]
  },
  {
   "cell_type": "markdown",
   "id": "f82672e0",
   "metadata": {},
   "source": [
    "    sum=0"
   ]
  },
  {
   "cell_type": "code",
   "execution_count": null,
   "id": "8bb0ca0a",
   "metadata": {},
   "outputs": [],
   "source": [
    "    for i in range(len(lst)):"
   ]
  },
  {
   "cell_type": "markdown",
   "id": "2f86a05c",
   "metadata": {},
   "source": [
    "        if(lst[i]%5==0 or lst[i]%7==0):\n",
    "            sum=sum+lst[i]\n",
    "    return sum\n"
   ]
  },
  {
   "cell_type": "code",
   "execution_count": null,
   "id": "65840fc5",
   "metadata": {},
   "outputs": [],
   "source": [
    "print(return_sum(lst))        "
   ]
  },
  {
   "cell_type": "markdown",
   "id": "2f31c820",
   "metadata": {},
   "source": []
  },
  {
   "cell_type": "code",
   "execution_count": null,
   "id": "37b47ea3",
   "metadata": {},
   "outputs": [],
   "source": [
    "########################################"
   ]
  },
  {
   "cell_type": "markdown",
   "id": "8a1b729b",
   "metadata": {},
   "source": [
    "\n",
    "\n",
    "\n",
    "\n",
    "Set\n",
    "Set operation\n",
    "Creating a Set\n",
    "Example \n",
    "basket = {'apple', 'orange', 'apple', 'pear', 'orange', 'banana'}"
   ]
  },
  {
   "cell_type": "code",
   "execution_count": null,
   "id": "d5ec12e2",
   "metadata": {},
   "outputs": [],
   "source": [
    "print(basket)\t\t\t\t#o.p :- {'apple', 'pear', 'banana', 'orange'}"
   ]
  },
  {
   "cell_type": "code",
   "execution_count": null,
   "id": "e57ac53a",
   "metadata": {},
   "outputs": [],
   "source": [
    "#####When run this code will show that apple is only added once to the set:"
   ]
  },
  {
   "cell_type": "markdown",
   "id": "c19e088d",
   "metadata": {},
   "source": []
  },
  {
   "cell_type": "code",
   "execution_count": null,
   "id": "44d45c51",
   "metadata": {},
   "outputs": [],
   "source": [
    "##############################################"
   ]
  },
  {
   "cell_type": "code",
   "execution_count": null,
   "id": "31d669d9",
   "metadata": {},
   "outputs": [],
   "source": [
    "#Accessing Elements in a Set"
   ]
  },
  {
   "cell_type": "code",
   "execution_count": null,
   "id": "089b0a45",
   "metadata": {},
   "outputs": [],
   "source": [
    "for item in basket:"
   ]
  },
  {
   "cell_type": "code",
   "execution_count": null,
   "id": "5ed53a89",
   "metadata": {},
   "outputs": [],
   "source": [
    "   print(item)"
   ]
  },
  {
   "cell_type": "code",
   "execution_count": null,
   "id": "28edcba2",
   "metadata": {},
   "outputs": [],
   "source": [
    "#o.p:- apple"
   ]
  },
  {
   "cell_type": "markdown",
   "id": "c1899b2a",
   "metadata": {},
   "source": [
    "pear\n",
    "banana\n",
    "orange"
   ]
  },
  {
   "cell_type": "code",
   "execution_count": null,
   "id": "fe2a24d0",
   "metadata": {},
   "outputs": [],
   "source": [
    "##############################################"
   ]
  },
  {
   "cell_type": "code",
   "execution_count": null,
   "id": "cff330ac",
   "metadata": {},
   "outputs": [],
   "source": [
    "#Adding Items to set"
   ]
  },
  {
   "cell_type": "markdown",
   "id": "fa3148ee",
   "metadata": {},
   "source": [
    "basket = {'apple', 'orange', 'banana'}\n",
    "basket.add('apricot')"
   ]
  },
  {
   "cell_type": "code",
   "execution_count": null,
   "id": "4c3aeedd",
   "metadata": {},
   "outputs": [],
   "source": [
    "print(basket)\t\t\t\t#o.p:- {'apricot', 'apple', 'banana', 'orange'}"
   ]
  },
  {
   "cell_type": "markdown",
   "id": "c4e77d06",
   "metadata": {},
   "source": []
  },
  {
   "cell_type": "code",
   "execution_count": null,
   "id": "ffe503e6",
   "metadata": {},
   "outputs": [],
   "source": [
    "##############################################"
   ]
  },
  {
   "cell_type": "code",
   "execution_count": null,
   "id": "8144f826",
   "metadata": {},
   "outputs": [],
   "source": [
    "#If you want to add more than one item to a Set you can use the update() method:"
   ]
  },
  {
   "cell_type": "markdown",
   "id": "d4f9bba3",
   "metadata": {},
   "source": [
    "basket = {'apple', 'orange', 'banana'}\n",
    "basket.update(['apricot', 'mango', 'grapefruit'])"
   ]
  },
  {
   "cell_type": "code",
   "execution_count": null,
   "id": "a62c6bf5",
   "metadata": {},
   "outputs": [],
   "source": [
    "print(basket)\t\t\t\t#o.p:- {'apple', 'grapefruit', 'apricot', 'orange', 'mango', 'banana'}"
   ]
  },
  {
   "cell_type": "markdown",
   "id": "8ae79e99",
   "metadata": {},
   "source": []
  },
  {
   "cell_type": "code",
   "execution_count": null,
   "id": "cadb3ef7",
   "metadata": {},
   "outputs": [],
   "source": [
    "#############################################"
   ]
  },
  {
   "cell_type": "code",
   "execution_count": null,
   "id": "206e6bda",
   "metadata": {},
   "outputs": [],
   "source": [
    "#Obtaining the Length of a Set"
   ]
  },
  {
   "cell_type": "markdown",
   "id": "af66914b",
   "metadata": {},
   "source": [
    "basket = {'apple', 'orange', 'apple', 'pear', 'orange','banana'}"
   ]
  },
  {
   "cell_type": "code",
   "execution_count": null,
   "id": "50077251",
   "metadata": {},
   "outputs": [],
   "source": [
    "print(len(basket))\t\t\t#o.p:- 4"
   ]
  },
  {
   "cell_type": "markdown",
   "id": "23a67490",
   "metadata": {},
   "source": []
  },
  {
   "cell_type": "code",
   "execution_count": null,
   "id": "65c9714f",
   "metadata": {},
   "outputs": [],
   "source": [
    "############################################"
   ]
  },
  {
   "cell_type": "code",
   "execution_count": null,
   "id": "c4effa58",
   "metadata": {},
   "outputs": [],
   "source": [
    "#Obtaining the Max and Min Values in a Set"
   ]
  },
  {
   "cell_type": "markdown",
   "id": "f5968743",
   "metadata": {},
   "source": [
    "basket2={23,45,67,12,456}"
   ]
  },
  {
   "cell_type": "code",
   "execution_count": null,
   "id": "f5fc1be4",
   "metadata": {},
   "outputs": [],
   "source": [
    "print(max(basket2))\t\t\t#o.p:-456"
   ]
  },
  {
   "cell_type": "code",
   "execution_count": null,
   "id": "4aa90d38",
   "metadata": {},
   "outputs": [],
   "source": [
    "print(min(basket2))\t\t\t#o.p:-12"
   ]
  },
  {
   "cell_type": "markdown",
   "id": "8e69f301",
   "metadata": {},
   "source": []
  },
  {
   "cell_type": "code",
   "execution_count": null,
   "id": "6e8191da",
   "metadata": {},
   "outputs": [],
   "source": [
    "###########################################"
   ]
  },
  {
   "cell_type": "code",
   "execution_count": null,
   "id": "250fb09e",
   "metadata": {},
   "outputs": [],
   "source": [
    "#Removing an Item"
   ]
  },
  {
   "cell_type": "markdown",
   "id": "92265885",
   "metadata": {},
   "source": [
    "basket = {'apple', 'orange', 'apple', 'pear', 'orange','banana'}"
   ]
  },
  {
   "cell_type": "code",
   "execution_count": null,
   "id": "48c68b00",
   "metadata": {},
   "outputs": [],
   "source": [
    "print(basket)\t\t\t\t#o.p:- {'apple', 'pear', 'banana', 'orange'}"
   ]
  },
  {
   "cell_type": "markdown",
   "id": "d46221c1",
   "metadata": {},
   "source": [
    "basket.remove('apple')\t\t\t#o.p:- {'banana', 'orange', 'pear'}\n",
    "basket.discard('apricot')\t\t#o.p:- {'apple', 'pear', 'banana', 'orange'}"
   ]
  },
  {
   "cell_type": "code",
   "execution_count": null,
   "id": "a6e593f8",
   "metadata": {},
   "outputs": [],
   "source": [
    "print(basket)\t\t\t\t#o.p:- {'pear', 'banana', 'orange'}"
   ]
  },
  {
   "cell_type": "markdown",
   "id": "18139240",
   "metadata": {},
   "source": []
  },
  {
   "cell_type": "code",
   "execution_count": null,
   "id": "f36040cf",
   "metadata": {},
   "outputs": [],
   "source": [
    "###########################################"
   ]
  },
  {
   "cell_type": "code",
   "execution_count": null,
   "id": "c512fcf7",
   "metadata": {},
   "outputs": [],
   "source": [
    "#Set Operations"
   ]
  },
  {
   "cell_type": "markdown",
   "id": "f7ec7631",
   "metadata": {},
   "source": [
    "s1 = {'apple', 'orange', 'banana'}\n",
    "s2 = {'grapefruit', 'lime', 'banana'}"
   ]
  },
  {
   "cell_type": "code",
   "execution_count": null,
   "id": "06e0f849",
   "metadata": {},
   "outputs": [],
   "source": [
    "print('Union:', s1 | s2)\t\t\t#o.p:- Union: {'orange', 'apple', 'grapefruit', 'banana', 'lime'}"
   ]
  },
  {
   "cell_type": "code",
   "execution_count": null,
   "id": "44a56342",
   "metadata": {},
   "outputs": [],
   "source": [
    "print('Intersection:', s1 & s2)\t\t#o.p:- Intersection: {'banana'}"
   ]
  },
  {
   "cell_type": "code",
   "execution_count": null,
   "id": "8c831dc4",
   "metadata": {},
   "outputs": [],
   "source": [
    "print('Difference:', s1 - s2)\t\t#o.p:- Difference: {'apple', 'orange'}"
   ]
  },
  {
   "cell_type": "markdown",
   "id": "9ee4490a",
   "metadata": {},
   "source": []
  },
  {
   "cell_type": "code",
   "execution_count": null,
   "id": "476c5af1",
   "metadata": {},
   "outputs": [],
   "source": [
    "############################################################"
   ]
  },
  {
   "cell_type": "markdown",
   "id": "fc5a1dbb",
   "metadata": {},
   "source": [
    "\n",
    "Dictionaries\n",
    "A Dictionary is a set of associations between a key and a value that is unordered,changeable (mutable) and indexed.\n",
    "Operation on the Dictionaries\n",
    "Definattion of the Dictionaries\n",
    "capitals = {\n",
    "'Maharashtra': 'Mumbai',\n",
    "'Gujrat': 'Ahmadbad',\n",
    "'UP': 'Lakhnow',\n",
    "'Karnataka': 'Banglore',\n",
    "'Andhrapradesh': 'Hydrabad' }"
   ]
  },
  {
   "cell_type": "code",
   "execution_count": null,
   "id": "ba92edc8",
   "metadata": {},
   "outputs": [],
   "source": [
    "print(capitals)\t#o.p:- {'Maharashtra': 'Mumbai', 'Gujrat': 'Ahmadbad', 'UP': 'Lakhnow', 'Karnataka': 'Banglore', 'Andhrapradesh': 'Hydrabad'}"
   ]
  },
  {
   "cell_type": "markdown",
   "id": "4757da7f",
   "metadata": {},
   "source": []
  },
  {
   "cell_type": "code",
   "execution_count": null,
   "id": "1214e21a",
   "metadata": {},
   "outputs": [],
   "source": [
    "##############################################"
   ]
  },
  {
   "cell_type": "code",
   "execution_count": null,
   "id": "386af51a",
   "metadata": {},
   "outputs": [],
   "source": [
    "#Accessing Items via Keys"
   ]
  },
  {
   "cell_type": "code",
   "execution_count": null,
   "id": "725b741b",
   "metadata": {},
   "outputs": [],
   "source": [
    "print('capitals[Maharashtra]:', capitals['Maharashtra'])\t\t#o.p:- capitals[Maharashtra]: Mumbai"
   ]
  },
  {
   "cell_type": "markdown",
   "id": "29ce80ae",
   "metadata": {},
   "source": []
  },
  {
   "cell_type": "code",
   "execution_count": null,
   "id": "a1871779",
   "metadata": {},
   "outputs": [],
   "source": [
    "#############################################"
   ]
  },
  {
   "cell_type": "code",
   "execution_count": null,
   "id": "c5124b0b",
   "metadata": {},
   "outputs": [],
   "source": [
    "#Adding a New Entry"
   ]
  },
  {
   "cell_type": "markdown",
   "id": "e928bae5",
   "metadata": {},
   "source": [
    "capitals['West_Bengal']='Kolkatta'\n",
    "capitals"
   ]
  },
  {
   "cell_type": "code",
   "execution_count": null,
   "id": "9f30ebcc",
   "metadata": {},
   "outputs": [],
   "source": [
    "#o.p;- {'Maharashtra': 'Mumbai',"
   ]
  },
  {
   "cell_type": "markdown",
   "id": "5ab0609b",
   "metadata": {},
   "source": [
    " 'Gujrat': 'Ahmadbad',\n",
    " 'UP': 'Lakhnow',\n",
    " 'Karnataka': 'Banglore',\n",
    " 'Andhrapradesh': 'Hydrabad',\n",
    " 'West_Bengal': 'Kolkatta'}\n"
   ]
  },
  {
   "cell_type": "code",
   "execution_count": null,
   "id": "ed015cc9",
   "metadata": {},
   "outputs": [],
   "source": [
    "#############################################"
   ]
  },
  {
   "cell_type": "code",
   "execution_count": null,
   "id": "41bebf89",
   "metadata": {},
   "outputs": [],
   "source": [
    "#Changing a Keys Value"
   ]
  },
  {
   "cell_type": "markdown",
   "id": "ebbbf46c",
   "metadata": {},
   "source": [
    "capitals['Gujrat'] = 'Gandhinagar'"
   ]
  },
  {
   "cell_type": "code",
   "execution_count": null,
   "id": "c4b53ae6",
   "metadata": {},
   "outputs": [],
   "source": [
    "print(capitals)"
   ]
  },
  {
   "cell_type": "code",
   "execution_count": null,
   "id": "0bccabcd",
   "metadata": {},
   "outputs": [],
   "source": [
    "#o.p:- {'Maharashtra': 'Mumbai', 'Gujrat': 'Gandhinagar', 'UP': 'Lakhnow', 'Karnataka': 'Banglore', 'Andhrapradesh': 'Hydrabad', 'West_Bengal': 'Kolkatta'}"
   ]
  },
  {
   "cell_type": "markdown",
   "id": "ab10ec56",
   "metadata": {},
   "source": []
  },
  {
   "cell_type": "code",
   "execution_count": null,
   "id": "180285c0",
   "metadata": {},
   "outputs": [],
   "source": [
    "#############################################"
   ]
  },
  {
   "cell_type": "code",
   "execution_count": null,
   "id": "1593f351",
   "metadata": {},
   "outputs": [],
   "source": [
    "#Removing an Entry"
   ]
  },
  {
   "cell_type": "markdown",
   "id": "ac7b2a1f",
   "metadata": {},
   "source": [
    "capitals.pop('Karnataka')"
   ]
  },
  {
   "cell_type": "code",
   "execution_count": null,
   "id": "8b1423d7",
   "metadata": {},
   "outputs": [],
   "source": [
    "print(capitals)"
   ]
  },
  {
   "cell_type": "code",
   "execution_count": null,
   "id": "36a2a2ab",
   "metadata": {},
   "outputs": [],
   "source": [
    "#o.p:- {'Maharashtra': 'Mumbai', 'Gujrat': 'Gandhinagar', 'UP': 'Lakhnow', 'Andhrapradesh': 'Hydrabad', 'West_Bengal': 'Kolkatta'}"
   ]
  },
  {
   "cell_type": "markdown",
   "id": "b8dd60c0",
   "metadata": {},
   "source": []
  },
  {
   "cell_type": "code",
   "execution_count": null,
   "id": "4fcc8a4a",
   "metadata": {},
   "outputs": [],
   "source": [
    "############################################"
   ]
  },
  {
   "cell_type": "code",
   "execution_count": null,
   "id": "b5ebe7d1",
   "metadata": {},
   "outputs": [],
   "source": [
    "#del key word to delete the element by using the key value"
   ]
  },
  {
   "cell_type": "markdown",
   "id": "ac543346",
   "metadata": {},
   "source": [
    "del capitals['UP']"
   ]
  },
  {
   "cell_type": "code",
   "execution_count": null,
   "id": "5bb9ad9c",
   "metadata": {},
   "outputs": [],
   "source": [
    "print(capitals)"
   ]
  },
  {
   "cell_type": "code",
   "execution_count": null,
   "id": "5b29f9ef",
   "metadata": {},
   "outputs": [],
   "source": [
    "#o.p:- {'Maharashtra': 'Mumbai', 'Gujrat': 'Gandhinagar', 'Andhrapradesh': 'Hydrabad', 'West_Bengal': 'Kolkatta'}"
   ]
  },
  {
   "cell_type": "markdown",
   "id": "d88b7c54",
   "metadata": {},
   "source": []
  },
  {
   "cell_type": "code",
   "execution_count": null,
   "id": "64c3455c",
   "metadata": {},
   "outputs": [],
   "source": [
    "############################################"
   ]
  },
  {
   "cell_type": "code",
   "execution_count": null,
   "id": "a2cd2360",
   "metadata": {},
   "outputs": [],
   "source": [
    "#Iterating over Keys"
   ]
  },
  {
   "cell_type": "markdown",
   "id": "2c386c16",
   "metadata": {},
   "source": [
    "capitals = {\n",
    "'Maharashtra': 'Mumbai',\n",
    "'Gujrat': 'Ahmadbad',\n",
    "'UP': 'Lakhnow',\n",
    "'Karnataka': 'Banglore',\n",
    "'Andhrapradesh': 'Hydrabad'\n",
    "}"
   ]
  },
  {
   "cell_type": "code",
   "execution_count": null,
   "id": "c02da4d0",
   "metadata": {},
   "outputs": [],
   "source": [
    "for states in capitals:"
   ]
  },
  {
   "cell_type": "code",
   "execution_count": null,
   "id": "927549e7",
   "metadata": {},
   "outputs": [],
   "source": [
    "   print(states, end=', ')\t\t#o.p:- Maharashtra, Gujrat, UP, Karnataka, Andhrapradesh,"
   ]
  },
  {
   "cell_type": "code",
   "execution_count": null,
   "id": "6dcf0234",
   "metadata": {},
   "outputs": [],
   "source": [
    "##########################################"
   ]
  },
  {
   "cell_type": "markdown",
   "id": "7286e644",
   "metadata": {},
   "source": []
  },
  {
   "cell_type": "code",
   "execution_count": null,
   "id": "d62c116f",
   "metadata": {},
   "outputs": [],
   "source": [
    "for states in capitals:"
   ]
  },
  {
   "cell_type": "code",
   "execution_count": null,
   "id": "6384eb0b",
   "metadata": {},
   "outputs": [],
   "source": [
    "     print(states, end=', ') "
   ]
  },
  {
   "cell_type": "code",
   "execution_count": null,
   "id": "601a9014",
   "metadata": {},
   "outputs": [],
   "source": [
    "     print(capitals[states])"
   ]
  },
  {
   "cell_type": "code",
   "execution_count": null,
   "id": "d61c55fb",
   "metadata": {},
   "outputs": [],
   "source": [
    "#o.p:- for states in capitals:"
   ]
  },
  {
   "cell_type": "code",
   "execution_count": null,
   "id": "4718c96a",
   "metadata": {},
   "outputs": [],
   "source": [
    "     print(states, end=', ') "
   ]
  },
  {
   "cell_type": "code",
   "execution_count": null,
   "id": "6423e238",
   "metadata": {},
   "outputs": [],
   "source": [
    "     print(capitals[states])"
   ]
  },
  {
   "cell_type": "markdown",
   "id": "44abf290",
   "metadata": {},
   "source": []
  },
  {
   "cell_type": "code",
   "execution_count": null,
   "id": "54338ada",
   "metadata": {},
   "outputs": [],
   "source": [
    "###############################################"
   ]
  },
  {
   "cell_type": "code",
   "execution_count": null,
   "id": "52fb58e3",
   "metadata": {},
   "outputs": [],
   "source": [
    "#Values, Keys and Items"
   ]
  },
  {
   "cell_type": "code",
   "execution_count": null,
   "id": "10ee943d",
   "metadata": {},
   "outputs": [],
   "source": [
    "print(capitals.values())\t#o.p:-dict_values(['Mumbai', 'Ahmadbad', 'Lakhnow', 'Banglore', 'Hydrabad'])"
   ]
  },
  {
   "cell_type": "code",
   "execution_count": null,
   "id": "d79c66f0",
   "metadata": {},
   "outputs": [],
   "source": [
    "print(capitals.keys())\t\t#o.p:-dict_keys(['Maharashtra', 'Gujrat', 'UP', 'Karnataka', 'Andhrapradesh'])"
   ]
  },
  {
   "cell_type": "code",
   "execution_count": null,
   "id": "89e3f704",
   "metadata": {},
   "outputs": [],
   "source": [
    "print(capitals.items())\t#o.p:- dict_items([('Maharashtra', 'Mumbai'), ('Gujrat', 'Ahmadbad'), ('UP', 'Lakhnow'), ('Karnataka', 'Banglore'), ('Andhrapradesh', 'Hydrabad')])"
   ]
  },
  {
   "cell_type": "markdown",
   "id": "a6574fcd",
   "metadata": {},
   "source": []
  },
  {
   "cell_type": "code",
   "execution_count": null,
   "id": "c27b7e89",
   "metadata": {},
   "outputs": [],
   "source": [
    "###############################################"
   ]
  },
  {
   "cell_type": "code",
   "execution_count": null,
   "id": "7af0f95b",
   "metadata": {},
   "outputs": [],
   "source": [
    "#Checking Key Membership"
   ]
  },
  {
   "cell_type": "code",
   "execution_count": null,
   "id": "175b6662",
   "metadata": {},
   "outputs": [],
   "source": [
    "print('Karnataka' in capitals)\t\t#o.p:- True"
   ]
  },
  {
   "cell_type": "code",
   "execution_count": null,
   "id": "52ae09d3",
   "metadata": {},
   "outputs": [],
   "source": [
    "print('Bihar' not in capitals)\t\t#o.p: True"
   ]
  },
  {
   "cell_type": "markdown",
   "id": "1f41976b",
   "metadata": {},
   "source": []
  },
  {
   "cell_type": "code",
   "execution_count": null,
   "id": "ca13f309",
   "metadata": {},
   "outputs": [],
   "source": [
    "#############################################"
   ]
  },
  {
   "cell_type": "code",
   "execution_count": null,
   "id": "3b408f78",
   "metadata": {},
   "outputs": [],
   "source": [
    "#Obtaining the Length of a Dictionary"
   ]
  },
  {
   "cell_type": "code",
   "execution_count": null,
   "id": "ff56095e",
   "metadata": {},
   "outputs": [],
   "source": [
    "print(len(capitals))\t\t\t\t#o.p:- 5"
   ]
  },
  {
   "cell_type": "markdown",
   "id": "d8b96891",
   "metadata": {},
   "source": []
  },
  {
   "cell_type": "code",
   "execution_count": null,
   "id": "56cb7607",
   "metadata": {},
   "outputs": [],
   "source": [
    "############################################"
   ]
  },
  {
   "cell_type": "code",
   "execution_count": null,
   "id": "4c0c4f71",
   "metadata": {},
   "outputs": [],
   "source": [
    "#Dictionaries can have values in tuple"
   ]
  },
  {
   "cell_type": "markdown",
   "id": "eaefe77f",
   "metadata": {},
   "source": [
    "seasons = {'Summer': ('Feb','Mar', 'Apr', 'May'),\n",
    "'Rainy': ('June', 'July', 'August','Sept'),\n",
    "'Winter': ( 'Oct','Nov','December', 'January')}"
   ]
  },
  {
   "cell_type": "code",
   "execution_count": null,
   "id": "78b80ea5",
   "metadata": {},
   "outputs": [],
   "source": [
    "print(seasons['Rainy'])\t\t\t#o.p:- ('June', 'July', 'August', 'Sept')"
   ]
  },
  {
   "cell_type": "code",
   "execution_count": null,
   "id": "d8ca69ed",
   "metadata": {},
   "outputs": [],
   "source": [
    "print(seasons['Rainy'][1])\t\t\t#o.p:- July"
   ]
  },
  {
   "cell_type": "markdown",
   "id": "183eb2e1",
   "metadata": {},
   "source": []
  },
  {
   "cell_type": "code",
   "execution_count": null,
   "id": "b05b533b",
   "metadata": {},
   "outputs": [],
   "source": [
    "##########################################"
   ]
  },
  {
   "cell_type": "code",
   "execution_count": null,
   "id": "a724d9f6",
   "metadata": {},
   "outputs": [],
   "source": [
    "#Dictionary Methods"
   ]
  },
  {
   "cell_type": "markdown",
   "id": "603d1ffd",
   "metadata": {},
   "source": [
    "get() is a useful method to access the values of a key in a dictionary."
   ]
  },
  {
   "cell_type": "code",
   "execution_count": null,
   "id": "f0c86456",
   "metadata": {},
   "outputs": [],
   "source": [
    "print(capitals.get('UP'))\t\t\t#o.p:- Lakhnow"
   ]
  },
  {
   "cell_type": "markdown",
   "id": "658a5ef5",
   "metadata": {},
   "source": []
  },
  {
   "cell_type": "code",
   "execution_count": null,
   "id": "ff12d77a",
   "metadata": {},
   "outputs": [],
   "source": [
    "##########################################"
   ]
  },
  {
   "cell_type": "code",
   "execution_count": null,
   "id": "2932f997",
   "metadata": {},
   "outputs": [],
   "source": [
    "#Duplicates Not Allowed"
   ]
  },
  {
   "cell_type": "markdown",
   "id": "f3bd8b84",
   "metadata": {},
   "source": [
    "Dictionaries cannot have two items with the same key:\n",
    "dict2 = {\n",
    "  \"brand\": \"Maruti\",\n",
    "  \"model\": \"Breeza\",\n",
    "  \"year\": 2021,\n",
    "  \"year\": 2020\n",
    "}"
   ]
  },
  {
   "cell_type": "code",
   "execution_count": null,
   "id": "6c629bd4",
   "metadata": {},
   "outputs": [],
   "source": [
    "print(dict2)"
   ]
  },
  {
   "cell_type": "code",
   "execution_count": null,
   "id": "f8fceb69",
   "metadata": {},
   "outputs": [],
   "source": [
    "#o.p:- {'brand': 'Maruti', 'model': 'Breeza', 'year': 2020}"
   ]
  },
  {
   "cell_type": "markdown",
   "id": "12307cde",
   "metadata": {},
   "source": []
  },
  {
   "cell_type": "code",
   "execution_count": null,
   "id": "1fa87c05",
   "metadata": {},
   "outputs": [],
   "source": [
    "############################################"
   ]
  },
  {
   "cell_type": "code",
   "execution_count": null,
   "id": "6861d94d",
   "metadata": {},
   "outputs": [],
   "source": [
    "#Loop Through a Dictionary, it will show only keys"
   ]
  },
  {
   "cell_type": "code",
   "execution_count": null,
   "id": "03e2cb70",
   "metadata": {},
   "outputs": [],
   "source": [
    "for x in dict2:"
   ]
  },
  {
   "cell_type": "code",
   "execution_count": null,
   "id": "a21430b2",
   "metadata": {},
   "outputs": [],
   "source": [
    "  print(x) "
   ]
  },
  {
   "cell_type": "code",
   "execution_count": null,
   "id": "7ad63f16",
   "metadata": {},
   "outputs": [],
   "source": [
    "#o.p:- brand"
   ]
  },
  {
   "cell_type": "markdown",
   "id": "b977b93c",
   "metadata": {},
   "source": [
    "model\n",
    "year\n"
   ]
  },
  {
   "cell_type": "code",
   "execution_count": null,
   "id": "0c48e0eb",
   "metadata": {},
   "outputs": [],
   "source": [
    "##########################################"
   ]
  },
  {
   "cell_type": "code",
   "execution_count": null,
   "id": "9c31f006",
   "metadata": {},
   "outputs": [],
   "source": [
    "#Print all values in the dictionary, one by one:"
   ]
  },
  {
   "cell_type": "code",
   "execution_count": null,
   "id": "79ec3871",
   "metadata": {},
   "outputs": [],
   "source": [
    "for x in dict2:"
   ]
  },
  {
   "cell_type": "code",
   "execution_count": null,
   "id": "5796dce4",
   "metadata": {},
   "outputs": [],
   "source": [
    "  print(dict2[x]) "
   ]
  },
  {
   "cell_type": "code",
   "execution_count": null,
   "id": "84751e86",
   "metadata": {},
   "outputs": [],
   "source": [
    "#o.p:- Maruti"
   ]
  },
  {
   "cell_type": "markdown",
   "id": "f424b1dd",
   "metadata": {},
   "source": [
    "Breeza\n",
    "2020\n"
   ]
  },
  {
   "cell_type": "code",
   "execution_count": null,
   "id": "f8a297c2",
   "metadata": {},
   "outputs": [],
   "source": [
    "#########################################"
   ]
  },
  {
   "cell_type": "code",
   "execution_count": null,
   "id": "5956c5e3",
   "metadata": {},
   "outputs": [],
   "source": [
    "#You can also use the values() method to return values of a dictionary:"
   ]
  },
  {
   "cell_type": "code",
   "execution_count": null,
   "id": "2b4fedd8",
   "metadata": {},
   "outputs": [],
   "source": [
    "for x in dict2.values():"
   ]
  },
  {
   "cell_type": "code",
   "execution_count": null,
   "id": "b5eb95cc",
   "metadata": {},
   "outputs": [],
   "source": [
    "  print(x) "
   ]
  },
  {
   "cell_type": "code",
   "execution_count": null,
   "id": "7b32d294",
   "metadata": {},
   "outputs": [],
   "source": [
    "#o.p:- Maruti"
   ]
  },
  {
   "cell_type": "markdown",
   "id": "3a18481e",
   "metadata": {},
   "source": [
    "Breeza\n",
    "2020\n"
   ]
  },
  {
   "cell_type": "code",
   "execution_count": null,
   "id": "04b7117d",
   "metadata": {},
   "outputs": [],
   "source": [
    "##########################################"
   ]
  },
  {
   "cell_type": "code",
   "execution_count": null,
   "id": "79ba071f",
   "metadata": {},
   "outputs": [],
   "source": [
    "#you can use the keys() method to return the keys of a dictionary:"
   ]
  },
  {
   "cell_type": "code",
   "execution_count": null,
   "id": "8d6db087",
   "metadata": {},
   "outputs": [],
   "source": [
    "for x in dict2.keys():"
   ]
  },
  {
   "cell_type": "code",
   "execution_count": null,
   "id": "4d3a8946",
   "metadata": {},
   "outputs": [],
   "source": [
    "  print(x) "
   ]
  },
  {
   "cell_type": "code",
   "execution_count": null,
   "id": "88d5ee3c",
   "metadata": {},
   "outputs": [],
   "source": [
    "#o.p:- brand"
   ]
  },
  {
   "cell_type": "markdown",
   "id": "46dba2a3",
   "metadata": {},
   "source": [
    "model\n",
    "year\n"
   ]
  },
  {
   "cell_type": "code",
   "execution_count": null,
   "id": "d797bf00",
   "metadata": {},
   "outputs": [],
   "source": [
    "############################################"
   ]
  },
  {
   "cell_type": "code",
   "execution_count": null,
   "id": "6d38ccda",
   "metadata": {},
   "outputs": [],
   "source": [
    "#Loop through both keys and values, by using the items() method:"
   ]
  },
  {
   "cell_type": "code",
   "execution_count": null,
   "id": "263ea332",
   "metadata": {},
   "outputs": [],
   "source": [
    "for x, y in dict2.items():"
   ]
  },
  {
   "cell_type": "code",
   "execution_count": null,
   "id": "f0e8f99e",
   "metadata": {},
   "outputs": [],
   "source": [
    "  print(x, y) "
   ]
  },
  {
   "cell_type": "code",
   "execution_count": null,
   "id": "a862ecbc",
   "metadata": {},
   "outputs": [],
   "source": [
    "#o.p :-brand Maruti"
   ]
  },
  {
   "cell_type": "markdown",
   "id": "50977d66",
   "metadata": {},
   "source": [
    "model Breeza\n",
    "year 2020\n"
   ]
  },
  {
   "cell_type": "code",
   "execution_count": null,
   "id": "24392520",
   "metadata": {},
   "outputs": [],
   "source": [
    "#############################################"
   ]
  },
  {
   "cell_type": "code",
   "execution_count": null,
   "id": "307e3937",
   "metadata": {},
   "outputs": [],
   "source": [
    "#Copy a Dictionary"
   ]
  },
  {
   "cell_type": "markdown",
   "id": "1d82c2ed",
   "metadata": {},
   "source": [
    "Make a copy of a dictionary with the copy() method:\n",
    "mydict = dict2.copy()"
   ]
  },
  {
   "cell_type": "code",
   "execution_count": null,
   "id": "f2d0593e",
   "metadata": {},
   "outputs": [],
   "source": [
    "print(mydict)\t\t#o.p:- {'brand': 'Maruti', 'model': 'Breeza', 'year': 2020}"
   ]
  },
  {
   "cell_type": "markdown",
   "id": "10cf411b",
   "metadata": {},
   "source": []
  },
  {
   "cell_type": "code",
   "execution_count": null,
   "id": "a4ac4949",
   "metadata": {},
   "outputs": [],
   "source": [
    "############################"
   ]
  },
  {
   "cell_type": "markdown",
   "id": "14dd3520",
   "metadata": {},
   "source": []
  },
  {
   "cell_type": "code",
   "execution_count": null,
   "id": "f051d3a9",
   "metadata": {},
   "outputs": [],
   "source": [
    "#Write a Python script to add a key to a dictionary. "
   ]
  },
  {
   "cell_type": "code",
   "execution_count": null,
   "id": "6c737630",
   "metadata": {},
   "outputs": [],
   "source": [
    "#Sample Dictionary : {0: 10, 1: 20}"
   ]
  },
  {
   "cell_type": "code",
   "execution_count": null,
   "id": "2a8ca29f",
   "metadata": {},
   "outputs": [],
   "source": [
    "#Expected Result : {0: 10, 1: 20, 2: 30}"
   ]
  },
  {
   "cell_type": "markdown",
   "id": "3960557f",
   "metadata": {},
   "source": [
    "\n",
    "d = {0:10, 1:20}"
   ]
  },
  {
   "cell_type": "code",
   "execution_count": null,
   "id": "ecbec107",
   "metadata": {},
   "outputs": [],
   "source": [
    "print(d)                #o.p:-{0: 10, 1: 20}"
   ]
  },
  {
   "cell_type": "markdown",
   "id": "45cdaab5",
   "metadata": {},
   "source": [
    "d.update({2:30})"
   ]
  },
  {
   "cell_type": "code",
   "execution_count": null,
   "id": "84bc3207",
   "metadata": {},
   "outputs": [],
   "source": [
    "print(d)                #o.p:-{0: 10, 1: 20, 2: 30}"
   ]
  },
  {
   "cell_type": "markdown",
   "id": "e39a989a",
   "metadata": {},
   "source": []
  },
  {
   "cell_type": "code",
   "execution_count": null,
   "id": "6ce8c8f3",
   "metadata": {},
   "outputs": [],
   "source": [
    "############################################"
   ]
  },
  {
   "cell_type": "code",
   "execution_count": null,
   "id": "1d4525e3",
   "metadata": {},
   "outputs": [],
   "source": [
    "#adding the value to the dictionary"
   ]
  },
  {
   "cell_type": "markdown",
   "id": "671eae3b",
   "metadata": {},
   "source": [
    "d = {0:10, 1:20}"
   ]
  },
  {
   "cell_type": "code",
   "execution_count": null,
   "id": "3edfda28",
   "metadata": {},
   "outputs": [],
   "source": [
    "print(d)            #o.p:-{0: 10, 1: 20}"
   ]
  },
  {
   "cell_type": "markdown",
   "id": "473fd269",
   "metadata": {},
   "source": [
    "d[2]=30             #adding by using index value"
   ]
  },
  {
   "cell_type": "code",
   "execution_count": null,
   "id": "ef7dda58",
   "metadata": {},
   "outputs": [],
   "source": [
    "print(d)            #o.p:-{0: 10, 1: 20, 2: 30}"
   ]
  },
  {
   "cell_type": "markdown",
   "id": "115698d4",
   "metadata": {},
   "source": []
  },
  {
   "cell_type": "code",
   "execution_count": null,
   "id": "7abe70f3",
   "metadata": {},
   "outputs": [],
   "source": [
    "##############################################"
   ]
  },
  {
   "cell_type": "markdown",
   "id": "45a96d27",
   "metadata": {},
   "source": [
    "‘’’Write a Python script to concatenate the following dictionaries to create a new one.\n",
    "Sample Dictionary :\n",
    "dic1={1:10, 2:20}\n",
    "dic2={3:30, 4:40}\n",
    "dic3={5:50,6:60}\n",
    "Expected Result : {1: 10, 2: 20, 3: 30, 4: 40, 5: 50, 6: 60}\n",
    "'''\n",
    "dic1={1:10, 2:20}\n",
    "dic2={3:30, 4:40}\n",
    "dic3={5:50,6:60}\n",
    "dic4 = {}"
   ]
  },
  {
   "cell_type": "code",
   "execution_count": null,
   "id": "479dbe74",
   "metadata": {},
   "outputs": [],
   "source": [
    "for d in (dic1, dic2, dic3): dic4.update(d)"
   ]
  },
  {
   "cell_type": "code",
   "execution_count": null,
   "id": "a485673c",
   "metadata": {},
   "outputs": [],
   "source": [
    "print(dic4)         #o.p:-{1: 10, 2: 20, 3: 30, 4: 40, 5: 50, 6: 60}"
   ]
  },
  {
   "cell_type": "markdown",
   "id": "ee61adb0",
   "metadata": {},
   "source": []
  },
  {
   "cell_type": "code",
   "execution_count": null,
   "id": "5569b4fb",
   "metadata": {},
   "outputs": [],
   "source": [
    "################################################"
   ]
  },
  {
   "cell_type": "code",
   "execution_count": null,
   "id": "cc0d2e72",
   "metadata": {},
   "outputs": [],
   "source": [
    "#Write a Python script to check whether a given key already exists in a dictionary. "
   ]
  },
  {
   "cell_type": "markdown",
   "id": "adcea42c",
   "metadata": {},
   "source": [
    "d = {1: 10, 2: 20, 3: 30, 4: 40, 5: 50, 6: 60}"
   ]
  },
  {
   "cell_type": "code",
   "execution_count": null,
   "id": "dce17d43",
   "metadata": {},
   "outputs": [],
   "source": [
    "def is_key_present(x):"
   ]
  },
  {
   "cell_type": "code",
   "execution_count": null,
   "id": "e8d76afb",
   "metadata": {},
   "outputs": [],
   "source": [
    "  if x in d:"
   ]
  },
  {
   "cell_type": "code",
   "execution_count": null,
   "id": "18bdd3a0",
   "metadata": {},
   "outputs": [],
   "source": [
    "      print('Key is present in the dictionary')"
   ]
  },
  {
   "cell_type": "markdown",
   "id": "315e25b5",
   "metadata": {},
   "source": [
    "  else:"
   ]
  },
  {
   "cell_type": "code",
   "execution_count": null,
   "id": "6075240e",
   "metadata": {},
   "outputs": [],
   "source": [
    "      print('Key is not present in the dictionary')"
   ]
  },
  {
   "cell_type": "markdown",
   "id": "8cb9febb",
   "metadata": {},
   "source": [
    "is_key_present(5)\n",
    "is_key_present(9)"
   ]
  },
  {
   "cell_type": "code",
   "execution_count": null,
   "id": "d526f95b",
   "metadata": {},
   "outputs": [],
   "source": [
    "#o.p:-Key is present in the dictionary"
   ]
  },
  {
   "cell_type": "code",
   "execution_count": null,
   "id": "46049b6e",
   "metadata": {},
   "outputs": [],
   "source": [
    "#o.p:-Key is not present in the dictionary"
   ]
  },
  {
   "cell_type": "markdown",
   "id": "0eb01784",
   "metadata": {},
   "source": []
  },
  {
   "cell_type": "code",
   "execution_count": null,
   "id": "50dad96f",
   "metadata": {},
   "outputs": [],
   "source": [
    "###################################################"
   ]
  },
  {
   "cell_type": "code",
   "execution_count": null,
   "id": "f31f9f7f",
   "metadata": {},
   "outputs": [],
   "source": [
    "#Write a Python program to iterate over dictionaries using for loops. "
   ]
  },
  {
   "cell_type": "markdown",
   "id": "3728c561",
   "metadata": {},
   "source": [
    "d = {'x': 10, 'y': 20, 'z': 30} "
   ]
  },
  {
   "cell_type": "code",
   "execution_count": null,
   "id": "5667163e",
   "metadata": {},
   "outputs": [],
   "source": [
    "for dict_key, dict_value in d.items():"
   ]
  },
  {
   "cell_type": "code",
   "execution_count": null,
   "id": "ea015a69",
   "metadata": {},
   "outputs": [],
   "source": [
    "    print(dict_key,':',dict_value)"
   ]
  },
  {
   "cell_type": "markdown",
   "id": "d2cafa92",
   "metadata": {},
   "source": [
    "'''#o.p:-x : 10\n",
    "y : 20\n",
    "z : 30'''\n"
   ]
  },
  {
   "cell_type": "code",
   "execution_count": null,
   "id": "5842b3a8",
   "metadata": {},
   "outputs": [],
   "source": [
    "#####################################################"
   ]
  },
  {
   "cell_type": "markdown",
   "id": "b23d7b2a",
   "metadata": {},
   "source": [
    "'''Write a Python script to generate and print a dictionary that contains a number (between 1 and n) in the form (x, x*x).\n",
    "Sample Dictionary ( n = 5) :\n",
    "Expected Output : {1: 1, 2: 4, 3: 9, 4: 16, 5: 25}'''\n",
    "n=int(input(\"Input a number \"))\n",
    "d = dict()"
   ]
  },
  {
   "cell_type": "code",
   "execution_count": null,
   "id": "c0b3d906",
   "metadata": {},
   "outputs": [],
   "source": [
    "for x in range(1,n+1):"
   ]
  },
  {
   "cell_type": "markdown",
   "id": "2701e188",
   "metadata": {},
   "source": [
    "    d[x]=x*x"
   ]
  },
  {
   "cell_type": "code",
   "execution_count": null,
   "id": "e388c3ec",
   "metadata": {},
   "outputs": [],
   "source": [
    "print(d) #o.p:-Input a number 5"
   ]
  },
  {
   "cell_type": "code",
   "execution_count": null,
   "id": "ed29197b",
   "metadata": {},
   "outputs": [],
   "source": [
    "#o.p:-{1: 1, 2: 4, 3: 9, 4: 16, 5: 25}"
   ]
  },
  {
   "cell_type": "markdown",
   "id": "a69b62ed",
   "metadata": {},
   "source": []
  },
  {
   "cell_type": "code",
   "execution_count": null,
   "id": "7502d3ce",
   "metadata": {},
   "outputs": [],
   "source": [
    "###############################################"
   ]
  },
  {
   "cell_type": "code",
   "execution_count": null,
   "id": "40f11ee6",
   "metadata": {},
   "outputs": [],
   "source": [
    "#Write a Python script to merge two Python dictionaries. "
   ]
  },
  {
   "cell_type": "code",
   "execution_count": null,
   "id": "15bc1ea2",
   "metadata": {},
   "outputs": [],
   "source": [
    "def merge_dictionaries(*dicts):"
   ]
  },
  {
   "cell_type": "markdown",
   "id": "b73b0677",
   "metadata": {},
   "source": [
    "  result = dict()"
   ]
  },
  {
   "cell_type": "code",
   "execution_count": null,
   "id": "985fb728",
   "metadata": {},
   "outputs": [],
   "source": [
    "  for d in dicts:"
   ]
  },
  {
   "cell_type": "markdown",
   "id": "fc7770ca",
   "metadata": {},
   "source": [
    "    result.update(d)\n",
    "  return result"
   ]
  },
  {
   "cell_type": "code",
   "execution_count": null,
   "id": "4781671e",
   "metadata": {},
   "outputs": [],
   "source": [
    "#Let us define first dictionory"
   ]
  },
  {
   "cell_type": "markdown",
   "id": "012d5bde",
   "metadata": {},
   "source": [
    "students1 = {\n",
    "  'Theodore': 10,\n",
    "  'Mathew': 11,\n",
    "}"
   ]
  },
  {
   "cell_type": "code",
   "execution_count": null,
   "id": "9f4ce89d",
   "metadata": {},
   "outputs": [],
   "source": [
    "#The second dictionory"
   ]
  },
  {
   "cell_type": "markdown",
   "id": "37fb42b5",
   "metadata": {},
   "source": [
    "students2 = {\n",
    "  'Roxanne': 9\n",
    "}"
   ]
  },
  {
   "cell_type": "code",
   "execution_count": null,
   "id": "ead3e9c8",
   "metadata": {},
   "outputs": [],
   "source": [
    "print(\"Original dictionaries:\")"
   ]
  },
  {
   "cell_type": "code",
   "execution_count": null,
   "id": "c908fa93",
   "metadata": {},
   "outputs": [],
   "source": [
    "print(students1)"
   ]
  },
  {
   "cell_type": "code",
   "execution_count": null,
   "id": "20ef5cbd",
   "metadata": {},
   "outputs": [],
   "source": [
    "print(students2)"
   ]
  },
  {
   "cell_type": "code",
   "execution_count": null,
   "id": "4ec2edc1",
   "metadata": {},
   "outputs": [],
   "source": [
    "print(\"\\nMerge dictionaries:\")"
   ]
  },
  {
   "cell_type": "code",
   "execution_count": null,
   "id": "ed17f5c3",
   "metadata": {},
   "outputs": [],
   "source": [
    "print(merge_dictionaries(students1, students2))"
   ]
  },
  {
   "cell_type": "markdown",
   "id": "766f25f1",
   "metadata": {},
   "source": [
    "'''o.p:-Original dictionaries:{'Theodore': 10, 'Mathew': 11}{'Roxanne': 9}\n",
    "Merge dictionaries:{'Theodore': 10, 'Mathew': 11, 'Roxanne': 9}'''\n"
   ]
  },
  {
   "cell_type": "code",
   "execution_count": null,
   "id": "3b2975ca",
   "metadata": {},
   "outputs": [],
   "source": [
    "################################################"
   ]
  },
  {
   "cell_type": "code",
   "execution_count": null,
   "id": "eba6d58d",
   "metadata": {},
   "outputs": [],
   "source": [
    "#Write a Python program to sum all the items in a dictionary. "
   ]
  },
  {
   "cell_type": "markdown",
   "id": "fc14841b",
   "metadata": {},
   "source": [
    "my_dict = {'data1':100,'data2':-54,'data3':247}"
   ]
  },
  {
   "cell_type": "code",
   "execution_count": null,
   "id": "15c1420d",
   "metadata": {},
   "outputs": [],
   "source": [
    "print(sum(my_dict.values()))        #o.p:-293"
   ]
  },
  {
   "cell_type": "markdown",
   "id": "9b33266c",
   "metadata": {},
   "source": []
  },
  {
   "cell_type": "code",
   "execution_count": null,
   "id": "5a05b256",
   "metadata": {},
   "outputs": [],
   "source": [
    "################################################"
   ]
  },
  {
   "cell_type": "code",
   "execution_count": null,
   "id": "8b789894",
   "metadata": {},
   "outputs": [],
   "source": [
    "#Write a Python program to multiply all the items in a dictionary."
   ]
  },
  {
   "cell_type": "markdown",
   "id": "0fd76685",
   "metadata": {},
   "source": [
    "my_dict = {'data1':100,'data2':-54,'data3':247}\n",
    "result=1"
   ]
  },
  {
   "cell_type": "code",
   "execution_count": null,
   "id": "814bf58f",
   "metadata": {},
   "outputs": [],
   "source": [
    "for key in my_dict:    "
   ]
  },
  {
   "cell_type": "markdown",
   "id": "64a92a6b",
   "metadata": {},
   "source": [
    "    result=result * my_dict[key]"
   ]
  },
  {
   "cell_type": "code",
   "execution_count": null,
   "id": "c0d8ff89",
   "metadata": {},
   "outputs": [],
   "source": [
    "print(result)       #o.p:--1333800"
   ]
  },
  {
   "cell_type": "markdown",
   "id": "e946a9af",
   "metadata": {},
   "source": []
  },
  {
   "cell_type": "code",
   "execution_count": null,
   "id": "72636fe0",
   "metadata": {},
   "outputs": [],
   "source": [
    "############################"
   ]
  },
  {
   "cell_type": "code",
   "execution_count": null,
   "id": "d4828dcb",
   "metadata": {},
   "outputs": [],
   "source": [
    "#Write a Python program to remove a key from a dictionary."
   ]
  },
  {
   "cell_type": "markdown",
   "id": "ac98c56e",
   "metadata": {},
   "source": [
    "myDict = {'a':1,'b':2,'c':3,'d':4}"
   ]
  },
  {
   "cell_type": "code",
   "execution_count": null,
   "id": "a912dddf",
   "metadata": {},
   "outputs": [],
   "source": [
    "print(myDict)"
   ]
  },
  {
   "cell_type": "code",
   "execution_count": null,
   "id": "e15afa1d",
   "metadata": {},
   "outputs": [],
   "source": [
    "if 'a' in myDict: "
   ]
  },
  {
   "cell_type": "markdown",
   "id": "35e7351d",
   "metadata": {},
   "source": [
    "    del myDict['a']"
   ]
  },
  {
   "cell_type": "code",
   "execution_count": null,
   "id": "754874e8",
   "metadata": {},
   "outputs": [],
   "source": [
    "print(myDict)"
   ]
  },
  {
   "cell_type": "markdown",
   "id": "c1e8011a",
   "metadata": {},
   "source": [
    "'''o.p:-{'a': 1, 'b': 2, 'c': 3, 'd': 4}\n",
    "{'b': 2, 'c': 3, 'd': 4}'''\n"
   ]
  },
  {
   "cell_type": "code",
   "execution_count": null,
   "id": "136b8139",
   "metadata": {},
   "outputs": [],
   "source": [
    "#############################################"
   ]
  },
  {
   "cell_type": "code",
   "execution_count": null,
   "id": "fc4c6264",
   "metadata": {},
   "outputs": [],
   "source": [
    "#Write a Python program to map two lists into a dictionary. "
   ]
  },
  {
   "cell_type": "markdown",
   "id": "e4ec5759",
   "metadata": {},
   "source": [
    "keys = ['red', 'green', 'blue']\n",
    "values = ['#FF0000','#008000', '#0000FF']\n",
    "color_dictionary = dict(zip(keys, values))"
   ]
  },
  {
   "cell_type": "code",
   "execution_count": null,
   "id": "5119c4a7",
   "metadata": {},
   "outputs": [],
   "source": [
    "print(color_dictionary)"
   ]
  },
  {
   "cell_type": "markdown",
   "id": "4460ed40",
   "metadata": {},
   "source": [
    "'''o.p:-{'red': '#FF0000', 'green': '#008000', 'blue': '#0000FF'}'''\n"
   ]
  },
  {
   "cell_type": "code",
   "execution_count": null,
   "id": "764c33e1",
   "metadata": {},
   "outputs": [],
   "source": [
    "############################################"
   ]
  },
  {
   "cell_type": "code",
   "execution_count": null,
   "id": "9823af4f",
   "metadata": {},
   "outputs": [],
   "source": [
    "#Write a Python program to sort a given dictionary by key. "
   ]
  },
  {
   "cell_type": "markdown",
   "id": "cb2c983f",
   "metadata": {},
   "source": [
    "color_dict = {'red':'#FF0000',\n",
    "          'green':'#008000',\n",
    "          'black':'#000000',\n",
    "          'white':'#FFFFFF'}\n"
   ]
  },
  {
   "cell_type": "code",
   "execution_count": null,
   "id": "54247c0c",
   "metadata": {},
   "outputs": [],
   "source": [
    "for key in sorted(color_dict):"
   ]
  },
  {
   "cell_type": "code",
   "execution_count": null,
   "id": "d0039767",
   "metadata": {},
   "outputs": [],
   "source": [
    "    print(\"%s: %s\" % (key, color_dict[key]))"
   ]
  },
  {
   "cell_type": "markdown",
   "id": "e1ba32ff",
   "metadata": {},
   "source": [
    "'''o.p:-black: #000000\n",
    "green: #008000\n",
    "red: #FF0000\n",
    "white: #FFFFFF'''\n"
   ]
  },
  {
   "cell_type": "code",
   "execution_count": null,
   "id": "dac9e5d5",
   "metadata": {},
   "outputs": [],
   "source": [
    "##############################################"
   ]
  },
  {
   "cell_type": "code",
   "execution_count": null,
   "id": "1339645e",
   "metadata": {},
   "outputs": [],
   "source": [
    "#Write a Python program to get the maximum and minimum values of a dictionary."
   ]
  },
  {
   "cell_type": "markdown",
   "id": "c45f4ae7",
   "metadata": {},
   "source": [
    "my_dict = {'x':500, 'y':5874, 'z': 560}\n",
    "key_max = max(my_dict.keys(), key=(lambda k: my_dict[k]))\n",
    "key_min = min(my_dict.keys(), key=(lambda k: my_dict[k]))"
   ]
  },
  {
   "cell_type": "code",
   "execution_count": null,
   "id": "f17d6b1b",
   "metadata": {},
   "outputs": [],
   "source": [
    "print('Maximum Value: ',my_dict[key_max])       #o.p:-Maximum Value:  5874"
   ]
  },
  {
   "cell_type": "code",
   "execution_count": null,
   "id": "b5803d8b",
   "metadata": {},
   "outputs": [],
   "source": [
    "print('Minimum Value: ',my_dict[key_min])       #o.p:-Minimum Value:  500"
   ]
  },
  {
   "cell_type": "markdown",
   "id": "8da18146",
   "metadata": {},
   "source": []
  },
  {
   "cell_type": "code",
   "execution_count": null,
   "id": "488dbf5d",
   "metadata": {},
   "outputs": [],
   "source": [
    "###############################################"
   ]
  },
  {
   "cell_type": "code",
   "execution_count": null,
   "id": "5d09aed6",
   "metadata": {},
   "outputs": [],
   "source": [
    "#Write a Python program to print all distinct values in a dictionary."
   ]
  },
  {
   "cell_type": "markdown",
   "id": "458d985f",
   "metadata": {},
   "source": [
    "L = [{\"V\":\"S001\"}, {\"V\": \"S002\"}, {\"VI\": \"S001\"}, {\"VI\": \"S005\"}, {\"VII\":\"S005\"}, {\"V\":\"S009\"},{\"VIII\":\"S007\"}]"
   ]
  },
  {
   "cell_type": "code",
   "execution_count": null,
   "id": "714bf623",
   "metadata": {},
   "outputs": [],
   "source": [
    "print(\"Original List: \",L)"
   ]
  },
  {
   "cell_type": "markdown",
   "id": "33dbb1e3",
   "metadata": {},
   "source": [
    "u_value = set( val for dic in L for val in dic.values())"
   ]
  },
  {
   "cell_type": "code",
   "execution_count": null,
   "id": "c7cb7471",
   "metadata": {},
   "outputs": [],
   "source": [
    "print(\"Unique Values: \",u_value)"
   ]
  },
  {
   "cell_type": "markdown",
   "id": "d36afa97",
   "metadata": {},
   "source": [
    "'''o.p:-Original List:  [{'V': 'S001'}, {'V': 'S002'}, {'VI': 'S001'}, {'VI': 'S005'}, {'VII': 'S005'}, {'V': 'S009'}, {'VIII': 'S007'}]\n",
    "Unique Values:  {'S005', 'S007', 'S001', 'S009', 'S002'}'''\n"
   ]
  },
  {
   "cell_type": "code",
   "execution_count": null,
   "id": "94c28721",
   "metadata": {},
   "outputs": [],
   "source": [
    "###############################################"
   ]
  },
  {
   "cell_type": "code",
   "execution_count": null,
   "id": "b2f83d1e",
   "metadata": {},
   "outputs": [],
   "source": [
    "#Write a Python program to find the highest 3 values of corresponding keys in a dictionary. "
   ]
  },
  {
   "cell_type": "markdown",
   "id": "4b2ff7f9",
   "metadata": {},
   "source": [
    "from heapq import nlargest\n",
    "my_dict = {'a':500, 'b':5874, 'c': 560,'d':400, 'e':5874, 'f': 20}  \n",
    "three_largest = nlargest(3, my_dict, key=my_dict.get)"
   ]
  },
  {
   "cell_type": "code",
   "execution_count": null,
   "id": "9e813cfb",
   "metadata": {},
   "outputs": [],
   "source": [
    "print(three_largest) "
   ]
  },
  {
   "cell_type": "code",
   "execution_count": null,
   "id": "d055dbf1",
   "metadata": {},
   "outputs": [],
   "source": [
    "#o.p:-['b', 'e', 'c']"
   ]
  },
  {
   "cell_type": "markdown",
   "id": "9b9303cc",
   "metadata": {},
   "source": []
  },
  {
   "cell_type": "code",
   "execution_count": null,
   "id": "b2cb7bb2",
   "metadata": {},
   "outputs": [],
   "source": [
    "###############################################"
   ]
  },
  {
   "cell_type": "code",
   "execution_count": null,
   "id": "238bbef7",
   "metadata": {},
   "outputs": [],
   "source": [
    "#Dictionary methods"
   ]
  },
  {
   "cell_type": "code",
   "execution_count": null,
   "id": "bd46ad88",
   "metadata": {},
   "outputs": [],
   "source": [
    "#clear():Remove all elements from the car list"
   ]
  },
  {
   "cell_type": "markdown",
   "id": "a3f0e468",
   "metadata": {},
   "source": [
    "car = {\n",
    "  \"brand\": \"Ford\",\n",
    "  \"model\": \"Mustang\",\n",
    "  \"year\": 1964\n",
    "}\n",
    "car.clear()\n",
    "car\n"
   ]
  },
  {
   "cell_type": "code",
   "execution_count": null,
   "id": "c675cce2",
   "metadata": {},
   "outputs": [],
   "source": [
    "#####################################"
   ]
  },
  {
   "cell_type": "code",
   "execution_count": null,
   "id": "964c71b8",
   "metadata": {},
   "outputs": [],
   "source": [
    "#copy method"
   ]
  },
  {
   "cell_type": "markdown",
   "id": "aa78a514",
   "metadata": {},
   "source": [
    "car = {\n",
    "  \"brand\": \"Ford\",\n",
    "  \"model\": \"Mustang\",\n",
    "  \"year\": 1964\n",
    "}\n",
    "x = car.copy()"
   ]
  },
  {
   "cell_type": "code",
   "execution_count": null,
   "id": "56495085",
   "metadata": {},
   "outputs": [],
   "source": [
    "print(x)"
   ]
  },
  {
   "cell_type": "markdown",
   "id": "3e8d8313",
   "metadata": {},
   "source": []
  },
  {
   "cell_type": "code",
   "execution_count": null,
   "id": "95564ac4",
   "metadata": {},
   "outputs": [],
   "source": [
    "####################"
   ]
  },
  {
   "cell_type": "code",
   "execution_count": null,
   "id": "6aa364db",
   "metadata": {},
   "outputs": [],
   "source": [
    "#fromey()"
   ]
  },
  {
   "cell_type": "code",
   "execution_count": null,
   "id": "29cc4dfb",
   "metadata": {},
   "outputs": [],
   "source": [
    "#Create a dictionary with 3 keys, all with the value 0"
   ]
  },
  {
   "cell_type": "markdown",
   "id": "a64d3f18",
   "metadata": {},
   "source": [
    "x={'key1','key2','key3'}\n",
    "y=0\n",
    "thisdict=dict.fromkeys(x,y)\n",
    "thisdict\n"
   ]
  },
  {
   "cell_type": "code",
   "execution_count": null,
   "id": "0c50e4bf",
   "metadata": {},
   "outputs": [],
   "source": [
    "#warmup question"
   ]
  },
  {
   "cell_type": "code",
   "execution_count": null,
   "id": "1dabde41",
   "metadata": {},
   "outputs": [],
   "source": [
    "#revere the word"
   ]
  },
  {
   "cell_type": "code",
   "execution_count": null,
   "id": "6447fd21",
   "metadata": {},
   "outputs": [],
   "source": [
    "def reverse_words(input):"
   ]
  },
  {
   "cell_type": "code",
   "execution_count": null,
   "id": "9e65ab7b",
   "metadata": {},
   "outputs": [],
   "source": [
    "    if input==\"\":"
   ]
  },
  {
   "cell_type": "markdown",
   "id": "78cfb62e",
   "metadata": {},
   "source": [
    "        return \"You have entered wrong input\"\n",
    "    else:\n",
    "        words=input.split()\n",
    "        reverse_sentence=\"  \".join(reversed(words))\n",
    "    return reverse_sentence"
   ]
  },
  {
   "cell_type": "code",
   "execution_count": null,
   "id": "fa04d48c",
   "metadata": {},
   "outputs": [],
   "source": [
    "print(reverse_words(\"This is India\"))"
   ]
  },
  {
   "cell_type": "markdown",
   "id": "cf7a611d",
   "metadata": {},
   "source": []
  },
  {
   "cell_type": "code",
   "execution_count": null,
   "id": "3c5304cc",
   "metadata": {},
   "outputs": [],
   "source": [
    "#another way"
   ]
  },
  {
   "cell_type": "code",
   "execution_count": null,
   "id": "56508e1a",
   "metadata": {},
   "outputs": [],
   "source": [
    "def reverse(input):"
   ]
  },
  {
   "cell_type": "code",
   "execution_count": null,
   "id": "ba843443",
   "metadata": {},
   "outputs": [],
   "source": [
    "    if input==\"\":"
   ]
  },
  {
   "cell_type": "markdown",
   "id": "2d1ce858",
   "metadata": {},
   "source": [
    "       return \"you have entered wrong input\"\n",
    "    else:\n",
    "        string=input[::-1]\n",
    "    return string"
   ]
  },
  {
   "cell_type": "code",
   "execution_count": null,
   "id": "c9cc334c",
   "metadata": {},
   "outputs": [],
   "source": [
    "print(reverse(\"This\"))"
   ]
  },
  {
   "cell_type": "markdown",
   "id": "288f6fbe",
   "metadata": {},
   "source": []
  },
  {
   "cell_type": "code",
   "execution_count": null,
   "id": "2ac5ef30",
   "metadata": {},
   "outputs": [],
   "source": [
    "###########################################"
   ]
  },
  {
   "cell_type": "code",
   "execution_count": null,
   "id": "aa24f344",
   "metadata": {},
   "outputs": [],
   "source": [
    "#value found in the list or not"
   ]
  },
  {
   "cell_type": "markdown",
   "id": "d82ff674",
   "metadata": {},
   "source": [
    "lst=[10,20,30,700,80,45]"
   ]
  },
  {
   "cell_type": "code",
   "execution_count": null,
   "id": "e560e463",
   "metadata": {},
   "outputs": [],
   "source": [
    "def search(lst,value):"
   ]
  },
  {
   "cell_type": "code",
   "execution_count": null,
   "id": "1cad879a",
   "metadata": {},
   "outputs": [],
   "source": [
    "    for i in range(len(lst)):"
   ]
  },
  {
   "cell_type": "code",
   "execution_count": null,
   "id": "9c09f575",
   "metadata": {},
   "outputs": [],
   "source": [
    "        if lst[i]==value:"
   ]
  },
  {
   "cell_type": "markdown",
   "id": "a718bb84",
   "metadata": {},
   "source": [
    "           return \"The value has been found at position  {}\".format(i)\n",
    "    return \" Value not found\"  "
   ]
  },
  {
   "cell_type": "code",
   "execution_count": null,
   "id": "2b5cfe04",
   "metadata": {},
   "outputs": [],
   "source": [
    "print(search(lst,12))   "
   ]
  },
  {
   "cell_type": "code",
   "execution_count": null,
   "id": "6075a622",
   "metadata": {},
   "outputs": [],
   "source": [
    "#o.p:- Value not found"
   ]
  },
  {
   "cell_type": "markdown",
   "id": "914ec782",
   "metadata": {},
   "source": []
  },
  {
   "cell_type": "code",
   "execution_count": null,
   "id": "0d7e0798",
   "metadata": {},
   "outputs": [],
   "source": [
    "##################################################"
   ]
  },
  {
   "cell_type": "markdown",
   "id": "287e9b69",
   "metadata": {},
   "source": [
    "write python code to find fibbonacy series"
   ]
  },
  {
   "cell_type": "code",
   "execution_count": null,
   "id": "ad05e9cf",
   "metadata": {},
   "outputs": [],
   "source": [
    "def fibbo(n):"
   ]
  },
  {
   "cell_type": "markdown",
   "id": "18a13acb",
   "metadata": {},
   "source": [
    "        lst=[]\n",
    "        previous=0\n",
    "        current=1\n",
    "        lst.append(current)"
   ]
  },
  {
   "cell_type": "code",
   "execution_count": null,
   "id": "afea1b3a",
   "metadata": {},
   "outputs": [],
   "source": [
    "        for i in range(n-1):"
   ]
  },
  {
   "cell_type": "markdown",
   "id": "1925f6f2",
   "metadata": {},
   "source": [
    "            previous,current=current,previous+current \n",
    "            lst.append(current)\n",
    "        return lst    "
   ]
  },
  {
   "cell_type": "code",
   "execution_count": null,
   "id": "a50da2fe",
   "metadata": {},
   "outputs": [],
   "source": [
    "print(fibbo(8))"
   ]
  },
  {
   "cell_type": "markdown",
   "id": "1c633013",
   "metadata": {},
   "source": []
  },
  {
   "cell_type": "code",
   "execution_count": null,
   "id": "cf87e506",
   "metadata": {},
   "outputs": [],
   "source": [
    "###########################################################"
   ]
  },
  {
   "cell_type": "code",
   "execution_count": null,
   "id": "44768bbd",
   "metadata": {},
   "outputs": [],
   "source": [
    "def fibbo(n):"
   ]
  },
  {
   "cell_type": "markdown",
   "id": "e3b233d5",
   "metadata": {},
   "source": [
    "    lst=[]\n",
    "    previous=0\n",
    "    current=1\n",
    "    lst.append(current)"
   ]
  },
  {
   "cell_type": "code",
   "execution_count": null,
   "id": "ef94f2ed",
   "metadata": {},
   "outputs": [],
   "source": [
    "    for i in range(n-1):"
   ]
  },
  {
   "cell_type": "markdown",
   "id": "fb6d8b2b",
   "metadata": {},
   "source": [
    "        previous,current=current,previous+current\n",
    "        lst.append(current)\n",
    "    return lst    "
   ]
  },
  {
   "cell_type": "code",
   "execution_count": null,
   "id": "53b80305",
   "metadata": {},
   "outputs": [],
   "source": [
    "print(fibbo(8))"
   ]
  },
  {
   "cell_type": "code",
   "execution_count": null,
   "id": "9be09a18",
   "metadata": {},
   "outputs": [],
   "source": [
    "###########################################################"
   ]
  },
  {
   "cell_type": "markdown",
   "id": "9feba8a2",
   "metadata": {},
   "source": [
    "cities=[\"Mumbai\",\"New york\",\"Paris\"]\n",
    "countries=[\"India\",\"USA\",\"France\"]\n",
    "z=zip(cities,countries)\n",
    "z"
   ]
  },
  {
   "cell_type": "code",
   "execution_count": null,
   "id": "6ef1ddf1",
   "metadata": {},
   "outputs": [],
   "source": [
    "for i in z:"
   ]
  },
  {
   "cell_type": "code",
   "execution_count": null,
   "id": "7cb028db",
   "metadata": {},
   "outputs": [],
   "source": [
    "    print(i)"
   ]
  },
  {
   "cell_type": "markdown",
   "id": "bb5beb2c",
   "metadata": {},
   "source": [
    "d={city:country for city,country in zip(cities,countries)}"
   ]
  },
  {
   "cell_type": "code",
   "execution_count": null,
   "id": "62870e6d",
   "metadata": {},
   "outputs": [],
   "source": [
    "print(d)"
   ]
  },
  {
   "cell_type": "code",
   "execution_count": null,
   "id": "c12cdf15",
   "metadata": {},
   "outputs": [],
   "source": [
    "#Write a program  that takes a string and return the number of vowels regardless of case sensitivity"
   ]
  },
  {
   "cell_type": "code",
   "execution_count": null,
   "id": "defe2704",
   "metadata": {},
   "outputs": [],
   "source": [
    "def count_vovwels(input):"
   ]
  },
  {
   "cell_type": "code",
   "execution_count": null,
   "id": "1bf82af5",
   "metadata": {},
   "outputs": [],
   "source": [
    "    #initialize the counter"
   ]
  },
  {
   "cell_type": "markdown",
   "id": "8b8aab43",
   "metadata": {},
   "source": [
    "    count=0"
   ]
  },
  {
   "cell_type": "code",
   "execution_count": null,
   "id": "65895992",
   "metadata": {},
   "outputs": [],
   "source": [
    "    #for letter in input"
   ]
  },
  {
   "cell_type": "code",
   "execution_count": null,
   "id": "ce6f1183",
   "metadata": {},
   "outputs": [],
   "source": [
    "    for i in range(len (input)):"
   ]
  },
  {
   "cell_type": "code",
   "execution_count": null,
   "id": "77ba8785",
   "metadata": {},
   "outputs": [],
   "source": [
    "        #get the character from input and convert to lower case"
   ]
  },
  {
   "cell_type": "markdown",
   "id": "3d3e255c",
   "metadata": {},
   "source": [
    "        choice=input[i]\n",
    "        current=choice.lower()"
   ]
  },
  {
   "cell_type": "code",
   "execution_count": null,
   "id": "515c3b2c",
   "metadata": {},
   "outputs": [],
   "source": [
    "        #current=input.lower()[i]"
   ]
  },
  {
   "cell_type": "markdown",
   "id": "4c2d33d9",
   "metadata": {},
   "source": [
    "        if(current=='a' or current=='e' or current=='i' or current=='o' or current=='u'):\n",
    "            count=count+1\n",
    "    return count "
   ]
  },
  {
   "cell_type": "code",
   "execution_count": null,
   "id": "7ec1d77c",
   "metadata": {},
   "outputs": [],
   "source": [
    "print(count_vovwels('AEIOU'))       "
   ]
  },
  {
   "cell_type": "code",
   "execution_count": null,
   "id": "237bbfa6",
   "metadata": {},
   "outputs": [],
   "source": [
    "###############################################################"
   ]
  },
  {
   "cell_type": "code",
   "execution_count": null,
   "id": "79599456",
   "metadata": {},
   "outputs": [],
   "source": [
    "#pipe operator in the case"
   ]
  },
  {
   "cell_type": "markdown",
   "id": "8e66692f",
   "metadata": {},
   "source": [
    "match input(\"Are you sure ? (y/n):\"):\n",
    "case \"y\":"
   ]
  },
  {
   "cell_type": "code",
   "execution_count": null,
   "id": "f8314451",
   "metadata": {},
   "outputs": [],
   "source": [
    "    print(\"Done\")"
   ]
  },
  {
   "cell_type": "markdown",
   "id": "259ab2a3",
   "metadata": {},
   "source": [
    "case \"n\":"
   ]
  },
  {
   "cell_type": "code",
   "execution_count": null,
   "id": "dde31719",
   "metadata": {},
   "outputs": [],
   "source": [
    "    print(\"cancelled\")"
   ]
  },
  {
   "cell_type": "markdown",
   "id": "e407023b",
   "metadata": {},
   "source": [
    "case cmd:"
   ]
  },
  {
   "cell_type": "code",
   "execution_count": null,
   "id": "adda5108",
   "metadata": {},
   "outputs": [],
   "source": [
    "    print(\"Unknown command\",cmd)"
   ]
  },
  {
   "cell_type": "markdown",
   "id": "a5643fa9",
   "metadata": {},
   "source": []
  },
  {
   "cell_type": "code",
   "execution_count": null,
   "id": "95e174c8",
   "metadata": {},
   "outputs": [],
   "source": [
    "###############################################################"
   ]
  },
  {
   "cell_type": "markdown",
   "id": "95bdd8ca",
   "metadata": {},
   "source": [
    "********************file handling************************"
   ]
  },
  {
   "cell_type": "code",
   "execution_count": null,
   "id": "4f0e63d1",
   "metadata": {},
   "outputs": [],
   "source": [
    "#for opening the file first we need to check the working dirtectory"
   ]
  },
  {
   "cell_type": "code",
   "execution_count": null,
   "id": "41f903e6",
   "metadata": {},
   "outputs": [],
   "source": [
    "#abstract path:-\t'c:/10-python/pi_digits.txt'"
   ]
  },
  {
   "cell_type": "code",
   "execution_count": null,
   "id": "43189afd",
   "metadata": {},
   "outputs": [],
   "source": [
    "#relative path:-\t'pi_digits.txt'"
   ]
  },
  {
   "cell_type": "markdown",
   "id": "c3d0496c",
   "metadata": {},
   "source": [
    "\n",
    "with open('pi_digits.txt') as file_object:"
   ]
  },
  {
   "cell_type": "code",
   "execution_count": null,
   "id": "cd3183c7",
   "metadata": {},
   "outputs": [],
   "source": [
    "    #The open() function needs"
   ]
  },
  {
   "cell_type": "code",
   "execution_count": null,
   "id": "ab98adc6",
   "metadata": {},
   "outputs": [],
   "source": [
    "    #one argument: the name of the file you want to open."
   ]
  },
  {
   "cell_type": "markdown",
   "id": "7c8e3f41",
   "metadata": {},
   "source": [
    "    contents = file_object.read()"
   ]
  },
  {
   "cell_type": "code",
   "execution_count": null,
   "id": "bee43d3d",
   "metadata": {},
   "outputs": [],
   "source": [
    "print(contents)"
   ]
  },
  {
   "cell_type": "markdown",
   "id": "459d4b8a",
   "metadata": {},
   "source": []
  },
  {
   "cell_type": "code",
   "execution_count": null,
   "id": "9685fd01",
   "metadata": {},
   "outputs": [],
   "source": [
    "#############################################################"
   ]
  },
  {
   "cell_type": "code",
   "execution_count": null,
   "id": "4bf9216c",
   "metadata": {},
   "outputs": [],
   "source": [
    "#Observe the extra line at the end of output"
   ]
  },
  {
   "cell_type": "code",
   "execution_count": null,
   "id": "554959fe",
   "metadata": {},
   "outputs": [],
   "source": [
    "#To avoid this rstrip() method is used"
   ]
  },
  {
   "cell_type": "markdown",
   "id": "726b34df",
   "metadata": {},
   "source": [
    "with open('pi_digits.txt') as file_object:\n",
    "    contents = file_object.read()"
   ]
  },
  {
   "cell_type": "code",
   "execution_count": null,
   "id": "9eeda1f3",
   "metadata": {},
   "outputs": [],
   "source": [
    "print(contents.rstrip())"
   ]
  },
  {
   "cell_type": "code",
   "execution_count": null,
   "id": "03967c27",
   "metadata": {},
   "outputs": [],
   "source": [
    "#rstrip() method removes, or strips, any whitespace"
   ]
  },
  {
   "cell_type": "code",
   "execution_count": null,
   "id": "d5336444",
   "metadata": {},
   "outputs": [],
   "source": [
    "#characters from the right side of a string."
   ]
  },
  {
   "cell_type": "markdown",
   "id": "6a31d05e",
   "metadata": {},
   "source": []
  },
  {
   "cell_type": "code",
   "execution_count": null,
   "id": "b64af9c5",
   "metadata": {},
   "outputs": [],
   "source": [
    "#############################################################"
   ]
  },
  {
   "cell_type": "markdown",
   "id": "bf03a03e",
   "metadata": {},
   "source": [
    "file_path ='c:/10-python/pi_digits.txt'\n",
    "with open(file_path) as file_object:\n",
    "    contents = file_object.read()"
   ]
  },
  {
   "cell_type": "code",
   "execution_count": null,
   "id": "f0262eed",
   "metadata": {},
   "outputs": [],
   "source": [
    "print(contents.rstrip())"
   ]
  },
  {
   "cell_type": "markdown",
   "id": "6a61da4f",
   "metadata": {},
   "source": []
  },
  {
   "cell_type": "code",
   "execution_count": null,
   "id": "1475dae6",
   "metadata": {},
   "outputs": [],
   "source": [
    "############################################################"
   ]
  },
  {
   "cell_type": "code",
   "execution_count": null,
   "id": "e5563e77",
   "metadata": {},
   "outputs": [],
   "source": [
    "#Reading Line by Line"
   ]
  },
  {
   "cell_type": "markdown",
   "id": "fd23a0ea",
   "metadata": {},
   "source": [
    "filename = 'pi_digits.txt'"
   ]
  },
  {
   "cell_type": "code",
   "execution_count": null,
   "id": "b114cdea",
   "metadata": {},
   "outputs": [],
   "source": [
    "#we assign the name of the file we’re reading from to the variable"
   ]
  },
  {
   "cell_type": "markdown",
   "id": "f09ceacf",
   "metadata": {},
   "source": [
    "with open(filename) as file_object:"
   ]
  },
  {
   "cell_type": "code",
   "execution_count": null,
   "id": "7441b14c",
   "metadata": {},
   "outputs": [],
   "source": [
    "#We again use the with syntax to let Python open and close the file properly."
   ]
  },
  {
   "cell_type": "code",
   "execution_count": null,
   "id": "282d09c8",
   "metadata": {},
   "outputs": [],
   "source": [
    "    for line in file_object:"
   ]
  },
  {
   "cell_type": "code",
   "execution_count": null,
   "id": "cabea93d",
   "metadata": {},
   "outputs": [],
   "source": [
    "       print(line)"
   ]
  },
  {
   "cell_type": "markdown",
   "id": "1ffc1e28",
   "metadata": {},
   "source": []
  },
  {
   "cell_type": "code",
   "execution_count": null,
   "id": "56797b04",
   "metadata": {},
   "outputs": [],
   "source": [
    "######################################################"
   ]
  },
  {
   "cell_type": "code",
   "execution_count": null,
   "id": "076e8aa0",
   "metadata": {},
   "outputs": [],
   "source": [
    "#These blank lines appear because an invisible newline character is at the end of each line in the text file. Using rstrip() on each line in the print() call eliminates these extra blank lines:"
   ]
  },
  {
   "cell_type": "markdown",
   "id": "b075eba9",
   "metadata": {},
   "source": [
    "filename = 'pi_digits.txt'\n",
    "with open(filename) as file_object:"
   ]
  },
  {
   "cell_type": "code",
   "execution_count": null,
   "id": "eaa45016",
   "metadata": {},
   "outputs": [],
   "source": [
    "     for line in file_object:"
   ]
  },
  {
   "cell_type": "code",
   "execution_count": null,
   "id": "0759a85a",
   "metadata": {},
   "outputs": [],
   "source": [
    "        print(line.rstrip())"
   ]
  },
  {
   "cell_type": "markdown",
   "id": "ef2b75ac",
   "metadata": {},
   "source": []
  },
  {
   "cell_type": "code",
   "execution_count": null,
   "id": "3d28a123",
   "metadata": {},
   "outputs": [],
   "source": [
    "#########################################################"
   ]
  },
  {
   "cell_type": "code",
   "execution_count": null,
   "id": "d4cf9d36",
   "metadata": {},
   "outputs": [],
   "source": [
    "#Making a List of Lines from a File When you use with, the file object returned by open()  is only available inside the with block that contains it. If you want to retain access to a file’s contents outside the with block,  you can store the file’s lines in a list  inside the block and then work with that list."
   ]
  },
  {
   "cell_type": "markdown",
   "id": "e2b9cacf",
   "metadata": {},
   "source": [
    "filename = 'pi_digits.txt'\n",
    "with open(filename) as file_object:\n",
    "   lines = file_object.readlines()#file object is converted to list"
   ]
  },
  {
   "cell_type": "code",
   "execution_count": null,
   "id": "16051f83",
   "metadata": {},
   "outputs": [],
   "source": [
    "#the readlines() method takes each line from the file "
   ]
  },
  {
   "cell_type": "code",
   "execution_count": null,
   "id": "382a94ab",
   "metadata": {},
   "outputs": [],
   "source": [
    "#and stores it in a list."
   ]
  },
  {
   "cell_type": "code",
   "execution_count": null,
   "id": "41c2dd17",
   "metadata": {},
   "outputs": [],
   "source": [
    "for line in lines:"
   ]
  },
  {
   "cell_type": "code",
   "execution_count": null,
   "id": "8e12a535",
   "metadata": {},
   "outputs": [],
   "source": [
    "    print(line.rstrip())"
   ]
  },
  {
   "cell_type": "markdown",
   "id": "3d3ac3db",
   "metadata": {},
   "source": []
  },
  {
   "cell_type": "code",
   "execution_count": null,
   "id": "f5f0b511",
   "metadata": {},
   "outputs": [],
   "source": [
    "#############################################################"
   ]
  },
  {
   "cell_type": "code",
   "execution_count": null,
   "id": "509cc8b9",
   "metadata": {},
   "outputs": [],
   "source": [
    "#Working with a File’s Contents After you’ve read a file into memory,  you can do whatever you want with that data"
   ]
  },
  {
   "cell_type": "markdown",
   "id": "1c26e6d4",
   "metadata": {},
   "source": [
    "filename = 'pi_digits.txt'\n",
    "with open(filename) as file_object:\n",
    "    lines = file_object.readlines()\n",
    "    pi_string = ''"
   ]
  },
  {
   "cell_type": "code",
   "execution_count": null,
   "id": "51c46157",
   "metadata": {},
   "outputs": [],
   "source": [
    "    for line in lines:"
   ]
  },
  {
   "cell_type": "markdown",
   "id": "50ee3d44",
   "metadata": {},
   "source": [
    "      pi_string += line.rstrip()"
   ]
  },
  {
   "cell_type": "code",
   "execution_count": null,
   "id": "124e2adb",
   "metadata": {},
   "outputs": [],
   "source": [
    "      print(pi_string)"
   ]
  },
  {
   "cell_type": "code",
   "execution_count": null,
   "id": "684392f5",
   "metadata": {},
   "outputs": [],
   "source": [
    "      print(len(pi_string))"
   ]
  },
  {
   "cell_type": "markdown",
   "id": "f58574c9",
   "metadata": {},
   "source": []
  },
  {
   "cell_type": "code",
   "execution_count": null,
   "id": "39e24cb1",
   "metadata": {},
   "outputs": [],
   "source": [
    "#############################################################"
   ]
  },
  {
   "cell_type": "code",
   "execution_count": null,
   "id": "3b2f1c53",
   "metadata": {},
   "outputs": [],
   "source": [
    "#Writing to a File One of the simplest ways to save data is to write it to a file. When you write text to a file,  the output will still be available after  you close the terminal containing your program’s output."
   ]
  },
  {
   "cell_type": "markdown",
   "id": "0975bf93",
   "metadata": {},
   "source": [
    "filename = 'programming.txt'\n",
    "with open(filename, 'w') as file_object:\n",
    "    file_object.write(\"I love programming.\")\n"
   ]
  },
  {
   "cell_type": "code",
   "execution_count": null,
   "id": "028b1b99",
   "metadata": {},
   "outputs": [],
   "source": [
    "#########################################################"
   ]
  },
  {
   "cell_type": "code",
   "execution_count": null,
   "id": "f210566f",
   "metadata": {},
   "outputs": [],
   "source": [
    "#Writing Multiple Lines The write() function doesn’t add any newlines to the text you write. So if you write more than one line without including newline characters "
   ]
  },
  {
   "cell_type": "markdown",
   "id": "6e1c85de",
   "metadata": {},
   "source": [
    "Filename = 'programming.txt'\n",
    "with open(filename, 'w') as file_object:\n",
    "   file_object.write(\"I love programming.\")\n",
    "   file_object.write(\"I love creating new games.\")\n"
   ]
  },
  {
   "cell_type": "code",
   "execution_count": null,
   "id": "4f2289d3",
   "metadata": {},
   "outputs": [],
   "source": [
    "##########################################################"
   ]
  },
  {
   "cell_type": "code",
   "execution_count": null,
   "id": "31532d7a",
   "metadata": {},
   "outputs": [],
   "source": [
    "#Including newlines in your calls to write() makes  each string appear on its own line"
   ]
  },
  {
   "cell_type": "markdown",
   "id": "b0a21633",
   "metadata": {},
   "source": [
    "filename = 'programming.txt'\n",
    "with open(filename, 'w') as file_object:\n",
    "    file_object.write(\"I love programming.\\n\")\n",
    "    file_object.write(\"I love creating new games.\\n\")\n"
   ]
  },
  {
   "cell_type": "code",
   "execution_count": null,
   "id": "4dfeba9d",
   "metadata": {},
   "outputs": [],
   "source": [
    "#########################################################"
   ]
  },
  {
   "cell_type": "code",
   "execution_count": null,
   "id": "1831b659",
   "metadata": {},
   "outputs": [],
   "source": [
    "#Appending to a File If you want to add content to a file  instead of writing over existing content you can open the file in append mode. When you open a file in append mode, Python doesn’t erase the contents of the file  before returning the file object."
   ]
  },
  {
   "cell_type": "markdown",
   "id": "ebd8fcb3",
   "metadata": {},
   "source": [
    "filename = 'programming.txt'\n",
    "with open(filename, 'a') as file_object:"
   ]
  },
  {
   "cell_type": "code",
   "execution_count": null,
   "id": "a8422321",
   "metadata": {},
   "outputs": [],
   "source": [
    "#we use the 'a' argument to open the file for appending"
   ]
  },
  {
   "cell_type": "markdown",
   "id": "bcd0643a",
   "metadata": {},
   "source": [
    "# rather than writing over the existing file.\n",
    "    file_object.write(\"I also love finding meaning in large datasets.\\n\")\n",
    "    file_object.write(\"I love creating apps that can run in a browser.\\n\")\n",
    "\n",
    "\n",
    "\n",
    "\n",
    "\n",
    "\n",
    "\"\"\"------------------------------------------Exception handling-----------------------------\"\"\"\n",
    "The error signifies a sitution that mostly happen  due to the absenceof the system resoursethe exception are the issue that can be appear at run time and compile time it majority occure in tha code or program authoriesd by the devloper"
   ]
  },
  {
   "cell_type": "code",
   "execution_count": null,
   "id": "33f150ec",
   "metadata": {},
   "outputs": [],
   "source": [
    "#Exception are sovled by the try and exception block performallity it can make the code less  error free"
   ]
  },
  {
   "cell_type": "markdown",
   "id": "518e19c8",
   "metadata": {},
   "source": [
    "try:"
   ]
  },
  {
   "cell_type": "code",
   "execution_count": null,
   "id": "89ebb57c",
   "metadata": {},
   "outputs": [],
   "source": [
    "    print(5/0)"
   ]
  },
  {
   "cell_type": "markdown",
   "id": "9c52ccb0",
   "metadata": {},
   "source": [
    "except ZeroDivisionError:"
   ]
  },
  {
   "cell_type": "code",
   "execution_count": null,
   "id": "63ca7c7c",
   "metadata": {},
   "outputs": [],
   "source": [
    "    print(\" you cannot dive by zero\")"
   ]
  },
  {
   "cell_type": "code",
   "execution_count": null,
   "id": "4a25c6de",
   "metadata": {},
   "outputs": [],
   "source": [
    "#o.p:- you cannot dive by zero"
   ]
  },
  {
   "cell_type": "markdown",
   "id": "3115a446",
   "metadata": {},
   "source": []
  },
  {
   "cell_type": "code",
   "execution_count": null,
   "id": "f6b87639",
   "metadata": {},
   "outputs": [],
   "source": [
    "########################################################"
   ]
  },
  {
   "cell_type": "code",
   "execution_count": null,
   "id": "55281bf6",
   "metadata": {},
   "outputs": [],
   "source": [
    "#Taking the input from  the user  take the correct iinput and avilablity of the program"
   ]
  },
  {
   "cell_type": "code",
   "execution_count": null,
   "id": "7ef6b7f6",
   "metadata": {},
   "outputs": [],
   "source": [
    "print(\"give me two number and i will solve it\")"
   ]
  },
  {
   "cell_type": "code",
   "execution_count": null,
   "id": "adce48f0",
   "metadata": {},
   "outputs": [],
   "source": [
    "print(\"enter the 'q' to quit\")"
   ]
  },
  {
   "cell_type": "code",
   "execution_count": null,
   "id": "1b54b79a",
   "metadata": {},
   "outputs": [],
   "source": [
    "while True:"
   ]
  },
  {
   "cell_type": "markdown",
   "id": "937162e5",
   "metadata": {},
   "source": [
    "    first_num=input(\"enter the 1st num\")"
   ]
  },
  {
   "cell_type": "code",
   "execution_count": null,
   "id": "52fcdee6",
   "metadata": {},
   "outputs": [],
   "source": [
    "    if first_num=='q':"
   ]
  },
  {
   "cell_type": "markdown",
   "id": "923dd364",
   "metadata": {},
   "source": [
    "        break\n",
    "    second_num=input(\"enter the 2nd num\")"
   ]
  },
  {
   "cell_type": "code",
   "execution_count": null,
   "id": "af88de70",
   "metadata": {},
   "outputs": [],
   "source": [
    "    if second_num=='q':"
   ]
  },
  {
   "cell_type": "markdown",
   "id": "85413b5a",
   "metadata": {},
   "source": [
    "        break\n",
    "    answer=int(first_num)/int(second_num)"
   ]
  },
  {
   "cell_type": "code",
   "execution_count": null,
   "id": "796bfb5e",
   "metadata": {},
   "outputs": [],
   "source": [
    "    print(answer)"
   ]
  },
  {
   "cell_type": "markdown",
   "id": "81ffd231",
   "metadata": {},
   "source": []
  },
  {
   "cell_type": "code",
   "execution_count": null,
   "id": "b02eb442",
   "metadata": {},
   "outputs": [],
   "source": [
    "########################################################"
   ]
  },
  {
   "cell_type": "code",
   "execution_count": null,
   "id": "78573d3d",
   "metadata": {},
   "outputs": [],
   "source": [
    "#Handling  the filenotfound error exception the file are not are avilable"
   ]
  },
  {
   "cell_type": "markdown",
   "id": "61bfcff9",
   "metadata": {},
   "source": [
    "filename='alice.txt'\n",
    "with open(filename ,encoding='utf-8') as f:\n",
    "    content=f.read()"
   ]
  },
  {
   "cell_type": "code",
   "execution_count": null,
   "id": "036c8536",
   "metadata": {},
   "outputs": [],
   "source": [
    "#########################################################"
   ]
  },
  {
   "cell_type": "code",
   "execution_count": null,
   "id": "79a90581",
   "metadata": {},
   "outputs": [],
   "source": [
    "#it is solve by using the try and exception block"
   ]
  },
  {
   "cell_type": "markdown",
   "id": "3c2db96b",
   "metadata": {},
   "source": [
    "filename='alice.txt'\n",
    "try:\n",
    "    with open(filename ,encoding='utf-8') as f:\n",
    "        content=f.read()\n",
    "except FileNotFoundError:"
   ]
  },
  {
   "cell_type": "code",
   "execution_count": null,
   "id": "5764dcbf",
   "metadata": {},
   "outputs": [],
   "source": [
    "    print(\"sorry the file not found\")"
   ]
  },
  {
   "cell_type": "markdown",
   "id": "412deee1",
   "metadata": {},
   "source": [
    "\n",
    "\n",
    "\n",
    "\n",
    "***********************Function***********************"
   ]
  },
  {
   "cell_type": "code",
   "execution_count": null,
   "id": "047136a9",
   "metadata": {},
   "outputs": [],
   "source": [
    "#Why to Write Functions?"
   ]
  },
  {
   "cell_type": "code",
   "execution_count": null,
   "id": "ffb2c913",
   "metadata": {},
   "outputs": [],
   "source": [
    "#When you are writing a program if you find yourself writing the same code more than once, it is probably best to define a function with the repeated code in it."
   ]
  },
  {
   "cell_type": "markdown",
   "id": "6ca29d9b",
   "metadata": {},
   "source": []
  },
  {
   "cell_type": "code",
   "execution_count": null,
   "id": "4684f549",
   "metadata": {},
   "outputs": [],
   "source": [
    "#passing the num as the default function "
   ]
  },
  {
   "cell_type": "code",
   "execution_count": null,
   "id": "17cb9dd3",
   "metadata": {},
   "outputs": [],
   "source": [
    "def prime_num(num):"
   ]
  },
  {
   "cell_type": "code",
   "execution_count": null,
   "id": "206cb9ca",
   "metadata": {},
   "outputs": [],
   "source": [
    "    for i in range(2,num):"
   ]
  },
  {
   "cell_type": "code",
   "execution_count": null,
   "id": "0d7f9650",
   "metadata": {},
   "outputs": [],
   "source": [
    "        if (num%i==0):"
   ]
  },
  {
   "cell_type": "markdown",
   "id": "ace223f5",
   "metadata": {},
   "source": [
    "            return \"The number is not prime\"\n",
    "            break\n",
    "    return \"The number is prime\""
   ]
  },
  {
   "cell_type": "code",
   "execution_count": null,
   "id": "bb163dd4",
   "metadata": {},
   "outputs": [],
   "source": [
    "print(prime_num(12))\t\t\t#o.p:-The number is not prime"
   ]
  },
  {
   "cell_type": "markdown",
   "id": "1c898048",
   "metadata": {},
   "source": []
  },
  {
   "cell_type": "code",
   "execution_count": null,
   "id": "9fe75025",
   "metadata": {},
   "outputs": [],
   "source": [
    "######################################################"
   ]
  },
  {
   "cell_type": "code",
   "execution_count": null,
   "id": "86aeda13",
   "metadata": {},
   "outputs": [],
   "source": [
    "#arbitary function -> passing the num as the arbitary function"
   ]
  },
  {
   "cell_type": "markdown",
   "id": "319863a8",
   "metadata": {},
   "source": [
    "num=int(input('enter the number:-'))"
   ]
  },
  {
   "cell_type": "code",
   "execution_count": null,
   "id": "a5249007",
   "metadata": {},
   "outputs": [],
   "source": [
    "def prime_num():"
   ]
  },
  {
   "cell_type": "code",
   "execution_count": null,
   "id": "4e50a43c",
   "metadata": {},
   "outputs": [],
   "source": [
    "    for i in range(2,num):"
   ]
  },
  {
   "cell_type": "code",
   "execution_count": null,
   "id": "1efa3f8a",
   "metadata": {},
   "outputs": [],
   "source": [
    "        if (num%i==0):"
   ]
  },
  {
   "cell_type": "markdown",
   "id": "4da60919",
   "metadata": {},
   "source": [
    "            return \"The number is not prime\"\n",
    "            break\n",
    "    return \"The number is prime\""
   ]
  },
  {
   "cell_type": "code",
   "execution_count": null,
   "id": "f041902f",
   "metadata": {},
   "outputs": [],
   "source": [
    "print(prime_num())\t\t\t#o.p:- as per user enter the number"
   ]
  },
  {
   "cell_type": "markdown",
   "id": "fe00c68b",
   "metadata": {},
   "source": []
  },
  {
   "cell_type": "code",
   "execution_count": null,
   "id": "35fe1a17",
   "metadata": {},
   "outputs": [],
   "source": [
    "######################################################"
   ]
  },
  {
   "cell_type": "code",
   "execution_count": null,
   "id": "be5264ab",
   "metadata": {},
   "outputs": [],
   "source": [
    "#\"\"\"Display a simple greeting.\"\"\""
   ]
  },
  {
   "cell_type": "code",
   "execution_count": null,
   "id": "4d058ef3",
   "metadata": {},
   "outputs": [],
   "source": [
    "def greet_user():"
   ]
  },
  {
   "cell_type": "code",
   "execution_count": null,
   "id": "39749638",
   "metadata": {},
   "outputs": [],
   "source": [
    " print(\"Hello!\")"
   ]
  },
  {
   "cell_type": "markdown",
   "id": "7d375099",
   "metadata": {},
   "source": [
    "greet_user()\t\t\t\t#o.p:-Hello!\n"
   ]
  },
  {
   "cell_type": "code",
   "execution_count": null,
   "id": "778b6c86",
   "metadata": {},
   "outputs": [],
   "source": [
    "####################################################"
   ]
  },
  {
   "cell_type": "code",
   "execution_count": null,
   "id": "c60bcc40",
   "metadata": {},
   "outputs": [],
   "source": [
    "#Passing Information to a Function"
   ]
  },
  {
   "cell_type": "code",
   "execution_count": null,
   "id": "32841329",
   "metadata": {},
   "outputs": [],
   "source": [
    "def greet_user(username):"
   ]
  },
  {
   "cell_type": "code",
   "execution_count": null,
   "id": "b889ccdc",
   "metadata": {},
   "outputs": [],
   "source": [
    "#Display a simple greeting.\"\"\""
   ]
  },
  {
   "cell_type": "code",
   "execution_count": null,
   "id": "ba08343d",
   "metadata": {},
   "outputs": [],
   "source": [
    "   print(f\"Hello, {username}!\")"
   ]
  },
  {
   "cell_type": "markdown",
   "id": "09da189d",
   "metadata": {},
   "source": [
    "   \n",
    "greet_user('Sanjivani AI')\t\t#o.p:-Hello Sanjivani AI \n"
   ]
  },
  {
   "cell_type": "code",
   "execution_count": null,
   "id": "ad0b9670",
   "metadata": {},
   "outputs": [],
   "source": [
    "##################################################"
   ]
  },
  {
   "cell_type": "code",
   "execution_count": null,
   "id": "9e6d4259",
   "metadata": {},
   "outputs": [],
   "source": [
    "#Arguments and Parameters"
   ]
  },
  {
   "cell_type": "code",
   "execution_count": null,
   "id": "1aaed690",
   "metadata": {},
   "outputs": [],
   "source": [
    "#The variable username in the def of greet_user() is an example of a"
   ]
  },
  {
   "cell_type": "code",
   "execution_count": null,
   "id": "3d243c5d",
   "metadata": {},
   "outputs": [],
   "source": [
    "def describe_pet(animal_type, pet_name):"
   ]
  },
  {
   "cell_type": "code",
   "execution_count": null,
   "id": "3e2791a5",
   "metadata": {},
   "outputs": [],
   "source": [
    "#Display information about a pet."
   ]
  },
  {
   "cell_type": "code",
   "execution_count": null,
   "id": "b3760818",
   "metadata": {},
   "outputs": [],
   "source": [
    "    print(f\"\\nI have a {animal_type}.\")"
   ]
  },
  {
   "cell_type": "code",
   "execution_count": null,
   "id": "5d8daf15",
   "metadata": {},
   "outputs": [],
   "source": [
    "    print(f\"My {animal_type}'s name is {pet_name}.\")"
   ]
  },
  {
   "cell_type": "markdown",
   "id": "8304a371",
   "metadata": {},
   "source": [
    "describe_pet('Dog', 'Moti')\t#o.p:- I have a Dog.\n",
    "My Dog's name is Moti."
   ]
  },
  {
   "cell_type": "code",
   "execution_count": null,
   "id": "6ef7978f",
   "metadata": {},
   "outputs": [],
   "source": [
    "#Order Matters in Positional Arguments"
   ]
  },
  {
   "cell_type": "markdown",
   "id": "9994afe6",
   "metadata": {},
   "source": [
    "\n",
    "describe_pet('Moti', 'Dog')\t\t#o.p:- I have a Moti.\n",
    "My Moti's name is Dog.\n"
   ]
  },
  {
   "cell_type": "code",
   "execution_count": null,
   "id": "c00c63fe",
   "metadata": {},
   "outputs": [],
   "source": [
    "####################################################"
   ]
  },
  {
   "cell_type": "code",
   "execution_count": null,
   "id": "841a9c26",
   "metadata": {},
   "outputs": [],
   "source": [
    "#Default Values"
   ]
  },
  {
   "cell_type": "code",
   "execution_count": null,
   "id": "6834b1e5",
   "metadata": {},
   "outputs": [],
   "source": [
    "#When writing a function, you can define a default value for each parameter."
   ]
  },
  {
   "cell_type": "code",
   "execution_count": null,
   "id": "18ceb8cc",
   "metadata": {},
   "outputs": [],
   "source": [
    "def describe_pet(pet_name, animal_type='dog'):"
   ]
  },
  {
   "cell_type": "code",
   "execution_count": null,
   "id": "8a32641c",
   "metadata": {},
   "outputs": [],
   "source": [
    "#Display information about a pet."
   ]
  },
  {
   "cell_type": "code",
   "execution_count": null,
   "id": "d1ebb56e",
   "metadata": {},
   "outputs": [],
   "source": [
    "   print(f\"\\nI have a {animal_type}.\")"
   ]
  },
  {
   "cell_type": "code",
   "execution_count": null,
   "id": "bb6988fd",
   "metadata": {},
   "outputs": [],
   "source": [
    "   print(f\"My {animal_type}'s name is {pet_name.title()}.\")"
   ]
  },
  {
   "cell_type": "markdown",
   "id": "324f0e76",
   "metadata": {},
   "source": [
    "describe_pet(pet_name='Moti')\t\t#o.p:- I have a dog.\n",
    "My dog's name is Moti.\n"
   ]
  },
  {
   "cell_type": "code",
   "execution_count": null,
   "id": "7cb3a5c4",
   "metadata": {},
   "outputs": [],
   "source": [
    "#####################################################"
   ]
  },
  {
   "cell_type": "code",
   "execution_count": null,
   "id": "a94bfdb1",
   "metadata": {},
   "outputs": [],
   "source": [
    "#Avoiding Argument Errors"
   ]
  },
  {
   "cell_type": "code",
   "execution_count": null,
   "id": "6b99519b",
   "metadata": {},
   "outputs": [],
   "source": [
    "def describe_pet(animal_type, pet_name):"
   ]
  },
  {
   "cell_type": "code",
   "execution_count": null,
   "id": "2965a1f7",
   "metadata": {},
   "outputs": [],
   "source": [
    "#Display information about a pet."
   ]
  },
  {
   "cell_type": "code",
   "execution_count": null,
   "id": "c8585ac5",
   "metadata": {},
   "outputs": [],
   "source": [
    "  print(f\"\\nI have a {animal_type}.\")"
   ]
  },
  {
   "cell_type": "code",
   "execution_count": null,
   "id": "85f2b3b6",
   "metadata": {},
   "outputs": [],
   "source": [
    "  print(f\"My {animal_type}'s name is {pet_name.title()}.\")"
   ]
  },
  {
   "cell_type": "markdown",
   "id": "f06f9ff3",
   "metadata": {},
   "source": [
    "describe_pet()\n"
   ]
  },
  {
   "cell_type": "code",
   "execution_count": null,
   "id": "6808367e",
   "metadata": {},
   "outputs": [],
   "source": [
    "#####################################################"
   ]
  },
  {
   "cell_type": "code",
   "execution_count": null,
   "id": "451daa83",
   "metadata": {},
   "outputs": [],
   "source": [
    "#Return Values"
   ]
  },
  {
   "cell_type": "code",
   "execution_count": null,
   "id": "3cc04816",
   "metadata": {},
   "outputs": [],
   "source": [
    "def get_formatted_name(first_name, last_name):"
   ]
  },
  {
   "cell_type": "code",
   "execution_count": null,
   "id": "ea80e17c",
   "metadata": {},
   "outputs": [],
   "source": [
    "#Return a full name, neatly formatted."
   ]
  },
  {
   "cell_type": "markdown",
   "id": "2f228349",
   "metadata": {},
   "source": [
    "   full_name = f\"{first_name} {last_name}\"\n",
    "   return full_name\n",
    "musician = get_formatted_name('Ram', 'Sarkar')"
   ]
  },
  {
   "cell_type": "code",
   "execution_count": null,
   "id": "ead91726",
   "metadata": {},
   "outputs": [],
   "source": [
    "print(musician)\t\t\t\t\t#o.p:- Ram Sarkar"
   ]
  },
  {
   "cell_type": "markdown",
   "id": "2c676af2",
   "metadata": {},
   "source": []
  },
  {
   "cell_type": "code",
   "execution_count": null,
   "id": "57319a88",
   "metadata": {},
   "outputs": [],
   "source": [
    "#####################################################"
   ]
  },
  {
   "cell_type": "code",
   "execution_count": null,
   "id": "dc2c482e",
   "metadata": {},
   "outputs": [],
   "source": [
    "#Returning a Dictionary"
   ]
  },
  {
   "cell_type": "code",
   "execution_count": null,
   "id": "56705b69",
   "metadata": {},
   "outputs": [],
   "source": [
    "def build_person(first_name, last_name):"
   ]
  },
  {
   "cell_type": "code",
   "execution_count": null,
   "id": "6c63251c",
   "metadata": {},
   "outputs": [],
   "source": [
    "#Return a dictionary of information about a person.\"\"\""
   ]
  },
  {
   "cell_type": "markdown",
   "id": "d573d962",
   "metadata": {},
   "source": [
    "   person = {'first': first_name, 'last': last_name}\n",
    "   return person\n",
    "musician = build_person('Ram', 'Sarkar')"
   ]
  },
  {
   "cell_type": "code",
   "execution_count": null,
   "id": "905d7d90",
   "metadata": {},
   "outputs": [],
   "source": [
    "print(musician)\t\t\t\t#o.p:- {'first': 'Ram', 'last': 'Sarkar'}"
   ]
  },
  {
   "cell_type": "markdown",
   "id": "bcd40fb0",
   "metadata": {},
   "source": []
  },
  {
   "cell_type": "code",
   "execution_count": null,
   "id": "9470f006",
   "metadata": {},
   "outputs": [],
   "source": [
    "######################################################"
   ]
  },
  {
   "cell_type": "markdown",
   "id": "45941997",
   "metadata": {},
   "source": [
    "\n"
   ]
  },
  {
   "cell_type": "code",
   "execution_count": null,
   "id": "ebe77c41",
   "metadata": {},
   "outputs": [],
   "source": [
    "#Passing a List"
   ]
  },
  {
   "cell_type": "code",
   "execution_count": null,
   "id": "ce9d9859",
   "metadata": {},
   "outputs": [],
   "source": [
    "#You’ll often find it useful to pass a list to a function, whether it’s a list of names, numbers, or more complex objects, such as dictionaries."
   ]
  },
  {
   "cell_type": "code",
   "execution_count": null,
   "id": "35f6d8ea",
   "metadata": {},
   "outputs": [],
   "source": [
    "def greet_users(names):"
   ]
  },
  {
   "cell_type": "code",
   "execution_count": null,
   "id": "44b9ad93",
   "metadata": {},
   "outputs": [],
   "source": [
    "#Print a simple greeting to each user in the list.\"\"\""
   ]
  },
  {
   "cell_type": "code",
   "execution_count": null,
   "id": "217a8c24",
   "metadata": {},
   "outputs": [],
   "source": [
    "    for name in names:"
   ]
  },
  {
   "cell_type": "markdown",
   "id": "87b546a7",
   "metadata": {},
   "source": [
    "        msg = f\"Hello, {name.title()}!\""
   ]
  },
  {
   "cell_type": "code",
   "execution_count": null,
   "id": "ed9eebc0",
   "metadata": {},
   "outputs": [],
   "source": [
    "        print(msg)"
   ]
  },
  {
   "cell_type": "markdown",
   "id": "94a7aec9",
   "metadata": {},
   "source": [
    "usernames = ['Sanket', 'Saurabh', 'Surabhi']\n",
    "greet_users(usernames)"
   ]
  },
  {
   "cell_type": "code",
   "execution_count": null,
   "id": "f539e756",
   "metadata": {},
   "outputs": [],
   "source": [
    "#o.p:- Hello, Sanket!"
   ]
  },
  {
   "cell_type": "markdown",
   "id": "5426a733",
   "metadata": {},
   "source": [
    "Hello, Saurabh!\n",
    "Hello, Surabhi!\n"
   ]
  },
  {
   "cell_type": "code",
   "execution_count": null,
   "id": "701af8d5",
   "metadata": {},
   "outputs": [],
   "source": [
    "#########################################################"
   ]
  },
  {
   "cell_type": "code",
   "execution_count": null,
   "id": "136af4f3",
   "metadata": {},
   "outputs": [],
   "source": [
    "#Passing an Arbitrary Number of Arguments"
   ]
  },
  {
   "cell_type": "code",
   "execution_count": null,
   "id": "959df049",
   "metadata": {},
   "outputs": [],
   "source": [
    "def make_pizza(*toppings):"
   ]
  },
  {
   "cell_type": "code",
   "execution_count": null,
   "id": "acc89cc7",
   "metadata": {},
   "outputs": [],
   "source": [
    "#Print the list of toppings that have been requested.\"\"\""
   ]
  },
  {
   "cell_type": "code",
   "execution_count": null,
   "id": "eaa0f617",
   "metadata": {},
   "outputs": [],
   "source": [
    "    print(toppings)"
   ]
  },
  {
   "cell_type": "markdown",
   "id": "9922b703",
   "metadata": {},
   "source": [
    "make_pizza('pepperoni')\n",
    "make_pizza('mushrooms', 'green peppers', 'extra cheese')"
   ]
  },
  {
   "cell_type": "code",
   "execution_count": null,
   "id": "7e27ea2c",
   "metadata": {},
   "outputs": [],
   "source": [
    "#o.p:- ('pepperoni',)"
   ]
  },
  {
   "cell_type": "markdown",
   "id": "17b6b294",
   "metadata": {},
   "source": [
    "('mushrooms', 'green peppers', 'extra cheese')\n"
   ]
  },
  {
   "cell_type": "code",
   "execution_count": null,
   "id": "ff729678",
   "metadata": {},
   "outputs": [],
   "source": [
    "#########################################################"
   ]
  },
  {
   "cell_type": "code",
   "execution_count": null,
   "id": "23a4e3ae",
   "metadata": {},
   "outputs": [],
   "source": [
    "#Now we can replace the print() call with a loop that runs through the list of toppings and describes the pizza being ordered:"
   ]
  },
  {
   "cell_type": "code",
   "execution_count": null,
   "id": "1d45432a",
   "metadata": {},
   "outputs": [],
   "source": [
    "def make_pizza(*toppings):"
   ]
  },
  {
   "cell_type": "code",
   "execution_count": null,
   "id": "e807dadf",
   "metadata": {},
   "outputs": [],
   "source": [
    "#Summarize the pizza we are about to make.\"\"\""
   ]
  },
  {
   "cell_type": "code",
   "execution_count": null,
   "id": "1a70fc67",
   "metadata": {},
   "outputs": [],
   "source": [
    "   print(\"\\nMaking a pizza with the following toppings:\")"
   ]
  },
  {
   "cell_type": "code",
   "execution_count": null,
   "id": "0a149d79",
   "metadata": {},
   "outputs": [],
   "source": [
    "   for topping in toppings:"
   ]
  },
  {
   "cell_type": "code",
   "execution_count": null,
   "id": "341b3990",
   "metadata": {},
   "outputs": [],
   "source": [
    "       print(f\"- {topping}\")"
   ]
  },
  {
   "cell_type": "markdown",
   "id": "5dc42e52",
   "metadata": {},
   "source": [
    "\n",
    "make_pizza('pepperoni')\n",
    "make_pizza('mushrooms', 'green peppers', 'extra cheese')"
   ]
  },
  {
   "cell_type": "code",
   "execution_count": null,
   "id": "d8548f55",
   "metadata": {},
   "outputs": [],
   "source": [
    "#o.p:- Making a pizza with the following toppings:"
   ]
  },
  {
   "cell_type": "markdown",
   "id": "1086ab53",
   "metadata": {},
   "source": [
    "- pepperoni\n",
    "Making a pizza with the following toppings:\n",
    "- mushrooms\n",
    "- green peppers\n",
    "- extra cheese\n"
   ]
  },
  {
   "cell_type": "code",
   "execution_count": null,
   "id": "573bd592",
   "metadata": {},
   "outputs": [],
   "source": [
    "#####################################################"
   ]
  },
  {
   "cell_type": "markdown",
   "id": "727f463d",
   "metadata": {},
   "source": [
    "\n",
    "\n"
   ]
  },
  {
   "cell_type": "code",
   "execution_count": null,
   "id": "0ffe0b3b",
   "metadata": {},
   "outputs": [],
   "source": [
    "#Mixing Positional and Arbitrary Arguments"
   ]
  },
  {
   "cell_type": "code",
   "execution_count": null,
   "id": "151d3a2b",
   "metadata": {},
   "outputs": [],
   "source": [
    "def make_pizza(size, *toppings):"
   ]
  },
  {
   "cell_type": "code",
   "execution_count": null,
   "id": "09d8f689",
   "metadata": {},
   "outputs": [],
   "source": [
    "#Summarize the pizza we are about to make.\"\"\""
   ]
  },
  {
   "cell_type": "code",
   "execution_count": null,
   "id": "9ed91214",
   "metadata": {},
   "outputs": [],
   "source": [
    "   print(f\"\\nMaking a {size}-inch pizza with the following toppings:\")"
   ]
  },
  {
   "cell_type": "code",
   "execution_count": null,
   "id": "010db0f1",
   "metadata": {},
   "outputs": [],
   "source": [
    "   for topping in toppings:"
   ]
  },
  {
   "cell_type": "code",
   "execution_count": null,
   "id": "7c2ed7bb",
   "metadata": {},
   "outputs": [],
   "source": [
    "       print(f\"- {topping}\")"
   ]
  },
  {
   "cell_type": "markdown",
   "id": "121f135d",
   "metadata": {},
   "source": [
    "make_pizza(16, 'pepperoni')\n",
    "make_pizza(12, 'mushrooms', 'green peppers', 'extra cheese')"
   ]
  },
  {
   "cell_type": "code",
   "execution_count": null,
   "id": "45a56e7c",
   "metadata": {},
   "outputs": [],
   "source": [
    "#o.p:- Making a 16-inch pizza with the following toppings:"
   ]
  },
  {
   "cell_type": "markdown",
   "id": "b3fc1971",
   "metadata": {},
   "source": [
    "- pepperoni\n",
    "Making a 12-inch pizza with the following toppings:\n",
    "- mushrooms\n",
    "- green peppers\n",
    "- extra cheese\n"
   ]
  },
  {
   "cell_type": "code",
   "execution_count": null,
   "id": "a3ecd571",
   "metadata": {},
   "outputs": [],
   "source": [
    "################################################"
   ]
  },
  {
   "cell_type": "markdown",
   "id": "bbfd3652",
   "metadata": {},
   "source": [
    "import pizza\n",
    "pizza.make_pizza(16, 'pepperoni')\n",
    "pizza.make_pizza(12, 'mushrooms', 'green peppers', 'extra cheese')\n"
   ]
  },
  {
   "cell_type": "code",
   "execution_count": null,
   "id": "c43dc952",
   "metadata": {},
   "outputs": [],
   "source": [
    "##################################################"
   ]
  },
  {
   "cell_type": "code",
   "execution_count": null,
   "id": "e7d14de9",
   "metadata": {},
   "outputs": [],
   "source": [
    "#importing Specific Functions"
   ]
  },
  {
   "cell_type": "markdown",
   "id": "91e704fa",
   "metadata": {},
   "source": [
    "from pizza import make_pizza\n",
    "make_pizza(16, 'pepperoni')\n",
    "make_pizza(12, 'mushrooms', 'green peppers', 'extra cheese')\n"
   ]
  },
  {
   "cell_type": "code",
   "execution_count": null,
   "id": "47684114",
   "metadata": {},
   "outputs": [],
   "source": [
    "####################################################"
   ]
  },
  {
   "cell_type": "code",
   "execution_count": null,
   "id": "ef759faf",
   "metadata": {},
   "outputs": [],
   "source": [
    "#Using as to Give a FunctionS an Alias"
   ]
  },
  {
   "cell_type": "markdown",
   "id": "8315a5d9",
   "metadata": {},
   "source": [
    "from pizza import make_pizza as mp\n",
    "mp(16, 'pepperoni')\n",
    "mp(12, 'mushrooms', 'green peppers', 'extra cheese')\n"
   ]
  },
  {
   "cell_type": "code",
   "execution_count": null,
   "id": "9f7584ef",
   "metadata": {},
   "outputs": [],
   "source": [
    "#######################################################"
   ]
  },
  {
   "cell_type": "code",
   "execution_count": null,
   "id": "d461dba5",
   "metadata": {},
   "outputs": [],
   "source": [
    "#Using as to Give a Module an Alias"
   ]
  },
  {
   "cell_type": "markdown",
   "id": "12c38a50",
   "metadata": {},
   "source": [
    "import pizza as p\n",
    "p.make_pizza(16, 'pepperoni')\n",
    "p.make_pizza(12, 'mushrooms', 'green peppers', 'extra cheese')\n"
   ]
  },
  {
   "cell_type": "code",
   "execution_count": null,
   "id": "77f0d8f7",
   "metadata": {},
   "outputs": [],
   "source": [
    "#######################################################"
   ]
  },
  {
   "cell_type": "code",
   "execution_count": null,
   "id": "4a023e98",
   "metadata": {},
   "outputs": [],
   "source": [
    "#Importing All Functions in a Module"
   ]
  },
  {
   "cell_type": "markdown",
   "id": "079865e7",
   "metadata": {},
   "source": [
    "from pizza import *\n",
    "make_pizza(16, 'pepperoni')\n",
    "make_pizza(12, 'mushrooms', 'green peppers', 'extra cheese')\n"
   ]
  },
  {
   "cell_type": "code",
   "execution_count": null,
   "id": "7b60cac2",
   "metadata": {},
   "outputs": [],
   "source": [
    "#scope of variable"
   ]
  },
  {
   "cell_type": "markdown",
   "id": "4793d2c8",
   "metadata": {},
   "source": [
    "x=x+1\n",
    "x=6"
   ]
  },
  {
   "cell_type": "code",
   "execution_count": null,
   "id": "cb7f3003",
   "metadata": {},
   "outputs": [],
   "source": [
    "print(x)"
   ]
  },
  {
   "cell_type": "code",
   "execution_count": null,
   "id": "b019d5b2",
   "metadata": {},
   "outputs": [],
   "source": [
    "#You cannot reference a variable "
   ]
  },
  {
   "cell_type": "code",
   "execution_count": null,
   "id": "57c98b57",
   "metadata": {},
   "outputs": [],
   "source": [
    "#until it has been assigned a value."
   ]
  },
  {
   "cell_type": "markdown",
   "id": "5ab30b17",
   "metadata": {},
   "source": [
    "\n",
    "\n",
    "\n",
    "\n",
    "\n",
    "************************Working with JSON File*********************"
   ]
  },
  {
   "cell_type": "code",
   "execution_count": null,
   "id": "444bfb0c",
   "metadata": {},
   "outputs": [],
   "source": [
    "#JSON:-Java Script object notation"
   ]
  },
  {
   "cell_type": "markdown",
   "id": "4ca37242",
   "metadata": {},
   "source": [
    "Storing the data in the jason file it is important for futur work using the json.dump() and json.load\n",
    "Json.dump():- dumps takes an object and produces a string\n",
    "Json.load():-  load would take a file _like object read the data from that object and use that string to create an object\n",
    "import json\n",
    "number = [2,3,4,5,6,74,34]\n",
    "file_name='number.json'\n",
    "with open(file_name,'w') as obj:\n",
    "    json.dump(number,obj)"
   ]
  },
  {
   "cell_type": "code",
   "execution_count": null,
   "id": "b1e77bad",
   "metadata": {},
   "outputs": [],
   "source": [
    "#o.p:- the file are created in the working directory "
   ]
  },
  {
   "cell_type": "markdown",
   "id": "a7887c4b",
   "metadata": {},
   "source": [
    "The nmber are written in the file\n"
   ]
  },
  {
   "cell_type": "code",
   "execution_count": null,
   "id": "eaba4585",
   "metadata": {},
   "outputs": [],
   "source": [
    "######################################################"
   ]
  },
  {
   "cell_type": "markdown",
   "id": "f26b7090",
   "metadata": {},
   "source": [
    "# saving the data with json file working with user generated  data\n",
    "import json\n",
    "username=input(\"enter the name\")\n",
    "file_name='username.json'\n",
    "with open(file_name,'w') as obj:\n",
    "    json.dump(username,obj)"
   ]
  },
  {
   "cell_type": "code",
   "execution_count": null,
   "id": "8b37380a",
   "metadata": {},
   "outputs": [],
   "source": [
    "print(f\"iwill remmebre you when you come back ,{username}!\")"
   ]
  },
  {
   "cell_type": "code",
   "execution_count": null,
   "id": "406fd325",
   "metadata": {},
   "outputs": [],
   "source": [
    "#f:-This is called f string and are quite "
   ]
  },
  {
   "cell_type": "markdown",
   "id": "afb6e88f",
   "metadata": {},
   "source": [
    "Straight forword :when using on f’ in front of a string all the variable inside curly bracket are read and replaced by there value\n"
   ]
  },
  {
   "cell_type": "code",
   "execution_count": null,
   "id": "44367aa8",
   "metadata": {},
   "outputs": [],
   "source": [
    "#####################################################"
   ]
  },
  {
   "cell_type": "markdown",
   "id": "3f13e90d",
   "metadata": {},
   "source": [
    "# Now lets write new program  that generat user name is alerady has been stored\n",
    "import json \n",
    "file_name ='username.json'\n",
    "with open(file_name) as obj:\n",
    "    username=json.load(obj)"
   ]
  },
  {
   "cell_type": "code",
   "execution_count": null,
   "id": "d127a24b",
   "metadata": {},
   "outputs": [],
   "source": [
    "print(f\"welcome back,{username}!\")"
   ]
  },
  {
   "cell_type": "code",
   "execution_count": null,
   "id": "d12dd5f5",
   "metadata": {},
   "outputs": [],
   "source": [
    "#writing the username i.e. '{username}!'"
   ]
  },
  {
   "cell_type": "code",
   "execution_count": null,
   "id": "0bf08d76",
   "metadata": {},
   "outputs": [],
   "source": [
    "#o.p:- It will rember the preseviosly user name who acess the file"
   ]
  },
  {
   "cell_type": "markdown",
   "id": "44b2995a",
   "metadata": {},
   "source": []
  },
  {
   "cell_type": "code",
   "execution_count": null,
   "id": "cf21eab5",
   "metadata": {},
   "outputs": [],
   "source": [
    "####################################################"
   ]
  },
  {
   "cell_type": "markdown",
   "id": "81125b6e",
   "metadata": {},
   "source": [
    "# combine two program in one program with the exception handling"
   ]
  },
  {
   "cell_type": "code",
   "execution_count": null,
   "id": "50d1f76b",
   "metadata": {},
   "outputs": [],
   "source": [
    "#load the username if it has been stored previsoly otherwise promt for the user name and stored it"
   ]
  },
  {
   "cell_type": "markdown",
   "id": "725a9b2d",
   "metadata": {},
   "source": [
    "import json\n",
    "file_name= 'username.json'\n",
    "try:\n",
    "    with open(file_name) as obj:\n",
    "        username=json.load(obj)\n",
    "except FileNotFoundError:\n",
    "    username=input(\"enter the name\")\n",
    "    file_name='username.json'\n",
    "    with open(file_name,'w') as obj:\n",
    "        json.dump(username,obj)"
   ]
  },
  {
   "cell_type": "code",
   "execution_count": null,
   "id": "7b938fa3",
   "metadata": {},
   "outputs": [],
   "source": [
    "    print(f\"iwill remmebre you when you come back ,{username}!\")"
   ]
  },
  {
   "cell_type": "markdown",
   "id": "ce01e66d",
   "metadata": {},
   "source": [
    "else:"
   ]
  },
  {
   "cell_type": "code",
   "execution_count": null,
   "id": "2f941608",
   "metadata": {},
   "outputs": [],
   "source": [
    "    print(f\" welcome back,{username}!\")"
   ]
  },
  {
   "cell_type": "markdown",
   "id": "d21b41c8",
   "metadata": {},
   "source": [
    "\n",
    "\n",
    "\n",
    "\n",
    "\n",
    "******************operation on list i.e list comprehension**************"
   ]
  },
  {
   "cell_type": "code",
   "execution_count": null,
   "id": "feac0c2a",
   "metadata": {},
   "outputs": [],
   "source": [
    "#append :  IT can add the element  at last of the list "
   ]
  },
  {
   "cell_type": "markdown",
   "id": "c4b196a0",
   "metadata": {},
   "source": [
    "lst=[]"
   ]
  },
  {
   "cell_type": "code",
   "execution_count": null,
   "id": "2f3c93e9",
   "metadata": {},
   "outputs": [],
   "source": [
    "for num in range(0,20):"
   ]
  },
  {
   "cell_type": "markdown",
   "id": "dc47498b",
   "metadata": {},
   "source": [
    "    lst.append(num)"
   ]
  },
  {
   "cell_type": "code",
   "execution_count": null,
   "id": "e1233352",
   "metadata": {},
   "outputs": [],
   "source": [
    "print(lst)"
   ]
  },
  {
   "cell_type": "code",
   "execution_count": null,
   "id": "880fee02",
   "metadata": {},
   "outputs": [],
   "source": [
    "#o.p:-[0,1,2,3,……..,19]"
   ]
  },
  {
   "cell_type": "markdown",
   "id": "b87f29c0",
   "metadata": {},
   "source": []
  },
  {
   "cell_type": "code",
   "execution_count": null,
   "id": "273f676e",
   "metadata": {},
   "outputs": [],
   "source": [
    "############################################################"
   ]
  },
  {
   "cell_type": "markdown",
   "id": "ab00a538",
   "metadata": {},
   "source": [
    "\tList Comprehension:-\n",
    "1.We can write same methods using the list comprehension\n",
    "2.Comprehension can reduce the line of the codes\n",
    "3. systax=[ write the lines of for condition]"
   ]
  },
  {
   "cell_type": "code",
   "execution_count": null,
   "id": "06ad5627",
   "metadata": {},
   "outputs": [],
   "source": [
    "#4. Comprehension:-comprehension in the python orovides us with a short and concise way to construt"
   ]
  },
  {
   "cell_type": "markdown",
   "id": "12700e78",
   "metadata": {},
   "source": [
    "\t\t\t New sequence using the sequence with have been alredy  defined"
   ]
  },
  {
   "cell_type": "code",
   "execution_count": null,
   "id": "c95f6c40",
   "metadata": {},
   "outputs": [],
   "source": [
    "#Methodes using the list comprehension"
   ]
  },
  {
   "cell_type": "markdown",
   "id": "45558c31",
   "metadata": {},
   "source": [
    "IMP One Question for In interview\n",
    "\n",
    "lst=[num for num in range(0,20)]"
   ]
  },
  {
   "cell_type": "code",
   "execution_count": null,
   "id": "e71607da",
   "metadata": {},
   "outputs": [],
   "source": [
    "print(lst)\t\t#o.p:-[0,1,2,3,……..19]"
   ]
  },
  {
   "cell_type": "markdown",
   "id": "cd3ceb2e",
   "metadata": {},
   "source": []
  },
  {
   "cell_type": "code",
   "execution_count": null,
   "id": "511e5d91",
   "metadata": {},
   "outputs": [],
   "source": [
    "############################################################"
   ]
  },
  {
   "cell_type": "markdown",
   "id": "2646979d",
   "metadata": {},
   "source": [
    "Capitalize:-every first letter will be captalize of word call the methood along with the name of the list\n",
    "Example:-\n",
    "name=['dada','kaka','mama']\n",
    "lst=[name.capitalize() for name in name]"
   ]
  },
  {
   "cell_type": "code",
   "execution_count": null,
   "id": "c6a04941",
   "metadata": {},
   "outputs": [],
   "source": [
    "print(lst)\t\t\t\t\t#o.p:- ['Dada', 'Kaka', 'Mama']"
   ]
  },
  {
   "cell_type": "markdown",
   "id": "aa6d8d4a",
   "metadata": {},
   "source": []
  },
  {
   "cell_type": "code",
   "execution_count": null,
   "id": "428adae9",
   "metadata": {},
   "outputs": [],
   "source": [
    "###########################################################"
   ]
  },
  {
   "cell_type": "markdown",
   "id": "80920954",
   "metadata": {},
   "source": [
    "list comrehension with 'if' statement"
   ]
  },
  {
   "cell_type": "code",
   "execution_count": null,
   "id": "25b19f13",
   "metadata": {},
   "outputs": [],
   "source": [
    "#'if' should be right side of the for loop. write the  code in  the suitable format we use the it statement  and another way is also present i.e in one line"
   ]
  },
  {
   "cell_type": "code",
   "execution_count": null,
   "id": "84c8c744",
   "metadata": {},
   "outputs": [],
   "source": [
    "def is_even(num):"
   ]
  },
  {
   "cell_type": "markdown",
   "id": "df41af33",
   "metadata": {},
   "source": [
    "    return num%2==0\n",
    "lst=[\n",
    "     num"
   ]
  },
  {
   "cell_type": "code",
   "execution_count": null,
   "id": "ca6ca024",
   "metadata": {},
   "outputs": [],
   "source": [
    "     for num in range(10)"
   ]
  },
  {
   "cell_type": "code",
   "execution_count": null,
   "id": "8a0e3198",
   "metadata": {},
   "outputs": [],
   "source": [
    "     if is_even(num)"
   ]
  },
  {
   "cell_type": "markdown",
   "id": "a919130c",
   "metadata": {},
   "source": [
    "     ]"
   ]
  },
  {
   "cell_type": "code",
   "execution_count": null,
   "id": "c2076f80",
   "metadata": {},
   "outputs": [],
   "source": [
    "print(lst)"
   ]
  },
  {
   "cell_type": "code",
   "execution_count": null,
   "id": "d882c3b9",
   "metadata": {},
   "outputs": [],
   "source": [
    "#o.p:- [0,2,4,6,8]"
   ]
  },
  {
   "cell_type": "markdown",
   "id": "1c6e09d0",
   "metadata": {},
   "source": []
  },
  {
   "cell_type": "code",
   "execution_count": null,
   "id": "7421a958",
   "metadata": {},
   "outputs": [],
   "source": [
    "###########################################################"
   ]
  },
  {
   "cell_type": "markdown",
   "id": "09aa2003",
   "metadata": {},
   "source": [
    "Above code are written  in the one line by using the  list comprehension"
   ]
  },
  {
   "cell_type": "code",
   "execution_count": null,
   "id": "8cc69645",
   "metadata": {},
   "outputs": [],
   "source": [
    "def is_even(num):"
   ]
  },
  {
   "cell_type": "markdown",
   "id": "a001d750",
   "metadata": {},
   "source": [
    "    return num%2==0\n",
    "lst=[ num for num in range(10) if is_even(num)]"
   ]
  },
  {
   "cell_type": "code",
   "execution_count": null,
   "id": "add52b12",
   "metadata": {},
   "outputs": [],
   "source": [
    "print(lst)\t\t\t\t\t#o.p:-[0,2,4,6,8]"
   ]
  },
  {
   "cell_type": "markdown",
   "id": "b621f965",
   "metadata": {},
   "source": []
  },
  {
   "cell_type": "code",
   "execution_count": null,
   "id": "268015b1",
   "metadata": {},
   "outputs": [],
   "source": [
    "#####################################"
   ]
  },
  {
   "cell_type": "markdown",
   "id": "096e7294",
   "metadata": {},
   "source": [
    "list comrehension to print a particular digit\n",
    "lst=[f\"{x}{y}\""
   ]
  },
  {
   "cell_type": "code",
   "execution_count": null,
   "id": "791a55f0",
   "metadata": {},
   "outputs": [],
   "source": [
    "      for x in range(3)"
   ]
  },
  {
   "cell_type": "code",
   "execution_count": null,
   "id": "4cf299f5",
   "metadata": {},
   "outputs": [],
   "source": [
    "      for y in range(3)"
   ]
  },
  {
   "cell_type": "markdown",
   "id": "20220169",
   "metadata": {},
   "source": [
    "      ]"
   ]
  },
  {
   "cell_type": "code",
   "execution_count": null,
   "id": "781f61ee",
   "metadata": {},
   "outputs": [],
   "source": [
    "print(lst)\t#o.p:- ['00', '01', '02', '10', '11', '12', '20', '21', '22']"
   ]
  },
  {
   "cell_type": "code",
   "execution_count": null,
   "id": "c1818015",
   "metadata": {},
   "outputs": [],
   "source": [
    "#can print the number in the particular digit . it has another part also as like the nested for loop"
   ]
  },
  {
   "cell_type": "markdown",
   "id": "572c00df",
   "metadata": {},
   "source": []
  },
  {
   "cell_type": "code",
   "execution_count": null,
   "id": "9a864079",
   "metadata": {},
   "outputs": [],
   "source": [
    "######################################################"
   ]
  },
  {
   "cell_type": "markdown",
   "id": "d32f6250",
   "metadata": {},
   "source": [
    "1)set comprehension:-"
   ]
  },
  {
   "cell_type": "code",
   "execution_count": null,
   "id": "6444614d",
   "metadata": {},
   "outputs": [],
   "source": [
    "#set comprehension are pretty similar to list comprehension .The only Difference between them is that set comprehension are  in the curly bracket {}. Not allow the duplicate element. It give the result in the form of set only Key are index of the number"
   ]
  },
  {
   "cell_type": "markdown",
   "id": "1572f101",
   "metadata": {},
   "source": [
    "lst={x"
   ]
  },
  {
   "cell_type": "code",
   "execution_count": null,
   "id": "eb34778b",
   "metadata": {},
   "outputs": [],
   "source": [
    "     for x in range(3)"
   ]
  },
  {
   "cell_type": "markdown",
   "id": "093a8a34",
   "metadata": {},
   "source": [
    "     }"
   ]
  },
  {
   "cell_type": "code",
   "execution_count": null,
   "id": "988ecbd1",
   "metadata": {},
   "outputs": [],
   "source": [
    "print(lst)\t\t#o.p:- {0, 1, 2}"
   ]
  },
  {
   "cell_type": "markdown",
   "id": "be1148a9",
   "metadata": {},
   "source": []
  },
  {
   "cell_type": "code",
   "execution_count": null,
   "id": "f2842e85",
   "metadata": {},
   "outputs": [],
   "source": [
    "########################################################"
   ]
  },
  {
   "cell_type": "markdown",
   "id": "5d4e94ad",
   "metadata": {},
   "source": [
    "2) Dictionary comprehension"
   ]
  },
  {
   "cell_type": "markdown",
   "id": "c394e446",
   "metadata": {},
   "source": [
    "# give the result in the form of the dictionary it give the key as well as value we process on the value rather than the key component"
   ]
  },
  {
   "cell_type": "code",
   "execution_count": null,
   "id": "8de4a566",
   "metadata": {},
   "outputs": [],
   "source": [
    "#syntax:- output_dict={Key:value or(key,value) in iterable if(key,value statisfy thi condition)}"
   ]
  },
  {
   "cell_type": "markdown",
   "id": "a6de005c",
   "metadata": {},
   "source": [
    "dict={x:x*x"
   ]
  },
  {
   "cell_type": "code",
   "execution_count": null,
   "id": "954a0659",
   "metadata": {},
   "outputs": [],
   "source": [
    "     for x in range(3)"
   ]
  },
  {
   "cell_type": "markdown",
   "id": "d46db552",
   "metadata": {},
   "source": [
    "     }"
   ]
  },
  {
   "cell_type": "code",
   "execution_count": null,
   "id": "8fa87060",
   "metadata": {},
   "outputs": [],
   "source": [
    "print(dict)\t\t\t\t#o.p:- {0: 0, 1: 1, 2: 4}"
   ]
  },
  {
   "cell_type": "markdown",
   "id": "556d10d9",
   "metadata": {},
   "source": []
  },
  {
   "cell_type": "code",
   "execution_count": null,
   "id": "9b58a54b",
   "metadata": {},
   "outputs": [],
   "source": [
    "##############################################################"
   ]
  },
  {
   "cell_type": "markdown",
   "id": "a54b10f0",
   "metadata": {},
   "source": [
    "Generator"
   ]
  },
  {
   "cell_type": "code",
   "execution_count": null,
   "id": "d774e9f4",
   "metadata": {},
   "outputs": [],
   "source": [
    "#It is another way of creating the iterator in the simple way where  it uses the keyword “yield” instead of returing it in a defined function genterated are implemented using the a function"
   ]
  },
  {
   "cell_type": "markdown",
   "id": "f6f8d180",
   "metadata": {},
   "source": [
    "gen=(x"
   ]
  },
  {
   "cell_type": "code",
   "execution_count": null,
   "id": "b999119d",
   "metadata": {},
   "outputs": [],
   "source": [
    "     for x in range(3)"
   ]
  },
  {
   "cell_type": "markdown",
   "id": "23da455e",
   "metadata": {},
   "source": [
    "     )"
   ]
  },
  {
   "cell_type": "code",
   "execution_count": null,
   "id": "c0408bd9",
   "metadata": {},
   "outputs": [],
   "source": [
    "print(gen)\t\t\t#gen is the object"
   ]
  },
  {
   "cell_type": "code",
   "execution_count": null,
   "id": "65f7ede8",
   "metadata": {},
   "outputs": [],
   "source": [
    "for num in gen:"
   ]
  },
  {
   "cell_type": "code",
   "execution_count": null,
   "id": "afb87b99",
   "metadata": {},
   "outputs": [],
   "source": [
    "    print(num)\t\t\t#o.p:-0,1,2"
   ]
  },
  {
   "cell_type": "code",
   "execution_count": null,
   "id": "ad3de945",
   "metadata": {},
   "outputs": [],
   "source": [
    "#(): object"
   ]
  },
  {
   "cell_type": "markdown",
   "id": "ab748e35",
   "metadata": {},
   "source": []
  },
  {
   "cell_type": "code",
   "execution_count": null,
   "id": "62540964",
   "metadata": {},
   "outputs": [],
   "source": [
    "###############################################################"
   ]
  },
  {
   "cell_type": "markdown",
   "id": "b8d8ed6f",
   "metadata": {},
   "source": [
    "Next"
   ]
  },
  {
   "cell_type": "code",
   "execution_count": null,
   "id": "d79b3cde",
   "metadata": {},
   "outputs": [],
   "source": [
    "#it give the line by line output generted object:- generated function return a generator object Generated object are used either by calling the next method on the generator object  or using the genertoor object in the “for in loop”"
   ]
  },
  {
   "cell_type": "markdown",
   "id": "2c7802e4",
   "metadata": {},
   "source": [
    "gen=(x "
   ]
  },
  {
   "cell_type": "code",
   "execution_count": null,
   "id": "40a92220",
   "metadata": {},
   "outputs": [],
   "source": [
    "     for x in range(3)"
   ]
  },
  {
   "cell_type": "markdown",
   "id": "8292d2b1",
   "metadata": {},
   "source": [
    "     )\n",
    "next(gen)\t\t\t#o.p:-0\n"
   ]
  },
  {
   "cell_type": "code",
   "execution_count": null,
   "id": "a555bf6f",
   "metadata": {},
   "outputs": [],
   "source": [
    "#########################################################"
   ]
  },
  {
   "cell_type": "markdown",
   "id": "f0afeea6",
   "metadata": {},
   "source": [
    "gen=(x for x in range(3))\n",
    "next(gen)\t\t#o.p:-0\n",
    "next(gen)\t\t#o.p:-1"
   ]
  },
  {
   "cell_type": "code",
   "execution_count": null,
   "id": "452c197b",
   "metadata": {},
   "outputs": [],
   "source": [
    "#the last output give the answer as 1"
   ]
  },
  {
   "cell_type": "markdown",
   "id": "cbf9e1b7",
   "metadata": {},
   "source": []
  },
  {
   "cell_type": "code",
   "execution_count": null,
   "id": "91a52247",
   "metadata": {},
   "outputs": [],
   "source": [
    "#####################################################"
   ]
  },
  {
   "cell_type": "markdown",
   "id": "3296a2e3",
   "metadata": {},
   "source": [
    "gen=(x for x in range(3))\n",
    "next(gen)\t\t\t#o.p:-0\n",
    "next(gen)\t\t\t#o.p:-1\n",
    "next(gen)\t\t\t#o.p:-2\n",
    "next(gen)\t\t\t#o.p:-error out of the loop\n"
   ]
  },
  {
   "cell_type": "code",
   "execution_count": null,
   "id": "f658b981",
   "metadata": {},
   "outputs": [],
   "source": [
    "######################################################"
   ]
  },
  {
   "cell_type": "code",
   "execution_count": null,
   "id": "92392128",
   "metadata": {},
   "outputs": [],
   "source": [
    "#Yield:-access the multipele value by using the yield"
   ]
  },
  {
   "cell_type": "code",
   "execution_count": null,
   "id": "c5c83bb0",
   "metadata": {},
   "outputs": [],
   "source": [
    "def range_even(end):"
   ]
  },
  {
   "cell_type": "code",
   "execution_count": null,
   "id": "13a94a28",
   "metadata": {},
   "outputs": [],
   "source": [
    "    for num in range(0,end,2):"
   ]
  },
  {
   "cell_type": "markdown",
   "id": "b59a9e0a",
   "metadata": {},
   "source": [
    "        yield num\t\t\t#above are definition of the function"
   ]
  },
  {
   "cell_type": "code",
   "execution_count": null,
   "id": "b33d2d1f",
   "metadata": {},
   "outputs": [],
   "source": [
    "for num in range(6):"
   ]
  },
  {
   "cell_type": "code",
   "execution_count": null,
   "id": "7a433417",
   "metadata": {},
   "outputs": [],
   "source": [
    "    print(num)\t\t\t\t#o.p:-0,1,2,3,4,5"
   ]
  },
  {
   "cell_type": "markdown",
   "id": "433a7f1a",
   "metadata": {},
   "source": []
  },
  {
   "cell_type": "markdown",
   "id": "8cf3cdf6",
   "metadata": {},
   "source": [
    "######################################################    \n",
    "Now  next insted of the for loop\n",
    "gen=range_even(16)\n",
    "next(gen)      \t\t\t\t #o.p:-0\n",
    "next(gen)   \t\t\t\t#O.p:- 2\n",
    "next(gen)   \t\t\t\t#o.p:-4\n",
    "next(gen)   \t\t\t\t#o.p:-6\n",
    "next(gen)   \t\t\t\t#o.p:-8"
   ]
  },
  {
   "cell_type": "code",
   "execution_count": null,
   "id": "807a736f",
   "metadata": {},
   "outputs": [],
   "source": [
    "#o.p:-8"
   ]
  },
  {
   "cell_type": "markdown",
   "id": "b7bb34b0",
   "metadata": {},
   "source": []
  },
  {
   "cell_type": "code",
   "execution_count": null,
   "id": "9d20d1c1",
   "metadata": {},
   "outputs": [],
   "source": [
    "######################################################"
   ]
  },
  {
   "cell_type": "markdown",
   "id": "f4557522",
   "metadata": {},
   "source": [
    "Application of the generator\n",
    "Generator function are defined like a normal function but whenever it needs to generate a value\n",
    "It close so with the yield keyword rather that return \n",
    "If the body of a def contains yield the function automatically becomes a generator function \n",
    "1 chaining generator:-  chain the various function"
   ]
  },
  {
   "cell_type": "code",
   "execution_count": null,
   "id": "1f185ab8",
   "metadata": {},
   "outputs": [],
   "source": [
    "def length(itr):"
   ]
  },
  {
   "cell_type": "code",
   "execution_count": null,
   "id": "e381303c",
   "metadata": {},
   "outputs": [],
   "source": [
    "    for ele in itr:"
   ]
  },
  {
   "cell_type": "markdown",
   "id": "3b05e40e",
   "metadata": {},
   "source": [
    "        yield len(ele)"
   ]
  },
  {
   "cell_type": "code",
   "execution_count": null,
   "id": "bca00f3a",
   "metadata": {},
   "outputs": [],
   "source": [
    "def hide(itr):"
   ]
  },
  {
   "cell_type": "code",
   "execution_count": null,
   "id": "fc0d426e",
   "metadata": {},
   "outputs": [],
   "source": [
    "    for ele in itr:"
   ]
  },
  {
   "cell_type": "markdown",
   "id": "070d5046",
   "metadata": {},
   "source": [
    "        yield ele*'*'\n",
    "passwords=[\"not good\",\"given'm pass\",\"00100=100\"]"
   ]
  },
  {
   "cell_type": "code",
   "execution_count": null,
   "id": "d832e3ae",
   "metadata": {},
   "outputs": [],
   "source": [
    "for password in hide(length(passwords)):"
   ]
  },
  {
   "cell_type": "code",
   "execution_count": null,
   "id": "3122d77b",
   "metadata": {},
   "outputs": [],
   "source": [
    "    print(password)"
   ]
  },
  {
   "cell_type": "code",
   "execution_count": null,
   "id": "146c9fb9",
   "metadata": {},
   "outputs": [],
   "source": [
    "#o.p:- ********"
   ]
  },
  {
   "cell_type": "markdown",
   "id": "b833d2d6",
   "metadata": {},
   "source": [
    "************\n",
    "*********"
   ]
  },
  {
   "cell_type": "markdown",
   "id": "1ed1f86a",
   "metadata": {},
   "source": [
    "# it can count the length of the password and print the * instend of the character\n"
   ]
  },
  {
   "cell_type": "code",
   "execution_count": null,
   "id": "7c89dfd9",
   "metadata": {},
   "outputs": [],
   "source": [
    "#####################################################"
   ]
  },
  {
   "cell_type": "markdown",
   "id": "f4f88efc",
   "metadata": {},
   "source": [
    "Printing the list with index\n",
    "Here we can increment the index value with 1 becz of the index start with the 0 index It can make the space between the index value and list element It can print the elemnt of the list with there index value\n",
    "lst=[\"milk\",\"egg\",\"bread\"]"
   ]
  },
  {
   "cell_type": "code",
   "execution_count": null,
   "id": "9523a755",
   "metadata": {},
   "outputs": [],
   "source": [
    "for index in range(len(lst)):"
   ]
  },
  {
   "cell_type": "code",
   "execution_count": null,
   "id": "3cdb21a5",
   "metadata": {},
   "outputs": [],
   "source": [
    "    print(f\"{index+1} - {lst[index]}\")   "
   ]
  },
  {
   "cell_type": "code",
   "execution_count": null,
   "id": "0ebd2d2a",
   "metadata": {},
   "outputs": [],
   "source": [
    "#o.p:- 1 - milk"
   ]
  },
  {
   "cell_type": "markdown",
   "id": "61316e7f",
   "metadata": {},
   "source": [
    "2 - egg\n",
    "3 – bread\n"
   ]
  },
  {
   "cell_type": "code",
   "execution_count": null,
   "id": "2b6f21e2",
   "metadata": {},
   "outputs": [],
   "source": [
    "#######################################################"
   ]
  },
  {
   "cell_type": "markdown",
   "id": "728dc16a",
   "metadata": {},
   "source": [
    "Assigment day "
   ]
  },
  {
   "cell_type": "markdown",
   "id": "b27d32f9",
   "metadata": {},
   "source": [
    "# adjectives= name of adjective"
   ]
  },
  {
   "cell_type": "code",
   "execution_count": null,
   "id": "0635ffa1",
   "metadata": {},
   "outputs": [],
   "source": [
    "#noun=name of the noun"
   ]
  },
  {
   "cell_type": "code",
   "execution_count": null,
   "id": "c1e721b8",
   "metadata": {},
   "outputs": [],
   "source": [
    "#password=join the all strig"
   ]
  },
  {
   "cell_type": "markdown",
   "id": "67c2e9b7",
   "metadata": {},
   "source": [
    "import string\n",
    "adjectives=['sleepy','slow','smelly','wet','fat','red','orange']\t\t#pick the adjectives\n",
    "noun=['apple','dinosor','ball','toaster','goat','dragon','hammer','dduck','panda']\t#pick the noun\n",
    "import random\t\t\t#pick the words randomly\n",
    "adjectives=random.choice(adjectives)\n",
    "noun=random.choice(noun)\n",
    "number=random.randrange(0,100)\t\t#selcte the number\n",
    "special_char=random.choice(string.punctuation)\t#sleect the special character\n",
    "password=adjectives+noun+str(number)+special_char\t\t#create the new secure password"
   ]
  },
  {
   "cell_type": "code",
   "execution_count": null,
   "id": "f70be4b4",
   "metadata": {},
   "outputs": [],
   "source": [
    "print('your new password is:-%s'% password)"
   ]
  },
  {
   "cell_type": "code",
   "execution_count": null,
   "id": "296c08c7",
   "metadata": {},
   "outputs": [],
   "source": [
    "#%s:-"
   ]
  },
  {
   "cell_type": "code",
   "execution_count": null,
   "id": "4e576b3e",
   "metadata": {},
   "outputs": [],
   "source": [
    "print(f'your new password is:- {password}')"
   ]
  },
  {
   "cell_type": "markdown",
   "id": "0315d9d6",
   "metadata": {},
   "source": []
  },
  {
   "cell_type": "code",
   "execution_count": null,
   "id": "6f125e71",
   "metadata": {},
   "outputs": [],
   "source": [
    "####################################################"
   ]
  },
  {
   "cell_type": "markdown",
   "id": "5cbeca8e",
   "metadata": {},
   "source": [
    "# another  way is also to generate the password u can use the while loop also and if condition"
   ]
  },
  {
   "cell_type": "code",
   "execution_count": null,
   "id": "fcf14fc5",
   "metadata": {},
   "outputs": [],
   "source": [
    "#responce=taking the input from the user in the below program it can give the another password also if you are not statistified with  inlial one"
   ]
  },
  {
   "cell_type": "code",
   "execution_count": null,
   "id": "212a89ca",
   "metadata": {},
   "outputs": [],
   "source": [
    "print(\"wlecome back to password picker\")"
   ]
  },
  {
   "cell_type": "code",
   "execution_count": null,
   "id": "11691946",
   "metadata": {},
   "outputs": [],
   "source": [
    "while True:"
   ]
  },
  {
   "cell_type": "markdown",
   "id": "3a57a449",
   "metadata": {},
   "source": [
    "    adjectives=random.choice(adjectives)\n",
    "    noun=random.choice(noun)\n",
    "    number=random.randrange(0,100)\n",
    "    special_char=random.choice(string.punctuation)\n",
    "    password=adjectives+noun+str(number)+special_char"
   ]
  },
  {
   "cell_type": "code",
   "execution_count": null,
   "id": "841ca672",
   "metadata": {},
   "outputs": [],
   "source": [
    "    print(f'your new password is:-{password}')"
   ]
  },
  {
   "cell_type": "markdown",
   "id": "bf6d309b",
   "metadata": {},
   "source": [
    "    responce=input('would you want too enter the new password type y or n:-')"
   ]
  },
  {
   "cell_type": "code",
   "execution_count": null,
   "id": "7619eb36",
   "metadata": {},
   "outputs": [],
   "source": [
    "    if responce=='n':"
   ]
  },
  {
   "cell_type": "markdown",
   "id": "1405b5fa",
   "metadata": {},
   "source": [
    "        break"
   ]
  },
  {
   "cell_type": "code",
   "execution_count": null,
   "id": "a68c3061",
   "metadata": {},
   "outputs": [],
   "source": [
    "   # else:"
   ]
  },
  {
   "cell_type": "code",
   "execution_count": null,
   "id": "9a784187",
   "metadata": {},
   "outputs": [],
   "source": [
    "    #    continue"
   ]
  },
  {
   "cell_type": "markdown",
   "id": "dd11bd6e",
   "metadata": {},
   "source": []
  },
  {
   "cell_type": "code",
   "execution_count": null,
   "id": "5042d55a",
   "metadata": {},
   "outputs": [],
   "source": [
    "##########################################################"
   ]
  },
  {
   "cell_type": "markdown",
   "id": "065bf81b",
   "metadata": {},
   "source": [
    "# take input from user for password and check for the generated password is good or bad\n",
    "noun=[]\n",
    "adj=[]\n",
    "import string\n",
    "import random"
   ]
  },
  {
   "cell_type": "code",
   "execution_count": null,
   "id": "072df7d4",
   "metadata": {},
   "outputs": [],
   "source": [
    "while True:"
   ]
  },
  {
   "cell_type": "markdown",
   "id": "73073357",
   "metadata": {},
   "source": [
    "    n=input(' enter the list of the noun with start with the  capital letter :-')\n",
    "    noun.append(n)\n",
    "    a=input(\" enter the list of the adjectives with start with the capital letter:-\")\n",
    "    adj.append(a)\n",
    "    responce=input('would you want too append the list ao adj or noun (type y or n):-')"
   ]
  },
  {
   "cell_type": "code",
   "execution_count": null,
   "id": "d0f5c26e",
   "metadata": {},
   "outputs": [],
   "source": [
    "    if responce=='n':"
   ]
  },
  {
   "cell_type": "markdown",
   "id": "dcf0991c",
   "metadata": {},
   "source": [
    "        break"
   ]
  },
  {
   "cell_type": "code",
   "execution_count": null,
   "id": "d380805f",
   "metadata": {},
   "outputs": [],
   "source": [
    "print(noun)"
   ]
  },
  {
   "cell_type": "code",
   "execution_count": null,
   "id": "8d66ff75",
   "metadata": {},
   "outputs": [],
   "source": [
    "print(adj)"
   ]
  },
  {
   "cell_type": "markdown",
   "id": "7ecca4c3",
   "metadata": {},
   "source": [
    "adj=random.choice(adj)\n",
    "noun=random.choice(noun)\n",
    "number=random.randrange(0,100)\n",
    "special_char=random.choice(string.punctuation)\n",
    "password=adj+noun+str(number)+special_char"
   ]
  },
  {
   "cell_type": "code",
   "execution_count": null,
   "id": "a4d1e2be",
   "metadata": {},
   "outputs": [],
   "source": [
    "print(f'your new password is:-{password}')"
   ]
  },
  {
   "cell_type": "code",
   "execution_count": null,
   "id": "dbdc45e2",
   "metadata": {},
   "outputs": [],
   "source": [
    "def pass_word(password): #defining the function "
   ]
  },
  {
   "cell_type": "code",
   "execution_count": null,
   "id": "6fc5fdc0",
   "metadata": {},
   "outputs": [],
   "source": [
    "     for x in password:"
   ]
  },
  {
   "cell_type": "code",
   "execution_count": null,
   "id": "c93c2fc0",
   "metadata": {},
   "outputs": [],
   "source": [
    "         if x>=\"A\" and x<=\"Z\":"
   ]
  },
  {
   "cell_type": "markdown",
   "id": "2e441c7f",
   "metadata": {},
   "source": [
    "             has_upper=True\n",
    "         elif x>=\"a\" and x<=\"z\":\n",
    "             has_lower=True\n",
    "         elif x>=\"0\" and x<=\"9\":\n",
    "             has_num=True"
   ]
  },
  {
   "cell_type": "code",
   "execution_count": null,
   "id": "20098b3d",
   "metadata": {},
   "outputs": [],
   "source": [
    "     if len(password)>=8 and has_upper and has_lower and has_num:"
   ]
  },
  {
   "cell_type": "markdown",
   "id": "a6ccd00a",
   "metadata": {},
   "source": [
    "         return True\n",
    "     else:\n",
    "         return False"
   ]
  },
  {
   "cell_type": "code",
   "execution_count": null,
   "id": "097d47ad",
   "metadata": {},
   "outputs": [],
   "source": [
    "#t= input(\"enter the password:-\")"
   ]
  },
  {
   "cell_type": "code",
   "execution_count": null,
   "id": "26e59b5a",
   "metadata": {},
   "outputs": [],
   "source": [
    "if pass_word(password):        # checkpassword:-is the function that can check the password"
   ]
  },
  {
   "cell_type": "code",
   "execution_count": null,
   "id": "ab3c0caa",
   "metadata": {},
   "outputs": [],
   "source": [
    "     print(\"Good password\")"
   ]
  },
  {
   "cell_type": "markdown",
   "id": "892a43e9",
   "metadata": {},
   "source": [
    "else:"
   ]
  },
  {
   "cell_type": "code",
   "execution_count": null,
   "id": "cdb0ae3e",
   "metadata": {},
   "outputs": [],
   "source": [
    "     print(\"Bad password\")"
   ]
  },
  {
   "cell_type": "markdown",
   "id": "4368a3eb",
   "metadata": {},
   "source": [
    " \n",
    "\n",
    "\n",
    "\n",
    "\n",
    "\n",
    "\n",
    "Enumerate\n",
    "1.enumerate methods add a counter to an iterable and returns if in a from of enumerating object\n",
    "2. this enumerate object can be used drirectly for loops or converted into a list of tuples using the list function\n",
    "3.Syntax:- enumerate(iterable ,start=0)\n",
    "Iterable:- any object that support iteration\n",
    "Start:- the index from  which the counter is to be started ,by default it is 0\n"
   ]
  },
  {
   "cell_type": "code",
   "execution_count": null,
   "id": "5c67db30",
   "metadata": {},
   "outputs": [],
   "source": [
    "#same code can be implemented using enumerate:-"
   ]
  },
  {
   "cell_type": "code",
   "execution_count": null,
   "id": "9e3780dc",
   "metadata": {},
   "outputs": [],
   "source": [
    "for index,item in enumerate(lst,start=1):"
   ]
  },
  {
   "cell_type": "code",
   "execution_count": null,
   "id": "59303696",
   "metadata": {},
   "outputs": [],
   "source": [
    "    print(f\"{index} {item}\")"
   ]
  },
  {
   "cell_type": "code",
   "execution_count": null,
   "id": "d6ef7577",
   "metadata": {},
   "outputs": [],
   "source": [
    "#o.p:- 1 - milk"
   ]
  },
  {
   "cell_type": "markdown",
   "id": "b6fe7da8",
   "metadata": {},
   "source": [
    "2 - egg\n",
    "3 – bread\n"
   ]
  },
  {
   "cell_type": "code",
   "execution_count": null,
   "id": "5445551e",
   "metadata": {},
   "outputs": [],
   "source": [
    "############################################################"
   ]
  },
  {
   "cell_type": "code",
   "execution_count": null,
   "id": "2219563e",
   "metadata": {},
   "outputs": [],
   "source": [
    "#zip:-Use of zip function with the mis-match function"
   ]
  },
  {
   "cell_type": "markdown",
   "id": "5144f67e",
   "metadata": {},
   "source": [
    "name=['dada' ,'mama', 'kaka']\n",
    "info=[9850,6032,9785] "
   ]
  },
  {
   "cell_type": "code",
   "execution_count": null,
   "id": "36e43049",
   "metadata": {},
   "outputs": [],
   "source": [
    "for nm, inf in zip (name, info):"
   ]
  },
  {
   "cell_type": "markdown",
   "id": "52165321",
   "metadata": {},
   "source": [
    "    print (nm, inf)"
   ]
  },
  {
   "cell_type": "code",
   "execution_count": null,
   "id": "523d5da2",
   "metadata": {},
   "outputs": [],
   "source": [
    "#o.p:- dada 9850"
   ]
  },
  {
   "cell_type": "markdown",
   "id": "d4006bda",
   "metadata": {},
   "source": [
    "mama 6032\n",
    "kaka 9785\n"
   ]
  },
  {
   "cell_type": "code",
   "execution_count": null,
   "id": "8c57037e",
   "metadata": {},
   "outputs": [],
   "source": [
    "#########################################################"
   ]
  },
  {
   "cell_type": "code",
   "execution_count": null,
   "id": "d6411a8f",
   "metadata": {},
   "outputs": [],
   "source": [
    "#Use of zip function with mis match list"
   ]
  },
  {
   "cell_type": "markdown",
   "id": "05cd781d",
   "metadata": {},
   "source": [
    "name= ['dada', 'mama',' kaka', 'baba']\n",
    "info= [9850,632,9785] "
   ]
  },
  {
   "cell_type": "code",
   "execution_count": null,
   "id": "41172400",
   "metadata": {},
   "outputs": [],
   "source": [
    "for nm, inf in zip (name, info):"
   ]
  },
  {
   "cell_type": "markdown",
   "id": "878dd35c",
   "metadata": {},
   "source": [
    "    print (nm, inf)  "
   ]
  },
  {
   "cell_type": "code",
   "execution_count": null,
   "id": "560a122b",
   "metadata": {},
   "outputs": [],
   "source": [
    "#o.p:- dada 9850"
   ]
  },
  {
   "cell_type": "markdown",
   "id": "49fe791e",
   "metadata": {},
   "source": [
    "mama 632\n",
    " kaka 9785  "
   ]
  },
  {
   "cell_type": "code",
   "execution_count": null,
   "id": "a0e10c4d",
   "metadata": {},
   "outputs": [],
   "source": [
    " #It will not display excess mismatch item in name I .e. baba   "
   ]
  },
  {
   "cell_type": "markdown",
   "id": "56c7c9a0",
   "metadata": {},
   "source": []
  },
  {
   "cell_type": "code",
   "execution_count": null,
   "id": "ce1aa937",
   "metadata": {},
   "outputs": [],
   "source": [
    "##############################"
   ]
  },
  {
   "cell_type": "code",
   "execution_count": null,
   "id": "120109d7",
   "metadata": {},
   "outputs": [],
   "source": [
    "#zip_longest :- It print  the values of iterables alternately in sequence. If one of the iterables is printed fully the remaining values are filled by the values assigned  to fill value parameter "
   ]
  },
  {
   "cell_type": "markdown",
   "id": "0468b29b",
   "metadata": {},
   "source": [
    "from itertools import zip_longest\n",
    "name= ['dada', 'mama', 'kaka', 'baba']\n",
    "info= [9850,6032,3297]"
   ]
  },
  {
   "cell_type": "code",
   "execution_count": null,
   "id": "26e543e2",
   "metadata": {},
   "outputs": [],
   "source": [
    "for nm, inf in zip_longest (name, info):"
   ]
  },
  {
   "cell_type": "markdown",
   "id": "235d9b7a",
   "metadata": {},
   "source": [
    "    print (nm, inf)"
   ]
  },
  {
   "cell_type": "code",
   "execution_count": null,
   "id": "3a7147b8",
   "metadata": {},
   "outputs": [],
   "source": [
    "#o.p:- dada 9850"
   ]
  },
  {
   "cell_type": "markdown",
   "id": "327fe6c4",
   "metadata": {},
   "source": [
    "mama 6032\n",
    "kaka 3297\n",
    "baba None\n"
   ]
  },
  {
   "cell_type": "code",
   "execution_count": null,
   "id": "9fa62ee1",
   "metadata": {},
   "outputs": [],
   "source": [
    "###########################################################"
   ]
  },
  {
   "cell_type": "code",
   "execution_count": null,
   "id": "3de5e679",
   "metadata": {},
   "outputs": [],
   "source": [
    "#use of fill value instead None"
   ]
  },
  {
   "cell_type": "markdown",
   "id": "2d83aa99",
   "metadata": {},
   "source": [
    "from itertools import zip_longest\n",
    "name= ['dada', 'mama', 'kaka', 'baba']\n",
    "info= [9850,6032,3297]"
   ]
  },
  {
   "cell_type": "code",
   "execution_count": null,
   "id": "7a8cc7f7",
   "metadata": {},
   "outputs": [],
   "source": [
    "for nm, inf in zip_longest (name, info, fillvalue=0):"
   ]
  },
  {
   "cell_type": "markdown",
   "id": "5e57429d",
   "metadata": {},
   "source": [
    "    print (nm, inf)"
   ]
  },
  {
   "cell_type": "code",
   "execution_count": null,
   "id": "ca4fb619",
   "metadata": {},
   "outputs": [],
   "source": [
    "#o.p:- dada 9850"
   ]
  },
  {
   "cell_type": "markdown",
   "id": "c8a20b8b",
   "metadata": {},
   "source": [
    "mama 6032\n",
    "kaka 3297\n",
    "baba 0\n"
   ]
  },
  {
   "cell_type": "code",
   "execution_count": null,
   "id": "d3d34df4",
   "metadata": {},
   "outputs": [],
   "source": [
    "##########################################################"
   ]
  },
  {
   "cell_type": "code",
   "execution_count": null,
   "id": "f63d8d32",
   "metadata": {},
   "outputs": [],
   "source": [
    "#use of all():- if all the values are true then it will produce output(means the not the null or 0 present)"
   ]
  },
  {
   "cell_type": "markdown",
   "id": "d776a892",
   "metadata": {},
   "source": [
    "lst=[2,3,6,8,9]"
   ]
  },
  {
   "cell_type": "code",
   "execution_count": null,
   "id": "4ec53761",
   "metadata": {},
   "outputs": [],
   "source": [
    "if all(lst):"
   ]
  },
  {
   "cell_type": "code",
   "execution_count": null,
   "id": "e880b5ba",
   "metadata": {},
   "outputs": [],
   "source": [
    "    print('all values are true')"
   ]
  },
  {
   "cell_type": "markdown",
   "id": "da28b1d2",
   "metadata": {},
   "source": [
    "else:"
   ]
  },
  {
   "cell_type": "code",
   "execution_count": null,
   "id": "5e0aa02b",
   "metadata": {},
   "outputs": [],
   "source": [
    "    print('Useless')"
   ]
  },
  {
   "cell_type": "code",
   "execution_count": null,
   "id": "f35254be",
   "metadata": {},
   "outputs": [],
   "source": [
    "#o..p:- all values are true"
   ]
  },
  {
   "cell_type": "markdown",
   "id": "8f055560",
   "metadata": {},
   "source": []
  },
  {
   "cell_type": "code",
   "execution_count": null,
   "id": "bf070830",
   "metadata": {},
   "outputs": [],
   "source": [
    "#########################"
   ]
  },
  {
   "cell_type": "markdown",
   "id": "65ffa895",
   "metadata": {},
   "source": [
    "lst=[2,3,0,8,9]"
   ]
  },
  {
   "cell_type": "code",
   "execution_count": null,
   "id": "5541fe5a",
   "metadata": {},
   "outputs": [],
   "source": [
    "if all(lst):"
   ]
  },
  {
   "cell_type": "code",
   "execution_count": null,
   "id": "4728f805",
   "metadata": {},
   "outputs": [],
   "source": [
    "    print('all values are true')"
   ]
  },
  {
   "cell_type": "markdown",
   "id": "2e83f6e2",
   "metadata": {},
   "source": [
    "else:"
   ]
  },
  {
   "cell_type": "code",
   "execution_count": null,
   "id": "452fb78c",
   "metadata": {},
   "outputs": [],
   "source": [
    "    print('Useless')"
   ]
  },
  {
   "cell_type": "code",
   "execution_count": null,
   "id": "7cbab147",
   "metadata": {},
   "outputs": [],
   "source": [
    "#o.p:- Useless"
   ]
  },
  {
   "cell_type": "markdown",
   "id": "78c6ad93",
   "metadata": {},
   "source": []
  },
  {
   "cell_type": "code",
   "execution_count": null,
   "id": "b09c4d8f",
   "metadata": {},
   "outputs": [],
   "source": [
    "#################################"
   ]
  },
  {
   "cell_type": "code",
   "execution_count": null,
   "id": "60111a3d",
   "metadata": {},
   "outputs": [],
   "source": [
    "#use of any()"
   ]
  },
  {
   "cell_type": "markdown",
   "id": "ea069fed",
   "metadata": {},
   "source": [
    "Something value are present in the list means all the value are not same value are null and come having some value \n",
    "lst=[0,0,0,8,0]"
   ]
  },
  {
   "cell_type": "code",
   "execution_count": null,
   "id": "7da65c29",
   "metadata": {},
   "outputs": [],
   "source": [
    "if any(lst):"
   ]
  },
  {
   "cell_type": "code",
   "execution_count": null,
   "id": "b0f246f3",
   "metadata": {},
   "outputs": [],
   "source": [
    "    print('It has some value')"
   ]
  },
  {
   "cell_type": "markdown",
   "id": "851f16c6",
   "metadata": {},
   "source": [
    "else:"
   ]
  },
  {
   "cell_type": "code",
   "execution_count": null,
   "id": "4821d176",
   "metadata": {},
   "outputs": [],
   "source": [
    "    print('Useless')"
   ]
  },
  {
   "cell_type": "code",
   "execution_count": null,
   "id": "a63426a7",
   "metadata": {},
   "outputs": [],
   "source": [
    "#o.p:- It has some value"
   ]
  },
  {
   "cell_type": "markdown",
   "id": "a634c1f4",
   "metadata": {},
   "source": []
  },
  {
   "cell_type": "code",
   "execution_count": null,
   "id": "c0f06b8f",
   "metadata": {},
   "outputs": [],
   "source": [
    "##########################################################"
   ]
  },
  {
   "cell_type": "code",
   "execution_count": null,
   "id": "727cdf5e",
   "metadata": {},
   "outputs": [],
   "source": [
    "#use of any"
   ]
  },
  {
   "cell_type": "markdown",
   "id": "a2b38cc9",
   "metadata": {},
   "source": [
    "lst=[0,0,0,0,0]"
   ]
  },
  {
   "cell_type": "code",
   "execution_count": null,
   "id": "c17180ff",
   "metadata": {},
   "outputs": [],
   "source": [
    "if any(lst):"
   ]
  },
  {
   "cell_type": "code",
   "execution_count": null,
   "id": "cc3456bc",
   "metadata": {},
   "outputs": [],
   "source": [
    "    print('It has some value')"
   ]
  },
  {
   "cell_type": "markdown",
   "id": "411f713c",
   "metadata": {},
   "source": [
    "else:"
   ]
  },
  {
   "cell_type": "code",
   "execution_count": null,
   "id": "0398ecb1",
   "metadata": {},
   "outputs": [],
   "source": [
    "    print('Useless')"
   ]
  },
  {
   "cell_type": "code",
   "execution_count": null,
   "id": "19ea2740",
   "metadata": {},
   "outputs": [],
   "source": [
    "#o.p:-Useless"
   ]
  },
  {
   "cell_type": "markdown",
   "id": "4221b8b8",
   "metadata": {},
   "source": []
  },
  {
   "cell_type": "code",
   "execution_count": null,
   "id": "5c8af629",
   "metadata": {},
   "outputs": [],
   "source": [
    "#########################################################"
   ]
  },
  {
   "cell_type": "markdown",
   "id": "db637bed",
   "metadata": {},
   "source": []
  },
  {
   "cell_type": "code",
   "execution_count": null,
   "id": "346789da",
   "metadata": {},
   "outputs": [],
   "source": [
    "#count() :- it is used I deep learing()"
   ]
  },
  {
   "cell_type": "markdown",
   "id": "af360ba9",
   "metadata": {},
   "source": [
    "from itertools import count\n",
    "counter=count()\t\t\t"
   ]
  },
  {
   "cell_type": "code",
   "execution_count": null,
   "id": "2823e820",
   "metadata": {},
   "outputs": [],
   "source": [
    "print(next(counter))\t\t\t#0"
   ]
  },
  {
   "cell_type": "code",
   "execution_count": null,
   "id": "5d0144ba",
   "metadata": {},
   "outputs": [],
   "source": [
    "print(next(counter))\t\t\t#1"
   ]
  },
  {
   "cell_type": "code",
   "execution_count": null,
   "id": "a8ff10f2",
   "metadata": {},
   "outputs": [],
   "source": [
    "print(next(counter))\t\t\t#2"
   ]
  },
  {
   "cell_type": "code",
   "execution_count": null,
   "id": "cf9bdcc3",
   "metadata": {},
   "outputs": [],
   "source": [
    "#o.p:-0"
   ]
  },
  {
   "cell_type": "markdown",
   "id": "42fec4fe",
   "metadata": {},
   "source": [
    "1\n",
    "2\n"
   ]
  },
  {
   "cell_type": "code",
   "execution_count": null,
   "id": "6412e554",
   "metadata": {},
   "outputs": [],
   "source": [
    "##########################################################"
   ]
  },
  {
   "cell_type": "code",
   "execution_count": null,
   "id": "50810a50",
   "metadata": {},
   "outputs": [],
   "source": [
    "#Now let us start from 1"
   ]
  },
  {
   "cell_type": "markdown",
   "id": "806d409e",
   "metadata": {},
   "source": [
    "from itertools import count\n",
    "counter=count(start=1)"
   ]
  },
  {
   "cell_type": "code",
   "execution_count": null,
   "id": "e92ec2dd",
   "metadata": {},
   "outputs": [],
   "source": [
    "print(next(counter))"
   ]
  },
  {
   "cell_type": "code",
   "execution_count": null,
   "id": "f876f762",
   "metadata": {},
   "outputs": [],
   "source": [
    "print(next(counter))"
   ]
  },
  {
   "cell_type": "code",
   "execution_count": null,
   "id": "9d5e725d",
   "metadata": {},
   "outputs": [],
   "source": [
    "print(next(counter))"
   ]
  },
  {
   "cell_type": "code",
   "execution_count": null,
   "id": "d595f058",
   "metadata": {},
   "outputs": [],
   "source": [
    "#o.p:-1"
   ]
  },
  {
   "cell_type": "markdown",
   "id": "3ed0b21e",
   "metadata": {},
   "source": [
    "2\n",
    "3\n"
   ]
  },
  {
   "cell_type": "code",
   "execution_count": null,
   "id": "fc5461f5",
   "metadata": {},
   "outputs": [],
   "source": [
    "#############################################################"
   ]
  },
  {
   "cell_type": "code",
   "execution_count": null,
   "id": "cdec15e6",
   "metadata": {},
   "outputs": [],
   "source": [
    "#cycle()"
   ]
  },
  {
   "cell_type": "code",
   "execution_count": null,
   "id": "6539ab19",
   "metadata": {},
   "outputs": [],
   "source": [
    "#suppose you have repeated tasks to be done, in the certain time then you can use this method"
   ]
  },
  {
   "cell_type": "markdown",
   "id": "aa858422",
   "metadata": {},
   "source": [
    "import itertools\n",
    "instructions= (\"Eat\", \"code\", \"sleep\")"
   ]
  },
  {
   "cell_type": "code",
   "execution_count": null,
   "id": "5aeaf288",
   "metadata": {},
   "outputs": [],
   "source": [
    "for instruction in itertools.cycle(instructions):"
   ]
  },
  {
   "cell_type": "code",
   "execution_count": null,
   "id": "1a4925f8",
   "metadata": {},
   "outputs": [],
   "source": [
    "    print(instruction)"
   ]
  },
  {
   "cell_type": "code",
   "execution_count": null,
   "id": "a67933d7",
   "metadata": {},
   "outputs": [],
   "source": [
    "    #o.p:- Eat"
   ]
  },
  {
   "cell_type": "markdown",
   "id": "7bb773f5",
   "metadata": {},
   "source": [
    "Code\n",
    "Sleep\n",
    "Eat\n",
    "Code\n",
    "sleep\n",
    "Eat\n",
    "Code\n",
    "sleep\n",
    "Eat\n",
    "Code\n",
    "Sleep……………………………\n"
   ]
  },
  {
   "cell_type": "code",
   "execution_count": null,
   "id": "ce985497",
   "metadata": {},
   "outputs": [],
   "source": [
    "#################################################################"
   ]
  },
  {
   "cell_type": "code",
   "execution_count": null,
   "id": "d2533a32",
   "metadata": {},
   "outputs": [],
   "source": [
    "#repeat():-It can repeat the task as you can give the task input"
   ]
  },
  {
   "cell_type": "markdown",
   "id": "7bcec3c2",
   "metadata": {},
   "source": [
    "from itertools import repeat"
   ]
  },
  {
   "cell_type": "code",
   "execution_count": null,
   "id": "f63c4cc8",
   "metadata": {},
   "outputs": [],
   "source": [
    "for msg in repeat (\"keep patience\", times=3):"
   ]
  },
  {
   "cell_type": "code",
   "execution_count": null,
   "id": "20f39f5f",
   "metadata": {},
   "outputs": [],
   "source": [
    "    print(msg)"
   ]
  },
  {
   "cell_type": "code",
   "execution_count": null,
   "id": "74daa32d",
   "metadata": {},
   "outputs": [],
   "source": [
    "#o.p:- keep patience"
   ]
  },
  {
   "cell_type": "markdown",
   "id": "11b0f703",
   "metadata": {},
   "source": [
    "keep patience\n",
    "keep patience"
   ]
  },
  {
   "cell_type": "code",
   "execution_count": null,
   "id": "956df070",
   "metadata": {},
   "outputs": [],
   "source": [
    "##############################################################"
   ]
  },
  {
   "cell_type": "code",
   "execution_count": null,
   "id": "fbdbb7f0",
   "metadata": {},
   "outputs": [],
   "source": [
    "#group():-Group are the variable not a  special key world. It can group the listed element"
   ]
  },
  {
   "cell_type": "markdown",
   "id": "f1c650ad",
   "metadata": {},
   "source": [
    "from itertools import combinations\n",
    "player={'john','jain','sumit'}"
   ]
  },
  {
   "cell_type": "code",
   "execution_count": null,
   "id": "5e5fe4c0",
   "metadata": {},
   "outputs": [],
   "source": [
    "for group in combinations(player,2):"
   ]
  },
  {
   "cell_type": "code",
   "execution_count": null,
   "id": "136f44e3",
   "metadata": {},
   "outputs": [],
   "source": [
    "    print(group)"
   ]
  },
  {
   "cell_type": "code",
   "execution_count": null,
   "id": "c09a3cfe",
   "metadata": {},
   "outputs": [],
   "source": [
    "#o.p:- ('jain', 'sumit')"
   ]
  },
  {
   "cell_type": "markdown",
   "id": "88e60fee",
   "metadata": {},
   "source": [
    "('jain', 'john')\n",
    "('sumit', 'john')\n"
   ]
  },
  {
   "cell_type": "code",
   "execution_count": null,
   "id": "d0d3f56b",
   "metadata": {},
   "outputs": [],
   "source": [
    "############################################################"
   ]
  },
  {
   "cell_type": "code",
   "execution_count": null,
   "id": "d457a754",
   "metadata": {},
   "outputs": [],
   "source": [
    "#group are the variable not the special key word"
   ]
  },
  {
   "cell_type": "markdown",
   "id": "7d9bcdde",
   "metadata": {},
   "source": [
    "from itertools import combinations\n",
    "player={'john','jain','sumit'}"
   ]
  },
  {
   "cell_type": "code",
   "execution_count": null,
   "id": "f44d3f7c",
   "metadata": {},
   "outputs": [],
   "source": [
    "for x in combinations(player,2):"
   ]
  },
  {
   "cell_type": "code",
   "execution_count": null,
   "id": "14b61fdd",
   "metadata": {},
   "outputs": [],
   "source": [
    "    print(x)"
   ]
  },
  {
   "cell_type": "code",
   "execution_count": null,
   "id": "d2a1d7dc",
   "metadata": {},
   "outputs": [],
   "source": [
    "#o.p:- ('jain', 'sumit')"
   ]
  },
  {
   "cell_type": "markdown",
   "id": "3ef8a0e4",
   "metadata": {},
   "source": [
    "('jain', 'john')\n",
    "('sumit', 'john')\n"
   ]
  },
  {
   "cell_type": "code",
   "execution_count": null,
   "id": "724c43a4",
   "metadata": {},
   "outputs": [],
   "source": [
    "############################################################"
   ]
  },
  {
   "cell_type": "code",
   "execution_count": null,
   "id": "7501189f",
   "metadata": {},
   "outputs": [],
   "source": [
    "#combinations()"
   ]
  },
  {
   "cell_type": "markdown",
   "id": "fd4d6a51",
   "metadata": {},
   "source": [
    "from itertools import combinations\n",
    "players=['John','Jani','Janardhan']"
   ]
  },
  {
   "cell_type": "code",
   "execution_count": null,
   "id": "320b3d39",
   "metadata": {},
   "outputs": [],
   "source": [
    "for i in combinations(players,2):"
   ]
  },
  {
   "cell_type": "code",
   "execution_count": null,
   "id": "197f0ddf",
   "metadata": {},
   "outputs": [],
   "source": [
    "    print(i)"
   ]
  },
  {
   "cell_type": "code",
   "execution_count": null,
   "id": "05eb3260",
   "metadata": {},
   "outputs": [],
   "source": [
    "#o.p:- ('John', 'Jani')"
   ]
  },
  {
   "cell_type": "markdown",
   "id": "dc723d48",
   "metadata": {},
   "source": [
    "('John', 'Janardhan')\n",
    "('Jani', 'Janardhan')\n"
   ]
  },
  {
   "cell_type": "code",
   "execution_count": null,
   "id": "f4ac9811",
   "metadata": {},
   "outputs": [],
   "source": [
    "#####################################################"
   ]
  },
  {
   "cell_type": "markdown",
   "id": "d4652e5e",
   "metadata": {},
   "source": [
    "from itertools import permutations\n",
    "players=['John','Jani','Janardhan']"
   ]
  },
  {
   "cell_type": "code",
   "execution_count": null,
   "id": "a8ce64d0",
   "metadata": {},
   "outputs": [],
   "source": [
    "for seat in permutations(players,2):"
   ]
  },
  {
   "cell_type": "code",
   "execution_count": null,
   "id": "667ebc30",
   "metadata": {},
   "outputs": [],
   "source": [
    "    print(seat)"
   ]
  },
  {
   "cell_type": "code",
   "execution_count": null,
   "id": "b415fe01",
   "metadata": {},
   "outputs": [],
   "source": [
    "#o.p:-('John', 'Jani')"
   ]
  },
  {
   "cell_type": "markdown",
   "id": "00addc79",
   "metadata": {},
   "source": [
    "('John', 'Janardhan')\n",
    "('Jani', 'John')\n",
    "('Jani', 'Janardhan')\n",
    "('Janardhan', 'John')\n",
    "('Janardhan', 'Jani')\n"
   ]
  },
  {
   "cell_type": "code",
   "execution_count": null,
   "id": "d7459d9c",
   "metadata": {},
   "outputs": [],
   "source": [
    "#######################################################"
   ]
  },
  {
   "cell_type": "code",
   "execution_count": null,
   "id": "34a295bb",
   "metadata": {},
   "outputs": [],
   "source": [
    "#product()"
   ]
  },
  {
   "cell_type": "markdown",
   "id": "bef8c30c",
   "metadata": {},
   "source": [
    "from itertools import product\n",
    "team_a=['Rohit','Pandya','Bumrah']\n",
    "team_b=['virat','Manish','Sami']"
   ]
  },
  {
   "cell_type": "code",
   "execution_count": null,
   "id": "01973d3e",
   "metadata": {},
   "outputs": [],
   "source": [
    "for pair in product(team_a,team_b):"
   ]
  },
  {
   "cell_type": "code",
   "execution_count": null,
   "id": "3228a2b1",
   "metadata": {},
   "outputs": [],
   "source": [
    "    print(pair)"
   ]
  },
  {
   "cell_type": "code",
   "execution_count": null,
   "id": "db4763b8",
   "metadata": {},
   "outputs": [],
   "source": [
    "#o.p:-('Rohit', 'virat')"
   ]
  },
  {
   "cell_type": "markdown",
   "id": "85b42d96",
   "metadata": {},
   "source": [
    "('Rohit', 'Manish')\n",
    "('Rohit', 'Sami')\n",
    "('Pandya', 'virat')\n",
    "('Pandya', 'Manish')\n",
    "('Pandya', 'Sami')\n",
    "('Bumrah', 'virat')\n",
    "('Bumrah', 'Manish')\n",
    "('Bumrah', 'Sami')\n"
   ]
  },
  {
   "cell_type": "code",
   "execution_count": null,
   "id": "ccfba8a2",
   "metadata": {},
   "outputs": [],
   "source": [
    "##########################################################"
   ]
  },
  {
   "cell_type": "markdown",
   "id": "d5be729c",
   "metadata": {},
   "source": [
    "age=[27,17,21,19]\n",
    "adults=filter(\n",
    "    lambda age:age>=18,\n",
    "    age\n",
    "     )"
   ]
  },
  {
   "cell_type": "code",
   "execution_count": null,
   "id": "e4cc2303",
   "metadata": {},
   "outputs": [],
   "source": [
    "print([age for age in adults])"
   ]
  },
  {
   "cell_type": "code",
   "execution_count": null,
   "id": "dc6a9209",
   "metadata": {},
   "outputs": [],
   "source": [
    "#o.p:- [27, 21, 19]"
   ]
  },
  {
   "cell_type": "markdown",
   "id": "bfa2ed3e",
   "metadata": {},
   "source": []
  },
  {
   "cell_type": "code",
   "execution_count": null,
   "id": "2ab4c2cd",
   "metadata": {},
   "outputs": [],
   "source": [
    "###########################################################"
   ]
  },
  {
   "cell_type": "code",
   "execution_count": null,
   "id": "150e23ad",
   "metadata": {},
   "outputs": [],
   "source": [
    "#shallow copy and deep copy"
   ]
  },
  {
   "cell_type": "code",
   "execution_count": null,
   "id": "da2d82e7",
   "metadata": {},
   "outputs": [],
   "source": [
    "#Copy an Object in Python"
   ]
  },
  {
   "cell_type": "code",
   "execution_count": null,
   "id": "52ad0134",
   "metadata": {},
   "outputs": [],
   "source": [
    "#Copy using = operator"
   ]
  },
  {
   "cell_type": "markdown",
   "id": "b0cbf17e",
   "metadata": {},
   "source": [
    "old_list = [[1, 2, 3], [4, 5, 6], [7, 8, 'a']]\n",
    "new_list = old_list\n",
    "new_list[2][2] = 9"
   ]
  },
  {
   "cell_type": "code",
   "execution_count": null,
   "id": "e65ab31a",
   "metadata": {},
   "outputs": [],
   "source": [
    "print('Old List:', old_list)"
   ]
  },
  {
   "cell_type": "code",
   "execution_count": null,
   "id": "cbd352da",
   "metadata": {},
   "outputs": [],
   "source": [
    "print('ID of Old List:', id(old_list))"
   ]
  },
  {
   "cell_type": "code",
   "execution_count": null,
   "id": "ec60c888",
   "metadata": {},
   "outputs": [],
   "source": [
    "#2766531782016"
   ]
  },
  {
   "cell_type": "code",
   "execution_count": null,
   "id": "695a8c1d",
   "metadata": {},
   "outputs": [],
   "source": [
    "print('New List:', new_list)"
   ]
  },
  {
   "cell_type": "code",
   "execution_count": null,
   "id": "412b832f",
   "metadata": {},
   "outputs": [],
   "source": [
    "print('ID of New List:', id(new_list))"
   ]
  },
  {
   "cell_type": "markdown",
   "id": "e70e3078",
   "metadata": {},
   "source": [
    "# same-2766531782016\n"
   ]
  },
  {
   "cell_type": "code",
   "execution_count": null,
   "id": "b9f64295",
   "metadata": {},
   "outputs": [],
   "source": [
    "#As you can see from the output both variables "
   ]
  },
  {
   "cell_type": "code",
   "execution_count": null,
   "id": "ff284dde",
   "metadata": {},
   "outputs": [],
   "source": [
    "#old_list and new_list shares the same id i.e 140673303268168."
   ]
  },
  {
   "cell_type": "markdown",
   "id": "164ebb59",
   "metadata": {},
   "source": []
  },
  {
   "cell_type": "code",
   "execution_count": null,
   "id": "0b78616b",
   "metadata": {},
   "outputs": [],
   "source": [
    "#################################################"
   ]
  },
  {
   "cell_type": "code",
   "execution_count": null,
   "id": "0b58bc31",
   "metadata": {},
   "outputs": [],
   "source": [
    "#Essentially, sometimes you may want to have the original values unchanged and only modify the new values or vice versa.In Python, there are two ways to create copies:"
   ]
  },
  {
   "cell_type": "markdown",
   "id": "f41f1a24",
   "metadata": {},
   "source": [
    "# Shallow Copy"
   ]
  },
  {
   "cell_type": "code",
   "execution_count": null,
   "id": "126f0f24",
   "metadata": {},
   "outputs": [],
   "source": [
    "#Deep Copy"
   ]
  },
  {
   "cell_type": "code",
   "execution_count": null,
   "id": "f926b568",
   "metadata": {},
   "outputs": [],
   "source": [
    "#We use the copy module of Python for  shallow and deep copy operations. "
   ]
  },
  {
   "cell_type": "code",
   "execution_count": null,
   "id": "4d8d4960",
   "metadata": {},
   "outputs": [],
   "source": [
    "#Suppose, you need to copy the compound list say x."
   ]
  },
  {
   "cell_type": "markdown",
   "id": "9da12719",
   "metadata": {},
   "source": [
    "\n",
    "x=[1,2,3]\n",
    "import copy\n",
    "copy.copy(x)\t\t\t#Here, the copy() return a shallow copy of x. \t\n",
    "copy.deepcopy(x)\t\t#Similarly, deepcopy() return a deep copy of x."
   ]
  },
  {
   "cell_type": "code",
   "execution_count": null,
   "id": "875ea1c5",
   "metadata": {},
   "outputs": [],
   "source": [
    "#A shallow copy creates a new object "
   ]
  },
  {
   "cell_type": "code",
   "execution_count": null,
   "id": "b5ca60c3",
   "metadata": {},
   "outputs": [],
   "source": [
    "#which stores the reference of the original elements."
   ]
  },
  {
   "cell_type": "markdown",
   "id": "f25e48d5",
   "metadata": {},
   "source": [
    "import copy\n",
    "old_list = [[1, 2, 3], [4, 5, 6], [7, 8, 9]]\n",
    "new_list = copy.copy(old_list)\n"
   ]
  },
  {
   "cell_type": "code",
   "execution_count": null,
   "id": "cb1b18bd",
   "metadata": {},
   "outputs": [],
   "source": [
    "print(\"Old list:\", old_list)"
   ]
  },
  {
   "cell_type": "code",
   "execution_count": null,
   "id": "48b8d58b",
   "metadata": {},
   "outputs": [],
   "source": [
    "print(\"New list:\", new_list)"
   ]
  },
  {
   "cell_type": "code",
   "execution_count": null,
   "id": "fdd27fbc",
   "metadata": {},
   "outputs": [],
   "source": [
    "#This means it will create new and independent object with same content. "
   ]
  },
  {
   "cell_type": "code",
   "execution_count": null,
   "id": "03a1e10c",
   "metadata": {},
   "outputs": [],
   "source": [
    "#To verify this, we print the both old_list and new_list."
   ]
  },
  {
   "cell_type": "code",
   "execution_count": null,
   "id": "e3622bc1",
   "metadata": {},
   "outputs": [],
   "source": [
    "#To confirm that new_list is different from old_list"
   ]
  },
  {
   "cell_type": "markdown",
   "id": "878875fb",
   "metadata": {},
   "source": [
    "# we try to add new nested object to original and check it.\n",
    "import copy\n",
    "old_list = [[1, 1, 1], [2, 2, 2], [3, 3, 3]]\n",
    "new_list = copy.copy(old_list)\n",
    "old_list.append([4, 4, 4])"
   ]
  },
  {
   "cell_type": "code",
   "execution_count": null,
   "id": "7daad382",
   "metadata": {},
   "outputs": [],
   "source": [
    "print(\"Old list:\", old_list)"
   ]
  },
  {
   "cell_type": "code",
   "execution_count": null,
   "id": "a506b8cd",
   "metadata": {},
   "outputs": [],
   "source": [
    "print(\"New list:\", new_list)"
   ]
  },
  {
   "cell_type": "code",
   "execution_count": null,
   "id": "08351dfc",
   "metadata": {},
   "outputs": [],
   "source": [
    "#In the above program, we created a shallow copy of old_list. The new_list contains references to original nested objects stored in old_list. Then we add the new list i.e [4, 4, 4] into old_list. This new sublist was not copied in new_list."
   ]
  },
  {
   "cell_type": "markdown",
   "id": "d7a7156c",
   "metadata": {},
   "source": []
  },
  {
   "cell_type": "code",
   "execution_count": null,
   "id": "92f58090",
   "metadata": {},
   "outputs": [],
   "source": [
    "##########################################################"
   ]
  },
  {
   "cell_type": "code",
   "execution_count": null,
   "id": "b853753b",
   "metadata": {},
   "outputs": [],
   "source": [
    "#However, when you change any nested objects in old_list, the changes appear in new_list."
   ]
  },
  {
   "cell_type": "markdown",
   "id": "500c2403",
   "metadata": {},
   "source": [
    "import copy\n",
    "old_list = [[1, 1, 1], [2, 2, 2], [3, 3, 3]]\n",
    "new_list = copy.copy(old_list)\n",
    "old_list[1][1] = 'AA'"
   ]
  },
  {
   "cell_type": "code",
   "execution_count": null,
   "id": "e14a84d9",
   "metadata": {},
   "outputs": [],
   "source": [
    "print(\"Old list:\", old_list)"
   ]
  },
  {
   "cell_type": "code",
   "execution_count": null,
   "id": "209ac42a",
   "metadata": {},
   "outputs": [],
   "source": [
    "print(\"New list:\", new_list)"
   ]
  },
  {
   "cell_type": "markdown",
   "id": "7b64b05a",
   "metadata": {},
   "source": []
  },
  {
   "cell_type": "code",
   "execution_count": null,
   "id": "725376b4",
   "metadata": {},
   "outputs": [],
   "source": [
    "#n the above program, we made changes to old_list i.e old_list[1][1] = 'AA'. "
   ]
  },
  {
   "cell_type": "code",
   "execution_count": null,
   "id": "d8195e19",
   "metadata": {},
   "outputs": [],
   "source": [
    "#Both sublists of old_list and new_list at index [1][1] were modified. This is becauses, both lists share the reference of same nested objects."
   ]
  },
  {
   "cell_type": "markdown",
   "id": "49a72ea9",
   "metadata": {},
   "source": []
  },
  {
   "cell_type": "code",
   "execution_count": null,
   "id": "92bc0d45",
   "metadata": {},
   "outputs": [],
   "source": [
    "############################################################"
   ]
  },
  {
   "cell_type": "code",
   "execution_count": null,
   "id": "0e780406",
   "metadata": {},
   "outputs": [],
   "source": [
    "#Deep Copy"
   ]
  },
  {
   "cell_type": "code",
   "execution_count": null,
   "id": "9c548568",
   "metadata": {},
   "outputs": [],
   "source": [
    "#A deep copy creates a new object and  recursively adds the copies of nested objects present in the original elements."
   ]
  },
  {
   "cell_type": "markdown",
   "id": "4400c438",
   "metadata": {},
   "source": [
    "import copy\n",
    "old_list = [[1, 1, 1], [2, 2, 2], [3, 3, 3]]\n",
    "new_list = copy.deepcopy(old_list)"
   ]
  },
  {
   "cell_type": "code",
   "execution_count": null,
   "id": "70494dba",
   "metadata": {},
   "outputs": [],
   "source": [
    "print(\"Old list:\", old_list)"
   ]
  },
  {
   "cell_type": "code",
   "execution_count": null,
   "id": "244c61a0",
   "metadata": {},
   "outputs": [],
   "source": [
    "print(\"New list:\", new_list)"
   ]
  },
  {
   "cell_type": "markdown",
   "id": "45236e55",
   "metadata": {},
   "source": []
  },
  {
   "cell_type": "code",
   "execution_count": null,
   "id": "1d9a00c9",
   "metadata": {},
   "outputs": [],
   "source": [
    "#However, if you make changes to any nested objects in original object old_list,  you’ll see no changes to the copy new_list."
   ]
  },
  {
   "cell_type": "markdown",
   "id": "83a35caa",
   "metadata": {},
   "source": [
    "\n",
    "import copy\n",
    "old_list = [[1, 1, 1], [2, 2, 2], [3, 3, 3]]\n",
    "new_list = copy.deepcopy(old_list)\n",
    "old_list[1][0] = 'BB'"
   ]
  },
  {
   "cell_type": "code",
   "execution_count": null,
   "id": "8a5668ce",
   "metadata": {},
   "outputs": [],
   "source": [
    "print(\"Old list:\", old_list)"
   ]
  },
  {
   "cell_type": "code",
   "execution_count": null,
   "id": "f2e55c3f",
   "metadata": {},
   "outputs": [],
   "source": [
    "print(\"New list:\", new_list)"
   ]
  },
  {
   "cell_type": "code",
   "execution_count": null,
   "id": "c462dd29",
   "metadata": {},
   "outputs": [],
   "source": [
    "#In the above program, when we assign a new value to old_list, we can see only the old_list is modified. This means, both the old_list and the new_list are independent. "
   ]
  },
  {
   "cell_type": "markdown",
   "id": "1eab0060",
   "metadata": {},
   "source": [
    "import copy\n",
    "lst1=[1,2,[3,4],5]\t\t#using shallow copy\n",
    "lst2=copy.copy(lst1)"
   ]
  },
  {
   "cell_type": "code",
   "execution_count": null,
   "id": "7bbc8c53",
   "metadata": {},
   "outputs": [],
   "source": [
    "print(f\"The id of lst1 :{id(lst1)} and value is {lst1}and id of lst2:{id(lst2)} and the value is {lst2}\")"
   ]
  },
  {
   "cell_type": "markdown",
   "id": "69dff21d",
   "metadata": {},
   "source": [
    "\"\"\"\n",
    "The id of lst1 :2335553487232 and value is [1, 2, [3, 4], 5]and id of lst2:2335553755904 and the value is [1, 2, [3, 4], 5]\n",
    "\"\"\"\n",
    "lst1=[1,2,[3,4],5]\t\t#using shallow copy\n",
    "lst3=copy.deepcopy(lst1)"
   ]
  },
  {
   "cell_type": "code",
   "execution_count": null,
   "id": "cf95c15c",
   "metadata": {},
   "outputs": [],
   "source": [
    "print(f\"The id of lst1 :{id(lst1)} and value is {lst1}and id of lst2:{id(lst3)} and the value is {lst3}\")"
   ]
  },
  {
   "cell_type": "markdown",
   "id": "7e33f910",
   "metadata": {},
   "source": [
    "\"\"\"\n",
    "The id of lst1 :2335553487232 and value is [1, 2, [3, 4], 5]and id of lst2:2335552727424 and the value is [1, 2, [3, 4], 5]\n",
    "\"\"\""
   ]
  },
  {
   "cell_type": "code",
   "execution_count": null,
   "id": "f7d47272",
   "metadata": {},
   "outputs": [],
   "source": [
    "#####################################################"
   ]
  },
  {
   "cell_type": "markdown",
   "id": "19484cd5",
   "metadata": {},
   "source": [
    "# importing \"copy\" for copy operations\n",
    "import copy\n",
    " "
   ]
  },
  {
   "cell_type": "markdown",
   "id": "0ad9264f",
   "metadata": {},
   "source": [
    "# initializing list 1\n",
    "li1 = [1, 2, [3,5], 4]\n"
   ]
  },
  {
   "cell_type": "code",
   "execution_count": null,
   "id": "40c37d5e",
   "metadata": {},
   "outputs": [],
   "source": [
    " ####################################################"
   ]
  },
  {
   "cell_type": "markdown",
   "id": "fd2d2d8e",
   "metadata": {},
   "source": [
    "# using deep copy to deep copy\n",
    "li2 = copy.deepcopy(li1)\n"
   ]
  },
  {
   "cell_type": "code",
   "execution_count": null,
   "id": "a6c8e7a6",
   "metadata": {},
   "outputs": [],
   "source": [
    " ######################################################"
   ]
  },
  {
   "cell_type": "markdown",
   "id": "8585ad8a",
   "metadata": {},
   "source": [
    "# original elements of list\n",
    "print (\"The original elements before deep copying\")"
   ]
  },
  {
   "cell_type": "code",
   "execution_count": null,
   "id": "2c104840",
   "metadata": {},
   "outputs": [],
   "source": [
    "for i in range(0,len(li1)):"
   ]
  },
  {
   "cell_type": "markdown",
   "id": "3c8ff316",
   "metadata": {},
   "source": [
    "    print (li1[i],end=\" \")\t\n"
   ]
  },
  {
   "cell_type": "code",
   "execution_count": null,
   "id": "983d7a99",
   "metadata": {},
   "outputs": [],
   "source": [
    " ####################################################"
   ]
  },
  {
   "cell_type": "markdown",
   "id": "bef479bf",
   "metadata": {},
   "source": [
    "# adding and element to new list\n",
    "li2[2][0] = 7\n"
   ]
  },
  {
   "cell_type": "code",
   "execution_count": null,
   "id": "2ce0f86b",
   "metadata": {},
   "outputs": [],
   "source": [
    " ####################################################"
   ]
  },
  {
   "cell_type": "markdown",
   "id": "f6b5ca9e",
   "metadata": {},
   "source": [
    "# Change is reflected in l2\n",
    "print (\"The new list of elements after deep copying \")"
   ]
  },
  {
   "cell_type": "code",
   "execution_count": null,
   "id": "c10a9ec3",
   "metadata": {},
   "outputs": [],
   "source": [
    "for i in range(0,len( li1)):"
   ]
  },
  {
   "cell_type": "markdown",
   "id": "cf6483a9",
   "metadata": {},
   "source": [
    "    print (li2[i],end=\" \")\n"
   ]
  },
  {
   "cell_type": "code",
   "execution_count": null,
   "id": "b1051c40",
   "metadata": {},
   "outputs": [],
   "source": [
    " #####################################################"
   ]
  },
  {
   "cell_type": "markdown",
   "id": "aed5d769",
   "metadata": {},
   "source": [
    "# Change is NOT reflected in original list as it is a deep copy\n",
    "print (\"The original elements after deep copying\")"
   ]
  },
  {
   "cell_type": "code",
   "execution_count": null,
   "id": "e8ad69d3",
   "metadata": {},
   "outputs": [],
   "source": [
    "for i in range(0,len( li1)):"
   ]
  },
  {
   "cell_type": "markdown",
   "id": "0f719b88",
   "metadata": {},
   "source": [
    "    print (li1[i],end=\" \")"
   ]
  },
  {
   "cell_type": "code",
   "execution_count": null,
   "id": "884b09c6",
   "metadata": {},
   "outputs": [],
   "source": [
    "########################################"
   ]
  },
  {
   "cell_type": "code",
   "execution_count": null,
   "id": "efa77c53",
   "metadata": {},
   "outputs": [],
   "source": [
    "#Shallow copying on the contrary any change made in copied object same change is reflected in original object"
   ]
  },
  {
   "cell_type": "markdown",
   "id": "2eb5eb5f",
   "metadata": {},
   "source": [
    "# importing \"copy\" for copy operations\n",
    "import copy\n",
    "li1 = [1, 2, [3,5], 4]\t\t# initializing list 1\n",
    "li2 = copy.copy(li1)\t\t# using copy to shallow copy "
   ]
  },
  {
   "cell_type": "markdown",
   "id": "1d55a87a",
   "metadata": {},
   "source": [
    "# original elements of list\n",
    "print (\"The original elements before shallow copying\")"
   ]
  },
  {
   "cell_type": "code",
   "execution_count": null,
   "id": "2ad92953",
   "metadata": {},
   "outputs": [],
   "source": [
    "for i in range(0,len(li1)):"
   ]
  },
  {
   "cell_type": "markdown",
   "id": "0908e335",
   "metadata": {},
   "source": [
    "    print (li1[i],end=\" \")\n"
   ]
  },
  {
   "cell_type": "code",
   "execution_count": null,
   "id": "2b0bc869",
   "metadata": {},
   "outputs": [],
   "source": [
    " #####################################################"
   ]
  },
  {
   "cell_type": "markdown",
   "id": "7b39213c",
   "metadata": {},
   "source": [
    "# adding and element to new list\n",
    "li2[2][0] = 7\n",
    " "
   ]
  },
  {
   "cell_type": "markdown",
   "id": "67d540b6",
   "metadata": {},
   "source": [
    "# checking if change is reflected\n",
    "print (\"The original elements after shallow copying\")"
   ]
  },
  {
   "cell_type": "code",
   "execution_count": null,
   "id": "4e37f1ad",
   "metadata": {},
   "outputs": [],
   "source": [
    "for i in range(0,len( li1)):"
   ]
  },
  {
   "cell_type": "markdown",
   "id": "9125a2c0",
   "metadata": {},
   "source": [
    "    print (li1[i],end=\"\")\n"
   ]
  },
  {
   "cell_type": "code",
   "execution_count": null,
   "id": "b2f1d144",
   "metadata": {},
   "outputs": [],
   "source": [
    "    ####################################################"
   ]
  },
  {
   "cell_type": "code",
   "execution_count": null,
   "id": "b6f36242",
   "metadata": {},
   "outputs": [],
   "source": [
    "#unpacking of dictinary"
   ]
  },
  {
   "cell_type": "markdown",
   "id": "3c63ab2a",
   "metadata": {},
   "source": [
    "friends={\n",
    "    \"Dale\":9850,\n",
    "    \"male\":6034\n",
    "    }\n",
    "contacts={\n",
    "    \"dada\":8530,\n",
    "    \"mama\":5286\n",
    "    }\n",
    "contacts.update(friends)"
   ]
  },
  {
   "cell_type": "code",
   "execution_count": null,
   "id": "8275993f",
   "metadata": {},
   "outputs": [],
   "source": [
    "print(contacts)"
   ]
  },
  {
   "cell_type": "markdown",
   "id": "8fcc558d",
   "metadata": {},
   "source": []
  },
  {
   "cell_type": "code",
   "execution_count": null,
   "id": "f3a492e6",
   "metadata": {},
   "outputs": [],
   "source": [
    "####################################"
   ]
  },
  {
   "cell_type": "code",
   "execution_count": null,
   "id": "7778f281",
   "metadata": {},
   "outputs": [],
   "source": [
    "#pipe operator"
   ]
  },
  {
   "cell_type": "markdown",
   "id": "f8654e2f",
   "metadata": {},
   "source": [
    "friends={\"Satish\":99021,\n",
    "         \"Ram\":97603\n",
    "         }\n",
    "sham={\"sham\":85305}\n",
    "all_friends=friends|sham"
   ]
  },
  {
   "cell_type": "code",
   "execution_count": null,
   "id": "3bede2d6",
   "metadata": {},
   "outputs": [],
   "source": [
    "print(all_friends)"
   ]
  },
  {
   "cell_type": "markdown",
   "id": "a0796222",
   "metadata": {},
   "source": []
  },
  {
   "cell_type": "code",
   "execution_count": null,
   "id": "fe5feb58",
   "metadata": {},
   "outputs": [],
   "source": [
    "#############################"
   ]
  },
  {
   "cell_type": "markdown",
   "id": "47b43f2e",
   "metadata": {},
   "source": [
    "num=0"
   ]
  },
  {
   "cell_type": "code",
   "execution_count": null,
   "id": "6c1ceda5",
   "metadata": {},
   "outputs": [],
   "source": [
    "def change():"
   ]
  },
  {
   "cell_type": "markdown",
   "id": "b9103fb2",
   "metadata": {},
   "source": [
    "    num=1\n",
    "change()"
   ]
  },
  {
   "cell_type": "code",
   "execution_count": null,
   "id": "4e5581d9",
   "metadata": {},
   "outputs": [],
   "source": [
    "print(num)"
   ]
  },
  {
   "cell_type": "code",
   "execution_count": null,
   "id": "66c62adc",
   "metadata": {},
   "outputs": [],
   "source": [
    "#output will be 0"
   ]
  },
  {
   "cell_type": "code",
   "execution_count": null,
   "id": "34a56002",
   "metadata": {},
   "outputs": [],
   "source": [
    "#In the same way we can not access outside of function  the value of variable declared inside the function"
   ]
  },
  {
   "cell_type": "markdown",
   "id": "0ff9772b",
   "metadata": {},
   "source": [
    "num=0"
   ]
  },
  {
   "cell_type": "code",
   "execution_count": null,
   "id": "069ae614",
   "metadata": {},
   "outputs": [],
   "source": [
    "def change(x):"
   ]
  },
  {
   "cell_type": "markdown",
   "id": "aadd4aa9",
   "metadata": {},
   "source": [
    "    x=1\n",
    "change(x)"
   ]
  },
  {
   "cell_type": "code",
   "execution_count": null,
   "id": "31a519dc",
   "metadata": {},
   "outputs": [],
   "source": [
    "print(num)\t\t#it will show an error"
   ]
  },
  {
   "cell_type": "markdown",
   "id": "337b2fde",
   "metadata": {},
   "source": []
  },
  {
   "cell_type": "code",
   "execution_count": null,
   "id": "b4a56071",
   "metadata": {},
   "outputs": [],
   "source": [
    "########################################"
   ]
  },
  {
   "cell_type": "code",
   "execution_count": null,
   "id": "152dc80b",
   "metadata": {},
   "outputs": [],
   "source": [
    "#use the admine user "
   ]
  },
  {
   "cell_type": "markdown",
   "id": "141e7271",
   "metadata": {},
   "source": [
    "users=[\"admine\",\"employee\",\"manager\",\"worker\",\"staff\"]"
   ]
  },
  {
   "cell_type": "code",
   "execution_count": null,
   "id": "9b1d6b27",
   "metadata": {},
   "outputs": [],
   "source": [
    "for user in users:"
   ]
  },
  {
   "cell_type": "code",
   "execution_count": null,
   "id": "d82d3fdf",
   "metadata": {},
   "outputs": [],
   "source": [
    "    if user==\"admin\":"
   ]
  },
  {
   "cell_type": "code",
   "execution_count": null,
   "id": "7733118d",
   "metadata": {},
   "outputs": [],
   "source": [
    "        print(\"hello admin ,would you like to see the status report\")"
   ]
  },
  {
   "cell_type": "markdown",
   "id": "a70f1bad",
   "metadata": {},
   "source": [
    "    elif user==\"employee\":"
   ]
  },
  {
   "cell_type": "code",
   "execution_count": null,
   "id": "d1011820",
   "metadata": {},
   "outputs": [],
   "source": [
    "        print(\"hello employe\")"
   ]
  },
  {
   "cell_type": "markdown",
   "id": "a97e6ddc",
   "metadata": {},
   "source": [
    "    elif user==\"manager\":"
   ]
  },
  {
   "cell_type": "code",
   "execution_count": null,
   "id": "e692032f",
   "metadata": {},
   "outputs": [],
   "source": [
    "        print(\"hello manager\")"
   ]
  },
  {
   "cell_type": "markdown",
   "id": "a63e81a0",
   "metadata": {},
   "source": [
    "    elif user==\"worker\":"
   ]
  },
  {
   "cell_type": "code",
   "execution_count": null,
   "id": "d12b8a5a",
   "metadata": {},
   "outputs": [],
   "source": [
    "        print(\"hello worker\")"
   ]
  },
  {
   "cell_type": "markdown",
   "id": "412511c5",
   "metadata": {},
   "source": [
    "    else:"
   ]
  },
  {
   "cell_type": "code",
   "execution_count": null,
   "id": "636f271c",
   "metadata": {},
   "outputs": [],
   "source": [
    "        print(\"hello staff\")"
   ]
  },
  {
   "cell_type": "markdown",
   "id": "7c6372de",
   "metadata": {},
   "source": []
  },
  {
   "cell_type": "code",
   "execution_count": null,
   "id": "67cb76c2",
   "metadata": {},
   "outputs": [],
   "source": [
    "#####################################################"
   ]
  },
  {
   "cell_type": "markdown",
   "id": "fb44f8c9",
   "metadata": {},
   "source": [
    "##  check the new user and old user\n",
    "current_user=[\"ali\",\"ahemd\",\"fahad\",\"aun\",\"rana\"]\n",
    "new_users=[\"ali\",\"rana\",\"bilai\",\"huzi\",\"dula\"]"
   ]
  },
  {
   "cell_type": "code",
   "execution_count": null,
   "id": "cf10c793",
   "metadata": {},
   "outputs": [],
   "source": [
    "for new_user in new_users:"
   ]
  },
  {
   "cell_type": "code",
   "execution_count": null,
   "id": "d26ab21d",
   "metadata": {},
   "outputs": [],
   "source": [
    "    if new_user in current_user:"
   ]
  },
  {
   "cell_type": "code",
   "execution_count": null,
   "id": "c1541756",
   "metadata": {},
   "outputs": [],
   "source": [
    "        print(\"person will need to enter  a new uersname\")"
   ]
  },
  {
   "cell_type": "markdown",
   "id": "e5629705",
   "metadata": {},
   "source": [
    "        break\n",
    "    else:"
   ]
  },
  {
   "cell_type": "code",
   "execution_count": null,
   "id": "7c6587eb",
   "metadata": {},
   "outputs": [],
   "source": [
    "        print(\"saying that the username is avilable\")"
   ]
  },
  {
   "cell_type": "markdown",
   "id": "569f3d42",
   "metadata": {},
   "source": [
    "        break\n"
   ]
  },
  {
   "cell_type": "code",
   "execution_count": null,
   "id": "aeefc116",
   "metadata": {},
   "outputs": [],
   "source": [
    "##########################################################"
   ]
  },
  {
   "cell_type": "code",
   "execution_count": null,
   "id": "8dbc8019",
   "metadata": {},
   "outputs": [],
   "source": [
    "#Hash code generation:- save the password in the form of hash code and check the user password and previous password are correct"
   ]
  },
  {
   "cell_type": "markdown",
   "id": "7700fd26",
   "metadata": {},
   "source": [
    "import hashlib\n",
    "hashlib.sha256(\"Gaurav@1234\".encode('utf-8')).hexdigest()\n",
    "'778d4ce2dfb7063981a67be5ba7955ba063c3319760bd3a0d2a85f5d15a594de'\n",
    "len(hashlib.sha256(\"Gaurav@1234\".encode('utf-8')).digest())"
   ]
  },
  {
   "cell_type": "markdown",
   "id": "3e6bf288",
   "metadata": {},
   "source": [
    "# 32 bit processor hashlib.sha256"
   ]
  },
  {
   "cell_type": "code",
   "execution_count": null,
   "id": "956124ed",
   "metadata": {},
   "outputs": [],
   "source": [
    "############################################"
   ]
  },
  {
   "cell_type": "markdown",
   "id": "e1fa1faa",
   "metadata": {},
   "source": [
    "import hashlib\n",
    "hashlib.sha512(\"Gaurav@1234\".encode('utf-8')).hexdigest()\n",
    "'778d4ce2dfb7063981a67be5ba7955ba063c3319760bd3a0d2a85f5d15a594de'\n",
    "len(hashlib.sha512(\"Gaurav@1234\".encode('utf-8')).digest())\n"
   ]
  },
  {
   "cell_type": "markdown",
   "id": "c6bd8c91",
   "metadata": {},
   "source": [
    "# 64 bit processor hashlib.sha512\n",
    "********************Operation on csv file************************\n",
    "For accesing the file first check the working Directory \n",
    "Access the file using the pandas \n",
    "Read the content of the file by using the absoulte path and store the data in the file "
   ]
  },
  {
   "cell_type": "code",
   "execution_count": null,
   "id": "c8c95181",
   "metadata": {},
   "outputs": [],
   "source": [
    "#we can perform the operation on the csv file so it is nessaccery that the pandas  libreary are install first"
   ]
  },
  {
   "cell_type": "markdown",
   "id": "57cd35a2",
   "metadata": {},
   "source": [
    "\n",
    "import pandas as pd\n",
    "f1=pd.read_csv('C:/Data Science/1-python/buzzers.csv')\n"
   ]
  },
  {
   "cell_type": "code",
   "execution_count": null,
   "id": "ce583f9b",
   "metadata": {},
   "outputs": [],
   "source": [
    "######################################################"
   ]
  },
  {
   "cell_type": "markdown",
   "id": "5c00f988",
   "metadata": {},
   "source": [
    "import os \n",
    "with open('buzzers.csv')as raw_data:"
   ]
  },
  {
   "cell_type": "code",
   "execution_count": null,
   "id": "febcbd99",
   "metadata": {},
   "outputs": [],
   "source": [
    "    print(raw_data.read())"
   ]
  },
  {
   "cell_type": "markdown",
   "id": "063ddf5f",
   "metadata": {},
   "source": [
    "# read () :- read is used to read the file content , it  can read the data as normal form\n"
   ]
  },
  {
   "cell_type": "markdown",
   "id": "0fc40fc5",
   "metadata": {},
   "source": [
    "#####################################################    "
   ]
  },
  {
   "cell_type": "code",
   "execution_count": null,
   "id": "6cae6f11",
   "metadata": {},
   "outputs": [],
   "source": [
    "#reading the CSV Data as lists"
   ]
  },
  {
   "cell_type": "markdown",
   "id": "dcdb70e1",
   "metadata": {},
   "source": [
    "import csv \n",
    "with open('buzzers.csv')as raw_data:"
   ]
  },
  {
   "cell_type": "code",
   "execution_count": null,
   "id": "a5dca1f3",
   "metadata": {},
   "outputs": [],
   "source": [
    "    for line in csv.reader(raw_data):"
   ]
  },
  {
   "cell_type": "code",
   "execution_count": null,
   "id": "d3baca64",
   "metadata": {},
   "outputs": [],
   "source": [
    "        print(line)"
   ]
  },
  {
   "cell_type": "code",
   "execution_count": null,
   "id": "55f6aa0b",
   "metadata": {},
   "outputs": [],
   "source": [
    "#it can read the file data as in the list form"
   ]
  },
  {
   "cell_type": "code",
   "execution_count": null,
   "id": "623dcd05",
   "metadata": {},
   "outputs": [],
   "source": [
    "#[ ]:- data display in square bracket by line by line"
   ]
  },
  {
   "cell_type": "markdown",
   "id": "caa10e57",
   "metadata": {},
   "source": []
  },
  {
   "cell_type": "code",
   "execution_count": null,
   "id": "503bc615",
   "metadata": {},
   "outputs": [],
   "source": [
    "####################################################"
   ]
  },
  {
   "cell_type": "code",
   "execution_count": null,
   "id": "82ab92f1",
   "metadata": {},
   "outputs": [],
   "source": [
    "#reading the CSV data as Dictionaries"
   ]
  },
  {
   "cell_type": "markdown",
   "id": "43f7a115",
   "metadata": {},
   "source": [
    "import csv \n",
    "with open('buzzers.csv')as raw_data:"
   ]
  },
  {
   "cell_type": "code",
   "execution_count": null,
   "id": "f44f504c",
   "metadata": {},
   "outputs": [],
   "source": [
    "    for line in csv.DictReader(raw_data):"
   ]
  },
  {
   "cell_type": "code",
   "execution_count": null,
   "id": "ccbe8312",
   "metadata": {},
   "outputs": [],
   "source": [
    "        print(line)"
   ]
  },
  {
   "cell_type": "code",
   "execution_count": null,
   "id": "e9df0198",
   "metadata": {},
   "outputs": [],
   "source": [
    "#data display in the {} braces becauses of the we use the  dictionary in above and data are read line by lne"
   ]
  },
  {
   "cell_type": "markdown",
   "id": "e5e1c834",
   "metadata": {},
   "source": []
  },
  {
   "cell_type": "code",
   "execution_count": null,
   "id": "71a73257",
   "metadata": {},
   "outputs": [],
   "source": [
    "####################################################"
   ]
  },
  {
   "cell_type": "code",
   "execution_count": null,
   "id": "dd90a7af",
   "metadata": {},
   "outputs": [],
   "source": [
    "#another apporach to read the csv data in the dictionaries by using the key value pair"
   ]
  },
  {
   "cell_type": "markdown",
   "id": "64b4ecc8",
   "metadata": {},
   "source": [
    "import csv\n",
    "with open('buzzers.csv') as data:\n",
    "    flights={}"
   ]
  },
  {
   "cell_type": "code",
   "execution_count": null,
   "id": "e07c51ba",
   "metadata": {},
   "outputs": [],
   "source": [
    "    for line in data:"
   ]
  },
  {
   "cell_type": "markdown",
   "id": "8a98523b",
   "metadata": {},
   "source": [
    "        k,v=line.split(\",\")\n",
    "        \n",
    "        flights[k]=v\n",
    "flights"
   ]
  },
  {
   "cell_type": "code",
   "execution_count": null,
   "id": "a7f1d5e7",
   "metadata": {},
   "outputs": [],
   "source": [
    "#o.p:- it can show the only keys and value in the dictionary form . it having at last in keyword"
   ]
  },
  {
   "cell_type": "code",
   "execution_count": null,
   "id": "596ec3c0",
   "metadata": {},
   "outputs": [],
   "source": [
    "###########################################################"
   ]
  },
  {
   "cell_type": "code",
   "execution_count": null,
   "id": "2ac4c513",
   "metadata": {},
   "outputs": [],
   "source": [
    "#stripping then spliting the raw data i.e. /n"
   ]
  },
  {
   "cell_type": "markdown",
   "id": "9112bde5",
   "metadata": {},
   "source": [
    "import csv\n",
    "with open('buzzers.csv') as data:"
   ]
  },
  {
   "cell_type": "code",
   "execution_count": null,
   "id": "95b358c5",
   "metadata": {},
   "outputs": [],
   "source": [
    "    #"
   ]
  },
  {
   "cell_type": "markdown",
   "id": "8c345760",
   "metadata": {},
   "source": [
    "    flights={}"
   ]
  },
  {
   "cell_type": "code",
   "execution_count": null,
   "id": "56ef09e5",
   "metadata": {},
   "outputs": [],
   "source": [
    "    for line in data:"
   ]
  },
  {
   "cell_type": "markdown",
   "id": "e08c6190",
   "metadata": {},
   "source": [
    "        k,v=line.strip().split(\",\")\n",
    "        flights[k]=v\n",
    "flights"
   ]
  },
  {
   "cell_type": "code",
   "execution_count": null,
   "id": "36b21130",
   "metadata": {},
   "outputs": [],
   "source": [
    "#o.p:- at the end of the line  each ‘/n’ are present  so that ‘/n’ are split or remove by using the split word"
   ]
  },
  {
   "cell_type": "markdown",
   "id": "68b3d792",
   "metadata": {},
   "source": []
  },
  {
   "cell_type": "code",
   "execution_count": null,
   "id": "08e692e7",
   "metadata": {},
   "outputs": [],
   "source": [
    "################################################"
   ]
  },
  {
   "cell_type": "markdown",
   "id": "3d0f425c",
   "metadata": {},
   "source": [
    "Decorator"
   ]
  },
  {
   "cell_type": "code",
   "execution_count": null,
   "id": "a6987ed9",
   "metadata": {},
   "outputs": [],
   "source": [
    "#pre_recusittes of the decorator"
   ]
  },
  {
   "cell_type": "code",
   "execution_count": null,
   "id": "df7902cb",
   "metadata": {},
   "outputs": [],
   "source": [
    "def plus_one(number):"
   ]
  },
  {
   "cell_type": "markdown",
   "id": "b09b75db",
   "metadata": {},
   "source": [
    "    number1=number+1\n",
    "    return number1\n",
    "plus_one(5)"
   ]
  },
  {
   "cell_type": "code",
   "execution_count": null,
   "id": "ffd42e52",
   "metadata": {},
   "outputs": [],
   "source": [
    "#o.p:-6"
   ]
  },
  {
   "cell_type": "markdown",
   "id": "53ecc7d8",
   "metadata": {},
   "source": []
  },
  {
   "cell_type": "code",
   "execution_count": null,
   "id": "c2b0d8bd",
   "metadata": {},
   "outputs": [],
   "source": [
    "##############################################"
   ]
  },
  {
   "cell_type": "code",
   "execution_count": null,
   "id": "c922b0d0",
   "metadata": {},
   "outputs": [],
   "source": [
    "#definigh the function inside the another function"
   ]
  },
  {
   "cell_type": "code",
   "execution_count": null,
   "id": "3c8db869",
   "metadata": {},
   "outputs": [],
   "source": [
    "def plus_one(number):"
   ]
  },
  {
   "cell_type": "markdown",
   "id": "f13d723d",
   "metadata": {},
   "source": [
    "    "
   ]
  },
  {
   "cell_type": "code",
   "execution_count": null,
   "id": "b18e3b73",
   "metadata": {},
   "outputs": [],
   "source": [
    "    def add_one(number):"
   ]
  },
  {
   "cell_type": "markdown",
   "id": "90174f81",
   "metadata": {},
   "source": [
    "        number1= number+1\n",
    "        return number1\n",
    "    result=add_one(number)\n",
    "    return result\n",
    "plus_one(4)"
   ]
  },
  {
   "cell_type": "code",
   "execution_count": null,
   "id": "43ad8ebe",
   "metadata": {},
   "outputs": [],
   "source": [
    "#o.p:-5"
   ]
  },
  {
   "cell_type": "markdown",
   "id": "1971f1cd",
   "metadata": {},
   "source": []
  },
  {
   "cell_type": "code",
   "execution_count": null,
   "id": "d8f8a515",
   "metadata": {},
   "outputs": [],
   "source": [
    "#################################################"
   ]
  },
  {
   "cell_type": "code",
   "execution_count": null,
   "id": "2d1e3bcc",
   "metadata": {},
   "outputs": [],
   "source": [
    "#passing the argument to the other function "
   ]
  },
  {
   "cell_type": "code",
   "execution_count": null,
   "id": "f4038354",
   "metadata": {},
   "outputs": [],
   "source": [
    "def plus_one(number):"
   ]
  },
  {
   "cell_type": "markdown",
   "id": "b2974483",
   "metadata": {},
   "source": [
    "    result1=number+1\n",
    "    return result1"
   ]
  },
  {
   "cell_type": "code",
   "execution_count": null,
   "id": "bea93d3a",
   "metadata": {},
   "outputs": [],
   "source": [
    "def function_call(function):"
   ]
  },
  {
   "cell_type": "markdown",
   "id": "48c2d90b",
   "metadata": {},
   "source": [
    "    result=function(5)\n",
    "    return result\n",
    "\n",
    "function_call(plus_one)"
   ]
  },
  {
   "cell_type": "code",
   "execution_count": null,
   "id": "7489f990",
   "metadata": {},
   "outputs": [],
   "source": [
    "#o.p:-6"
   ]
  },
  {
   "cell_type": "markdown",
   "id": "64072e05",
   "metadata": {},
   "source": []
  },
  {
   "cell_type": "code",
   "execution_count": null,
   "id": "ba92ed5d",
   "metadata": {},
   "outputs": [],
   "source": [
    "###############################################"
   ]
  },
  {
   "cell_type": "markdown",
   "id": "d9f097bf",
   "metadata": {},
   "source": []
  },
  {
   "cell_type": "code",
   "execution_count": null,
   "id": "10168b98",
   "metadata": {},
   "outputs": [],
   "source": [
    "#function retunring the another functions"
   ]
  },
  {
   "cell_type": "code",
   "execution_count": null,
   "id": "b5f574ce",
   "metadata": {},
   "outputs": [],
   "source": [
    "def hello_function():"
   ]
  },
  {
   "cell_type": "code",
   "execution_count": null,
   "id": "9afd04e1",
   "metadata": {},
   "outputs": [],
   "source": [
    "    def say_hii():"
   ]
  },
  {
   "cell_type": "markdown",
   "id": "8d76aed5",
   "metadata": {},
   "source": [
    "        return \"hii\"\n",
    "    return say_hii\n",
    "hello=hello_function() # when you function(say_hii) is returing the function (say_hii)"
   ]
  },
  {
   "cell_type": "code",
   "execution_count": null,
   "id": "dca75858",
   "metadata": {},
   "outputs": [],
   "source": [
    "                        #then it is nessacary to assign the outer function(hello_function) to the variable(hello)"
   ]
  },
  {
   "cell_type": "code",
   "execution_count": null,
   "id": "bb036bf4",
   "metadata": {},
   "outputs": [],
   "source": [
    "                        #And call the varible(hello())"
   ]
  },
  {
   "cell_type": "markdown",
   "id": "05762b43",
   "metadata": {},
   "source": [
    "hello()"
   ]
  },
  {
   "cell_type": "code",
   "execution_count": null,
   "id": "4d9f7545",
   "metadata": {},
   "outputs": [],
   "source": [
    "#o.p:- hii"
   ]
  },
  {
   "cell_type": "markdown",
   "id": "8957be7d",
   "metadata": {},
   "source": [
    "\n",
    "Note:- always remember when you call the  hello_function() directly then it will display the object not hi\n",
    ". Therefore you need to assign it to hello first then call hello() function\n"
   ]
  },
  {
   "cell_type": "code",
   "execution_count": null,
   "id": "90277998",
   "metadata": {},
   "outputs": [],
   "source": [
    "###################################################"
   ]
  },
  {
   "cell_type": "markdown",
   "id": "8f1c75be",
   "metadata": {},
   "source": [
    "Pass the function as argument\n",
    "Def add(x,y):\n",
    "\tReturn x+y\n",
    "Def calculate(func ,x,y):\n",
    "\tReturn func(x,y)\n",
    "Result =calculate(add,4,6)\n",
    "Print(result)"
   ]
  },
  {
   "cell_type": "code",
   "execution_count": null,
   "id": "f1e08658",
   "metadata": {},
   "outputs": [],
   "source": [
    "#o..p:-10"
   ]
  },
  {
   "cell_type": "markdown",
   "id": "d879e107",
   "metadata": {},
   "source": [
    "\n",
    "\n",
    "\n",
    "\n",
    "**************************lambda function**************************"
   ]
  },
  {
   "cell_type": "code",
   "execution_count": null,
   "id": "2d55ef52",
   "metadata": {},
   "outputs": [],
   "source": [
    "#Lambdaa function/Anonymous function:-"
   ]
  },
  {
   "cell_type": "markdown",
   "id": "2a13346d",
   "metadata": {},
   "source": [
    "1.\tLambda function is a small anonymous function \n",
    "2.\tA lambda  function can take any number of argument ,but can only have one expression\n",
    "3.\tThe power of lambda is better show when you use them as an anonymous function is required for a small or short period of time\n",
    "4.\tSpace complexity :- reduce because occupy the explicitly memory\n",
    "Simple function:-"
   ]
  },
  {
   "cell_type": "code",
   "execution_count": null,
   "id": "0a71424c",
   "metadata": {},
   "outputs": [],
   "source": [
    "def add(a,b,c):"
   ]
  },
  {
   "cell_type": "markdown",
   "id": "9c86e9c5",
   "metadata": {},
   "source": [
    "    sum=a+b+c\n",
    "    return sum"
   ]
  },
  {
   "cell_type": "code",
   "execution_count": null,
   "id": "7ee980a4",
   "metadata": {},
   "outputs": [],
   "source": [
    "print(add(4,5,6))\t\t\t#o.p:-15"
   ]
  },
  {
   "cell_type": "markdown",
   "id": "8cc4dbc2",
   "metadata": {},
   "source": [
    "# lambda function\n",
    "add=lambda a,b,c:a+b+c\n",
    "add(4,5,6)\t\t\t\t#o.p:-15\n"
   ]
  },
  {
   "cell_type": "code",
   "execution_count": null,
   "id": "bbaf2a95",
   "metadata": {},
   "outputs": [],
   "source": [
    "####################################################"
   ]
  },
  {
   "cell_type": "markdown",
   "id": "dfdc8b53",
   "metadata": {},
   "source": [
    "# simple function "
   ]
  },
  {
   "cell_type": "code",
   "execution_count": null,
   "id": "c5505c58",
   "metadata": {},
   "outputs": [],
   "source": [
    "def mult(a,b,c):"
   ]
  },
  {
   "cell_type": "markdown",
   "id": "dd00b0cc",
   "metadata": {},
   "source": [
    "    mul=a*b*c\n",
    "    return mul"
   ]
  },
  {
   "cell_type": "code",
   "execution_count": null,
   "id": "90f360f4",
   "metadata": {},
   "outputs": [],
   "source": [
    "print(mult(4,5,6))"
   ]
  },
  {
   "cell_type": "markdown",
   "id": "8e51cac4",
   "metadata": {},
   "source": [
    "# positional parametr:-by using the lambda fun\n",
    "mult=lambda a,b,c: a*b*c\n",
    "mult(4,5,6)"
   ]
  },
  {
   "cell_type": "code",
   "execution_count": null,
   "id": "7bd28fe1",
   "metadata": {},
   "outputs": [],
   "source": [
    "#o.p:-120"
   ]
  },
  {
   "cell_type": "markdown",
   "id": "9797a2a6",
   "metadata": {},
   "source": []
  },
  {
   "cell_type": "code",
   "execution_count": null,
   "id": "853de05b",
   "metadata": {},
   "outputs": [],
   "source": [
    "#################################################"
   ]
  },
  {
   "cell_type": "code",
   "execution_count": null,
   "id": "9afcfc03",
   "metadata": {},
   "outputs": [],
   "source": [
    "#arbetary fun:- we can pass n number  of parameter"
   ]
  },
  {
   "cell_type": "markdown",
   "id": "eee87fde",
   "metadata": {},
   "source": [
    "val=lambda *args:sum(args)\n",
    "val(1,2,3,4,5,6)"
   ]
  },
  {
   "cell_type": "code",
   "execution_count": null,
   "id": "320ffb12",
   "metadata": {},
   "outputs": [],
   "source": [
    "#o.p:-21"
   ]
  },
  {
   "cell_type": "markdown",
   "id": "3f938647",
   "metadata": {},
   "source": []
  },
  {
   "cell_type": "code",
   "execution_count": null,
   "id": "932bb1d5",
   "metadata": {},
   "outputs": [],
   "source": [
    "##################################################"
   ]
  },
  {
   "cell_type": "code",
   "execution_count": null,
   "id": "33f38b70",
   "metadata": {},
   "outputs": [],
   "source": [
    "#* aargs normal fun"
   ]
  },
  {
   "cell_type": "code",
   "execution_count": null,
   "id": "153353d8",
   "metadata": {},
   "outputs": [],
   "source": [
    "def myfun(*args):"
   ]
  },
  {
   "cell_type": "code",
   "execution_count": null,
   "id": "e3360102",
   "metadata": {},
   "outputs": [],
   "source": [
    "    for i in args:"
   ]
  },
  {
   "cell_type": "code",
   "execution_count": null,
   "id": "ab76225a",
   "metadata": {},
   "outputs": [],
   "source": [
    "        print(i)\t\t\t\t\t#o.p:- hello python how  are you"
   ]
  },
  {
   "cell_type": "markdown",
   "id": "d4eaebcf",
   "metadata": {},
   "source": [
    "myfun(\"hello\",\"python\",\"how \",\"are\",\"you\")\n"
   ]
  },
  {
   "cell_type": "code",
   "execution_count": null,
   "id": "25814720",
   "metadata": {},
   "outputs": [],
   "source": [
    "#lambda"
   ]
  },
  {
   "cell_type": "markdown",
   "id": "70708ea4",
   "metadata": {},
   "source": [
    "myfun=lambda *args:args"
   ]
  },
  {
   "cell_type": "code",
   "execution_count": null,
   "id": "caee0eb8",
   "metadata": {},
   "outputs": [],
   "source": [
    "print(\"hello\",\"python\",\"how \",\"are\",\"you\")    "
   ]
  },
  {
   "cell_type": "code",
   "execution_count": null,
   "id": "6101b78a",
   "metadata": {},
   "outputs": [],
   "source": [
    " #o.p:- hello python how  are you"
   ]
  },
  {
   "cell_type": "markdown",
   "id": "b913b401",
   "metadata": {},
   "source": []
  },
  {
   "cell_type": "code",
   "execution_count": null,
   "id": "37054c77",
   "metadata": {},
   "outputs": [],
   "source": [
    "##################################################"
   ]
  },
  {
   "cell_type": "code",
   "execution_count": null,
   "id": "00bef965",
   "metadata": {},
   "outputs": [],
   "source": [
    "#simple program"
   ]
  },
  {
   "cell_type": "code",
   "execution_count": null,
   "id": "d82f472f",
   "metadata": {},
   "outputs": [],
   "source": [
    "def person(name,*data):"
   ]
  },
  {
   "cell_type": "code",
   "execution_count": null,
   "id": "85c22e38",
   "metadata": {},
   "outputs": [],
   "source": [
    "    print(name)"
   ]
  },
  {
   "cell_type": "code",
   "execution_count": null,
   "id": "2eb68dfd",
   "metadata": {},
   "outputs": [],
   "source": [
    "    print(data)"
   ]
  },
  {
   "cell_type": "markdown",
   "id": "70f0f538",
   "metadata": {},
   "source": [
    "person(\"navin\",28,\"mumbai\",12345678)"
   ]
  },
  {
   "cell_type": "code",
   "execution_count": null,
   "id": "a45d29a2",
   "metadata": {},
   "outputs": [],
   "source": [
    "#o.p:- navin 28 mumbai 12345678"
   ]
  },
  {
   "cell_type": "code",
   "execution_count": null,
   "id": "31adc6e6",
   "metadata": {},
   "outputs": [],
   "source": [
    "#lambda"
   ]
  },
  {
   "cell_type": "markdown",
   "id": "5100955c",
   "metadata": {},
   "source": [
    "person=lambda *data,name: data"
   ]
  },
  {
   "cell_type": "code",
   "execution_count": null,
   "id": "f27f31f7",
   "metadata": {},
   "outputs": [],
   "source": [
    "print(\"navin\",28,\"mumbai\",12345678)"
   ]
  },
  {
   "cell_type": "code",
   "execution_count": null,
   "id": "f1afde27",
   "metadata": {},
   "outputs": [],
   "source": [
    "#o.p:- navin 28 mumbai 12345678"
   ]
  },
  {
   "cell_type": "markdown",
   "id": "cf52ab12",
   "metadata": {},
   "source": [
    "\"\"\"\n",
    "\n",
    "****sir ne quetion vichar la hota oral la *****"
   ]
  },
  {
   "cell_type": "code",
   "execution_count": null,
   "id": "3f9a414f",
   "metadata": {},
   "outputs": [],
   "source": [
    "#taking the input from the user"
   ]
  },
  {
   "cell_type": "markdown",
   "id": "1b02cf21",
   "metadata": {},
   "source": [
    "x=int(input(\"enter the number:\"))"
   ]
  },
  {
   "cell_type": "code",
   "execution_count": null,
   "id": "3b34bc4d",
   "metadata": {},
   "outputs": [],
   "source": [
    "def add():"
   ]
  },
  {
   "cell_type": "markdown",
   "id": "32d0d93b",
   "metadata": {},
   "source": [
    "    y=x+5"
   ]
  },
  {
   "cell_type": "code",
   "execution_count": null,
   "id": "1e822a3a",
   "metadata": {},
   "outputs": [],
   "source": [
    "    print(y)"
   ]
  },
  {
   "cell_type": "markdown",
   "id": "20f81c48",
   "metadata": {},
   "source": [
    "add()\n"
   ]
  },
  {
   "cell_type": "markdown",
   "id": "09d797d6",
   "metadata": {},
   "source": [
    "# passsing the x as the postional arrugment"
   ]
  },
  {
   "cell_type": "code",
   "execution_count": null,
   "id": "f3ad7e4c",
   "metadata": {},
   "outputs": [],
   "source": [
    "def add(x):"
   ]
  },
  {
   "cell_type": "markdown",
   "id": "f489fd90",
   "metadata": {},
   "source": [
    "    y=x+5"
   ]
  },
  {
   "cell_type": "code",
   "execution_count": null,
   "id": "bf83db1a",
   "metadata": {},
   "outputs": [],
   "source": [
    "    print(y)"
   ]
  },
  {
   "cell_type": "markdown",
   "id": "7b08d889",
   "metadata": {},
   "source": [
    "add(10)\n",
    "\n",
    "'''lambda with positional  aregument as x\n",
    "x=int (input(\"enter the number:\"))\n",
    "add=lambda x:x+5\n",
    "add(x)\n"
   ]
  },
  {
   "cell_type": "code",
   "execution_count": null,
   "id": "32df19bb",
   "metadata": {},
   "outputs": [],
   "source": [
    "#lambda without positional argument as x"
   ]
  },
  {
   "cell_type": "markdown",
   "id": "d3d14cba",
   "metadata": {},
   "source": [
    "x=int (input(\"enter the number:\"))\n",
    "add=lambda :x+5\n",
    "add()\n"
   ]
  },
  {
   "cell_type": "code",
   "execution_count": null,
   "id": "40a6affa",
   "metadata": {},
   "outputs": [],
   "source": [
    "################################"
   ]
  },
  {
   "cell_type": "code",
   "execution_count": null,
   "id": "af108721",
   "metadata": {},
   "outputs": [],
   "source": [
    "#** passing the key word as the argument"
   ]
  },
  {
   "cell_type": "code",
   "execution_count": null,
   "id": "13ee4a21",
   "metadata": {},
   "outputs": [],
   "source": [
    "def person(name,**data):"
   ]
  },
  {
   "cell_type": "code",
   "execution_count": null,
   "id": "0e9734f0",
   "metadata": {},
   "outputs": [],
   "source": [
    "    print(name)"
   ]
  },
  {
   "cell_type": "code",
   "execution_count": null,
   "id": "8b360f56",
   "metadata": {},
   "outputs": [],
   "source": [
    "    print(data)"
   ]
  },
  {
   "cell_type": "markdown",
   "id": "40a8d871",
   "metadata": {},
   "source": [
    "person(name=\"navin\",age=28,place=\"mumbai\",mob=12345678)"
   ]
  },
  {
   "cell_type": "code",
   "execution_count": null,
   "id": "6e2a53a5",
   "metadata": {},
   "outputs": [],
   "source": [
    "#o.p:- navin"
   ]
  },
  {
   "cell_type": "markdown",
   "id": "a06cae50",
   "metadata": {},
   "source": [
    "{'age': 28, 'place': 'mumbai', 'mob': 12345678}\n",
    "\n"
   ]
  },
  {
   "cell_type": "code",
   "execution_count": null,
   "id": "516ac659",
   "metadata": {},
   "outputs": [],
   "source": [
    "#lambda"
   ]
  },
  {
   "cell_type": "markdown",
   "id": "aa8e080c",
   "metadata": {},
   "source": [
    "person=lambda **data:data\n",
    "person(name='navin',age=28,place=\"mumbai\",mob=12345678)"
   ]
  },
  {
   "cell_type": "code",
   "execution_count": null,
   "id": "42f37209",
   "metadata": {},
   "outputs": [],
   "source": [
    "#o.p:- navin"
   ]
  },
  {
   "cell_type": "markdown",
   "id": "8dcb433b",
   "metadata": {},
   "source": [
    "{'age': 28, 'place': 'mumbai', 'mob': 12345678}\n"
   ]
  },
  {
   "cell_type": "code",
   "execution_count": null,
   "id": "3c22466e",
   "metadata": {},
   "outputs": [],
   "source": [
    "###########################################################"
   ]
  },
  {
   "cell_type": "code",
   "execution_count": null,
   "id": "1620b143",
   "metadata": {},
   "outputs": [],
   "source": [
    "#** dictionary like"
   ]
  },
  {
   "cell_type": "code",
   "execution_count": null,
   "id": "a46931c7",
   "metadata": {},
   "outputs": [],
   "source": [
    "def person(name,**data):"
   ]
  },
  {
   "cell_type": "code",
   "execution_count": null,
   "id": "18d9a384",
   "metadata": {},
   "outputs": [],
   "source": [
    "    print(name)"
   ]
  },
  {
   "cell_type": "code",
   "execution_count": null,
   "id": "2bc28447",
   "metadata": {},
   "outputs": [],
   "source": [
    "    for i,j in data.items():"
   ]
  },
  {
   "cell_type": "code",
   "execution_count": null,
   "id": "67ce63bd",
   "metadata": {},
   "outputs": [],
   "source": [
    "        print(i,j)"
   ]
  },
  {
   "cell_type": "markdown",
   "id": "d5c88588",
   "metadata": {},
   "source": [
    "person(name=\"navin\",age=28,place=\"mumbai\",mob=12345678)"
   ]
  },
  {
   "cell_type": "code",
   "execution_count": null,
   "id": "1b66ac4f",
   "metadata": {},
   "outputs": [],
   "source": [
    "#o.p:- ['navin', 28, 'mumbai', 12345678]"
   ]
  },
  {
   "cell_type": "markdown",
   "id": "901dcea2",
   "metadata": {},
   "source": []
  },
  {
   "cell_type": "markdown",
   "id": "081570f6",
   "metadata": {},
   "source": [
    "# lambda fun\n",
    "person=lambda **data:[(j)for i,j in data.items()]\n",
    "person(name='navin',age=28,place='mumbai',mob=12345678)"
   ]
  },
  {
   "cell_type": "code",
   "execution_count": null,
   "id": "cd657e2f",
   "metadata": {},
   "outputs": [],
   "source": [
    "#o.p:- ['navin', 28, 'mumbai', 12345678]"
   ]
  },
  {
   "cell_type": "markdown",
   "id": "64d45279",
   "metadata": {},
   "source": []
  },
  {
   "cell_type": "code",
   "execution_count": null,
   "id": "cb3900c5",
   "metadata": {},
   "outputs": [],
   "source": [
    "##########################################################"
   ]
  },
  {
   "cell_type": "code",
   "execution_count": null,
   "id": "b187a4c2",
   "metadata": {},
   "outputs": [],
   "source": [
    "#call the as direct value"
   ]
  },
  {
   "cell_type": "markdown",
   "id": "a82e3ba7",
   "metadata": {},
   "source": [
    "val =lambda **data:sum(data.values())\n",
    "val(a=1,b=2,c=3,d=5)"
   ]
  },
  {
   "cell_type": "code",
   "execution_count": null,
   "id": "21bf2b79",
   "metadata": {},
   "outputs": [],
   "source": [
    "#o.p:- 11"
   ]
  },
  {
   "cell_type": "markdown",
   "id": "c55300fa",
   "metadata": {},
   "source": []
  },
  {
   "cell_type": "code",
   "execution_count": null,
   "id": "942fc751",
   "metadata": {},
   "outputs": [],
   "source": [
    "#########################################################"
   ]
  },
  {
   "cell_type": "code",
   "execution_count": null,
   "id": "5bef9c15",
   "metadata": {},
   "outputs": [],
   "source": [
    "#take the square of the list parameter lambda function in the list industry imp"
   ]
  },
  {
   "cell_type": "markdown",
   "id": "b9e10ba6",
   "metadata": {},
   "source": [
    "lst1=[1,2,3,4,5,6,7]\n",
    "sqr=lambda lst1:[i**2 for i in lst1]"
   ]
  },
  {
   "cell_type": "code",
   "execution_count": null,
   "id": "d5142407",
   "metadata": {},
   "outputs": [],
   "source": [
    "print(sqr(lst1))"
   ]
  },
  {
   "cell_type": "code",
   "execution_count": null,
   "id": "f27a652f",
   "metadata": {},
   "outputs": [],
   "source": [
    "#output:-[1, 4, 9, 16, 25, 36, 49]"
   ]
  },
  {
   "cell_type": "markdown",
   "id": "4aaa4069",
   "metadata": {},
   "source": []
  },
  {
   "cell_type": "code",
   "execution_count": null,
   "id": "6ff04eed",
   "metadata": {},
   "outputs": [],
   "source": [
    "########################################################"
   ]
  },
  {
   "cell_type": "markdown",
   "id": "7d882354",
   "metadata": {},
   "source": [
    "\n",
    "\n",
    "\n",
    "\n",
    "Python for Data Science"
   ]
  },
  {
   "cell_type": "code",
   "execution_count": null,
   "id": "82e1e87b",
   "metadata": {},
   "outputs": [],
   "source": [
    "#What is Pandas DataFrame?"
   ]
  },
  {
   "cell_type": "code",
   "execution_count": null,
   "id": "65390389",
   "metadata": {},
   "outputs": [],
   "source": [
    "#pandas DataFrame is a Two-Dimensional data structure, an immutable, heterogeneous tabular data structure with labeled axes rows, and columns."
   ]
  },
  {
   "cell_type": "markdown",
   "id": "a593a181",
   "metadata": {},
   "source": []
  },
  {
   "cell_type": "code",
   "execution_count": null,
   "id": "b8124688",
   "metadata": {},
   "outputs": [],
   "source": [
    "#DataFrame Features"
   ]
  },
  {
   "cell_type": "markdown",
   "id": "93193b3e",
   "metadata": {},
   "source": [
    "1)\tDataFrames support named rows & columns.\n",
    "2)\tyou can also provide names to rows.\n",
    "3)\tSupports heterogeneous collections of data.\n",
    "4)\tDataFrame labeled axes (rows and columns)."
   ]
  },
  {
   "cell_type": "code",
   "execution_count": null,
   "id": "c2b13104",
   "metadata": {},
   "outputs": [],
   "source": [
    "#Installing Pandas"
   ]
  },
  {
   "cell_type": "markdown",
   "id": "cf588b04",
   "metadata": {},
   "source": [
    "1)\tstep-1 go to anaconda navigator\n",
    "2)\tstep-2 select environment tab\n",
    "3)\tstep-3 by default it will be base terminal\n",
    "4)\tstep-4 on base terminal-pip install pandas\n",
    "5)\tOr conda install pandas\n"
   ]
  },
  {
   "cell_type": "code",
   "execution_count": null,
   "id": "c3d024c2",
   "metadata": {},
   "outputs": [],
   "source": [
    "######################################"
   ]
  },
  {
   "cell_type": "code",
   "execution_count": null,
   "id": "72a9ff37",
   "metadata": {},
   "outputs": [],
   "source": [
    "#Upgrade Pandas to Latest or Specific Version on base terminal write :-conda install --upgrade pandas"
   ]
  },
  {
   "cell_type": "markdown",
   "id": "964e8003",
   "metadata": {},
   "source": []
  },
  {
   "cell_type": "code",
   "execution_count": null,
   "id": "f163a898",
   "metadata": {},
   "outputs": [],
   "source": [
    "#upgrade to specific version:-conda update pandas==1.5.3"
   ]
  },
  {
   "cell_type": "markdown",
   "id": "ebee1e44",
   "metadata": {},
   "source": [
    "Note :- Do not install the spyder  on c Drive\n",
    "\n",
    "********************operation on DataFrame*************************"
   ]
  },
  {
   "cell_type": "code",
   "execution_count": null,
   "id": "a1757f70",
   "metadata": {},
   "outputs": [],
   "source": [
    "#To check the version of pandas"
   ]
  },
  {
   "cell_type": "markdown",
   "id": "7cb0dd6d",
   "metadata": {},
   "source": [
    "import pandas as pd\n",
    "pd.__version__"
   ]
  },
  {
   "cell_type": "code",
   "execution_count": null,
   "id": "7609becd",
   "metadata": {},
   "outputs": [],
   "source": [
    "#o.p:- 1.5.3"
   ]
  },
  {
   "cell_type": "markdown",
   "id": "9fd908c8",
   "metadata": {},
   "source": []
  },
  {
   "cell_type": "code",
   "execution_count": null,
   "id": "e7f444c6",
   "metadata": {},
   "outputs": [],
   "source": [
    "#########################################################"
   ]
  },
  {
   "cell_type": "markdown",
   "id": "b6062747",
   "metadata": {},
   "source": [
    "# Create pandas DataFrame Create using Construct. Create pandas DataFrame from List\n",
    "import pandas as pd\n",
    "technologies = [ [\"Spark\",20000, \"30days\"], \n",
    "                 [\"pandas\",20000, \"40days\"], \n",
    "               ]\n",
    "df=pd.DataFrame(technologies\t\t) #D and F in the DataFrame are in the capital letter always"
   ]
  },
  {
   "cell_type": "code",
   "execution_count": null,
   "id": "a6299c32",
   "metadata": {},
   "outputs": [],
   "source": [
    "print(df)"
   ]
  },
  {
   "cell_type": "code",
   "execution_count": null,
   "id": "d4d091ff",
   "metadata": {},
   "outputs": [],
   "source": [
    "#o.p:-       \t 0     \t 1    \t   \t2\t\t#by default the row and column index are given"
   ]
  },
  {
   "cell_type": "markdown",
   "id": "2812534f",
   "metadata": {},
   "source": [
    "0 \t  Spark  \t20000  \t30days\n",
    "1  \t pandas  \t20000 \t\t 40days\n"
   ]
  },
  {
   "cell_type": "code",
   "execution_count": null,
   "id": "36a9a30d",
   "metadata": {},
   "outputs": [],
   "source": [
    "####################################################"
   ]
  },
  {
   "cell_type": "code",
   "execution_count": null,
   "id": "3b9c534e",
   "metadata": {},
   "outputs": [],
   "source": [
    "#check the size of the data frame"
   ]
  },
  {
   "cell_type": "markdown",
   "id": "e7d8a250",
   "metadata": {},
   "source": [
    "df.size \t\t#o.p:-6(it can give the number of element in the dataframe)"
   ]
  },
  {
   "cell_type": "code",
   "execution_count": null,
   "id": "6b7788eb",
   "metadata": {},
   "outputs": [],
   "source": [
    "###################################################"
   ]
  },
  {
   "cell_type": "markdown",
   "id": "14238fd2",
   "metadata": {},
   "source": [
    "Note1:-Since we have not given labels to columns and indexes, DataFrame by default assigns incremental sequence numbers as labels to both rows and columns, these are called Index.\n"
   ]
  },
  {
   "cell_type": "code",
   "execution_count": null,
   "id": "2b83a5fe",
   "metadata": {},
   "outputs": [],
   "source": [
    "###################################################"
   ]
  },
  {
   "cell_type": "markdown",
   "id": "60885816",
   "metadata": {},
   "source": [
    "# Add Column & Row Labels to the DataFrame\n",
    "column_names=[\"Courses\",\"Fee\",\"Duration\"]\n",
    "row_label=[\"a\",\"b\"]\n",
    "df=pd.DataFrame(technologies,columns=column_names,index=row_label)"
   ]
  },
  {
   "cell_type": "code",
   "execution_count": null,
   "id": "5b2c3920",
   "metadata": {},
   "outputs": [],
   "source": [
    "print(df)"
   ]
  },
  {
   "cell_type": "markdown",
   "id": "16ce170b",
   "metadata": {},
   "source": []
  },
  {
   "cell_type": "code",
   "execution_count": null,
   "id": "f6d03b96",
   "metadata": {},
   "outputs": [],
   "source": [
    "#o.p:-  \t\tCourses    \tFee \t\tDuration"
   ]
  },
  {
   "cell_type": "markdown",
   "id": "8ba23c05",
   "metadata": {},
   "source": [
    "a  \t \tSpark  \t\t20000   \t30days\n",
    "b \t \tpandas  \t20000   \t40days\n"
   ]
  },
  {
   "cell_type": "code",
   "execution_count": null,
   "id": "a520d8c0",
   "metadata": {},
   "outputs": [],
   "source": [
    "####################################################"
   ]
  },
  {
   "cell_type": "code",
   "execution_count": null,
   "id": "6c275773",
   "metadata": {},
   "outputs": [],
   "source": [
    "#Check the data type of the dataframe element "
   ]
  },
  {
   "cell_type": "markdown",
   "id": "3bca57b8",
   "metadata": {},
   "source": [
    "df.dtypes "
   ]
  },
  {
   "cell_type": "code",
   "execution_count": null,
   "id": "fbbcb56a",
   "metadata": {},
   "outputs": [],
   "source": [
    "#o.p:- Courses     object"
   ]
  },
  {
   "cell_type": "markdown",
   "id": "768b4128",
   "metadata": {},
   "source": [
    "Fee          int64\n",
    "Duration    object\n",
    "dtype: object\n"
   ]
  },
  {
   "cell_type": "code",
   "execution_count": null,
   "id": "bc297c26",
   "metadata": {},
   "outputs": [],
   "source": [
    "##################################################"
   ]
  },
  {
   "cell_type": "code",
   "execution_count": null,
   "id": "d4c8c20e",
   "metadata": {},
   "outputs": [],
   "source": [
    "#You can also assign custom data types to columns. set custom types to DataFrame"
   ]
  },
  {
   "cell_type": "markdown",
   "id": "39b965bc",
   "metadata": {},
   "source": [
    "types={'Courses': str,'Fee':float,'Duration':str}\n",
    "df.dtypes\t#o.p:- the data type will be change\n"
   ]
  },
  {
   "cell_type": "code",
   "execution_count": null,
   "id": "514b9130",
   "metadata": {},
   "outputs": [],
   "source": [
    "####################################################"
   ]
  },
  {
   "cell_type": "markdown",
   "id": "75f477e5",
   "metadata": {},
   "source": [
    "# Create DataFrame from Dictionary\n",
    "technologies = {\n",
    "    'Courses':[\"Spark\",\"PySpark\",\"Hadoop\"],\n",
    "    'Fee' :[20000,25000,26000],\n",
    "    'Duration':['30day','40days','35days'],\n",
    "    'Discount':[1000,2300,1500]\n",
    "              }\n",
    "df = pd.DataFrame(technologies)\n",
    "df"
   ]
  },
  {
   "cell_type": "markdown",
   "id": "fb5cec75",
   "metadata": {},
   "source": [
    "# Quick Examples of Converting Data Types in Pandas"
   ]
  },
  {
   "cell_type": "markdown",
   "id": "0b5c90a9",
   "metadata": {},
   "source": [
    "# Convert all types to best possible data types\n",
    "df2=df.convert_dtypes()"
   ]
  },
  {
   "cell_type": "code",
   "execution_count": null,
   "id": "8ee0b8d9",
   "metadata": {},
   "outputs": [],
   "source": [
    "print(df2.dtypes)"
   ]
  },
  {
   "cell_type": "code",
   "execution_count": null,
   "id": "23350c6d",
   "metadata": {},
   "outputs": [],
   "source": [
    "#o.p:- "
   ]
  },
  {
   "cell_type": "markdown",
   "id": "752afd95",
   "metadata": {},
   "source": [
    "Courses       string\n",
    "Fee            Int64\n",
    "Duration      string\n",
    "Discount     Float64\n",
    "dtype: object\n"
   ]
  },
  {
   "cell_type": "code",
   "execution_count": null,
   "id": "3d97e370",
   "metadata": {},
   "outputs": [],
   "source": [
    "#######################################################"
   ]
  },
  {
   "cell_type": "markdown",
   "id": "7b8aa7d0",
   "metadata": {},
   "source": [
    "# Change All Columns to Same data type\n",
    "df = df.astype(str)"
   ]
  },
  {
   "cell_type": "code",
   "execution_count": null,
   "id": "ff27cfa1",
   "metadata": {},
   "outputs": [],
   "source": [
    "print(df.dtypes)"
   ]
  },
  {
   "cell_type": "code",
   "execution_count": null,
   "id": "39c4678f",
   "metadata": {},
   "outputs": [],
   "source": [
    "#o.p:- "
   ]
  },
  {
   "cell_type": "markdown",
   "id": "0b430ecf",
   "metadata": {},
   "source": [
    "Courses      object\n",
    "Fee          object\n",
    "Duration     object\n",
    "Discount     object\n",
    "dtype: object\n"
   ]
  },
  {
   "cell_type": "code",
   "execution_count": null,
   "id": "491fcdf1",
   "metadata": {},
   "outputs": [],
   "source": [
    "#######################################################"
   ]
  },
  {
   "cell_type": "markdown",
   "id": "2348502c",
   "metadata": {},
   "source": [
    "# Change data Type For One or Multiple Columns\n",
    "df = df.astype({\"Fee\": int, \"Discount\": float})"
   ]
  },
  {
   "cell_type": "code",
   "execution_count": null,
   "id": "f85661d2",
   "metadata": {},
   "outputs": [],
   "source": [
    "print(df.dtypes)"
   ]
  },
  {
   "cell_type": "code",
   "execution_count": null,
   "id": "b5da67bb",
   "metadata": {},
   "outputs": [],
   "source": [
    "#o.p:-"
   ]
  },
  {
   "cell_type": "markdown",
   "id": "ce31eb40",
   "metadata": {},
   "source": [
    "Courses       object\n",
    "Fee            int32\n",
    "Duration      object\n",
    "Discount     float64\n",
    "dtype: object\n"
   ]
  },
  {
   "cell_type": "code",
   "execution_count": null,
   "id": "72c4c43e",
   "metadata": {},
   "outputs": [],
   "source": [
    "#####################################################"
   ]
  },
  {
   "cell_type": "markdown",
   "id": "a4ba1f2a",
   "metadata": {},
   "source": [
    "# Convert Data Type for All Columns in a List\n",
    "df = pd.DataFrame(technologies)\n",
    "df.dtypes\n",
    "cols = ['Fee', 'Discount']\n",
    "df[cols] = df[cols].astype('float')\n",
    "df.dtypes"
   ]
  },
  {
   "cell_type": "code",
   "execution_count": null,
   "id": "eccb88e2",
   "metadata": {},
   "outputs": [],
   "source": [
    "#o.p:- "
   ]
  },
  {
   "cell_type": "markdown",
   "id": "a9c44b78",
   "metadata": {},
   "source": [
    "Courses       object\n",
    "Fee          float64\n",
    "Duration      object\n",
    "Discount     float64\n",
    "dtype: object\n"
   ]
  },
  {
   "cell_type": "code",
   "execution_count": null,
   "id": "22b3462d",
   "metadata": {},
   "outputs": [],
   "source": [
    "#####################################################"
   ]
  },
  {
   "cell_type": "code",
   "execution_count": null,
   "id": "f6b995da",
   "metadata": {},
   "outputs": [],
   "source": [
    "#Ignores error"
   ]
  },
  {
   "cell_type": "markdown",
   "id": "85651f81",
   "metadata": {},
   "source": [
    "df = df.astype({\"Courses\": int},errors='ignore')\n",
    "df.dtypes"
   ]
  },
  {
   "cell_type": "code",
   "execution_count": null,
   "id": "c9c1d4f3",
   "metadata": {},
   "outputs": [],
   "source": [
    "#o.p:- "
   ]
  },
  {
   "cell_type": "markdown",
   "id": "e998edc0",
   "metadata": {},
   "source": [
    "Courses       object\n",
    "Fee          float64\n",
    "Duration      object\n",
    "Discount     float64\n",
    "dtype: object\n"
   ]
  },
  {
   "cell_type": "code",
   "execution_count": null,
   "id": "000e33ac",
   "metadata": {},
   "outputs": [],
   "source": [
    "######################################################"
   ]
  },
  {
   "cell_type": "markdown",
   "id": "6c45a635",
   "metadata": {},
   "source": [
    "# Generates error\n",
    "df = df.astype({\"Courses\": int},errors='raise')"
   ]
  },
  {
   "cell_type": "code",
   "execution_count": null,
   "id": "9fdde07f",
   "metadata": {},
   "outputs": [],
   "source": [
    "#o.p:- Error raise"
   ]
  },
  {
   "cell_type": "markdown",
   "id": "a763fb83",
   "metadata": {},
   "source": []
  },
  {
   "cell_type": "code",
   "execution_count": null,
   "id": "8eb2403f",
   "metadata": {},
   "outputs": [],
   "source": [
    "#####################################################"
   ]
  },
  {
   "cell_type": "markdown",
   "id": "0631f61f",
   "metadata": {},
   "source": [
    "# Converts feed column to numeric type\n",
    "df = df.astype(str)"
   ]
  },
  {
   "cell_type": "code",
   "execution_count": null,
   "id": "44aa6b0b",
   "metadata": {},
   "outputs": [],
   "source": [
    "print(df.dtypes)"
   ]
  },
  {
   "cell_type": "markdown",
   "id": "b01a6167",
   "metadata": {},
   "source": [
    "df['Discount'] = pd.to_numeric(df['Discount'])\n",
    "df.dtypes"
   ]
  },
  {
   "cell_type": "code",
   "execution_count": null,
   "id": "ce69d5e0",
   "metadata": {},
   "outputs": [],
   "source": [
    "#o.p:- "
   ]
  },
  {
   "cell_type": "markdown",
   "id": "88ab1404",
   "metadata": {},
   "source": [
    "Courses      object\n",
    "Fee          object\n",
    "Duration     object\n",
    "Discount     object\n",
    "dtype: object\n",
    "Out[18]: \n",
    "Courses       object\n",
    "Fee           object\n",
    "Duration      object\n",
    "Discount     float64\n",
    "dtype: object  \n"
   ]
  },
  {
   "cell_type": "code",
   "execution_count": null,
   "id": "094c265e",
   "metadata": {},
   "outputs": [],
   "source": [
    "######################################################"
   ]
  },
  {
   "cell_type": "code",
   "execution_count": null,
   "id": "457f484a",
   "metadata": {},
   "outputs": [],
   "source": [
    "#convert dataframe to csv"
   ]
  },
  {
   "cell_type": "markdown",
   "id": "55adb68c",
   "metadata": {},
   "source": [
    "df.to_csv('data_file.csv')\n"
   ]
  },
  {
   "cell_type": "code",
   "execution_count": null,
   "id": "3fc03146",
   "metadata": {},
   "outputs": [],
   "source": [
    "#######################################################"
   ]
  },
  {
   "cell_type": "markdown",
   "id": "87fe341f",
   "metadata": {},
   "source": [
    "# Create DataFrame from Dictionary\n",
    "technologies = {\n",
    "    'Courses':[\"Spark\",\"PySpark\",\"Hadoop\"],\n",
    "    'Fee' :[20000,25000,26000],\n",
    "    'Duration':['30day','40days','35days'],\n",
    "    'Discount':[1000,2300,1500]\n",
    "              }\n",
    "df = pd.DataFrame(technologies)\n",
    "df\n"
   ]
  },
  {
   "cell_type": "code",
   "execution_count": null,
   "id": "af7cb601",
   "metadata": {},
   "outputs": [],
   "source": [
    "##################################################"
   ]
  },
  {
   "cell_type": "markdown",
   "id": "00acb0ae",
   "metadata": {},
   "source": [
    "\n"
   ]
  },
  {
   "cell_type": "code",
   "execution_count": null,
   "id": "0eafeeb3",
   "metadata": {},
   "outputs": [],
   "source": [
    "#Create DataFrame From CSV File"
   ]
  },
  {
   "cell_type": "markdown",
   "id": "236ede26",
   "metadata": {},
   "source": [
    "df = pd.read_csv('data_file.csv')"
   ]
  },
  {
   "cell_type": "code",
   "execution_count": null,
   "id": "2127fe68",
   "metadata": {},
   "outputs": [],
   "source": [
    "#o.p:- The csv  file is created and the dataframe are stored in it "
   ]
  },
  {
   "cell_type": "code",
   "execution_count": null,
   "id": "e4549043",
   "metadata": {},
   "outputs": [],
   "source": [
    "#################################################"
   ]
  },
  {
   "cell_type": "code",
   "execution_count": null,
   "id": "8058c02a",
   "metadata": {},
   "outputs": [],
   "source": [
    "#Create DataFrame From CSV File"
   ]
  },
  {
   "cell_type": "markdown",
   "id": "0db801fb",
   "metadata": {},
   "source": [
    "df = pd.read_csv('data_file.csv')\n",
    "df"
   ]
  },
  {
   "cell_type": "code",
   "execution_count": null,
   "id": "a37622f8",
   "metadata": {},
   "outputs": [],
   "source": [
    "#o.p:- "
   ]
  },
  {
   "cell_type": "markdown",
   "id": "dd1f9f73",
   "metadata": {},
   "source": [
    "0 \t \tCourses    \tFee \t\tDuration  \t\tDiscount\n",
    "0           0    \tSpark  \t\t20000    \t30day      \t\t1000\n",
    "1           1  \tPySpark \t 25000   \t40days     \t\t 2300\n",
    "2           2  \t Hadoop  \t26000   \t35days      \t\t1500\n",
    "\n",
    "\n",
    "\n",
    "\n",
    "\n",
    "*************************Pandas DataFrame – Basic Operations******************"
   ]
  },
  {
   "cell_type": "markdown",
   "id": "1990553c",
   "metadata": {},
   "source": [
    "# Create DataFrame with None/Null to work with examples\n",
    "import pandas as pd\n",
    "import numpy as np\n",
    "technologies   = ({\n",
    "    'Courses':[\"Spark\",\"PySpark\",\"Hadoop\",\"Python\",\"Pandas\",None,\"Spark\",\"Python\"],\n",
    "    'Fee' :[22000,25000,23000,24000,np.nan,25000,25000,22000],\n",
    "    'Duration':['30day','50days','55days','40days','60days','35day','','50days'],\n",
    "    'Discount':[1000,2300,1000,1200,2500,1300,1400,1600]\n",
    "          })\n",
    "row_labels=['r0','r1','r2','r3','r4','r5','r6','r7']\n",
    "df = pd.DataFrame(technologies, index=row_labels)"
   ]
  },
  {
   "cell_type": "code",
   "execution_count": null,
   "id": "828f3cb9",
   "metadata": {},
   "outputs": [],
   "source": [
    "print(df)"
   ]
  },
  {
   "cell_type": "code",
   "execution_count": null,
   "id": "ea83a237",
   "metadata": {},
   "outputs": [],
   "source": [
    "#o.p:-"
   ]
  },
  {
   "cell_type": "markdown",
   "id": "e9edc814",
   "metadata": {},
   "source": [
    "Courses       \tFee \t\tDuration  \t\tDiscount\n",
    "r0    \tSpark  \t\t22000.0    \t30day      \t\t1000\n",
    "r1  \tPySpark  \t25000.0   \t50days     \t\t 2300\n",
    "r2   \tHadoop  \t23000.0   \t55days      \t\t1000\n",
    "r3  \t Python  \t24000.0   \t40days      \t\t1200\n",
    "r4   \tPandas      \tNaN   \t\t60days      \t\t2500\n",
    "r5     \tNone  \t\t25000.\t0    \t35day      \t\t1300\n",
    "r6    \tSpark  \t\t25000.0           \t\t\t1400\n",
    "r7  \t Python  \t22000.0   \t50days      \t\t1600\n"
   ]
  },
  {
   "cell_type": "code",
   "execution_count": null,
   "id": "3df58802",
   "metadata": {},
   "outputs": [],
   "source": [
    "##################################################"
   ]
  },
  {
   "cell_type": "code",
   "execution_count": null,
   "id": "4e81aa84",
   "metadata": {},
   "outputs": [],
   "source": [
    "#DataFrame properties"
   ]
  },
  {
   "cell_type": "code",
   "execution_count": null,
   "id": "5c2e23e2",
   "metadata": {},
   "outputs": [],
   "source": [
    "#shape of the dataframe"
   ]
  },
  {
   "cell_type": "markdown",
   "id": "2212617f",
   "metadata": {},
   "source": [
    "df.shape"
   ]
  },
  {
   "cell_type": "code",
   "execution_count": null,
   "id": "ab7f182c",
   "metadata": {},
   "outputs": [],
   "source": [
    "#o.p:-(8, 4)"
   ]
  },
  {
   "cell_type": "markdown",
   "id": "a31eae09",
   "metadata": {},
   "source": []
  },
  {
   "cell_type": "code",
   "execution_count": null,
   "id": "52e309c0",
   "metadata": {},
   "outputs": [],
   "source": [
    "###############################################"
   ]
  },
  {
   "cell_type": "code",
   "execution_count": null,
   "id": "cab365fd",
   "metadata": {},
   "outputs": [],
   "source": [
    "#size of the dataframe"
   ]
  },
  {
   "cell_type": "markdown",
   "id": "71b164fd",
   "metadata": {},
   "source": [
    "df.size"
   ]
  },
  {
   "cell_type": "code",
   "execution_count": null,
   "id": "1c306fd1",
   "metadata": {},
   "outputs": [],
   "source": [
    "#o.p:-32"
   ]
  },
  {
   "cell_type": "markdown",
   "id": "923f83b5",
   "metadata": {},
   "source": []
  },
  {
   "cell_type": "code",
   "execution_count": null,
   "id": "94171a5b",
   "metadata": {},
   "outputs": [],
   "source": [
    "###################################################"
   ]
  },
  {
   "cell_type": "code",
   "execution_count": null,
   "id": "82191d5d",
   "metadata": {},
   "outputs": [],
   "source": [
    "#dataframe column and row information"
   ]
  },
  {
   "cell_type": "markdown",
   "id": "7abd9b4b",
   "metadata": {},
   "source": [
    "df.columns\t\t#o.p:- Index(['Courses', 'Fee', 'Duration', 'Discount'], dtype='object')\n",
    "df.columns.values\t#o.p:- array(['Courses', 'Fee', 'Duration', 'Discount'], dtype=object)\n",
    "df.index\t\t\t#o.p:-Index(['r0', 'r1', 'r2', 'r3', 'r4', 'r5', 'r6', 'r7'], dtype='object')\n",
    "df.dtypes\t\t#o.p:- Courses      object\n",
    "Fee         float64\n",
    "Duration     object\n",
    "Discount      int64\n",
    "dtype: object\n"
   ]
  },
  {
   "cell_type": "code",
   "execution_count": null,
   "id": "07357cda",
   "metadata": {},
   "outputs": [],
   "source": [
    "#################################################"
   ]
  },
  {
   "cell_type": "code",
   "execution_count": null,
   "id": "695c094c",
   "metadata": {},
   "outputs": [],
   "source": [
    "#Accessing one column contents"
   ]
  },
  {
   "cell_type": "markdown",
   "id": "747eaa7c",
   "metadata": {},
   "source": [
    "df['Fee']"
   ]
  },
  {
   "cell_type": "code",
   "execution_count": null,
   "id": "af36fba9",
   "metadata": {},
   "outputs": [],
   "source": [
    "#o.p:-"
   ]
  },
  {
   "cell_type": "markdown",
   "id": "b49572c7",
   "metadata": {},
   "source": [
    " 0    20000\n",
    "1    25000\n",
    "2    26000\n",
    "Name: Fee, dtype: int64\n"
   ]
  },
  {
   "cell_type": "code",
   "execution_count": null,
   "id": "db5c8484",
   "metadata": {},
   "outputs": [],
   "source": [
    "########################################################"
   ]
  },
  {
   "cell_type": "code",
   "execution_count": null,
   "id": "6463f050",
   "metadata": {},
   "outputs": [],
   "source": [
    "##Accessing two columns contents"
   ]
  },
  {
   "cell_type": "markdown",
   "id": "03c10f21",
   "metadata": {},
   "source": [
    "df[['Fee','Duration']]"
   ]
  },
  {
   "cell_type": "code",
   "execution_count": null,
   "id": "797cc00d",
   "metadata": {},
   "outputs": [],
   "source": [
    "#o.p:- it give the two column data value"
   ]
  },
  {
   "cell_type": "markdown",
   "id": "f611099c",
   "metadata": {},
   "source": []
  },
  {
   "cell_type": "code",
   "execution_count": null,
   "id": "0bd232f2",
   "metadata": {},
   "outputs": [],
   "source": [
    "#########################################################"
   ]
  },
  {
   "cell_type": "code",
   "execution_count": null,
   "id": "46616136",
   "metadata": {},
   "outputs": [],
   "source": [
    "#select certain rows and assign it to another dataframe"
   ]
  },
  {
   "cell_type": "markdown",
   "id": "7e2b240e",
   "metadata": {},
   "source": [
    "df2=df[6:]\n",
    "df2"
   ]
  },
  {
   "cell_type": "code",
   "execution_count": null,
   "id": "2754364f",
   "metadata": {},
   "outputs": [],
   "source": [
    "#o.p:- "
   ]
  },
  {
   "cell_type": "markdown",
   "id": "05c940ff",
   "metadata": {},
   "source": [
    "Empty DataFrame\n",
    "Columns: [Unnamed: 0, Courses, Fee, Duration, Discount]\n",
    "Index: []\n"
   ]
  },
  {
   "cell_type": "code",
   "execution_count": null,
   "id": "9773a333",
   "metadata": {},
   "outputs": [],
   "source": [
    "######################################################"
   ]
  },
  {
   "cell_type": "code",
   "execution_count": null,
   "id": "a7f3154f",
   "metadata": {},
   "outputs": [],
   "source": [
    "#accessing certain cell from column 'Duration'"
   ]
  },
  {
   "cell_type": "markdown",
   "id": "a7b8ee61",
   "metadata": {},
   "source": [
    "df['Duration'][3]"
   ]
  },
  {
   "cell_type": "code",
   "execution_count": null,
   "id": "a554525d",
   "metadata": {},
   "outputs": [],
   "source": [
    "#o.p:- '40days'"
   ]
  },
  {
   "cell_type": "markdown",
   "id": "168a8435",
   "metadata": {},
   "source": []
  },
  {
   "cell_type": "code",
   "execution_count": null,
   "id": "97f6ada5",
   "metadata": {},
   "outputs": [],
   "source": [
    "######################################################"
   ]
  },
  {
   "cell_type": "code",
   "execution_count": null,
   "id": "9b54ae83",
   "metadata": {},
   "outputs": [],
   "source": [
    "#subtracting specific value from a column"
   ]
  },
  {
   "cell_type": "markdown",
   "id": "7e0c4a09",
   "metadata": {},
   "source": [
    "df['Fee'] = df['Fee'] - 500\n",
    "df['Fee']"
   ]
  },
  {
   "cell_type": "code",
   "execution_count": null,
   "id": "64969415",
   "metadata": {},
   "outputs": [],
   "source": [
    "#o.p:-"
   ]
  },
  {
   "cell_type": "markdown",
   "id": "386cdee0",
   "metadata": {},
   "source": [
    " r0    21500.0\n",
    "r1    24500.0\n",
    "r2    22500.0\n",
    "r3    23500.0\n",
    "r4        NaN\n",
    "r5    24500.0\n",
    "r6    24500.0\n",
    "r7    21500.0\n",
    "Name: Fee, dtype: float64\n"
   ]
  },
  {
   "cell_type": "code",
   "execution_count": null,
   "id": "08648ed8",
   "metadata": {},
   "outputs": [],
   "source": [
    "#######################################################"
   ]
  },
  {
   "cell_type": "code",
   "execution_count": null,
   "id": "e4b112e0",
   "metadata": {},
   "outputs": [],
   "source": [
    "#Pandas to Manipulate DataFrame"
   ]
  },
  {
   "cell_type": "code",
   "execution_count": null,
   "id": "2b6a2c28",
   "metadata": {},
   "outputs": [],
   "source": [
    "#Describe DataFrame:- It will show 5 number summary "
   ]
  },
  {
   "cell_type": "markdown",
   "id": "2ed1b19d",
   "metadata": {},
   "source": [
    "# Describe DataFrame for all numberic columns\n",
    "df.describe()"
   ]
  },
  {
   "cell_type": "code",
   "execution_count": null,
   "id": "02eb5464",
   "metadata": {},
   "outputs": [],
   "source": [
    "#o.p:- Fee     Discount"
   ]
  },
  {
   "cell_type": "markdown",
   "id": "cd7dcf8b",
   "metadata": {},
   "source": [
    "count      7.000000     8.000000\n",
    "mean   23214.285714  1537.500000\n",
    "std     1380.131119   570.557372\n",
    "min    21500.000000  1000.000000\n",
    "25%    22000.000000  1150.000000\n",
    "50%    23500.000000  1350.000000\n",
    "75%    24500.000000  1775.000000\n",
    "max    24500.000000  2500.000000\n"
   ]
  },
  {
   "cell_type": "code",
   "execution_count": null,
   "id": "afaedf58",
   "metadata": {},
   "outputs": [],
   "source": [
    "####################################################"
   ]
  },
  {
   "cell_type": "code",
   "execution_count": null,
   "id": "0a8baf57",
   "metadata": {},
   "outputs": [],
   "source": [
    "#rename() – Renames pandas DataFrame columns"
   ]
  },
  {
   "cell_type": "markdown",
   "id": "1e978300",
   "metadata": {},
   "source": [
    "df = pd.DataFrame(technologies, index=row_labels)"
   ]
  },
  {
   "cell_type": "code",
   "execution_count": null,
   "id": "e6a2c3ea",
   "metadata": {},
   "outputs": [],
   "source": [
    "#o.p:-"
   ]
  },
  {
   "cell_type": "markdown",
   "id": "60d67042",
   "metadata": {},
   "source": [
    "Courses      \tFee\t\t Duration \t Discount\n",
    "r0    \tSpark  \t\t22000.0    \t30day      \t1000\n",
    "r1  \tPySpark  \t25000.0   \t50days      \t2300\n",
    "r2   \tHadoop  \t23000.0   \t55days     \t1000\n",
    "r3   \tPython  \t24000.0   \t40days      \t1200\n",
    "r4   \tPandas      \tNaN   \t\t60days      \t2500\n",
    "r5     \tNone \t\t 25000.0    \t35day      \t1300\n",
    "r6    \tSpark  \t\t25000.0               \t\t1400\n",
    "r7   \tPython  \t22000.0   \t50days      \t1600\n"
   ]
  },
  {
   "cell_type": "code",
   "execution_count": null,
   "id": "ab2aa210",
   "metadata": {},
   "outputs": [],
   "source": [
    "####################################################"
   ]
  },
  {
   "cell_type": "markdown",
   "id": "a8b5d42d",
   "metadata": {},
   "source": [
    "# Assign new header by setting new column names.\n",
    "df.columns=['A','B','C','D']\n",
    "df"
   ]
  },
  {
   "cell_type": "code",
   "execution_count": null,
   "id": "99963f0e",
   "metadata": {},
   "outputs": [],
   "source": [
    "#o.p:- "
   ]
  },
  {
   "cell_type": "markdown",
   "id": "d73ebb28",
   "metadata": {},
   "source": [
    "A       \t \tB      \t \tC    \t\t D\n",
    "r0    \t\tSpark  \t\t22000.0  \t 30days\t 1000\n",
    "r1  \t\tPySpark  \t25000.0  \t50days \t 2300\n",
    "r2   \t\tHadoop  \t23000.0  \t55days  \t1000\n",
    "r3   \t\tPython  \t24000.0  \t40days  \t1200\n",
    "r4   \t\tPandas     \t NaN  \t\t60days  \t2500\n",
    "r5     \t\tNone  \t\t25000.0   \t35day  \t1300\n",
    "r6    \t\tSpark \t\t 25000.0         \t\t\t 1400\n",
    "r7   \t\tPython \t 22000.0  \t50days  \t1600\n"
   ]
  },
  {
   "cell_type": "code",
   "execution_count": null,
   "id": "78d26074",
   "metadata": {},
   "outputs": [],
   "source": [
    "###########################################################"
   ]
  },
  {
   "cell_type": "markdown",
   "id": "eda34fe5",
   "metadata": {},
   "source": [
    "# Rename Column Names using rename() method\n",
    "df = pd.DataFrame(technologies, index=row_labels)\n",
    "df.columns=['A','B','C','D']\n",
    "df2 = df.rename({'A': 'c1', 'B': 'c2'}, axis=1)\n",
    "df2"
   ]
  },
  {
   "cell_type": "code",
   "execution_count": null,
   "id": "7636211d",
   "metadata": {},
   "outputs": [],
   "source": [
    "#o.p:-\t\t c1      \t\t c2      \t\t C   \t\t  D"
   ]
  },
  {
   "cell_type": "markdown",
   "id": "780aa1b6",
   "metadata": {},
   "source": [
    "r0    \t\tSpark  \t\t22000.0   \t30days  \t1000\n",
    "r1  \t\tPySpark \t 25000.0  \t50days \t 2300\n",
    "r2   \t\tHadoop  \t23000.0  \t55days  \t1000\n",
    "r3   \t\tPython  \t24000.0  \t40days  \t1200\n",
    "r4   \t\tPandas      \tNaN  \t\t60days \t 2500\n",
    "r5     \t\tNone  \t\t25000.0   \t35days\t\t1300\n",
    "r6    \t\tSpark \t\t 25000.0          \t\t1400\n",
    "r7   \t\tPython  \t22000.0  \t50days  \t1600\n"
   ]
  },
  {
   "cell_type": "code",
   "execution_count": null,
   "id": "f5d7aafd",
   "metadata": {},
   "outputs": [],
   "source": [
    "#######################################"
   ]
  },
  {
   "cell_type": "code",
   "execution_count": null,
   "id": "010e4a8c",
   "metadata": {},
   "outputs": [],
   "source": [
    "#renaming the column by using the axis keyword "
   ]
  },
  {
   "cell_type": "markdown",
   "id": "4f2a9dea",
   "metadata": {},
   "source": [
    "df2 = df.rename({'C': 'c3', 'D': 'c4'}, axis='columns')\n",
    "df2"
   ]
  },
  {
   "cell_type": "code",
   "execution_count": null,
   "id": "c257faf2",
   "metadata": {},
   "outputs": [],
   "source": [
    "#o.p:- "
   ]
  },
  {
   "cell_type": "markdown",
   "id": "25ddfb48",
   "metadata": {},
   "source": [
    "A       \t \tB     \t\t c3   \t\t c4\n",
    "r0    \t\tSpark  \t\t22000.0   \t30day  \t1000\n",
    "r1  \t\tPySpark  \t25000.0  \t50days  \t2300\n",
    "r2   \t\tHadoop  \t23000.0  \t55days  \t1000\n",
    "r3   \t\tPython  \t24000.0  \t40days  \t1200\n",
    "r4   \t\tPandas      \tNaN  \t\t60days  \t2500\n",
    "r5     \t\tNone  \t\t25000.0   \t35day  \t1300\n",
    "r6    \t\tSpark  \t\t25000.0          \t\t\t1400\n",
    "r7   \t\tPython  \t22000.0  \t50days  \t1600\n"
   ]
  },
  {
   "cell_type": "code",
   "execution_count": null,
   "id": "84437b1b",
   "metadata": {},
   "outputs": [],
   "source": [
    "####################################################"
   ]
  },
  {
   "cell_type": "markdown",
   "id": "de7b3409",
   "metadata": {},
   "source": [
    "df2 = df.rename(columns={'A': 'c1', 'B': 'c2'})\n",
    "df2"
   ]
  },
  {
   "cell_type": "code",
   "execution_count": null,
   "id": "47a2b019",
   "metadata": {},
   "outputs": [],
   "source": [
    "#o.p:-"
   ]
  },
  {
   "cell_type": "markdown",
   "id": "49a1f392",
   "metadata": {},
   "source": [
    "c1       \t\tc2       \t\tC     \t\tD\n",
    "r0    \tSpark  \t\t22000.0   \t30day  \t1000\n",
    "r1  \tPySpark  \t25000.0  \t50days  \t2300\n",
    "r2   \tHadoop  \t23000.0  \t55days  \t1000\n",
    "r3   \tPython  \t24000.0  \t40days  \t1200\n",
    "r4   \tPandas      \tNaN  \t\t60days  \t2500\n",
    "r5     \tNone  \t\t25000.0   \t35day  \t1300\n",
    "r6   \t Spark  \t25000.0          \t\t\t1400\n",
    "r7   \tPython  \t22000.0  \t50days  \t1600\n"
   ]
  },
  {
   "cell_type": "code",
   "execution_count": null,
   "id": "a90f63af",
   "metadata": {},
   "outputs": [],
   "source": [
    "####################################################"
   ]
  },
  {
   "cell_type": "code",
   "execution_count": null,
   "id": "bfee33bf",
   "metadata": {},
   "outputs": [],
   "source": [
    "#Drop DataFrame Rows and Columns"
   ]
  },
  {
   "cell_type": "markdown",
   "id": "d02f922b",
   "metadata": {},
   "source": [
    "df = pd.DataFrame(technologies, index=row_labels)\n"
   ]
  },
  {
   "cell_type": "markdown",
   "id": "0969b4db",
   "metadata": {},
   "source": [
    "# Drop rows by labels\n",
    "df1 = df.drop(['r1','r2'])\n",
    "df1"
   ]
  },
  {
   "cell_type": "code",
   "execution_count": null,
   "id": "a08fe05c",
   "metadata": {},
   "outputs": [],
   "source": [
    "#o.p:-   \tCourses      \tFee \t\tDuration  \tDiscount"
   ]
  },
  {
   "cell_type": "markdown",
   "id": "66c18511",
   "metadata": {},
   "source": [
    "r0   \t\tSpark  \t\t22000.0    \t30day      \t1000\n",
    "r3  \t\tPython  \t24000.0   \t40days      \t1200\n",
    "r4  \t\tPandas      \tNaN   \t\t60days      \t2500\n",
    "r5    \t\tNone  \t\t25000.0    \t35day      \t1300\n",
    "r6  \t\t Spark  \t25000.0               \t\t1400\n",
    "r7 \t\t Python  \t22000.0   \t50days      \t1600\n"
   ]
  },
  {
   "cell_type": "code",
   "execution_count": null,
   "id": "df7e968c",
   "metadata": {},
   "outputs": [],
   "source": [
    "####################################################"
   ]
  },
  {
   "cell_type": "markdown",
   "id": "d37556fe",
   "metadata": {},
   "source": [
    "# Delete Rows by position/index\n",
    "df1=df.drop(df.index[1])\n",
    "df1"
   ]
  },
  {
   "cell_type": "code",
   "execution_count": null,
   "id": "c1fea438",
   "metadata": {},
   "outputs": [],
   "source": [
    "#o.p:- Courses      \tFee \t\tDuration  \t\tDiscount"
   ]
  },
  {
   "cell_type": "markdown",
   "id": "fb7a6777",
   "metadata": {},
   "source": [
    "r0   Spark  \t\t22000.0    \t30day      \t\t1000\n",
    "r2  Hadoop  \t\t23000.0   \t55days      \t\t1000\n",
    "r3  Python  \t\t24000.0   \t40days      \t\t1200\n",
    "r4  Pandas      \t\tNaN   \t\t60days      \t\t2500\n",
    "r5    None  \t\t25000.0    \t35day      \t\t1300\n",
    "r6   Spark  \t\t25000.0               \t\t\t1400\n",
    "r7  Python  \t\t22000.0   \t50days      \t\t1600\n"
   ]
  },
  {
   "cell_type": "code",
   "execution_count": null,
   "id": "8e4e0a7c",
   "metadata": {},
   "outputs": [],
   "source": [
    "######################################################"
   ]
  },
  {
   "cell_type": "markdown",
   "id": "4990aaf6",
   "metadata": {},
   "source": [
    "df1=df.drop(df.index[[1,3]])\n",
    "df1"
   ]
  },
  {
   "cell_type": "code",
   "execution_count": null,
   "id": "3ace85d6",
   "metadata": {},
   "outputs": [],
   "source": [
    "#o.p:- Courses      \tFee \t\tDuration  \t\tDiscount"
   ]
  },
  {
   "cell_type": "markdown",
   "id": "671a7852",
   "metadata": {},
   "source": [
    "r0   Spark  \t\t22000.0    \t30day      \t\t1000\n",
    "r2  Hadoop  \t\t23000.0   \t55days      \t\t1000\n",
    "r4  Pandas      \t\tNaN   \t\t60days      \t\t2500\n",
    "r5    None  \t\t25000.0    \t35day      \t\t1300\n",
    "r6   Spark  \t\t25000.0               \t\t\t1400\n",
    "r7  Python  \t\t22000.0   \t50days      \t\t1600\n"
   ]
  },
  {
   "cell_type": "code",
   "execution_count": null,
   "id": "e4a435d9",
   "metadata": {},
   "outputs": [],
   "source": [
    "#####################################################"
   ]
  },
  {
   "cell_type": "markdown",
   "id": "0e81115e",
   "metadata": {},
   "source": [
    "# Delete Rows by Index Range\n",
    "df1=df.drop(df.index[2:])\n",
    "df1"
   ]
  },
  {
   "cell_type": "code",
   "execution_count": null,
   "id": "13bf1a24",
   "metadata": {},
   "outputs": [],
   "source": [
    "#o.p:- Courses      \tFee \t\tDuration  \t\tDiscount"
   ]
  },
  {
   "cell_type": "markdown",
   "id": "c186f0ce",
   "metadata": {},
   "source": [
    "r0    Spark  \t\t22000.0   \t 30day      \t\t1000\n",
    "r1  PySpark  \t\t25000.0   \t50days      \t\t2300\n"
   ]
  },
  {
   "cell_type": "code",
   "execution_count": null,
   "id": "d736eaae",
   "metadata": {},
   "outputs": [],
   "source": [
    "#############################################"
   ]
  },
  {
   "cell_type": "markdown",
   "id": "f18e6abb",
   "metadata": {},
   "source": [
    "# When you have default indexs for rows\n",
    "df = pd.DataFrame(technologies)\n",
    "df1 = df.drop(0)\n",
    "df1"
   ]
  },
  {
   "cell_type": "code",
   "execution_count": null,
   "id": "5135b461",
   "metadata": {},
   "outputs": [],
   "source": [
    "#o.p:- Courses      \t\tFee \t\tDuration  \t\tDiscount"
   ]
  },
  {
   "cell_type": "markdown",
   "id": "ff71279b",
   "metadata": {},
   "source": [
    "1  PySpark  \t\t\t25000.0   \t50days      \t\t2300\n",
    "2   Hadoop  \t\t\t23000.0   \t55days      \t\t1000\n",
    "3   Python  \t\t\t24000.0   \t40days      \t\t1200\n",
    "4   Pandas      \t\t\tNaN   \t\t60days      \t\t2500\n",
    "5     None  \t\t\t25000.0    \t35day      \t\t1300\n",
    "6    Spark  \t\t\t25000.0               \t\t\t1400\n",
    "7   Python  \t\t\t22000.0   \t50days      \t\t1600\n"
   ]
  },
  {
   "cell_type": "code",
   "execution_count": null,
   "id": "99000c6c",
   "metadata": {},
   "outputs": [],
   "source": [
    "####################################################"
   ]
  },
  {
   "cell_type": "markdown",
   "id": "05cf91c2",
   "metadata": {},
   "source": [
    "df = pd.DataFrame(technologies)\n",
    "df1 = df.drop([0, 3])#it will delete row0 n row3\n",
    "df1\n"
   ]
  },
  {
   "cell_type": "code",
   "execution_count": null,
   "id": "589056cd",
   "metadata": {},
   "outputs": [],
   "source": [
    "#o.p:- Courses      \t\tFee \t\tDuration \t \tDiscount"
   ]
  },
  {
   "cell_type": "markdown",
   "id": "b666ff28",
   "metadata": {},
   "source": [
    "1  PySpark  \t\t\t25000.0   \t50days      \t\t2300\n",
    "2   Hadoop  \t\t\t23000.0   \t55days      \t\t1000\n",
    "4   Pandas      \t\t\tNaN   \t\t60days      \t\t2500\n",
    "5     None  \t\t\t25000.0    \t35day      \t\t1300\n",
    "6    Spark  \t\t\t25000.0               \t\t\t1400\n",
    "7   Python  \t\t\t22000.0   \t50days      \t\t1600\n"
   ]
  },
  {
   "cell_type": "code",
   "execution_count": null,
   "id": "6843f26a",
   "metadata": {},
   "outputs": [],
   "source": [
    "#########################################################"
   ]
  },
  {
   "cell_type": "markdown",
   "id": "e71f04de",
   "metadata": {},
   "source": [
    "df1 = df.drop(range(0,2))#it will delete 0 and 1\n",
    "df1"
   ]
  },
  {
   "cell_type": "code",
   "execution_count": null,
   "id": "c3a59aa8",
   "metadata": {},
   "outputs": [],
   "source": [
    "#o.p:- Courses     \t\tFee \t\tDuration  \t\tDiscount"
   ]
  },
  {
   "cell_type": "markdown",
   "id": "aaf67b25",
   "metadata": {},
   "source": [
    "2  Hadoop  \t\t\t23000.0   \t55days      \t\t1000\n",
    "3  Python  \t\t\t24000.0   \t40days      \t\t1200\n",
    "4  Pandas     \t\t\t NaN   \t\t60days      \t\t2500\n",
    "5    None \t\t\t 25000.0    \t35day      \t\t1300\n",
    "6   Spark  \t\t\t25000.0               \t\t\t1400\n",
    "7  Python  \t\t\t22000.0   \t50days      \t\t1600\n"
   ]
  },
  {
   "cell_type": "code",
   "execution_count": null,
   "id": "30afaac0",
   "metadata": {},
   "outputs": [],
   "source": [
    "##############################################################"
   ]
  },
  {
   "cell_type": "markdown",
   "id": "575db43f",
   "metadata": {},
   "source": [
    "import pandas as pd\n",
    "technologies = ({\n",
    "    'Courses':[\"Spark\",\"PySpark\",\"Hadoop\",\"Python\",\"pandas\",\"Oracle\",\"Java\"],\n",
    "    'Fee' :[20000,25000,26000,22000,24000,21000,22000],\n",
    "    'Duration':['30day', '40days' ,'35days', '40days', '60days', '50days', '55days']\n",
    "              })\n",
    "df = pd.DataFrame(technologies)"
   ]
  },
  {
   "cell_type": "code",
   "execution_count": null,
   "id": "c6a19004",
   "metadata": {},
   "outputs": [],
   "source": [
    "print(df)"
   ]
  },
  {
   "cell_type": "code",
   "execution_count": null,
   "id": "2774df06",
   "metadata": {},
   "outputs": [],
   "source": [
    "#get the dataframe in the row and column"
   ]
  },
  {
   "cell_type": "markdown",
   "id": "996ade32",
   "metadata": {},
   "source": []
  },
  {
   "cell_type": "code",
   "execution_count": null,
   "id": "b202879c",
   "metadata": {},
   "outputs": [],
   "source": [
    "####################################################"
   ]
  },
  {
   "cell_type": "code",
   "execution_count": null,
   "id": "ced7cf47",
   "metadata": {},
   "outputs": [],
   "source": [
    "#Drop Column by Name"
   ]
  },
  {
   "cell_type": "markdown",
   "id": "c351e08b",
   "metadata": {},
   "source": [
    "df2=df.drop([\"Fee\"], axis = 1)\t\t\t# Drops 'Fee' column"
   ]
  },
  {
   "cell_type": "code",
   "execution_count": null,
   "id": "e2592a72",
   "metadata": {},
   "outputs": [],
   "source": [
    "print(df2)"
   ]
  },
  {
   "cell_type": "code",
   "execution_count": null,
   "id": "83e93c98",
   "metadata": {},
   "outputs": [],
   "source": [
    "#the fees column are drop from the dataframe"
   ]
  },
  {
   "cell_type": "markdown",
   "id": "ba75965b",
   "metadata": {},
   "source": []
  },
  {
   "cell_type": "code",
   "execution_count": null,
   "id": "f6d99305",
   "metadata": {},
   "outputs": [],
   "source": [
    "###################################################"
   ]
  },
  {
   "cell_type": "markdown",
   "id": "205dd8df",
   "metadata": {},
   "source": [
    "# Explicitly using parameter name 'labels'\n",
    "df2=df.drop(labels=[\"Fee\"], axis = 1)"
   ]
  },
  {
   "cell_type": "code",
   "execution_count": null,
   "id": "fe052af9",
   "metadata": {},
   "outputs": [],
   "source": [
    "#it can drop the fees column"
   ]
  },
  {
   "cell_type": "markdown",
   "id": "ea372be7",
   "metadata": {},
   "source": []
  },
  {
   "cell_type": "markdown",
   "id": "5a83354a",
   "metadata": {},
   "source": [
    "# Alternatively you can also use columns instead of labels.\n",
    "df2=df.drop(columns=[\"Fee\"], axis = 1)"
   ]
  },
  {
   "cell_type": "code",
   "execution_count": null,
   "id": "a4279858",
   "metadata": {},
   "outputs": [],
   "source": [
    "#it can drop the fees column"
   ]
  },
  {
   "cell_type": "markdown",
   "id": "f8cbcfd3",
   "metadata": {},
   "source": []
  },
  {
   "cell_type": "code",
   "execution_count": null,
   "id": "1d308deb",
   "metadata": {},
   "outputs": [],
   "source": [
    "###################################################"
   ]
  },
  {
   "cell_type": "markdown",
   "id": "226d0a4f",
   "metadata": {},
   "source": [
    "# Drop column by index."
   ]
  },
  {
   "cell_type": "code",
   "execution_count": null,
   "id": "823252c1",
   "metadata": {},
   "outputs": [],
   "source": [
    "print(df.drop(df.columns[1], axis = 1))"
   ]
  },
  {
   "cell_type": "markdown",
   "id": "d2a595c6",
   "metadata": {},
   "source": [
    "df = pd.DataFrame(technologies)\n"
   ]
  },
  {
   "cell_type": "markdown",
   "id": "da1c1bcd",
   "metadata": {},
   "source": [
    "# using inplace=True\n",
    "df.drop(df.columns[[2]], axis = 1, inplace=True)"
   ]
  },
  {
   "cell_type": "code",
   "execution_count": null,
   "id": "3ad0bd32",
   "metadata": {},
   "outputs": [],
   "source": [
    "print(df)"
   ]
  },
  {
   "cell_type": "markdown",
   "id": "c787207d",
   "metadata": {},
   "source": []
  },
  {
   "cell_type": "code",
   "execution_count": null,
   "id": "d1bc724f",
   "metadata": {},
   "outputs": [],
   "source": [
    "#############################################################"
   ]
  },
  {
   "cell_type": "markdown",
   "id": "4e80cb1c",
   "metadata": {},
   "source": [
    "df = pd.DataFrame(technologies)"
   ]
  },
  {
   "cell_type": "code",
   "execution_count": null,
   "id": "3ba3976a",
   "metadata": {},
   "outputs": [],
   "source": [
    "#Drop Two or More Columns By Label Name"
   ]
  },
  {
   "cell_type": "markdown",
   "id": "0d758090",
   "metadata": {},
   "source": [
    "df2=df.drop([\"Courses\", \"Fee\"], axis = 1)"
   ]
  },
  {
   "cell_type": "code",
   "execution_count": null,
   "id": "0dc36201",
   "metadata": {},
   "outputs": [],
   "source": [
    "print(df2)"
   ]
  },
  {
   "cell_type": "markdown",
   "id": "09b5b118",
   "metadata": {},
   "source": []
  },
  {
   "cell_type": "code",
   "execution_count": null,
   "id": "5d1ed2de",
   "metadata": {},
   "outputs": [],
   "source": [
    "##############################################################"
   ]
  },
  {
   "cell_type": "code",
   "execution_count": null,
   "id": "b92a95ac",
   "metadata": {},
   "outputs": [],
   "source": [
    "#Drop Two or More Columns by Index"
   ]
  },
  {
   "cell_type": "markdown",
   "id": "1ac7cd8b",
   "metadata": {},
   "source": [
    "df = pd.DataFrame(technologies)\n",
    "df2=df.drop(df.columns[[0,1]], axis = 1)"
   ]
  },
  {
   "cell_type": "code",
   "execution_count": null,
   "id": "0edacc46",
   "metadata": {},
   "outputs": [],
   "source": [
    "print(df2)"
   ]
  },
  {
   "cell_type": "markdown",
   "id": "126690b1",
   "metadata": {},
   "source": []
  },
  {
   "cell_type": "code",
   "execution_count": null,
   "id": "06145093",
   "metadata": {},
   "outputs": [],
   "source": [
    "###########################################################"
   ]
  },
  {
   "cell_type": "code",
   "execution_count": null,
   "id": "d0d0ca05",
   "metadata": {},
   "outputs": [],
   "source": [
    "#Drop Columns from List of Columns"
   ]
  },
  {
   "cell_type": "markdown",
   "id": "084e600c",
   "metadata": {},
   "source": [
    "df = pd.DataFrame(technologies)\n",
    "lisCol = [\"Courses\",\"Fee\"]\n",
    "df2=df.drop(lisCol, axis = 1)"
   ]
  },
  {
   "cell_type": "code",
   "execution_count": null,
   "id": "861592c1",
   "metadata": {},
   "outputs": [],
   "source": [
    "print(df2)"
   ]
  },
  {
   "cell_type": "markdown",
   "id": "267a81d9",
   "metadata": {},
   "source": []
  },
  {
   "cell_type": "code",
   "execution_count": null,
   "id": "81eeb417",
   "metadata": {},
   "outputs": [],
   "source": [
    "############################################################"
   ]
  },
  {
   "cell_type": "code",
   "execution_count": null,
   "id": "07117f18",
   "metadata": {},
   "outputs": [],
   "source": [
    "#Remove columns From DataFrame inplace"
   ]
  },
  {
   "cell_type": "markdown",
   "id": "9aec193a",
   "metadata": {},
   "source": [
    "df.drop(df.columns[1], axis = 1, inplace=True)\n",
    "df"
   ]
  },
  {
   "cell_type": "markdown",
   "id": "4ff0243d",
   "metadata": {},
   "source": [
    "# using inplace=True"
   ]
  },
  {
   "cell_type": "code",
   "execution_count": null,
   "id": "1b0613f2",
   "metadata": {},
   "outputs": [],
   "source": [
    "############################################################"
   ]
  },
  {
   "cell_type": "code",
   "execution_count": null,
   "id": "a487a05c",
   "metadata": {},
   "outputs": [],
   "source": [
    "##Pandas Select Rows by Index (Position/Label)"
   ]
  },
  {
   "cell_type": "markdown",
   "id": "8fff1a40",
   "metadata": {},
   "source": [
    "import pandas as pd\n",
    "import numpy as np\n",
    "technologies   = ({\n",
    "    'Courses':[\"Spark\",\"PySpark\",\"Hadoop\",\"Python\",\"Pandas\",None,\"Spark\",\"Python\"],\n",
    "    'Fee' :[22000,25000,23000,24000,np.nan,25000,25000,22000],\n",
    "    'Duration':['30day','50days','55days','40days','60days','35day','','50days'],\n",
    "    'Discount':[1000,2300,1000,1200,2500,1300,1400,1600]\n",
    "          })\n",
    "row_labels=['r0','r1','r2','r3','r4','r5','r6','r7']\n",
    "df = pd.DataFrame(technologies, index=row_labels)"
   ]
  },
  {
   "cell_type": "code",
   "execution_count": null,
   "id": "0d1a2eea",
   "metadata": {},
   "outputs": [],
   "source": [
    "print(df)"
   ]
  },
  {
   "cell_type": "markdown",
   "id": "3541645e",
   "metadata": {},
   "source": []
  },
  {
   "cell_type": "code",
   "execution_count": null,
   "id": "25d5e24f",
   "metadata": {},
   "outputs": [],
   "source": [
    "#imp for the interview"
   ]
  },
  {
   "cell_type": "markdown",
   "id": "ce7bdbfd",
   "metadata": {},
   "source": [
    "iloc[]:- for the index\n",
    "Syntax\n",
    "df.iloc[startrow:endrow, startcolumn:endcolumn]\n",
    "\n",
    "loc[]:- for the label \n",
    "\n",
    "df = pd.DataFrame(technologies, index=row_labels)"
   ]
  },
  {
   "cell_type": "markdown",
   "id": "50f75380",
   "metadata": {},
   "source": [
    "# Below are quick example\n",
    "df2=df.iloc[:, 0:2]\n",
    "df2"
   ]
  },
  {
   "cell_type": "code",
   "execution_count": null,
   "id": "35fda9d3",
   "metadata": {},
   "outputs": [],
   "source": [
    "#This line uses the slicing operator to get DataFrame items by index."
   ]
  },
  {
   "cell_type": "markdown",
   "id": "8a80a56c",
   "metadata": {},
   "source": [
    "# The first slice [:] indicates to return all rows. "
   ]
  },
  {
   "cell_type": "code",
   "execution_count": null,
   "id": "75cf4abd",
   "metadata": {},
   "outputs": [],
   "source": [
    "#The second slice specifies that only columns between 0 and 2 (excluding 2) should be returned."
   ]
  },
  {
   "cell_type": "markdown",
   "id": "449e0af7",
   "metadata": {},
   "source": []
  },
  {
   "cell_type": "code",
   "execution_count": null,
   "id": "2715bb47",
   "metadata": {},
   "outputs": [],
   "source": [
    "#############################################################"
   ]
  },
  {
   "cell_type": "markdown",
   "id": "a2dec557",
   "metadata": {},
   "source": [
    "df2=df.iloc[0:2, :]\n",
    "df2"
   ]
  },
  {
   "cell_type": "code",
   "execution_count": null,
   "id": "42c96bd7",
   "metadata": {},
   "outputs": [],
   "source": [
    "#In this case, the first slice [0:2] is requesting only rows 0 through 1of the DataFrame."
   ]
  },
  {
   "cell_type": "code",
   "execution_count": null,
   "id": "29cd9af9",
   "metadata": {},
   "outputs": [],
   "source": [
    "#The second slice [:] indicates that all columns are required."
   ]
  },
  {
   "cell_type": "markdown",
   "id": "a44aef0c",
   "metadata": {},
   "source": []
  },
  {
   "cell_type": "code",
   "execution_count": null,
   "id": "48034c6f",
   "metadata": {},
   "outputs": [],
   "source": [
    "#############################################################"
   ]
  },
  {
   "cell_type": "code",
   "execution_count": null,
   "id": "948b23ca",
   "metadata": {},
   "outputs": [],
   "source": [
    "#Slicing Specific Rows and Columns using iloc attribute"
   ]
  },
  {
   "cell_type": "markdown",
   "id": "8052b8d1",
   "metadata": {},
   "source": [
    "df3=df.iloc[1:2, 1:3]\n",
    "df3\n"
   ]
  },
  {
   "cell_type": "code",
   "execution_count": null,
   "id": "a9ee8bb6",
   "metadata": {},
   "outputs": [],
   "source": [
    "#############################################################"
   ]
  },
  {
   "cell_type": "code",
   "execution_count": null,
   "id": "aab55adb",
   "metadata": {},
   "outputs": [],
   "source": [
    "#Another example"
   ]
  },
  {
   "cell_type": "markdown",
   "id": "ef35440c",
   "metadata": {},
   "source": [
    "df3=df.iloc[:, 1:3]\n",
    "df3"
   ]
  },
  {
   "cell_type": "code",
   "execution_count": null,
   "id": "55afac90",
   "metadata": {},
   "outputs": [],
   "source": [
    "#The second operator [1:3] yields columns 1 and 3 only."
   ]
  },
  {
   "cell_type": "markdown",
   "id": "11d6beaa",
   "metadata": {},
   "source": [
    "# Select Rows by Integer Index"
   ]
  },
  {
   "cell_type": "code",
   "execution_count": null,
   "id": "bd9483d4",
   "metadata": {},
   "outputs": [],
   "source": [
    "#############################################################"
   ]
  },
  {
   "cell_type": "code",
   "execution_count": null,
   "id": "e92a4f70",
   "metadata": {},
   "outputs": [],
   "source": [
    "#df2 = df.iloc[2]     # Select Row by Index"
   ]
  },
  {
   "cell_type": "markdown",
   "id": "34434775",
   "metadata": {},
   "source": [
    "df2\n"
   ]
  },
  {
   "cell_type": "code",
   "execution_count": null,
   "id": "ec07d2bc",
   "metadata": {},
   "outputs": [],
   "source": [
    "############################################################"
   ]
  },
  {
   "cell_type": "markdown",
   "id": "84dfe774",
   "metadata": {},
   "source": [
    "df2 = df.iloc[[2,3,6]]    # Select Rows by Index List and it can select the 2 ,3,6 row from the dataframe\n",
    "df2 = df.iloc[1:5]   # Select Rows by Integer Index Range\n",
    "df2 = df.iloc[:1]    # Select First Row\n",
    "df2 = df.iloc[:3]    # Select First 3 Rows\n",
    "df2 = df.iloc[-1:]   # Select Last Row\n",
    "df2 = df.iloc[-3:]   # Select Last 3 Row\n",
    "df2 = df.iloc[::2]   # Selects alternate rows\n"
   ]
  },
  {
   "cell_type": "code",
   "execution_count": null,
   "id": "29ed8830",
   "metadata": {},
   "outputs": [],
   "source": [
    "#############################################################"
   ]
  },
  {
   "cell_type": "markdown",
   "id": "6fcbbc7b",
   "metadata": {},
   "source": [
    "# Select Rows by Index Labels\n",
    "df2 = df.loc['r2']          # Select Row by  Label\n",
    "df2 = df.loc[['r2','r3','r6']]    # Select Rows by Index Label List\n",
    "df2 = df.loc['r1':'r5']     # Select Rows by Label Index Range\n",
    "df2 = df.loc['r1':'r5']     # Select Rows by Label Index Range\n",
    "df2 = df.loc['r1':'r5':2]   # Select Alternate Rows with in Index La\n"
   ]
  },
  {
   "cell_type": "code",
   "execution_count": null,
   "id": "93db901b",
   "metadata": {},
   "outputs": [],
   "source": [
    "##########################################################"
   ]
  },
  {
   "cell_type": "markdown",
   "id": "5eb65dbb",
   "metadata": {},
   "source": [
    "import pandas as pd\n",
    "import numpy as np\n",
    "technologies = {\n",
    "    'Courses':[\"Spark\",\"PySpark\",\"Hadoop\",\"Python\",\"pandas\",\"Oracle\",\"Java\"],\n",
    "    'Fee' :[20000,25000,26000,22000,24000,21000,22000],\n",
    "    'Duration':['30days','40days','35days','40days',np.nan,None,'55days'],\n",
    "    'Discount':[1000,2300,1500,1200,2500,2100,2000]\n",
    "               }\n",
    "index_labels=['r0','r1','r2','r3','r4','r5','r6']\n",
    "df = pd.DataFrame(technologies,index=index_labels)"
   ]
  },
  {
   "cell_type": "code",
   "execution_count": null,
   "id": "06d7473e",
   "metadata": {},
   "outputs": [],
   "source": [
    "print(df)"
   ]
  },
  {
   "cell_type": "code",
   "execution_count": null,
   "id": "73d72023",
   "metadata": {},
   "outputs": [],
   "source": [
    "#Select Rows by Index using Pandas iloc[]"
   ]
  },
  {
   "cell_type": "code",
   "execution_count": null,
   "id": "a0d70501",
   "metadata": {},
   "outputs": [],
   "source": [
    "#Select Row by Integer Index"
   ]
  },
  {
   "cell_type": "markdown",
   "id": "073c5139",
   "metadata": {},
   "source": []
  },
  {
   "cell_type": "code",
   "execution_count": null,
   "id": "c65a14d2",
   "metadata": {},
   "outputs": [],
   "source": [
    "print(df.iloc[2])"
   ]
  },
  {
   "cell_type": "markdown",
   "id": "0c606c20",
   "metadata": {},
   "source": [
    "# Outputs\n",
    "Courses     Hadoop\n",
    "Fee          26000\n",
    "Duration    35days\n",
    "Discount      1500\n",
    "Name: r3, dtype: object\n"
   ]
  },
  {
   "cell_type": "code",
   "execution_count": null,
   "id": "c244077b",
   "metadata": {},
   "outputs": [],
   "source": [
    "####################################################"
   ]
  },
  {
   "cell_type": "markdown",
   "id": "558fec08",
   "metadata": {},
   "source": []
  },
  {
   "cell_type": "code",
   "execution_count": null,
   "id": "e6384e93",
   "metadata": {},
   "outputs": [],
   "source": [
    "#Get Multiple Rows by Index List"
   ]
  },
  {
   "cell_type": "markdown",
   "id": "7f4f2835",
   "metadata": {},
   "source": [
    "# Select Rows by Index List"
   ]
  },
  {
   "cell_type": "code",
   "execution_count": null,
   "id": "6ed23d12",
   "metadata": {},
   "outputs": [],
   "source": [
    "print(df.iloc[[2,3,6]])"
   ]
  },
  {
   "cell_type": "markdown",
   "id": "69bdeaf4",
   "metadata": {},
   "source": [
    "# Outputs\n",
    "  Courses    \tFee \t\tDuration  \tDiscount\n",
    "r2  Hadoop  \t26000  \t 35days      \t1500\n",
    "r3  Python  \t22000   \t40days      \t1200\n",
    "r6    Java  \t22000   \t55days   \t2000\n"
   ]
  },
  {
   "cell_type": "code",
   "execution_count": null,
   "id": "5752733b",
   "metadata": {},
   "outputs": [],
   "source": [
    "#####################################################"
   ]
  },
  {
   "cell_type": "code",
   "execution_count": null,
   "id": "006f91b6",
   "metadata": {},
   "outputs": [],
   "source": [
    "#Get DataFrame Rows by Index Range"
   ]
  },
  {
   "cell_type": "markdown",
   "id": "13a48dc2",
   "metadata": {},
   "source": [
    "# Select Rows by Integer Index Range"
   ]
  },
  {
   "cell_type": "code",
   "execution_count": null,
   "id": "e403e17d",
   "metadata": {},
   "outputs": [],
   "source": [
    "print(df.iloc[1:5])"
   ]
  },
  {
   "cell_type": "markdown",
   "id": "82b3f866",
   "metadata": {},
   "source": [
    "# Output\n",
    "Courses   \t Fee\t Duration  \tDiscount\n",
    "r1  PySpark  \t\t25000   40days      2300\n",
    "r2   Hadoop  \t\t26000   35days      1500\n",
    "r3   Python  \t\t22000   40days      1200\n",
    "r4   pandas  \t\t24000      NaN      2500\n"
   ]
  },
  {
   "cell_type": "code",
   "execution_count": null,
   "id": "d81d5699",
   "metadata": {},
   "outputs": [],
   "source": [
    "################################################"
   ]
  },
  {
   "cell_type": "markdown",
   "id": "f85e406d",
   "metadata": {},
   "source": [
    "# Select First Row by Index"
   ]
  },
  {
   "cell_type": "code",
   "execution_count": null,
   "id": "fa6a0a40",
   "metadata": {},
   "outputs": [],
   "source": [
    "print(df.iloc[:1])"
   ]
  },
  {
   "cell_type": "markdown",
   "id": "4bc2c23d",
   "metadata": {},
   "source": [
    "# Outputs\n",
    "   Courses    \tFee \tDuration \t Discount\n",
    "r0   Spark  \t20000   30days      \t1000\n"
   ]
  },
  {
   "cell_type": "code",
   "execution_count": null,
   "id": "b743914f",
   "metadata": {},
   "outputs": [],
   "source": [
    "#################################################"
   ]
  },
  {
   "cell_type": "markdown",
   "id": "e79711a6",
   "metadata": {},
   "source": [
    "# Select First 3 Rows"
   ]
  },
  {
   "cell_type": "code",
   "execution_count": null,
   "id": "d13a98c9",
   "metadata": {},
   "outputs": [],
   "source": [
    "print(df.iloc[:3])"
   ]
  },
  {
   "cell_type": "markdown",
   "id": "4f4acdd9",
   "metadata": {},
   "source": [
    "# Outputs\n",
    "    Courses    \t\tFee \t\tDuration  \t\tDiscount\n",
    "r0    Spark  \t\t20000   \t30days      \t\t1000\n",
    "r1  PySpark  \t\t25000   \t40days      \t\t2300\n",
    "r2   Hadoop  \t\t26000   \t35days      \t\t1500\n"
   ]
  },
  {
   "cell_type": "code",
   "execution_count": null,
   "id": "98df85e0",
   "metadata": {},
   "outputs": [],
   "source": [
    "###################################################"
   ]
  },
  {
   "cell_type": "markdown",
   "id": "ca1fca41",
   "metadata": {},
   "source": [
    "# Select Last Row by Index"
   ]
  },
  {
   "cell_type": "code",
   "execution_count": null,
   "id": "59dd12f2",
   "metadata": {},
   "outputs": [],
   "source": [
    "print(df.iloc[-1:])"
   ]
  },
  {
   "cell_type": "markdown",
   "id": "94e351a0",
   "metadata": {},
   "source": [
    "# Outputs\n",
    " \tCourses    \tFee \tDuration  \tDiscount\n",
    "r6    \tJava  \t\t22000   55days      2000\n"
   ]
  },
  {
   "cell_type": "code",
   "execution_count": null,
   "id": "42d61b16",
   "metadata": {},
   "outputs": [],
   "source": [
    "#######################################################"
   ]
  },
  {
   "cell_type": "markdown",
   "id": "ff670a33",
   "metadata": {},
   "source": [
    "# Select Last 3 Row"
   ]
  },
  {
   "cell_type": "code",
   "execution_count": null,
   "id": "a0a05288",
   "metadata": {},
   "outputs": [],
   "source": [
    "print(df.iloc[-3:])"
   ]
  },
  {
   "cell_type": "markdown",
   "id": "e32c54f9",
   "metadata": {},
   "source": [
    "# Outputs\n",
    "   Courses    \tFee \tDuration  \tDiscount\n",
    "r4  pandas  \t24000      NaN      2500\n",
    "r5  Oracle  \t21000     None      2100\n",
    "r6    Java  \t22000   55days      2000\n"
   ]
  },
  {
   "cell_type": "code",
   "execution_count": null,
   "id": "ae817d23",
   "metadata": {},
   "outputs": [],
   "source": [
    "####################################################"
   ]
  },
  {
   "cell_type": "markdown",
   "id": "ffdda574",
   "metadata": {},
   "source": [
    "# Selects alternate rows"
   ]
  },
  {
   "cell_type": "code",
   "execution_count": null,
   "id": "632e43f6",
   "metadata": {},
   "outputs": [],
   "source": [
    "print(df.iloc[::2])"
   ]
  },
  {
   "cell_type": "markdown",
   "id": "ba40f692",
   "metadata": {},
   "source": [
    "# Output\n",
    "   Courses    \tFee \tDuration  \tDiscount\n",
    "r0   Spark  \t20000   30days      1000\n",
    "r2  Hadoop  \t26000   35days      1500\n",
    "r4  pandas  \t24000      NaN      2500\n",
    "r6    Java  \t22000   55days  \n"
   ]
  },
  {
   "cell_type": "code",
   "execution_count": null,
   "id": "48298241",
   "metadata": {},
   "outputs": [],
   "source": [
    "####################################################"
   ]
  },
  {
   "cell_type": "code",
   "execution_count": null,
   "id": "3b02a05b",
   "metadata": {},
   "outputs": [],
   "source": [
    "#summary of all the code"
   ]
  },
  {
   "cell_type": "markdown",
   "id": "7e61ae5d",
   "metadata": {},
   "source": [
    "# Select Rows by Integer Index Range"
   ]
  },
  {
   "cell_type": "code",
   "execution_count": null,
   "id": "812229d4",
   "metadata": {},
   "outputs": [],
   "source": [
    "print(df.iloc[1:5])"
   ]
  },
  {
   "cell_type": "markdown",
   "id": "ac831068",
   "metadata": {},
   "source": [
    "# Output\n",
    "   Courses    \tFee \tDuration  \tDiscount\n",
    "r1  PySpark  \t25000   40days      2300\n",
    "r2   Hadoop  \t26000   35days      1500\n",
    "r3   Python \t 22000   40days      1200\n",
    "r4   pandas  \t24000      NaN      2500"
   ]
  },
  {
   "cell_type": "code",
   "execution_count": null,
   "id": "43d9b107",
   "metadata": {},
   "outputs": [],
   "source": [
    "######################################################"
   ]
  },
  {
   "cell_type": "markdown",
   "id": "103b9374",
   "metadata": {},
   "source": []
  },
  {
   "cell_type": "markdown",
   "id": "8fdb59e0",
   "metadata": {},
   "source": [
    "# Select First Row by Index"
   ]
  },
  {
   "cell_type": "code",
   "execution_count": null,
   "id": "3317b8ae",
   "metadata": {},
   "outputs": [],
   "source": [
    "print(df.iloc[:1])"
   ]
  },
  {
   "cell_type": "markdown",
   "id": "3e74aa83",
   "metadata": {},
   "source": [
    "# Outputs\n",
    "   Courses    Fee \tDuration\t  Discount\n",
    "r0   Spark  \t20000   30days      1000\n"
   ]
  },
  {
   "cell_type": "code",
   "execution_count": null,
   "id": "abe383cd",
   "metadata": {},
   "outputs": [],
   "source": [
    "#######################################################"
   ]
  },
  {
   "cell_type": "markdown",
   "id": "fb687337",
   "metadata": {},
   "source": [
    "# Select First 3 Rows"
   ]
  },
  {
   "cell_type": "code",
   "execution_count": null,
   "id": "28adb317",
   "metadata": {},
   "outputs": [],
   "source": [
    "print(df.iloc[:3])"
   ]
  },
  {
   "cell_type": "markdown",
   "id": "267cf4b8",
   "metadata": {},
   "source": [
    "# Outputs\n",
    "    Courses    \t\tFee \tDuration  \tDiscount\n",
    "r0    Spark  \t\t20000   30days      1000\n",
    "r1  PySpark  \t\t25000   40days      2300\n",
    "r2   Hadoop  \t\t26000   35days      1500\n"
   ]
  },
  {
   "cell_type": "code",
   "execution_count": null,
   "id": "284fe7d1",
   "metadata": {},
   "outputs": [],
   "source": [
    "#######################################################"
   ]
  },
  {
   "cell_type": "markdown",
   "id": "7069ff11",
   "metadata": {},
   "source": [
    "# Select Last Row by Index"
   ]
  },
  {
   "cell_type": "code",
   "execution_count": null,
   "id": "8e115072",
   "metadata": {},
   "outputs": [],
   "source": [
    "print(df.iloc[-1:])"
   ]
  },
  {
   "cell_type": "markdown",
   "id": "56441a09",
   "metadata": {},
   "source": [
    "# Outputs\n",
    "Courses    \tFee \tDuration  \tDiscount\n",
    "r6    Java  \t22000   55days      2000\n"
   ]
  },
  {
   "cell_type": "code",
   "execution_count": null,
   "id": "9a87f341",
   "metadata": {},
   "outputs": [],
   "source": [
    "#####################################################"
   ]
  },
  {
   "cell_type": "markdown",
   "id": "c5ad5ec6",
   "metadata": {},
   "source": [
    "# Select Last 3 Row"
   ]
  },
  {
   "cell_type": "code",
   "execution_count": null,
   "id": "499004f9",
   "metadata": {},
   "outputs": [],
   "source": [
    "print(df.iloc[-3:])"
   ]
  },
  {
   "cell_type": "markdown",
   "id": "b13a2cef",
   "metadata": {},
   "source": [
    "# Outputs\n",
    "  Courses    \t\tFee \tDuration  \tDiscount\n",
    "r4  pandas  \t\t24000      NaN      2500\n",
    "r5  Oracle  \t\t21000     None      2100\n",
    "r6    Java  \t\t22000   55days      2000\n"
   ]
  },
  {
   "cell_type": "code",
   "execution_count": null,
   "id": "97cc887b",
   "metadata": {},
   "outputs": [],
   "source": [
    "#########################################################"
   ]
  },
  {
   "cell_type": "markdown",
   "id": "fb3ac806",
   "metadata": {},
   "source": [
    "# Selects alternate rows"
   ]
  },
  {
   "cell_type": "code",
   "execution_count": null,
   "id": "b5bcc899",
   "metadata": {},
   "outputs": [],
   "source": [
    "print(df.iloc[::2])"
   ]
  },
  {
   "cell_type": "markdown",
   "id": "830c1dce",
   "metadata": {},
   "source": [
    "# Output\n",
    "   Courses    \tFee \tDuration  \tDiscount\n",
    "r0   Spark  \t20000   30days      1000\n",
    "r2  Hadoop  \t26000   35days      1500\n",
    "r4  pandas  \t  24000      NaN      2500\n",
    "r6    Java \t 22000   55days      2000\n",
    "\n",
    "loc[]"
   ]
  },
  {
   "cell_type": "markdown",
   "id": "c5d99843",
   "metadata": {},
   "source": [
    "# Using loc[] to take column slices"
   ]
  },
  {
   "cell_type": "code",
   "execution_count": null,
   "id": "f7954b5d",
   "metadata": {},
   "outputs": [],
   "source": [
    "#loc[] syntax to slice columns  :-df.loc[:,start:stop:step]"
   ]
  },
  {
   "cell_type": "markdown",
   "id": "ae166150",
   "metadata": {},
   "source": [
    "## Selecte multiple columns\n"
   ]
  },
  {
   "cell_type": "code",
   "execution_count": null,
   "id": "8e2f4ae4",
   "metadata": {},
   "outputs": [],
   "source": [
    "#Select Rows by Index Labels using Pandas loc[]"
   ]
  },
  {
   "cell_type": "code",
   "execution_count": null,
   "id": "bb1cf8ec",
   "metadata": {},
   "outputs": [],
   "source": [
    "#Get Row by Label"
   ]
  },
  {
   "cell_type": "markdown",
   "id": "39fe9ebf",
   "metadata": {},
   "source": [
    "# Select Row by Index Label"
   ]
  },
  {
   "cell_type": "code",
   "execution_count": null,
   "id": "5b0afa77",
   "metadata": {},
   "outputs": [],
   "source": [
    "print(df.loc['r2'])"
   ]
  },
  {
   "cell_type": "markdown",
   "id": "48538bf7",
   "metadata": {},
   "source": [
    "# Outputs\n",
    "Courses     Hadoop\n",
    "Fee          26000\n",
    "Duration    35days\n",
    "Discount      1500\n",
    "Name: r2, dtype: object\n"
   ]
  },
  {
   "cell_type": "code",
   "execution_count": null,
   "id": "1f3f3763",
   "metadata": {},
   "outputs": [],
   "source": [
    "##################################################"
   ]
  },
  {
   "cell_type": "code",
   "execution_count": null,
   "id": "5b904b87",
   "metadata": {},
   "outputs": [],
   "source": [
    "#Get Multiple Rows by Label List"
   ]
  },
  {
   "cell_type": "markdown",
   "id": "c5905995",
   "metadata": {},
   "source": [
    "# Select multiple Rows by Index Label List"
   ]
  },
  {
   "cell_type": "code",
   "execution_count": null,
   "id": "81b8cdb3",
   "metadata": {},
   "outputs": [],
   "source": [
    "print(df.loc[['r2','r3','r6']])"
   ]
  },
  {
   "cell_type": "markdown",
   "id": "aa78f997",
   "metadata": {},
   "source": [
    "# Outputs\n",
    "    Courses    \tFee \tDuration  \tDiscount\n",
    "r2  PySpark  \t25000   40days      2300\n",
    "r3   Hadoop  \t26000   35days      1500\n",
    "r6   Oracle  \t21000     None      2100\n"
   ]
  },
  {
   "cell_type": "code",
   "execution_count": null,
   "id": "29a13a36",
   "metadata": {},
   "outputs": [],
   "source": [
    "###################################################"
   ]
  },
  {
   "cell_type": "code",
   "execution_count": null,
   "id": "1e21c8b7",
   "metadata": {},
   "outputs": [],
   "source": [
    "#Get Rows Between Two Labels"
   ]
  },
  {
   "cell_type": "markdown",
   "id": "9103e671",
   "metadata": {},
   "source": [
    "# Select Rows by Label Index Range"
   ]
  },
  {
   "cell_type": "code",
   "execution_count": null,
   "id": "17480b42",
   "metadata": {},
   "outputs": [],
   "source": [
    "print(df.loc['r1':'r5'])"
   ]
  },
  {
   "cell_type": "markdown",
   "id": "f232ff2e",
   "metadata": {},
   "source": [
    "# Outputs\n",
    "Courses    \tFee \tDuration \t Discount\n",
    "r1  PySpark \t 25000   40days      2300\n",
    "r2   Hadoop  \t26000   35days      1500\n",
    "r3   Python  \t22000   40days      1200\n",
    "r4   pandas  \t24000      NaN      2500\n",
    "r5   Oracle  \t21000     None      2100\n"
   ]
  },
  {
   "cell_type": "code",
   "execution_count": null,
   "id": "4506a56c",
   "metadata": {},
   "outputs": [],
   "source": [
    "##############################################"
   ]
  },
  {
   "cell_type": "markdown",
   "id": "7c71b410",
   "metadata": {},
   "source": [
    "# Select Alternate Rows with in Index Labels"
   ]
  },
  {
   "cell_type": "code",
   "execution_count": null,
   "id": "66d804a0",
   "metadata": {},
   "outputs": [],
   "source": [
    "print(df.loc['r1':'r5':2])"
   ]
  },
  {
   "cell_type": "markdown",
   "id": "a995f677",
   "metadata": {},
   "source": [
    "# Outputs\n",
    "Courses    \tFee \tDuration  \tDiscount\n",
    "r1  PySpark  \t25000   40days      2300\n",
    "r3   Python  \t22000   40days      1200\n",
    "r5   Oracle  \t21000     None      2100\n"
   ]
  },
  {
   "cell_type": "code",
   "execution_count": null,
   "id": "4081508c",
   "metadata": {},
   "outputs": [],
   "source": [
    "#####################################################"
   ]
  },
  {
   "cell_type": "code",
   "execution_count": null,
   "id": "c8bedd6e",
   "metadata": {},
   "outputs": [],
   "source": [
    "#Pandas Select Columns by Name or Index"
   ]
  },
  {
   "cell_type": "markdown",
   "id": "3fbd5319",
   "metadata": {},
   "source": [
    "# By using df[] Notation\n",
    "df2=df['Courses']"
   ]
  },
  {
   "cell_type": "markdown",
   "id": "c3ed12e7",
   "metadata": {},
   "source": [
    "## select multile columns\n",
    "df2 = df[[\"Courses\",\"Fee\",\"Duration\"]] \n"
   ]
  },
  {
   "cell_type": "code",
   "execution_count": null,
   "id": "4c8d67d4",
   "metadata": {},
   "outputs": [],
   "source": [
    "###################################################"
   ]
  },
  {
   "cell_type": "markdown",
   "id": "b93207a9",
   "metadata": {},
   "source": [
    "# Using loc[] to take column slices"
   ]
  },
  {
   "cell_type": "code",
   "execution_count": null,
   "id": "7dd8dfc2",
   "metadata": {},
   "outputs": [],
   "source": [
    "#loc[] syntax to slice columns"
   ]
  },
  {
   "cell_type": "code",
   "execution_count": null,
   "id": "5158fb62",
   "metadata": {},
   "outputs": [],
   "source": [
    "#df.loc[:,start:stop:step]"
   ]
  },
  {
   "cell_type": "markdown",
   "id": "c081610d",
   "metadata": {},
   "source": [
    "## Selecte multiple columns\n",
    "df2 = df.loc[:, [\"Courses\",\"Fee\",\"Duration\"]]"
   ]
  },
  {
   "cell_type": "markdown",
   "id": "6b19a057",
   "metadata": {},
   "source": [
    "# Select Random columns \n",
    "df2 = df.loc[:, [\"Courses\",\"Fee\",\"Discount\"]]"
   ]
  },
  {
   "cell_type": "markdown",
   "id": "1eb297da",
   "metadata": {},
   "source": [
    "# Select columns between two columns \n",
    "df2 = df.loc[:,'Fee':'Discount'] "
   ]
  },
  {
   "cell_type": "markdown",
   "id": "75070cc9",
   "metadata": {},
   "source": [
    "## Select columns by range\n",
    "df2 = df.loc[:,'Duration':] "
   ]
  },
  {
   "cell_type": "markdown",
   "id": "bdffd97b",
   "metadata": {},
   "source": [
    "# Select columns by range "
   ]
  },
  {
   "cell_type": "code",
   "execution_count": null,
   "id": "93aba9a1",
   "metadata": {},
   "outputs": [],
   "source": [
    "#All the columns upto 'Duration'"
   ]
  },
  {
   "cell_type": "markdown",
   "id": "99c1321e",
   "metadata": {},
   "source": [
    "df2 = df.loc[:,:'Duration']  "
   ]
  },
  {
   "cell_type": "markdown",
   "id": "cf67cdca",
   "metadata": {},
   "source": [
    "## Select every alternate column\n",
    "df2 = df.loc[:,::2]          \n"
   ]
  },
  {
   "cell_type": "code",
   "execution_count": null,
   "id": "a5af4392",
   "metadata": {},
   "outputs": [],
   "source": [
    "#########################################################"
   ]
  },
  {
   "cell_type": "code",
   "execution_count": null,
   "id": "bd0453a0",
   "metadata": {},
   "outputs": [],
   "source": [
    "#Pandas iloc[] to Select Column by Index or Position"
   ]
  },
  {
   "cell_type": "code",
   "execution_count": null,
   "id": "841de243",
   "metadata": {},
   "outputs": [],
   "source": [
    "#Select Multiple Columns by Index Position"
   ]
  },
  {
   "cell_type": "markdown",
   "id": "5b5a3c03",
   "metadata": {},
   "source": [
    "# Selected by column position\n",
    "df2 = df.iloc[:,[1,2,3]]\n",
    "df2\n",
    "Fee \tDuration  \tDiscount\n",
    "r0  \t20000   30days      1000\n",
    "r1  \t25000   40days      2300\n",
    "r2  \t26000   35days      1500\n",
    "r3  \t22000   40days      1200\n",
    "r4  \t24000      NaN      2500\n",
    "r5  \t21000     None      2100\n",
    "r6  \t22000   55days      2000\n"
   ]
  },
  {
   "cell_type": "code",
   "execution_count": null,
   "id": "48c10246",
   "metadata": {},
   "outputs": [],
   "source": [
    "######################################################"
   ]
  },
  {
   "cell_type": "markdown",
   "id": "e3aa9ec5",
   "metadata": {},
   "source": [
    "# Select between indexes 1 and 4 (2,3,4)\n",
    "df2 = df.iloc[:,1:4]\n",
    "df2"
   ]
  },
  {
   "cell_type": "code",
   "execution_count": null,
   "id": "2fe7eb9b",
   "metadata": {},
   "outputs": [],
   "source": [
    "#Returns"
   ]
  },
  {
   "cell_type": "markdown",
   "id": "7436a201",
   "metadata": {},
   "source": [
    "     Fee \tDuration  \tDiscount\n",
    "0  20000   30days      1000\n",
    "1  25000   40days      2300\n"
   ]
  },
  {
   "cell_type": "code",
   "execution_count": null,
   "id": "ba7d8690",
   "metadata": {},
   "outputs": [],
   "source": [
    "####################################################"
   ]
  },
  {
   "cell_type": "markdown",
   "id": "dbbcbad3",
   "metadata": {},
   "source": [
    "# Select From 3rd to end\n",
    "df2 = df.iloc[:,2:]\n",
    "df2"
   ]
  },
  {
   "cell_type": "code",
   "execution_count": null,
   "id": "be020aba",
   "metadata": {},
   "outputs": [],
   "source": [
    "#Returns"
   ]
  },
  {
   "cell_type": "markdown",
   "id": "f2f3c722",
   "metadata": {},
   "source": [
    "  Duration  Discount   Tutor\n",
    "0   30days      1000  Michel\n",
    "1   40days      2300     Sam\n"
   ]
  },
  {
   "cell_type": "code",
   "execution_count": null,
   "id": "83216078",
   "metadata": {},
   "outputs": [],
   "source": [
    "########################"
   ]
  },
  {
   "cell_type": "code",
   "execution_count": null,
   "id": "39af0284",
   "metadata": {},
   "outputs": [],
   "source": [
    " #Select First Two Columns"
   ]
  },
  {
   "cell_type": "markdown",
   "id": "c6905349",
   "metadata": {},
   "source": [
    "df2 = df.iloc[:,:2]\n",
    "df2"
   ]
  },
  {
   "cell_type": "code",
   "execution_count": null,
   "id": "6a133d08",
   "metadata": {},
   "outputs": [],
   "source": [
    "#Returns"
   ]
  },
  {
   "cell_type": "markdown",
   "id": "ee394e57",
   "metadata": {},
   "source": [
    "   Courses    Fee\n",
    "0    Spark  20000\n",
    "1  PySpark  25000\n"
   ]
  },
  {
   "cell_type": "code",
   "execution_count": null,
   "id": "4191c48a",
   "metadata": {},
   "outputs": [],
   "source": [
    "########################################################"
   ]
  },
  {
   "cell_type": "code",
   "execution_count": null,
   "id": "65b67891",
   "metadata": {},
   "outputs": [],
   "source": [
    "#Pandas.DataFrame.query() by Examples"
   ]
  },
  {
   "cell_type": "markdown",
   "id": "5c7d3de1",
   "metadata": {},
   "source": [
    "# Query all rows with Courses equals 'Spark'\n",
    "df2=df.query(\"Courses == 'Spark'\")"
   ]
  },
  {
   "cell_type": "code",
   "execution_count": null,
   "id": "669c34e5",
   "metadata": {},
   "outputs": [],
   "source": [
    "print(df2)"
   ]
  },
  {
   "cell_type": "markdown",
   "id": "43712ab2",
   "metadata": {},
   "source": []
  },
  {
   "cell_type": "code",
   "execution_count": null,
   "id": "b8cc1108",
   "metadata": {},
   "outputs": [],
   "source": [
    "######################################################"
   ]
  },
  {
   "cell_type": "markdown",
   "id": "06dc8cd8",
   "metadata": {},
   "source": [
    "# not equals condition\n",
    "df2=df.query(\"Courses != 'Spark'\")\n",
    "df2\n"
   ]
  },
  {
   "cell_type": "code",
   "execution_count": null,
   "id": "9db551ac",
   "metadata": {},
   "outputs": [],
   "source": [
    "#####################################################"
   ]
  },
  {
   "cell_type": "code",
   "execution_count": null,
   "id": "ea9223c0",
   "metadata": {},
   "outputs": [],
   "source": [
    "#Pandas Add Column to DataFrame"
   ]
  },
  {
   "cell_type": "markdown",
   "id": "98fecf9e",
   "metadata": {},
   "source": [
    "import pandas as pd\n",
    "import numpy as np\n",
    "\n",
    "technologies= {\n",
    "    'Courses':[\"Spark\",\"PySpark\",\"Hadoop\",\"Python\",\"Pandas\"],\n",
    "    'Fee' :[22000,25000,23000,24000,26000],\n",
    "    'Discount':[1000,2300,1000,1200,2500]\n",
    "          }\n",
    "\n",
    "df = pd.DataFrame(technologies)"
   ]
  },
  {
   "cell_type": "code",
   "execution_count": null,
   "id": "32ee4296",
   "metadata": {},
   "outputs": [],
   "source": [
    "print(df)"
   ]
  },
  {
   "cell_type": "markdown",
   "id": "38d53699",
   "metadata": {},
   "source": []
  },
  {
   "cell_type": "code",
   "execution_count": null,
   "id": "b5cbadaa",
   "metadata": {},
   "outputs": [],
   "source": [
    "########################################################"
   ]
  },
  {
   "cell_type": "code",
   "execution_count": null,
   "id": "57dd29e3",
   "metadata": {},
   "outputs": [],
   "source": [
    "#Pandas Add Column to DataFrame"
   ]
  },
  {
   "cell_type": "markdown",
   "id": "265327e2",
   "metadata": {},
   "source": [
    "# Add new column to the DataFrame\n",
    "tutors = ['Ram', 'sham', 'Ghansham', 'Ganesh', 'Ramesh']\n",
    "df2 = df.assign(TutorsAssigned=tutors)"
   ]
  },
  {
   "cell_type": "code",
   "execution_count": null,
   "id": "51eb34f5",
   "metadata": {},
   "outputs": [],
   "source": [
    "print(df2)"
   ]
  },
  {
   "cell_type": "markdown",
   "id": "4fbdeb4b",
   "metadata": {},
   "source": []
  },
  {
   "cell_type": "code",
   "execution_count": null,
   "id": "76a3681c",
   "metadata": {},
   "outputs": [],
   "source": [
    "####################################################"
   ]
  },
  {
   "cell_type": "markdown",
   "id": "4a8a2f42",
   "metadata": {},
   "source": [
    "# Add multiple columns to the DataFrame\n",
    "MNCCompanies = ['TATA','HCL','Infosys','Google','Amazon']\n",
    "df2 = df.assign(MNCComp = MNCCompanies,TutorsAssigned=tutors )\n",
    "df2\n"
   ]
  },
  {
   "cell_type": "code",
   "execution_count": null,
   "id": "d9f9ebd8",
   "metadata": {},
   "outputs": [],
   "source": [
    "#################################################"
   ]
  },
  {
   "cell_type": "markdown",
   "id": "d1032834",
   "metadata": {},
   "source": [
    "# Derive New Column from Existing Column\n",
    "df = pd.DataFrame(technologies)\n",
    "df2 = df.assign(Discount_Percent=lambda x: x.Fee * x.Discount / 100)"
   ]
  },
  {
   "cell_type": "code",
   "execution_count": null,
   "id": "e12da00d",
   "metadata": {},
   "outputs": [],
   "source": [
    "print(df2)"
   ]
  },
  {
   "cell_type": "markdown",
   "id": "04ba94d8",
   "metadata": {},
   "source": []
  },
  {
   "cell_type": "code",
   "execution_count": null,
   "id": "9ebe9f8d",
   "metadata": {},
   "outputs": [],
   "source": [
    "################################################"
   ]
  },
  {
   "cell_type": "markdown",
   "id": "645e2f0c",
   "metadata": {},
   "source": [
    "\n"
   ]
  },
  {
   "cell_type": "code",
   "execution_count": null,
   "id": "dc1419e1",
   "metadata": {},
   "outputs": [],
   "source": [
    "#Append Column to Existing Pandas DataFrame"
   ]
  },
  {
   "cell_type": "markdown",
   "id": "b017ceb7",
   "metadata": {},
   "source": [
    "# Add New column to the existing DataFrame\n",
    "df = pd.DataFrame(technologies)\n",
    "df[\"MNCCompanies\"] = MNCCompanies"
   ]
  },
  {
   "cell_type": "code",
   "execution_count": null,
   "id": "31010406",
   "metadata": {},
   "outputs": [],
   "source": [
    "print(df)"
   ]
  },
  {
   "cell_type": "markdown",
   "id": "f6f19460",
   "metadata": {},
   "source": []
  },
  {
   "cell_type": "code",
   "execution_count": null,
   "id": "0e1a8263",
   "metadata": {},
   "outputs": [],
   "source": [
    "################################################"
   ]
  },
  {
   "cell_type": "markdown",
   "id": "205920e4",
   "metadata": {},
   "source": [
    "# Add new column at the specific position\n",
    "df = pd.DataFrame(technologies)\n",
    "df.insert(0,'Tutors', tutors )"
   ]
  },
  {
   "cell_type": "code",
   "execution_count": null,
   "id": "f0c6f629",
   "metadata": {},
   "outputs": [],
   "source": [
    "print(df)"
   ]
  },
  {
   "cell_type": "markdown",
   "id": "a3cb0806",
   "metadata": {},
   "source": []
  },
  {
   "cell_type": "code",
   "execution_count": null,
   "id": "9ce0cc42",
   "metadata": {},
   "outputs": [],
   "source": [
    "#############################################"
   ]
  },
  {
   "cell_type": "code",
   "execution_count": null,
   "id": "0564c082",
   "metadata": {},
   "outputs": [],
   "source": [
    "#Pandas Rename Column with Examples"
   ]
  },
  {
   "cell_type": "markdown",
   "id": "cd5fe09b",
   "metadata": {},
   "source": [
    "import pandas as pd\n",
    "technologies = ({\n",
    "  'Courses':[\"Spark\",\"PySpark\",\"Hadoop\",\"Python\",\"pandas\",\"Oracle\",\"Java\"],\n",
    "  'Fee' :[20000,25000,26000,22000,24000,21000,22000],\n",
    "  'Duration':['30day', '40days' ,'35days', '40days', '60days', '50days', '55days']\n",
    "              })\n",
    "df = pd.DataFrame(technologies)"
   ]
  },
  {
   "cell_type": "code",
   "execution_count": null,
   "id": "572cc9f6",
   "metadata": {},
   "outputs": [],
   "source": [
    "print(df.columns)"
   ]
  },
  {
   "cell_type": "markdown",
   "id": "35d3bb85",
   "metadata": {},
   "source": []
  },
  {
   "cell_type": "code",
   "execution_count": null,
   "id": "7ad2377a",
   "metadata": {},
   "outputs": [],
   "source": [
    "###########################################"
   ]
  },
  {
   "cell_type": "code",
   "execution_count": null,
   "id": "c67428f3",
   "metadata": {},
   "outputs": [],
   "source": [
    "#Pandas Rename Column Name Rename a Single Column "
   ]
  },
  {
   "cell_type": "markdown",
   "id": "148b1a73",
   "metadata": {},
   "source": [
    "df2=df.rename(columns = {'Courses':'Courses_List'})"
   ]
  },
  {
   "cell_type": "code",
   "execution_count": null,
   "id": "2110e0f8",
   "metadata": {},
   "outputs": [],
   "source": [
    "print(df2.columns)"
   ]
  },
  {
   "cell_type": "markdown",
   "id": "ebc969ef",
   "metadata": {},
   "source": []
  },
  {
   "cell_type": "code",
   "execution_count": null,
   "id": "5c8b49f6",
   "metadata": {},
   "outputs": [],
   "source": [
    "############################################"
   ]
  },
  {
   "cell_type": "code",
   "execution_count": null,
   "id": "34848070",
   "metadata": {},
   "outputs": [],
   "source": [
    "#Alternatively, you can also write the above statement by using axis=1 or axis='columns' Alternatively you can write above using axis, "
   ]
  },
  {
   "cell_type": "markdown",
   "id": "660f5bd7",
   "metadata": {},
   "source": [
    "df2=df.rename({'Courses':'Courses_List'}, axis=1)\n",
    "df2=df.rename({'Courses':'Courses_List'}, axis='columns')\n"
   ]
  },
  {
   "cell_type": "code",
   "execution_count": null,
   "id": "ef0187f4",
   "metadata": {},
   "outputs": [],
   "source": [
    "################################################"
   ]
  },
  {
   "cell_type": "code",
   "execution_count": null,
   "id": "ec1008af",
   "metadata": {},
   "outputs": [],
   "source": [
    "#In order to change columns on the existing DataFrame without copying to the new DataFrame, you have to use inplace=True. Replace existing DataFrame (inplace). This returns None."
   ]
  },
  {
   "cell_type": "markdown",
   "id": "69d268fc",
   "metadata": {},
   "source": [
    "df.rename({'Courses':'Courses_List'}, axis='columns', inplace=True)"
   ]
  },
  {
   "cell_type": "code",
   "execution_count": null,
   "id": "87ab3135",
   "metadata": {},
   "outputs": [],
   "source": [
    "print(df.columns)"
   ]
  },
  {
   "cell_type": "markdown",
   "id": "a4790503",
   "metadata": {},
   "source": []
  },
  {
   "cell_type": "code",
   "execution_count": null,
   "id": "bff82d79",
   "metadata": {},
   "outputs": [],
   "source": [
    "################################################"
   ]
  },
  {
   "cell_type": "code",
   "execution_count": null,
   "id": "d3874575",
   "metadata": {},
   "outputs": [],
   "source": [
    "#Rename Multiple Columns"
   ]
  },
  {
   "cell_type": "markdown",
   "id": "e9d33e83",
   "metadata": {},
   "source": [
    "df.rename(columns = {'Courses':'Courses_List','Fee':'Courses_Fee', \n",
    "   'Duration':'Courses_Duration'}, inplace = True)"
   ]
  },
  {
   "cell_type": "code",
   "execution_count": null,
   "id": "797f71af",
   "metadata": {},
   "outputs": [],
   "source": [
    "print(df.columns)"
   ]
  },
  {
   "cell_type": "markdown",
   "id": "73b935a3",
   "metadata": {},
   "source": [
    "df.columns"
   ]
  },
  {
   "cell_type": "code",
   "execution_count": null,
   "id": "974a2102",
   "metadata": {},
   "outputs": [],
   "source": [
    "##############################################"
   ]
  },
  {
   "cell_type": "code",
   "execution_count": null,
   "id": "03f812bd",
   "metadata": {},
   "outputs": [],
   "source": [
    "#Rename Columns with a List"
   ]
  },
  {
   "cell_type": "markdown",
   "id": "a7e5a612",
   "metadata": {},
   "source": [
    "column_names = ['Courses','Fee','Duration']\n",
    "df.columns = column_names"
   ]
  },
  {
   "cell_type": "code",
   "execution_count": null,
   "id": "f8a35ca0",
   "metadata": {},
   "outputs": [],
   "source": [
    "print(df.columns)"
   ]
  },
  {
   "cell_type": "markdown",
   "id": "57066d2c",
   "metadata": {},
   "source": []
  },
  {
   "cell_type": "code",
   "execution_count": null,
   "id": "f5a6b842",
   "metadata": {},
   "outputs": [],
   "source": [
    "#############################################"
   ]
  },
  {
   "cell_type": "code",
   "execution_count": null,
   "id": "626667a5",
   "metadata": {},
   "outputs": [],
   "source": [
    "#Rename multiple columns with inplace"
   ]
  },
  {
   "cell_type": "markdown",
   "id": "fe884df2",
   "metadata": {},
   "source": [
    "df.rename(columns = {'Courses':'Courses_List','Fee':'Courses_Fee', \n",
    "   'Duration':'Courses_Duration'}, inplace = True)"
   ]
  },
  {
   "cell_type": "code",
   "execution_count": null,
   "id": "71d4c1ee",
   "metadata": {},
   "outputs": [],
   "source": [
    "print(df.columns)"
   ]
  },
  {
   "cell_type": "markdown",
   "id": "6c428402",
   "metadata": {},
   "source": []
  },
  {
   "cell_type": "code",
   "execution_count": null,
   "id": "a15da117",
   "metadata": {},
   "outputs": [],
   "source": [
    "#################################################"
   ]
  },
  {
   "cell_type": "code",
   "execution_count": null,
   "id": "37184010",
   "metadata": {},
   "outputs": [],
   "source": [
    "#Quick Examples of Get the Number of Rows in DataFrame"
   ]
  },
  {
   "cell_type": "markdown",
   "id": "ee5c2924",
   "metadata": {},
   "source": [
    "rows_count = len(df.index)\n",
    "rows_count\n",
    "rows_count = len(df.axes[0])\n",
    "rows_count\n"
   ]
  },
  {
   "cell_type": "code",
   "execution_count": null,
   "id": "f55b9493",
   "metadata": {},
   "outputs": [],
   "source": [
    "##############################################"
   ]
  },
  {
   "cell_type": "markdown",
   "id": "4edd083b",
   "metadata": {},
   "source": [
    "df = pd.DataFrame(technologies)\n",
    "row_count = df.shape[0\t\t  # Returns number of rows\n",
    "col_count = df.shape[1] \t\t # Returns number of columns"
   ]
  },
  {
   "cell_type": "code",
   "execution_count": null,
   "id": "2736978b",
   "metadata": {},
   "outputs": [],
   "source": [
    "print(row_count)"
   ]
  },
  {
   "cell_type": "code",
   "execution_count": null,
   "id": "afbe15d6",
   "metadata": {},
   "outputs": [],
   "source": [
    "#Outputs - 4"
   ]
  },
  {
   "cell_type": "markdown",
   "id": "ddf26f4f",
   "metadata": {},
   "source": []
  },
  {
   "cell_type": "code",
   "execution_count": null,
   "id": "e05a96a1",
   "metadata": {},
   "outputs": [],
   "source": [
    "#######################################"
   ]
  },
  {
   "cell_type": "code",
   "execution_count": null,
   "id": "44b1757f",
   "metadata": {},
   "outputs": [],
   "source": [
    "#Pandas Drop Rows From DataFrame"
   ]
  },
  {
   "cell_type": "markdown",
   "id": "1c0079a0",
   "metadata": {},
   "source": [
    "import pandas as pd\n",
    "import numpy as np\n",
    "\n",
    "technologies = {\n",
    "    'Courses':[\"Spark\",\"PySpark\",\"Hadoop\",\"Python\"],\n",
    "    'Fee' :[20000,25000,26000,22000],\n",
    "    'Duration':['30day','40days',np.nan, None],\n",
    "    'Discount':[1000,2300,1500,1200]\n",
    "               }\n",
    "\n",
    "indexes=['r1','r2','r3','r4']\n",
    "df = pd.DataFrame(technologies,index=indexes)"
   ]
  },
  {
   "cell_type": "code",
   "execution_count": null,
   "id": "dfb320f9",
   "metadata": {},
   "outputs": [],
   "source": [
    "print(df)"
   ]
  },
  {
   "cell_type": "markdown",
   "id": "bd5ece01",
   "metadata": {},
   "source": []
  },
  {
   "cell_type": "code",
   "execution_count": null,
   "id": "b2cc2a16",
   "metadata": {},
   "outputs": [],
   "source": [
    "########################################################"
   ]
  },
  {
   "cell_type": "markdown",
   "id": "0f8de7e2",
   "metadata": {},
   "source": [
    "\n",
    "\n"
   ]
  },
  {
   "cell_type": "code",
   "execution_count": null,
   "id": "acfb5247",
   "metadata": {},
   "outputs": [],
   "source": [
    "#pandas Drop Rows From DataFrame Examples"
   ]
  },
  {
   "cell_type": "markdown",
   "id": "0600021e",
   "metadata": {},
   "source": [
    "# Drop rows by Index Label\n",
    "df = pd.DataFrame(technologies,index=indexes)\n",
    "df1 = df.drop(['r1','r2'])"
   ]
  },
  {
   "cell_type": "code",
   "execution_count": null,
   "id": "edaaf4f5",
   "metadata": {},
   "outputs": [],
   "source": [
    "print(df1)"
   ]
  },
  {
   "cell_type": "markdown",
   "id": "b4b7e42e",
   "metadata": {},
   "source": []
  },
  {
   "cell_type": "code",
   "execution_count": null,
   "id": "d9f94bc3",
   "metadata": {},
   "outputs": [],
   "source": [
    "######################################################"
   ]
  },
  {
   "cell_type": "markdown",
   "id": "46281b52",
   "metadata": {},
   "source": [
    "# Delete Rows by Index Labels\n",
    "df1 = df.drop(index=['r1','r2'])\n",
    "df1\n"
   ]
  },
  {
   "cell_type": "code",
   "execution_count": null,
   "id": "7a72f94f",
   "metadata": {},
   "outputs": [],
   "source": [
    "######################################################"
   ]
  },
  {
   "cell_type": "markdown",
   "id": "9407b3e9",
   "metadata": {},
   "source": [
    "# Delete Rows by Index Labels & axis\n",
    "df1 = df.drop(labels=['r1','r2'])\n",
    "df1 = df.drop(labels=['r1','r2'],axis=0)\n"
   ]
  },
  {
   "cell_type": "code",
   "execution_count": null,
   "id": "5d14d20a",
   "metadata": {},
   "outputs": [],
   "source": [
    "########################################################"
   ]
  },
  {
   "cell_type": "markdown",
   "id": "eb46f582",
   "metadata": {},
   "source": [
    "# Delete Rows by Index numbers\n",
    "df = pd.DataFrame(technologies,index=indexes)\n",
    "df1=df.drop(df.index[[1,3]])"
   ]
  },
  {
   "cell_type": "code",
   "execution_count": null,
   "id": "cc2bb74d",
   "metadata": {},
   "outputs": [],
   "source": [
    "print(df1)"
   ]
  },
  {
   "cell_type": "markdown",
   "id": "7fd47b72",
   "metadata": {},
   "source": []
  },
  {
   "cell_type": "code",
   "execution_count": null,
   "id": "f5b6142b",
   "metadata": {},
   "outputs": [],
   "source": [
    "#####################################################"
   ]
  },
  {
   "cell_type": "markdown",
   "id": "d2c565c9",
   "metadata": {},
   "source": [
    "# Delete Rows by Index Range\n",
    "df = pd.DataFrame(technologies,index=indexes)\n",
    "df1=df.drop(df.index[2:])"
   ]
  },
  {
   "cell_type": "code",
   "execution_count": null,
   "id": "83897349",
   "metadata": {},
   "outputs": [],
   "source": [
    "print(df1)"
   ]
  },
  {
   "cell_type": "markdown",
   "id": "483aeabc",
   "metadata": {},
   "source": []
  },
  {
   "cell_type": "code",
   "execution_count": null,
   "id": "6b2e6012",
   "metadata": {},
   "outputs": [],
   "source": [
    "####################################################"
   ]
  },
  {
   "cell_type": "code",
   "execution_count": null,
   "id": "c6a547cf",
   "metadata": {},
   "outputs": [],
   "source": [
    "#Delete Rows when you have Default Indexes"
   ]
  },
  {
   "cell_type": "markdown",
   "id": "b37b3a2f",
   "metadata": {},
   "source": [
    "# Remove rows when you have default index.\n",
    "df = pd.DataFrame(technologies)\n",
    "df1 = df.drop(0)\n",
    "df3 = df.drop([0, 3])\n",
    "df4 = df.drop(range(0,2))\n"
   ]
  },
  {
   "cell_type": "code",
   "execution_count": null,
   "id": "3dff767a",
   "metadata": {},
   "outputs": [],
   "source": [
    "################################################"
   ]
  },
  {
   "cell_type": "code",
   "execution_count": null,
   "id": "4823a34c",
   "metadata": {},
   "outputs": [],
   "source": [
    "#Remove DataFrame Rows inplace"
   ]
  },
  {
   "cell_type": "markdown",
   "id": "070c4851",
   "metadata": {},
   "source": [
    "# Delete Rows inplace\n",
    "df = pd.DataFrame(technologies,index=indexes)\n",
    "df.drop(['r1','r2'],inplace=True)"
   ]
  },
  {
   "cell_type": "code",
   "execution_count": null,
   "id": "7f886d5f",
   "metadata": {},
   "outputs": [],
   "source": [
    "print(df)"
   ]
  },
  {
   "cell_type": "markdown",
   "id": "ed8bbb89",
   "metadata": {},
   "source": []
  },
  {
   "cell_type": "code",
   "execution_count": null,
   "id": "d9c194e5",
   "metadata": {},
   "outputs": [],
   "source": [
    "#################################################"
   ]
  },
  {
   "cell_type": "markdown",
   "id": "3011a193",
   "metadata": {},
   "source": [
    "\n"
   ]
  },
  {
   "cell_type": "code",
   "execution_count": null,
   "id": "b5ac1f8f",
   "metadata": {},
   "outputs": [],
   "source": [
    "#Drop Rows that has NaN/None/Null Values"
   ]
  },
  {
   "cell_type": "markdown",
   "id": "a0548c23",
   "metadata": {},
   "source": [
    "# Delete rows with Nan, None & Null Values\n",
    "df = pd.DataFrame(technologies,index=indexes)\n",
    "df2=df.dropna()"
   ]
  },
  {
   "cell_type": "code",
   "execution_count": null,
   "id": "691e54cc",
   "metadata": {},
   "outputs": [],
   "source": [
    "print(df2)"
   ]
  },
  {
   "cell_type": "markdown",
   "id": "daa752bf",
   "metadata": {},
   "source": []
  },
  {
   "cell_type": "code",
   "execution_count": null,
   "id": "54bd0301",
   "metadata": {},
   "outputs": [],
   "source": [
    "###############################################"
   ]
  },
  {
   "cell_type": "code",
   "execution_count": null,
   "id": "ce6a8053",
   "metadata": {},
   "outputs": [],
   "source": [
    "#Remove Rows by Slicing DataFrame"
   ]
  },
  {
   "cell_type": "markdown",
   "id": "a398fa6a",
   "metadata": {},
   "source": [
    "df2=df[4:]     # Returns rows from 4th row\n",
    "df2=df[1:-1]   # Removes first and last row\n",
    "df2=df[2:4]    # Return rows between 2 and 4\n"
   ]
  },
  {
   "cell_type": "code",
   "execution_count": null,
   "id": "26612d9c",
   "metadata": {},
   "outputs": [],
   "source": [
    "##############################################"
   ]
  },
  {
   "cell_type": "code",
   "execution_count": null,
   "id": "6c38ffee",
   "metadata": {},
   "outputs": [],
   "source": [
    "#Change All Columns to Same type in Pandas"
   ]
  },
  {
   "cell_type": "code",
   "execution_count": null,
   "id": "0f4f0b40",
   "metadata": {},
   "outputs": [],
   "source": [
    "#df.astype(str) converts all columns of Pandas DataFrame to string type."
   ]
  },
  {
   "cell_type": "markdown",
   "id": "68b9c9f3",
   "metadata": {},
   "source": [
    "\n",
    "df = df.astype(str)"
   ]
  },
  {
   "cell_type": "code",
   "execution_count": null,
   "id": "b5c7f975",
   "metadata": {},
   "outputs": [],
   "source": [
    "print(df.dtypes)"
   ]
  },
  {
   "cell_type": "markdown",
   "id": "83f9fd9f",
   "metadata": {},
   "source": []
  },
  {
   "cell_type": "code",
   "execution_count": null,
   "id": "c6cc5360",
   "metadata": {},
   "outputs": [],
   "source": [
    "##############################################"
   ]
  },
  {
   "cell_type": "code",
   "execution_count": null,
   "id": "9a5514c8",
   "metadata": {},
   "outputs": [],
   "source": [
    "#Change Type For One or Multiple Columns in Pandas"
   ]
  },
  {
   "cell_type": "markdown",
   "id": "e2a88f2a",
   "metadata": {},
   "source": [
    "# Change Type For One or Multiple Columns\n",
    "df = df.astype({\"Fee\": int, \"Discount\": float})"
   ]
  },
  {
   "cell_type": "code",
   "execution_count": null,
   "id": "9626cd1f",
   "metadata": {},
   "outputs": [],
   "source": [
    "print(df.dtypes)"
   ]
  },
  {
   "cell_type": "markdown",
   "id": "aa017525",
   "metadata": {},
   "source": []
  },
  {
   "cell_type": "code",
   "execution_count": null,
   "id": "ed6f01e7",
   "metadata": {},
   "outputs": [],
   "source": [
    "#########################################"
   ]
  },
  {
   "cell_type": "code",
   "execution_count": null,
   "id": "d1557465",
   "metadata": {},
   "outputs": [],
   "source": [
    "#Convert Data Type for All Columns in a List "
   ]
  },
  {
   "cell_type": "markdown",
   "id": "f8cc7ba0",
   "metadata": {},
   "source": [
    "df = pd.DataFrame(technologies)\n",
    "cols = ['Fee', 'Discount']\n",
    "df[cols] = df[cols].astype('float')\n"
   ]
  },
  {
   "cell_type": "code",
   "execution_count": null,
   "id": "418186c0",
   "metadata": {},
   "outputs": [],
   "source": [
    "##################################################"
   ]
  },
  {
   "cell_type": "markdown",
   "id": "c8a623fe",
   "metadata": {},
   "source": [
    "# By using a loop"
   ]
  },
  {
   "cell_type": "code",
   "execution_count": null,
   "id": "dc9e093e",
   "metadata": {},
   "outputs": [],
   "source": [
    "for col in ['Fee', 'Discount']:"
   ]
  },
  {
   "cell_type": "markdown",
   "id": "811b238d",
   "metadata": {},
   "source": [
    "    df[col] = df[col].astype('float')\n"
   ]
  },
  {
   "cell_type": "code",
   "execution_count": null,
   "id": "91735636",
   "metadata": {},
   "outputs": [],
   "source": [
    "###################################################"
   ]
  },
  {
   "cell_type": "code",
   "execution_count": null,
   "id": "9ea41adc",
   "metadata": {},
   "outputs": [],
   "source": [
    "#Raise or Ignore Error when Convert Column type Fails"
   ]
  },
  {
   "cell_type": "markdown",
   "id": "c1149f44",
   "metadata": {},
   "source": [
    "df = df.astype({\"Courses\": int},errors='ignore')"
   ]
  },
  {
   "cell_type": "markdown",
   "id": "e35a5ebb",
   "metadata": {},
   "source": [
    "# Generates error\n",
    "df = df.astype({\"Courses\": int},errors='raise')\n"
   ]
  },
  {
   "cell_type": "code",
   "execution_count": null,
   "id": "763fccc9",
   "metadata": {},
   "outputs": [],
   "source": [
    "##################################################"
   ]
  },
  {
   "cell_type": "code",
   "execution_count": null,
   "id": "f79da97b",
   "metadata": {},
   "outputs": [],
   "source": [
    "#Using DataFrame.to_numeric() to Convert Numeric Types"
   ]
  },
  {
   "cell_type": "markdown",
   "id": "41b22a9e",
   "metadata": {},
   "source": [
    "# Converts feed column to numeric type\n",
    "df['Fee'] = pd.to_numeric(df['Fee'])"
   ]
  },
  {
   "cell_type": "code",
   "execution_count": null,
   "id": "757a2142",
   "metadata": {},
   "outputs": [],
   "source": [
    "###############################################"
   ]
  },
  {
   "cell_type": "code",
   "execution_count": null,
   "id": "38c0de0c",
   "metadata": {},
   "outputs": [],
   "source": [
    "#Convert multiple Numeric Types using apply() Method"
   ]
  },
  {
   "cell_type": "markdown",
   "id": "c59c3910",
   "metadata": {},
   "source": [
    "# Convert Fee and Discount to numeric types\n",
    "df = pd.DataFrame(technologies)\n",
    "df[['Fee', 'Discount']] =df [['Fee', 'Discount']].apply(pd.to_numeric)"
   ]
  },
  {
   "cell_type": "code",
   "execution_count": null,
   "id": "446c28e1",
   "metadata": {},
   "outputs": [],
   "source": [
    "print(df.dtypes)"
   ]
  },
  {
   "cell_type": "markdown",
   "id": "edbce157",
   "metadata": {},
   "source": []
  },
  {
   "cell_type": "code",
   "execution_count": null,
   "id": "8207fd40",
   "metadata": {},
   "outputs": [],
   "source": [
    "##############################################"
   ]
  },
  {
   "cell_type": "code",
   "execution_count": null,
   "id": "df22f009",
   "metadata": {},
   "outputs": [],
   "source": [
    "#Quick Examples of Get the Number of Rows in DataFrame"
   ]
  },
  {
   "cell_type": "markdown",
   "id": "2510b958",
   "metadata": {},
   "source": [
    "rows_count = len(df.index)\n",
    "rows_count\n",
    "rows_count = len(df.axes[0])\n",
    "rows_count\n"
   ]
  },
  {
   "cell_type": "code",
   "execution_count": null,
   "id": "224c6754",
   "metadata": {},
   "outputs": [],
   "source": [
    "###############################################"
   ]
  },
  {
   "cell_type": "markdown",
   "id": "9d2b9752",
   "metadata": {},
   "source": [
    "df = pd.DataFrame(technologies)\n",
    "row_count = df.shape[0]  # Returns number of rows\n",
    "col_count = df.shape[1]  # Returns number of columns"
   ]
  },
  {
   "cell_type": "code",
   "execution_count": null,
   "id": "28880cec",
   "metadata": {},
   "outputs": [],
   "source": [
    "print(row_count)"
   ]
  },
  {
   "cell_type": "code",
   "execution_count": null,
   "id": "1bf1fa0e",
   "metadata": {},
   "outputs": [],
   "source": [
    "#Outputs - 4"
   ]
  },
  {
   "cell_type": "markdown",
   "id": "4e6b8941",
   "metadata": {},
   "source": []
  },
  {
   "cell_type": "code",
   "execution_count": null,
   "id": "d0c6f1c6",
   "metadata": {},
   "outputs": [],
   "source": [
    "###############################################"
   ]
  },
  {
   "cell_type": "code",
   "execution_count": null,
   "id": "dc7bdb63",
   "metadata": {},
   "outputs": [],
   "source": [
    "#pandas Apply Function to a Column"
   ]
  },
  {
   "cell_type": "markdown",
   "id": "e223d0b1",
   "metadata": {},
   "source": [
    "# Below are quick examples"
   ]
  },
  {
   "cell_type": "markdown",
   "id": "fa1b3806",
   "metadata": {},
   "source": [
    "# Using Dataframe.apply() to apply function add column\n",
    "import pandas as pd\n",
    "import numpy as np\n",
    "data = [(3,5,7), (2,4,6),(5,8,9)]\n",
    "df = pd.DataFrame(data, columns = ['A','B','C'])"
   ]
  },
  {
   "cell_type": "code",
   "execution_count": null,
   "id": "0f9d4e19",
   "metadata": {},
   "outputs": [],
   "source": [
    "print(df)"
   ]
  },
  {
   "cell_type": "code",
   "execution_count": null,
   "id": "4060f683",
   "metadata": {},
   "outputs": [],
   "source": [
    "def add_3(x):"
   ]
  },
  {
   "cell_type": "markdown",
   "id": "8b1db0d7",
   "metadata": {},
   "source": [
    "   return x+3\n",
    "df2 = df.apply(add_3)\n",
    "df2\n"
   ]
  },
  {
   "cell_type": "code",
   "execution_count": null,
   "id": "3d7da92d",
   "metadata": {},
   "outputs": [],
   "source": [
    "############################################################"
   ]
  },
  {
   "cell_type": "markdown",
   "id": "d2230b7b",
   "metadata": {},
   "source": [
    "# Using apply function single column"
   ]
  },
  {
   "cell_type": "code",
   "execution_count": null,
   "id": "e6aa1f5c",
   "metadata": {},
   "outputs": [],
   "source": [
    "def add_4(x):"
   ]
  },
  {
   "cell_type": "markdown",
   "id": "3aafff25",
   "metadata": {},
   "source": [
    "   return x+4\n",
    "df[\"B\"] = df[\"B\"].apply(add_4)\n",
    "df[\"B\"]"
   ]
  },
  {
   "cell_type": "code",
   "execution_count": null,
   "id": "b092934e",
   "metadata": {},
   "outputs": [],
   "source": [
    "#########################################################"
   ]
  },
  {
   "cell_type": "markdown",
   "id": "c82e4fea",
   "metadata": {},
   "source": [
    "# Apply to multiple columns\n",
    "df[['A','B']] = df[['A','B']].apply(add_3)\n",
    "df"
   ]
  },
  {
   "cell_type": "code",
   "execution_count": null,
   "id": "df646780",
   "metadata": {},
   "outputs": [],
   "source": [
    "########################################################"
   ]
  },
  {
   "cell_type": "markdown",
   "id": "c124e981",
   "metadata": {},
   "source": [
    "# apply a lambda function to each column\n",
    "df2 = df.apply(lambda x : x + 10)\n"
   ]
  },
  {
   "cell_type": "code",
   "execution_count": null,
   "id": "3e0a5e4d",
   "metadata": {},
   "outputs": [],
   "source": [
    "########################################################"
   ]
  },
  {
   "cell_type": "markdown",
   "id": "b2134d96",
   "metadata": {},
   "source": [
    "# apply() function on selected list of multiple columns\n",
    "df = pd.DataFrame(data, columns = ['A','B','C'])\n",
    "df[['A','B']] = df[['A','B']].apply(add_3)"
   ]
  },
  {
   "cell_type": "code",
   "execution_count": null,
   "id": "a0c34213",
   "metadata": {},
   "outputs": [],
   "source": [
    "print(df)"
   ]
  },
  {
   "cell_type": "markdown",
   "id": "0ac41b9d",
   "metadata": {},
   "source": []
  },
  {
   "cell_type": "code",
   "execution_count": null,
   "id": "c744eef2",
   "metadata": {},
   "outputs": [],
   "source": [
    "#######################################################"
   ]
  },
  {
   "cell_type": "code",
   "execution_count": null,
   "id": "d14399a2",
   "metadata": {},
   "outputs": [],
   "source": [
    "#Apply Lambda Function to Each Column"
   ]
  },
  {
   "cell_type": "markdown",
   "id": "35c5df7c",
   "metadata": {},
   "source": [
    "df2 = df.apply(lambda x : x + 10)"
   ]
  },
  {
   "cell_type": "code",
   "execution_count": null,
   "id": "7cec7509",
   "metadata": {},
   "outputs": [],
   "source": [
    "print(df2)"
   ]
  },
  {
   "cell_type": "markdown",
   "id": "b0edd08d",
   "metadata": {},
   "source": []
  },
  {
   "cell_type": "code",
   "execution_count": null,
   "id": "a0e99e18",
   "metadata": {},
   "outputs": [],
   "source": [
    "########################################################"
   ]
  },
  {
   "cell_type": "code",
   "execution_count": null,
   "id": "c454c63e",
   "metadata": {},
   "outputs": [],
   "source": [
    "#Apply Lambda Function to Single Column Using Dataframe.apply() and lambda function"
   ]
  },
  {
   "cell_type": "markdown",
   "id": "f3b87660",
   "metadata": {},
   "source": [
    "df[\"A\"] = df[\"A\"].apply(lambda x: x-2)"
   ]
  },
  {
   "cell_type": "code",
   "execution_count": null,
   "id": "8a7bf423",
   "metadata": {},
   "outputs": [],
   "source": [
    "print(df)"
   ]
  },
  {
   "cell_type": "markdown",
   "id": "c3578992",
   "metadata": {},
   "source": []
  },
  {
   "cell_type": "code",
   "execution_count": null,
   "id": "1ad6d9ef",
   "metadata": {},
   "outputs": [],
   "source": [
    "###########################################################"
   ]
  },
  {
   "cell_type": "code",
   "execution_count": null,
   "id": "abf7d612",
   "metadata": {},
   "outputs": [],
   "source": [
    "#Using pandas.DataFrame.transform() to Apply Function Column Using DataFrame.transform() "
   ]
  },
  {
   "cell_type": "code",
   "execution_count": null,
   "id": "9f95e108",
   "metadata": {},
   "outputs": [],
   "source": [
    "def add_2(x):"
   ]
  },
  {
   "cell_type": "markdown",
   "id": "dda62d9d",
   "metadata": {},
   "source": [
    "    return x+2\n",
    "df = df.transform(add_2)"
   ]
  },
  {
   "cell_type": "code",
   "execution_count": null,
   "id": "88b3b290",
   "metadata": {},
   "outputs": [],
   "source": [
    "print(df)"
   ]
  },
  {
   "cell_type": "markdown",
   "id": "ed256d47",
   "metadata": {},
   "source": []
  },
  {
   "cell_type": "code",
   "execution_count": null,
   "id": "d21068a9",
   "metadata": {},
   "outputs": [],
   "source": [
    "#########################################################"
   ]
  },
  {
   "cell_type": "code",
   "execution_count": null,
   "id": "8be35b13",
   "metadata": {},
   "outputs": [],
   "source": [
    "#Using pandas.DataFrame.map() to Single Column"
   ]
  },
  {
   "cell_type": "markdown",
   "id": "dc0d0465",
   "metadata": {},
   "source": [
    "df['A'] = df['A'].map(lambda A: A/2.)"
   ]
  },
  {
   "cell_type": "code",
   "execution_count": null,
   "id": "d3ce5d49",
   "metadata": {},
   "outputs": [],
   "source": [
    "print(df)"
   ]
  },
  {
   "cell_type": "markdown",
   "id": "44ed5745",
   "metadata": {},
   "source": []
  },
  {
   "cell_type": "code",
   "execution_count": null,
   "id": "86ace1bf",
   "metadata": {},
   "outputs": [],
   "source": [
    "#########################################################"
   ]
  },
  {
   "cell_type": "code",
   "execution_count": null,
   "id": "d8bf048d",
   "metadata": {},
   "outputs": [],
   "source": [
    "#Using Numpy function on single Column Using Dataframe.apply() & [] operator"
   ]
  },
  {
   "cell_type": "markdown",
   "id": "9d567029",
   "metadata": {},
   "source": [
    "df['A'] = df['A'].apply(np.square)"
   ]
  },
  {
   "cell_type": "code",
   "execution_count": null,
   "id": "8c8f3996",
   "metadata": {},
   "outputs": [],
   "source": [
    "print(df)"
   ]
  },
  {
   "cell_type": "markdown",
   "id": "0efd2c64",
   "metadata": {},
   "source": []
  },
  {
   "cell_type": "code",
   "execution_count": null,
   "id": "1a2b6d2e",
   "metadata": {},
   "outputs": [],
   "source": [
    "##########################################################"
   ]
  },
  {
   "cell_type": "code",
   "execution_count": null,
   "id": "6adb9dfb",
   "metadata": {},
   "outputs": [],
   "source": [
    "#Using NumPy.square() Method Using numpy.square() and [] operator"
   ]
  },
  {
   "cell_type": "markdown",
   "id": "16d7295a",
   "metadata": {},
   "source": [
    "df['A'] = np.square(df['A'])"
   ]
  },
  {
   "cell_type": "code",
   "execution_count": null,
   "id": "ba1c3727",
   "metadata": {},
   "outputs": [],
   "source": [
    "print(df)"
   ]
  },
  {
   "cell_type": "markdown",
   "id": "e83e4444",
   "metadata": {},
   "source": []
  },
  {
   "cell_type": "code",
   "execution_count": null,
   "id": "20f47fec",
   "metadata": {},
   "outputs": [],
   "source": [
    "#############################################################"
   ]
  },
  {
   "cell_type": "markdown",
   "id": "1869b5dd",
   "metadata": {},
   "source": [
    "\n"
   ]
  },
  {
   "cell_type": "code",
   "execution_count": null,
   "id": "4f05fbd6",
   "metadata": {},
   "outputs": [],
   "source": [
    "#Pandas groupby()  "
   ]
  },
  {
   "cell_type": "markdown",
   "id": "2fb4b08b",
   "metadata": {},
   "source": [
    "groupby is used for grouping the data according to the categories and applying a function to the categories. It also helps to aggregate data efficiently. The Pandas groupby() is a very powerful function with a lot of variations. It makes the task of splitting the Dataframe over some criteria really easy and efficient.\n",
    " Pandas dataframe.groupby() function is used to split the data into groups based on some criteria\n",
    "With Examples \n",
    "\n",
    "import pandas as pd\n",
    "technologies   = ({\n",
    "    'Courses':[\"Spark\",\"PySpark\",\"Hadoop\",\"Python\",\"Pandas\",\"Hadoop\",\"Spark\",\"Python\",\"NA\"],\n",
    "    'Fee' :[22000,25000,23000,24000,26000,25000,25000,22000,1500],\n",
    "    'Duration':['30days','50days','55days','40days','60days','35days','30days','50days','40days'],\n",
    "    'Discount':[1000,2300,1000,1200,2500,None,1400,1600,0]\n",
    "          })\n",
    "df = pd.DataFrame(technologies)"
   ]
  },
  {
   "cell_type": "code",
   "execution_count": null,
   "id": "9db4aa68",
   "metadata": {},
   "outputs": [],
   "source": [
    "print(df)"
   ]
  },
  {
   "cell_type": "markdown",
   "id": "33879cf6",
   "metadata": {},
   "source": [
    "'''o.p:- Courses    Fee Duration  Discount\n",
    "0    Spark  22000   30days    1000.0\n",
    "1  PySpark  25000   50days    2300.0\n",
    "2   Hadoop  23000   55days    1000.0\n",
    "3   Python  24000   40days    1200.0\n",
    "4   Pandas  26000   60days    2500.0\n",
    "5   Hadoop  25000   35days       NaN\n",
    "6    Spark  25000   30days    1400.0\n",
    "7   Python  22000   50days    1600.0\n",
    "8       NA   1500   40days       0.0'''\n"
   ]
  },
  {
   "cell_type": "code",
   "execution_count": null,
   "id": "ccd0c9c2",
   "metadata": {},
   "outputs": [],
   "source": [
    "##################################################"
   ]
  },
  {
   "cell_type": "markdown",
   "id": "e20f3907",
   "metadata": {},
   "source": [
    "# Use groupby() to compute the sum\n",
    "df2 =df.groupby(['Courses']).sum()"
   ]
  },
  {
   "cell_type": "code",
   "execution_count": null,
   "id": "3b417be5",
   "metadata": {},
   "outputs": [],
   "source": [
    "print(df2)"
   ]
  },
  {
   "cell_type": "markdown",
   "id": "40efb592",
   "metadata": {},
   "source": [
    " '''o.p:-    \n",
    "Courses                  Fee  Discount     \n",
    "Hadoop   \t48000    1000.0\n",
    "NA        \t1500       0.0\n",
    "Pandas   \t26000    2500.0\n",
    "PySpark  \t25000    2300.0\n",
    "Python   \t46000    2800.0\n",
    "Spark    \t47000    2400.0'''\n"
   ]
  },
  {
   "cell_type": "code",
   "execution_count": null,
   "id": "f35d0d10",
   "metadata": {},
   "outputs": [],
   "source": [
    "######################################################"
   ]
  },
  {
   "cell_type": "markdown",
   "id": "8afa033b",
   "metadata": {},
   "source": [
    "\n"
   ]
  },
  {
   "cell_type": "markdown",
   "id": "e1778367",
   "metadata": {},
   "source": [
    "# Group by multiple columns\n",
    "df2 =df.groupby(['Courses', 'Duration']).sum()"
   ]
  },
  {
   "cell_type": "code",
   "execution_count": null,
   "id": "cffad315",
   "metadata": {},
   "outputs": [],
   "source": [
    "print(df2)"
   ]
  },
  {
   "cell_type": "markdown",
   "id": "e6cfc4aa",
   "metadata": {},
   "source": [
    "'''o.p:-                   \n",
    "Courses\t Duration      Fee  Discount           \n",
    "Hadoop  \t35days    25000       0.0\n",
    "       \t\t 55days    23000    1000.0\n",
    "NA  \t\t    40days     1500       0.0\n",
    "Pandas  \t60days    26000    2500.0\n",
    "PySpark \t50days    25000    2300.0\n",
    "Python  \t40days    24000    1200.0\n",
    "        \t\t50days    22000    1600.0\n",
    "Spark   \t30days    47000    2400.0'''\n"
   ]
  },
  {
   "cell_type": "code",
   "execution_count": null,
   "id": "38681712",
   "metadata": {},
   "outputs": [],
   "source": [
    "#####################################################"
   ]
  },
  {
   "cell_type": "code",
   "execution_count": null,
   "id": "ebdc710a",
   "metadata": {},
   "outputs": [],
   "source": [
    "#Add Index to the grouped data"
   ]
  },
  {
   "cell_type": "markdown",
   "id": "ee6aea1b",
   "metadata": {},
   "source": [
    "# Add Row Index to the group by result\n",
    "df2 = df.groupby(['Courses','Duration']).sum().reset_index()"
   ]
  },
  {
   "cell_type": "code",
   "execution_count": null,
   "id": "f671cb54",
   "metadata": {},
   "outputs": [],
   "source": [
    "print(df2)"
   ]
  },
  {
   "cell_type": "markdown",
   "id": "06f995b3",
   "metadata": {},
   "source": [
    "'''o.p:-\n",
    "Courses \tDuration    Fee \t Discount\n",
    "0   Hadoop   \t\t35days  25000       0.0\n",
    "1   Hadoop   \t\t55days  23000    1000.0\n",
    "2       NA   \t\t40days   1500       0.0\n",
    "3   Pandas   \t\t60days  26000    2500.0\n",
    "4  PySpark   \t\t50days  25000    2300.0\n",
    "5   Python   \t\t40days  24000    1200.0\n",
    "6   Python   \t\t50days  22000    1600.0\n",
    "7    Spark   \t\t30days  47000    2400.0'''\n"
   ]
  },
  {
   "cell_type": "code",
   "execution_count": null,
   "id": "48f7ef05",
   "metadata": {},
   "outputs": [],
   "source": [
    "######################################################"
   ]
  },
  {
   "cell_type": "markdown",
   "id": "0da8fee8",
   "metadata": {},
   "source": [
    "# Group by on multiple columns\n",
    "df2 =df.groupby(['Courses', 'Duration']).sum()"
   ]
  },
  {
   "cell_type": "code",
   "execution_count": null,
   "id": "b916e91d",
   "metadata": {},
   "outputs": [],
   "source": [
    "print(df2)"
   ]
  },
  {
   "cell_type": "markdown",
   "id": "bc06da90",
   "metadata": {},
   "source": [
    "'''o.p:-                \n",
    "Courses \tDuration\tFee  Discount         \n",
    "Hadoop  \t35days    25000       0.0\n",
    "        \t\t55days    23000    1000.0\n",
    "NA      \t\t40days     1500       0.0\n",
    "Pandas  \t60days    26000    2500.0\n",
    "PySpark \t50days    25000    2300.0\n",
    "Python  \t40days    24000    1200.0\n",
    "        \t\t50days    22000    1600.0\n",
    "Spark   \t30days    47000    2400.0'''\n"
   ]
  },
  {
   "cell_type": "code",
   "execution_count": null,
   "id": "3e1f05b6",
   "metadata": {},
   "outputs": [],
   "source": [
    "#######################################################"
   ]
  },
  {
   "cell_type": "code",
   "execution_count": null,
   "id": "2b9b245e",
   "metadata": {},
   "outputs": [],
   "source": [
    "#Pandas Get Column Names from DataFrame"
   ]
  },
  {
   "cell_type": "markdown",
   "id": "05355a2c",
   "metadata": {},
   "source": [
    "import pandas as pd\n",
    "import numpy as np\n",
    "\n",
    "technologies= {\n",
    "    'Courses':[\"Spark\",\"PySpark\",\"Hadoop\",\"Python\",\"Pandas\"],\n",
    "    'Fee' :[22000,25000,23000,24000,26000],\n",
    "    'Duration':['30days','50days','30days', None,np.nan],\n",
    "    'Discount':[1000,2300,1000,1200,2500]\n",
    "          }\n",
    "df = pd.DataFrame(technologies)"
   ]
  },
  {
   "cell_type": "code",
   "execution_count": null,
   "id": "3dfcb2a9",
   "metadata": {},
   "outputs": [],
   "source": [
    "print(df)"
   ]
  },
  {
   "cell_type": "markdown",
   "id": "b9472ccf",
   "metadata": {},
   "source": [
    "'''o.p:-  Courses    Fee Duration  Discount\n",
    "0    Spark  22000   30days      1000\n",
    "1  PySpark  25000   50days      2300\n",
    "2   Hadoop  23000   30days      1000\n",
    "3   Python  24000     None      1200\n",
    "4   Pandas  26000      NaN      2500'''\n"
   ]
  },
  {
   "cell_type": "code",
   "execution_count": null,
   "id": "81bbe6a6",
   "metadata": {},
   "outputs": [],
   "source": [
    "########################################################"
   ]
  },
  {
   "cell_type": "markdown",
   "id": "a16e9029",
   "metadata": {},
   "source": [
    "# Get the list of all column names from headers\n",
    "column_headers = list(df.columns.values)"
   ]
  },
  {
   "cell_type": "code",
   "execution_count": null,
   "id": "4e32612d",
   "metadata": {},
   "outputs": [],
   "source": [
    "print(\"The Column Header :\", column_headers)"
   ]
  },
  {
   "cell_type": "code",
   "execution_count": null,
   "id": "2c0ee8de",
   "metadata": {},
   "outputs": [],
   "source": [
    "#o.p:-The Column Header : ['Courses', 'Fee', 'Duration', 'Discount']"
   ]
  },
  {
   "cell_type": "markdown",
   "id": "fe5fc1e8",
   "metadata": {},
   "source": []
  },
  {
   "cell_type": "code",
   "execution_count": null,
   "id": "0dd27ae4",
   "metadata": {},
   "outputs": [],
   "source": [
    "#########################################################"
   ]
  },
  {
   "cell_type": "code",
   "execution_count": null,
   "id": "4e1a5056",
   "metadata": {},
   "outputs": [],
   "source": [
    "#Using list(df) to get the column headers as a list"
   ]
  },
  {
   "cell_type": "markdown",
   "id": "0f99509b",
   "metadata": {},
   "source": [
    "column_headers = list(df.columns)\n",
    "column_headers          #o.p:-['Courses', 'Fee', 'Duration', 'Discount']"
   ]
  },
  {
   "cell_type": "code",
   "execution_count": null,
   "id": "1d6b92ef",
   "metadata": {},
   "outputs": [],
   "source": [
    "#Using list(df) to get the list of all Column Names"
   ]
  },
  {
   "cell_type": "markdown",
   "id": "f644ebf8",
   "metadata": {},
   "source": [
    "column_headers = list(df)\n",
    "column_headers"
   ]
  },
  {
   "cell_type": "code",
   "execution_count": null,
   "id": "c5d9e48d",
   "metadata": {},
   "outputs": [],
   "source": [
    "#o.p:-Out[59]: ['Courses', 'Fee', 'Duration', 'Discount']"
   ]
  },
  {
   "cell_type": "markdown",
   "id": "22767ebd",
   "metadata": {},
   "source": [
    "\n",
    "\n",
    "\n",
    "\n",
    "\n",
    "\n",
    "\n",
    "******************shuffle**********************"
   ]
  },
  {
   "cell_type": "code",
   "execution_count": null,
   "id": "e5444f81",
   "metadata": {},
   "outputs": [],
   "source": [
    "#Pandas Shuffle DataFrame Rows "
   ]
  },
  {
   "cell_type": "markdown",
   "id": "2cc1915f",
   "metadata": {},
   "source": [
    "import pandas as pd\n",
    "technologies = {\n",
    "    'Courses':[\"Spark\",\"PySpark\",\"Hadoop\",\"Python\",\"pandas\",\"Oracle\",\"Java\"],\n",
    "    'Fee' :[20000,25000,26000,22000,24000,21000,22000],\n",
    "    'Duration':['30day','40days','35days','40days','60days','50days','55days'],\n",
    "    'Discount':[1000,2300,1500,1200,2500,2100,2000]\n",
    "               }\n",
    "df = pd.DataFrame(technologies)"
   ]
  },
  {
   "cell_type": "code",
   "execution_count": null,
   "id": "15a3cfb4",
   "metadata": {},
   "outputs": [],
   "source": [
    "print(df)"
   ]
  },
  {
   "cell_type": "code",
   "execution_count": null,
   "id": "27efad94",
   "metadata": {},
   "outputs": [],
   "source": [
    "#Pandas Shuffle DataFrame Rows shuffle the DataFrame rows & return all rows"
   ]
  },
  {
   "cell_type": "markdown",
   "id": "15be6083",
   "metadata": {},
   "source": [
    "df1 = df.sample(frac = 1)"
   ]
  },
  {
   "cell_type": "code",
   "execution_count": null,
   "id": "0a722ae4",
   "metadata": {},
   "outputs": [],
   "source": [
    "print(df1)"
   ]
  },
  {
   "cell_type": "code",
   "execution_count": null,
   "id": "9a2d863e",
   "metadata": {},
   "outputs": [],
   "source": [
    "#frac=1 it can do the shuffling of the data "
   ]
  },
  {
   "cell_type": "markdown",
   "id": "a808f2e6",
   "metadata": {},
   "source": []
  },
  {
   "cell_type": "code",
   "execution_count": null,
   "id": "e2ef1c67",
   "metadata": {},
   "outputs": [],
   "source": [
    "##############################################################"
   ]
  },
  {
   "cell_type": "markdown",
   "id": "56c3aebf",
   "metadata": {},
   "source": [
    "# Create a new Index starting from zero:- creating the new index starting from zero and it give the  older inde aswell  as  the newer index ie.shuffle index\n",
    "df1 = df.sample(frac = 1).reset_index()"
   ]
  },
  {
   "cell_type": "code",
   "execution_count": null,
   "id": "f7acee1d",
   "metadata": {},
   "outputs": [],
   "source": [
    "print(df1)"
   ]
  },
  {
   "cell_type": "markdown",
   "id": "d3f5a14d",
   "metadata": {},
   "source": []
  },
  {
   "cell_type": "code",
   "execution_count": null,
   "id": "ae562214",
   "metadata": {},
   "outputs": [],
   "source": [
    "#############################################################"
   ]
  },
  {
   "cell_type": "markdown",
   "id": "ecd55f69",
   "metadata": {},
   "source": [
    "# Drop shuffle Index :- it can drop the shuffling the index value\n",
    "df1 = df.sample(frac = 1).reset_index(drop=True)"
   ]
  },
  {
   "cell_type": "code",
   "execution_count": null,
   "id": "0fc5b354",
   "metadata": {},
   "outputs": [],
   "source": [
    "print(df1)"
   ]
  },
  {
   "cell_type": "markdown",
   "id": "45b7f1f1",
   "metadata": {},
   "source": []
  },
  {
   "cell_type": "code",
   "execution_count": null,
   "id": "1aa253a9",
   "metadata": {},
   "outputs": [],
   "source": [
    "###############################################################"
   ]
  },
  {
   "cell_type": "markdown",
   "id": "02891674",
   "metadata": {},
   "source": [
    "import pandas as pd\n",
    "technologies = {\n",
    "    'Courses':[\"Spark\",\"PySpark\",\"Python\",\"pandas\"],\n",
    "    'Fee' :[20000,25000,22000,30000],\n",
    "    'Duration':['30days','40days','35days','50days'],\n",
    "              }\n",
    "index_labels=['r1','r2','r3','r4']\n",
    "df1 = pd.DataFrame(technologies,index=index_labels)\n",
    "\n",
    "technologies2 = {\n",
    "    'Courses':[\"Spark\",\"Java\",\"Python\",\"Go\"],\n",
    "    'Discount':[2000,2300,1200,2000]\n",
    "              }\n",
    "index_labels2=['r1','r6','r3','r5']\n",
    "df2 = pd.DataFrame(technologies2,index=index_labels2)\n",
    "\n",
    "\n",
    "************************join***************************\n",
    "1. it is important in ML\n",
    "2.The various tables are join in the csv file \n",
    "4. database datapipeline .csv understand the data(EDA)Process modelEvalution model(also called RISP_ML(Q))\n",
    "5. join for join the only one column is need to indentical\n",
    "6. Pre requiste to the join there us comman column in the all the table or given table\n",
    "7. There are various type of the join are present i.e. INNER ,LEFT , Right , Full \n",
    "INNER JOIN:-\n",
    "1. Only common rows will display\n",
    "2. in this table we can see that India and Nepal are comman entry\n",
    "3. the join is made on country id of the both the tables\n",
    "4.show the data only for matching records \n",
    "5. pandas inner join is mostly used join, It is used to join two DataFrames on indexes.When indexes don’t match the rows get dropped from both DataFrames.\n",
    "LEFT Join \n",
    "1. In the left join all the data of left table will be display and only matching records /rows of right table will be display\n",
    "Right join\n",
    "1. all the records of right table will be display but only matching records of the left table will display\n",
    "OUTER join\n",
    "1. in the outer join all the records of left table and all the records af right table are display irrespective to it matching or not\n",
    "Note :- By default the python will do the  left join.\n",
    "\n",
    "Syntax:- variable name =DataFrame .join(Tablename1,tablename2,lsuffix =”_left”,rsuffix=”_right” ,how =”join name”)\n",
    "\tWhile joining the data frame is not mention column name on which column has to be done the join pandas inner join is mostly us ejon \n",
    "\tIt is used to join two dataframe on indexes\n",
    "\tIf there is no explicity mentioning of the column\n",
    "\tMerge() = inner join by default left join not mention\n",
    "\tTo_csv make the csv file\n",
    "\tRead_csv read the data of the csv file\n",
    "serial of the right and left suffix will be change it can not harm on the dataframe"
   ]
  },
  {
   "cell_type": "code",
   "execution_count": null,
   "id": "874b8f08",
   "metadata": {},
   "outputs": [],
   "source": [
    "#lsuffix and rsuffix is important in the join"
   ]
  },
  {
   "cell_type": "code",
   "execution_count": null,
   "id": "e0b85ac2",
   "metadata": {},
   "outputs": [],
   "source": [
    "#'how=' it can show that which operation i.e. which join we want to perform on the dataframe"
   ]
  },
  {
   "cell_type": "code",
   "execution_count": null,
   "id": "4bcb1fcf",
   "metadata": {},
   "outputs": [],
   "source": [
    "#syntax:-"
   ]
  },
  {
   "cell_type": "code",
   "execution_count": null,
   "id": "e1bd71cf",
   "metadata": {},
   "outputs": [],
   "source": [
    "#variblename=table1/dataframe1.join(table2/dataframe2 ,lsuffix=\"_left\",rsuffix=\"_right\",how=' name of join which join you want to perform on the dataframe')"
   ]
  },
  {
   "cell_type": "code",
   "execution_count": null,
   "id": "8f98a4bf",
   "metadata": {},
   "outputs": [],
   "source": [
    "#we can change the sequiece of the lsuffix and rsuffix"
   ]
  },
  {
   "cell_type": "code",
   "execution_count": null,
   "id": "5858c00c",
   "metadata": {},
   "outputs": [],
   "source": [
    "#from \"how\" statement we can specifies the which join is we can use in the excution"
   ]
  },
  {
   "cell_type": "code",
   "execution_count": null,
   "id": "14cc8bb3",
   "metadata": {},
   "outputs": [],
   "source": [
    "##################################################"
   ]
  },
  {
   "cell_type": "markdown",
   "id": "f222855a",
   "metadata": {},
   "source": [
    "# pandas join ,by default it will join the table left join\n",
    "df3=df1.join(df2, lsuffix=\"_left\", rsuffix=\"_right\")"
   ]
  },
  {
   "cell_type": "code",
   "execution_count": null,
   "id": "9420681d",
   "metadata": {},
   "outputs": [],
   "source": [
    "print(df3)"
   ]
  },
  {
   "cell_type": "markdown",
   "id": "d7d4ed5e",
   "metadata": {},
   "source": [
    "# In the left join all the data of left table will be display and only matching records /rows of right table will be display\n"
   ]
  },
  {
   "cell_type": "code",
   "execution_count": null,
   "id": "868e5238",
   "metadata": {},
   "outputs": [],
   "source": [
    "########################################################"
   ]
  },
  {
   "cell_type": "markdown",
   "id": "861a116f",
   "metadata": {},
   "source": [
    "# pandas Inner join DataFrames\n",
    "df3=df1.join(df2, lsuffix=\"_left\", rsuffix=\"_right\", how='inner')"
   ]
  },
  {
   "cell_type": "code",
   "execution_count": null,
   "id": "801b04c1",
   "metadata": {},
   "outputs": [],
   "source": [
    "print(df3)"
   ]
  },
  {
   "cell_type": "code",
   "execution_count": null,
   "id": "1d4ec097",
   "metadata": {},
   "outputs": [],
   "source": [
    "#. Only common rows will display"
   ]
  },
  {
   "cell_type": "markdown",
   "id": "a9d6ccca",
   "metadata": {},
   "source": [
    "\"Out[26]: \n",
    "   courses_left  \tdiscount\t courses_right   fee \tduration\n",
    "r1        spark      \t2134         spark  \t\t2134   34days\n",
    "r3      python       \t4567       python   \t\t4567   43days\"\"\"\n"
   ]
  },
  {
   "cell_type": "code",
   "execution_count": null,
   "id": "0050dac5",
   "metadata": {},
   "outputs": [],
   "source": [
    "############################################################"
   ]
  },
  {
   "cell_type": "code",
   "execution_count": null,
   "id": "712c9f90",
   "metadata": {},
   "outputs": [],
   "source": [
    " #pandas Left join DataFrames"
   ]
  },
  {
   "cell_type": "markdown",
   "id": "3b0b3825",
   "metadata": {},
   "source": [
    "df3=df1.join(df2, lsuffix=\"_left\", rsuffix=\"_right\", how='left')"
   ]
  },
  {
   "cell_type": "code",
   "execution_count": null,
   "id": "4021069d",
   "metadata": {},
   "outputs": [],
   "source": [
    "print(df3)"
   ]
  },
  {
   "cell_type": "markdown",
   "id": "32adc6ec",
   "metadata": {},
   "source": [
    "# In the left join all the data of left table will be display and only matching records /rows of right table will be display\n",
    "\"\"\"Out[28]: \n",
    "   courses_left   \tfee duration courses_right  discount\n",
    "r1        spark  \t\t2134   34days         spark    2134.0\n",
    "r2      pyspark  \t3456   54days           NaN       NaN\n",
    "r3      python   \t4567   43days       python     4567.0\n",
    "r4       pandas   \t768   36days           NaN       NaN\"\"\"\n"
   ]
  },
  {
   "cell_type": "code",
   "execution_count": null,
   "id": "e8ce390c",
   "metadata": {},
   "outputs": [],
   "source": [
    "################################################################"
   ]
  },
  {
   "cell_type": "code",
   "execution_count": null,
   "id": "2080d90b",
   "metadata": {},
   "outputs": [],
   "source": [
    " #pandas Right join DataFrames"
   ]
  },
  {
   "cell_type": "markdown",
   "id": "b15074ee",
   "metadata": {},
   "source": [
    "df3=df1.join(df2, lsuffix=\"_left\", rsuffix=\"_right\", how='right')"
   ]
  },
  {
   "cell_type": "code",
   "execution_count": null,
   "id": "5db1f0c9",
   "metadata": {},
   "outputs": [],
   "source": [
    "print(df3)"
   ]
  },
  {
   "cell_type": "code",
   "execution_count": null,
   "id": "4860c3e5",
   "metadata": {},
   "outputs": [],
   "source": [
    "#. all the records of right table will be display but only matching records of the left table will display"
   ]
  },
  {
   "cell_type": "markdown",
   "id": "2abdc195",
   "metadata": {},
   "source": [
    "\"\"\"df3\n",
    "Out[30]: \n",
    "   courses_left     \tfee duration courses_right  discount\n",
    "r1        spark  \t\t2134.0   34days         spark      2134\n",
    "r6          NaN    \t NaN      NaN          java      3456\n",
    "r3      python   \t4567.0   43days       python       4567\n",
    "r5          NaN     \tNaN      NaN            go       565\"\"\"\n"
   ]
  },
  {
   "cell_type": "code",
   "execution_count": null,
   "id": "5a3418a5",
   "metadata": {},
   "outputs": [],
   "source": [
    "###############################################################"
   ]
  },
  {
   "cell_type": "markdown",
   "id": "5f5df937",
   "metadata": {},
   "source": [
    "# pandas join on columns\n",
    "df3=df1.set_index('Courses').join(df2.set_index('Courses'), how='inner')"
   ]
  },
  {
   "cell_type": "code",
   "execution_count": null,
   "id": "1f5b3693",
   "metadata": {},
   "outputs": [],
   "source": [
    "print(df3)"
   ]
  },
  {
   "cell_type": "code",
   "execution_count": null,
   "id": "7703f45a",
   "metadata": {},
   "outputs": [],
   "source": [
    "##############################################################"
   ]
  },
  {
   "cell_type": "markdown",
   "id": "2608c130",
   "metadata": {},
   "source": [
    "# pandas join on columns\n",
    "df3=df1.set_index('Courses').join(df2.set_index('Courses'), how='left')"
   ]
  },
  {
   "cell_type": "code",
   "execution_count": null,
   "id": "22ee5fb0",
   "metadata": {},
   "outputs": [],
   "source": [
    "print(df3)"
   ]
  },
  {
   "cell_type": "markdown",
   "id": "bf1800e9",
   "metadata": {},
   "source": []
  },
  {
   "cell_type": "code",
   "execution_count": null,
   "id": "39eaf317",
   "metadata": {},
   "outputs": [],
   "source": [
    "########################################################"
   ]
  },
  {
   "cell_type": "markdown",
   "id": "933ba857",
   "metadata": {},
   "source": [
    "# pandas join on columns\n",
    "df3=df1.set_index('Courses').join(df2.set_index('Courses'), how='right')"
   ]
  },
  {
   "cell_type": "code",
   "execution_count": null,
   "id": "f3489131",
   "metadata": {},
   "outputs": [],
   "source": [
    "print(df3)"
   ]
  },
  {
   "cell_type": "markdown",
   "id": "5af47d61",
   "metadata": {},
   "source": []
  },
  {
   "cell_type": "code",
   "execution_count": null,
   "id": "81a69420",
   "metadata": {},
   "outputs": [],
   "source": [
    "#########################################################"
   ]
  },
  {
   "cell_type": "code",
   "execution_count": null,
   "id": "4d59caf9",
   "metadata": {},
   "outputs": [],
   "source": [
    "#we can join(use any join i.e. left ,right or inner) the more than one column by using the doble coat and [] bracket"
   ]
  },
  {
   "cell_type": "markdown",
   "id": "0964f22f",
   "metadata": {},
   "source": [
    "df3=df1.set_index([\"courses\",\"discount\"]).join(df2.set_index([\"courses\",\"discount\"]),how='right')\n",
    "df3\n"
   ]
  },
  {
   "cell_type": "code",
   "execution_count": null,
   "id": "0b2057ce",
   "metadata": {},
   "outputs": [],
   "source": [
    "###########################################################"
   ]
  },
  {
   "cell_type": "code",
   "execution_count": null,
   "id": "98a496f5",
   "metadata": {},
   "outputs": [],
   "source": [
    "#inner join=Pandas Merge DataFrames"
   ]
  },
  {
   "cell_type": "markdown",
   "id": "a6611c79",
   "metadata": {},
   "source": [
    "import pandas as pd\n",
    "technologies = {\n",
    "    'Courses':[\"Spark\",\"PySpark\",\"Python\",\"pandas\"],\n",
    "    'Fee' :[20000,25000,22000,30000],\n",
    "    'Duration':['30days','40days','35days','50days'],\n",
    "              }\n",
    "index_labels=['r1','r2','r3','r4']\n",
    "df1 = pd.DataFrame(technologies,index=index_labels)\n",
    "\n",
    "technologies2 = {\n",
    "    'Courses':[\"Spark\",\"Java\",\"Python\",\"Go\"],\n",
    "    'Discount':[2000,2300,1200,2000]\n",
    "              }\n",
    "index_labels2=['r1','r6','r3','r5']\n",
    "df2 = pd.DataFrame(technologies2,index=index_labels2)\n"
   ]
  },
  {
   "cell_type": "markdown",
   "id": "c7fd9236",
   "metadata": {},
   "source": [
    "# Using pandas.merge()\n",
    "df3= pd.merge(df1,df2)\n"
   ]
  },
  {
   "cell_type": "markdown",
   "id": "fb0b1fbb",
   "metadata": {},
   "source": [
    "# Using DataFrame.merge()\n",
    "df3=df1.merge(df2)\n"
   ]
  },
  {
   "cell_type": "code",
   "execution_count": null,
   "id": "f6a0b15b",
   "metadata": {},
   "outputs": [],
   "source": [
    "########################################################"
   ]
  },
  {
   "cell_type": "code",
   "execution_count": null,
   "id": "eb29eb86",
   "metadata": {},
   "outputs": [],
   "source": [
    "#Use pandas.concat() to Concat Two DataFrames"
   ]
  },
  {
   "cell_type": "markdown",
   "id": "90858ba3",
   "metadata": {},
   "source": [
    "import pandas as pd\n",
    "df = pd.DataFrame({'Courses': [\"Spark\",\"PySpark\",\"Python\",\"pandas\"],\n",
    "                    'Fee' : [20000,25000,22000,24000]})\n",
    "\n",
    "df1 = pd.DataFrame({'Courses': [\"Pandas\",\"Hadoop\",\"Hyperion\",\"Java\"],\n",
    "                    'Fee': [25000,25200,24500,24900]})\n"
   ]
  },
  {
   "cell_type": "markdown",
   "id": "10d49868",
   "metadata": {},
   "source": [
    "# Using pandas.concat() to concat two DataFrames\n",
    "data = [df, df1]\n",
    "df2 = pd.concat(data)\n",
    "df2\n"
   ]
  },
  {
   "cell_type": "code",
   "execution_count": null,
   "id": "b755d865",
   "metadata": {},
   "outputs": [],
   "source": [
    "###########################################################"
   ]
  },
  {
   "cell_type": "code",
   "execution_count": null,
   "id": "853a6f0c",
   "metadata": {},
   "outputs": [],
   "source": [
    "#Concatenate Multiple DataFrames Using pandas.concat()"
   ]
  },
  {
   "cell_type": "markdown",
   "id": "8960d976",
   "metadata": {},
   "source": [
    "import pandas as pd\n",
    "df = pd.DataFrame({'Courses': [\"Spark\", \"PySpark\", \"Python\", \"Pandas\"],\n",
    "                    'Fee' : ['20000', '25000', '22000', '24000']}) \n",
    "  \n",
    "df1 = pd.DataFrame({'Courses': [\"Unix\", \"Hadoop\", \"Hyperion\", \"Java\"],\n",
    "                    'Fee': ['25000', '25200', '24500', '24900']})\n",
    "  \n",
    "df2 = pd.DataFrame({'Duration':['30day','40days','35days','60days','55days'],\n",
    "                    'Discount':[1000,2300,2500,2000,3000]})\n",
    "  "
   ]
  },
  {
   "cell_type": "markdown",
   "id": "d7c40ace",
   "metadata": {},
   "source": [
    "# Appending multiple DataFrame\n",
    "df3 = pd.concat([df, df1, df2])"
   ]
  },
  {
   "cell_type": "code",
   "execution_count": null,
   "id": "967ac21d",
   "metadata": {},
   "outputs": [],
   "source": [
    "print(df3)"
   ]
  },
  {
   "cell_type": "markdown",
   "id": "e331ea85",
   "metadata": {},
   "source": []
  },
  {
   "cell_type": "code",
   "execution_count": null,
   "id": "7c4be43a",
   "metadata": {},
   "outputs": [],
   "source": [
    "##########################################################"
   ]
  },
  {
   "cell_type": "code",
   "execution_count": null,
   "id": "5efbc867",
   "metadata": {},
   "outputs": [],
   "source": [
    "#Use pandas.concat() to Concat Two DataFrames"
   ]
  },
  {
   "cell_type": "markdown",
   "id": "b0fb51c5",
   "metadata": {},
   "source": [
    "import pandas as pd\n",
    "df = pd.DataFrame({'Courses': [\"Spark\",\"PySpark\",\"Python\",\"pandas\"],\n",
    "                    'Fee' : [20000,25000,22000,24000]})\n",
    "\n",
    "df1 = pd.DataFrame({'Courses': [\"Pandas\",\"Hadoop\",\"Hyperion\",\"Java\"],\n",
    "                    'Fee': [25000,25200,24500,24900]})\n"
   ]
  },
  {
   "cell_type": "markdown",
   "id": "c9e62945",
   "metadata": {},
   "source": [
    "# Using pandas.concat() to concat two DataFrames\n",
    "data = [df, df1]\n",
    "df2 = pd.concat(data)\n",
    "df2\n"
   ]
  },
  {
   "cell_type": "code",
   "execution_count": null,
   "id": "cb4ba6bc",
   "metadata": {},
   "outputs": [],
   "source": [
    "###########################################################"
   ]
  },
  {
   "cell_type": "code",
   "execution_count": null,
   "id": "197713ce",
   "metadata": {},
   "outputs": [],
   "source": [
    "#Concatenate Multiple DataFrames Using pandas.concat()"
   ]
  },
  {
   "cell_type": "markdown",
   "id": "d9fed5b4",
   "metadata": {},
   "source": [
    "import pandas as pd\n",
    "df = pd.DataFrame({'Courses': [\"Spark\", \"PySpark\", \"Python\", \"Pandas\"],\n",
    "                    'Fee' : ['20000', '25000', '22000', '24000']}) \n",
    "  \n",
    "df1 = pd.DataFrame({'Courses': [\"Unix\", \"Hadoop\", \"Hyperion\", \"Java\"],\n",
    "                    'Fee': ['25000', '25200', '24500', '24900']})\n",
    "  \n",
    "df2 = pd.DataFrame({'Duration':['30day','40days','35days','60days','55days'],\n",
    "                    'Discount':[1000,2300,2500,2000,3000]})\n",
    "  "
   ]
  },
  {
   "cell_type": "markdown",
   "id": "7fb1e9d1",
   "metadata": {},
   "source": [
    "# Appending multiple DataFrame\n",
    "df3 = pd.concat([df, df1, df2])"
   ]
  },
  {
   "cell_type": "code",
   "execution_count": null,
   "id": "24fa64be",
   "metadata": {},
   "outputs": [],
   "source": [
    "print(df3)"
   ]
  },
  {
   "cell_type": "markdown",
   "id": "c39d5122",
   "metadata": {},
   "source": []
  },
  {
   "cell_type": "code",
   "execution_count": null,
   "id": "11ebd259",
   "metadata": {},
   "outputs": [],
   "source": [
    "#########################################################"
   ]
  },
  {
   "cell_type": "markdown",
   "id": "dc6351ba",
   "metadata": {},
   "source": [
    "# Write DataFrame to CSV File with Default params.\n",
    "df3.to_csv(\"c:/10-python/courses.csv\")"
   ]
  },
  {
   "cell_type": "code",
   "execution_count": null,
   "id": "f250da79",
   "metadata": {},
   "outputs": [],
   "source": [
    "#read CSV"
   ]
  },
  {
   "cell_type": "markdown",
   "id": "82b9e553",
   "metadata": {},
   "source": [
    "# Import pandas\n",
    "import pandas as pd\n"
   ]
  },
  {
   "cell_type": "markdown",
   "id": "f2a78e95",
   "metadata": {},
   "source": [
    "# Read CSV file into DataFrame\n",
    "df = pd.read_csv('courses.csv')"
   ]
  },
  {
   "cell_type": "code",
   "execution_count": null,
   "id": "cae23020",
   "metadata": {},
   "outputs": [],
   "source": [
    "print(df)"
   ]
  },
  {
   "cell_type": "markdown",
   "id": "7912d18c",
   "metadata": {},
   "source": []
  },
  {
   "cell_type": "code",
   "execution_count": null,
   "id": "662978b7",
   "metadata": {},
   "outputs": [],
   "source": [
    "############################################################"
   ]
  },
  {
   "cell_type": "markdown",
   "id": "7349c056",
   "metadata": {},
   "source": [
    "# Write DataFrame to Excel file\n",
    "df.to_excel('c:/10-python/Courses.xlsx')\n"
   ]
  },
  {
   "cell_type": "code",
   "execution_count": null,
   "id": "6e972eef",
   "metadata": {},
   "outputs": [],
   "source": [
    "########################################################"
   ]
  },
  {
   "cell_type": "markdown",
   "id": "7f5c26f8",
   "metadata": {},
   "source": [
    "import pandas as pd"
   ]
  },
  {
   "cell_type": "markdown",
   "id": "1984d032",
   "metadata": {},
   "source": [
    "# Read Excel file\n",
    "df = pd.read_excel('c:/10-python/Courses.xlsx')"
   ]
  },
  {
   "cell_type": "code",
   "execution_count": null,
   "id": "ec36f902",
   "metadata": {},
   "outputs": [],
   "source": [
    "print(df)"
   ]
  },
  {
   "cell_type": "markdown",
   "id": "36d6802a",
   "metadata": {},
   "source": []
  },
  {
   "cell_type": "code",
   "execution_count": null,
   "id": "30e6e8f8",
   "metadata": {},
   "outputs": [],
   "source": [
    "#####################################################"
   ]
  },
  {
   "cell_type": "markdown",
   "id": "b7dcd0dd",
   "metadata": {},
   "source": [
    "# Using Series.values.tolist()\n",
    "col_list = df.Courses.values.tolist()"
   ]
  },
  {
   "cell_type": "code",
   "execution_count": null,
   "id": "1218d82b",
   "metadata": {},
   "outputs": [],
   "source": [
    "print(col_list)"
   ]
  },
  {
   "cell_type": "markdown",
   "id": "0d0c6e47",
   "metadata": {},
   "source": []
  },
  {
   "cell_type": "code",
   "execution_count": null,
   "id": "6a2a3b19",
   "metadata": {},
   "outputs": [],
   "source": [
    "####################################################"
   ]
  },
  {
   "cell_type": "markdown",
   "id": "a034dc10",
   "metadata": {},
   "source": [
    "# Using Series.values.tolist()\n",
    "col_list = df[\"Courses\"].values.tolist()"
   ]
  },
  {
   "cell_type": "code",
   "execution_count": null,
   "id": "9ea4b5df",
   "metadata": {},
   "outputs": [],
   "source": [
    "print(col_list)"
   ]
  },
  {
   "cell_type": "markdown",
   "id": "84934eab",
   "metadata": {},
   "source": []
  },
  {
   "cell_type": "code",
   "execution_count": null,
   "id": "0e3ce1a6",
   "metadata": {},
   "outputs": [],
   "source": [
    "###################################################"
   ]
  },
  {
   "cell_type": "markdown",
   "id": "4ccab522",
   "metadata": {},
   "source": [
    "# Using list() Function\n",
    "col_list =  list(df[\"Courses\"])"
   ]
  },
  {
   "cell_type": "code",
   "execution_count": null,
   "id": "97eb0c55",
   "metadata": {},
   "outputs": [],
   "source": [
    "print(col_list)"
   ]
  },
  {
   "cell_type": "markdown",
   "id": "727ece43",
   "metadata": {},
   "source": []
  },
  {
   "cell_type": "code",
   "execution_count": null,
   "id": "92a1a40a",
   "metadata": {},
   "outputs": [],
   "source": [
    "####################################################"
   ]
  },
  {
   "cell_type": "markdown",
   "id": "5d2a4283",
   "metadata": {},
   "source": []
  },
  {
   "cell_type": "markdown",
   "id": "4b723bc8",
   "metadata": {},
   "source": [
    "# Conver to numpy array\n",
    "col_list = df['Courses'].to_numpy()"
   ]
  },
  {
   "cell_type": "code",
   "execution_count": null,
   "id": "1f657718",
   "metadata": {},
   "outputs": [],
   "source": [
    "print(col_list)"
   ]
  },
  {
   "cell_type": "markdown",
   "id": "4ff33442",
   "metadata": {},
   "source": []
  },
  {
   "cell_type": "code",
   "execution_count": null,
   "id": "3e75a3a3",
   "metadata": {},
   "outputs": [],
   "source": [
    "#####################################################"
   ]
  },
  {
   "cell_type": "markdown",
   "id": "79494056",
   "metadata": {},
   "source": [
    "# Get by Column Index\n",
    "col_list = df[df.columns[0]].values.tolist()"
   ]
  },
  {
   "cell_type": "code",
   "execution_count": null,
   "id": "de63c8fc",
   "metadata": {},
   "outputs": [],
   "source": [
    "print(col_list)"
   ]
  },
  {
   "cell_type": "markdown",
   "id": "6345ca3d",
   "metadata": {},
   "source": []
  },
  {
   "cell_type": "code",
   "execution_count": null,
   "id": "a6341f17",
   "metadata": {},
   "outputs": [],
   "source": [
    "########################################################"
   ]
  },
  {
   "cell_type": "markdown",
   "id": "02c73605",
   "metadata": {},
   "source": [
    "# Convert Index Column to List\n",
    "index_list = df.index.tolist()"
   ]
  },
  {
   "cell_type": "code",
   "execution_count": null,
   "id": "bbe92d68",
   "metadata": {},
   "outputs": [],
   "source": [
    "print(index_list)"
   ]
  },
  {
   "cell_type": "markdown",
   "id": "dcaef4d8",
   "metadata": {},
   "source": []
  },
  {
   "cell_type": "code",
   "execution_count": null,
   "id": "acce0eaf",
   "metadata": {},
   "outputs": [],
   "source": [
    "##########################################################"
   ]
  },
  {
   "cell_type": "markdown",
   "id": "64756092",
   "metadata": {},
   "source": [
    "\n",
    "\n",
    "\n",
    "pandas series\n",
    "Series\n",
    "\tModule pandas series\n",
    "\tWork on column use series\n",
    "\tWork on dataframe use dataframe\n",
    "\tIt has no column name and it dose not have index it hash exclibility index value\n",
    "\tA series  is used to module one-dimension data(column)\n",
    "\tIt is similar to the list In python but not a list\n",
    "\tThe series object also has a few more bits of data including an index and rows it has no built in index but it has exclisitive index are available\n",
    "\tNULL value then drop or replace \n",
    "\tRows increases  model have the higher performance\n",
    "\tRows decreases model have low performance\n",
    "\tNAN is dangerous\n",
    "\tNAN value stands for not a null number and is usually ignored in arithematic\n",
    "\tOperation are similar to NULL in sql\n",
    "\tIf you load data from csv file an apply the value otherwise that value  you can replace otherwise drop that value\n",
    "\tSeries has duplicate value\n",
    "\tThe series data structure provides the support for basic CRUD operation  create, read, update, delete\n",
    "\tA series  is used to model one dimensional data similar to a list in python the series object also has a few more bits of the data including an #index and name\n",
    "\n",
    "import pandas as pd\n",
    "songs2=pd.Series([334,355,54,76],name='counts')\n",
    "songs2"
   ]
  },
  {
   "cell_type": "code",
   "execution_count": null,
   "id": "4e6db742",
   "metadata": {},
   "outputs": [],
   "source": [
    "#it is esay to inspect the index of a series (or data frame)"
   ]
  },
  {
   "cell_type": "markdown",
   "id": "65b15e80",
   "metadata": {},
   "source": [
    "songs2.index\n",
    "songs2\n",
    "\"\"\" it give the  index value by default\n",
    "Out[30]: \n",
    "0    334\n",
    "1    355\n",
    "2     54\n",
    "3     76\n",
    "Name: counts, dtype: int64\"\"\"\n"
   ]
  },
  {
   "cell_type": "code",
   "execution_count": null,
   "id": "18483257",
   "metadata": {},
   "outputs": [],
   "source": [
    "##########################################################"
   ]
  },
  {
   "cell_type": "code",
   "execution_count": null,
   "id": "081ab081",
   "metadata": {},
   "outputs": [],
   "source": [
    "#assign index as the index can be string based as well in which case pandas indicates that the datatype for the index is object (not string):"
   ]
  },
  {
   "cell_type": "markdown",
   "id": "2e076de6",
   "metadata": {},
   "source": [
    "songs3=pd.Series([334,355,54,76],name='counts',\n",
    "                index=['paul','john','ingo','tipa'])\n",
    "songs3.index\t\t\t\t#intialise"
   ]
  },
  {
   "cell_type": "code",
   "execution_count": null,
   "id": "6be9dc22",
   "metadata": {},
   "outputs": [],
   "source": [
    "#it give the index to counts column i.e. index"
   ]
  },
  {
   "cell_type": "markdown",
   "id": "f79b2e5c",
   "metadata": {},
   "source": [
    "songs3\n",
    "\"\"\"Out[28]: \n",
    "paul    334\n",
    "john    355\n",
    "ingo     54\n",
    "tipa     76\n",
    "Name: counts, dtype: int64\"\"\"\n"
   ]
  },
  {
   "cell_type": "code",
   "execution_count": null,
   "id": "b8db28d3",
   "metadata": {},
   "outputs": [],
   "source": [
    "####################################################"
   ]
  },
  {
   "cell_type": "code",
   "execution_count": null,
   "id": "e00a0274",
   "metadata": {},
   "outputs": [],
   "source": [
    "#the nan valuestands for "
   ]
  },
  {
   "cell_type": "code",
   "execution_count": null,
   "id": "a746736f",
   "metadata": {},
   "outputs": [],
   "source": [
    "#numeric column will become  nan/null"
   ]
  },
  {
   "cell_type": "markdown",
   "id": "dcfaa2ae",
   "metadata": {},
   "source": [
    "import pandas as pd\n",
    "f1=pd.read_csv(\"C:/Data Science/1-python/courses.csv\")\n",
    "f1"
   ]
  },
  {
   "cell_type": "code",
   "execution_count": null,
   "id": "e6a4e965",
   "metadata": {},
   "outputs": [],
   "source": [
    "#finding the mean value"
   ]
  },
  {
   "cell_type": "markdown",
   "id": "0104713b",
   "metadata": {},
   "source": [
    "import pandas as pd\n",
    "songs = pd.Series([145,25,36,78],name = 'count')\n",
    "songs"
   ]
  },
  {
   "cell_type": "code",
   "execution_count": null,
   "id": "49afadd0",
   "metadata": {},
   "outputs": [],
   "source": [
    "#It is easy to inspect the index of a series(or a dataframe)"
   ]
  },
  {
   "cell_type": "markdown",
   "id": "18fb9711",
   "metadata": {},
   "source": [
    "songs.index"
   ]
  },
  {
   "cell_type": "code",
   "execution_count": null,
   "id": "580b2f13",
   "metadata": {},
   "outputs": [],
   "source": [
    "#the index non be string bases as well,in which case pandas indicates  that the datatype for the index is object (not string):"
   ]
  },
  {
   "cell_type": "markdown",
   "id": "b7a31ad4",
   "metadata": {},
   "source": [
    "\n",
    "songs3 = pd.Series([154,35,41,26,47],name='count',index=['Arijit','Honey','Atif','Shreya','Ajay'])\n",
    "songs3\n"
   ]
  },
  {
   "cell_type": "code",
   "execution_count": null,
   "id": "abad856d",
   "metadata": {},
   "outputs": [],
   "source": [
    "#NaN - it is generally ignored in arithmetic operation the series object behaves similarly to a numpy array"
   ]
  },
  {
   "cell_type": "markdown",
   "id": "54922570",
   "metadata": {},
   "source": [
    "songs3.mean()\n",
    "songs3\n"
   ]
  },
  {
   "cell_type": "code",
   "execution_count": null,
   "id": "984e266f",
   "metadata": {},
   "outputs": [],
   "source": [
    "#################################################"
   ]
  },
  {
   "cell_type": "code",
   "execution_count": null,
   "id": "ba2312a4",
   "metadata": {},
   "outputs": [],
   "source": [
    "##pandas series Data structure provides the support for the CRUD operation"
   ]
  },
  {
   "cell_type": "code",
   "execution_count": null,
   "id": "dfb9c2a9",
   "metadata": {},
   "outputs": [],
   "source": [
    "#creation"
   ]
  },
  {
   "cell_type": "markdown",
   "id": "0c31987f",
   "metadata": {},
   "source": [
    "george=pd.Series([23,45,54,7],\n",
    "                 index=['3245','5665','5646','5465'],\n",
    "                 name='George songs')\n",
    "george\n"
   ]
  },
  {
   "cell_type": "code",
   "execution_count": null,
   "id": "9c5c81b8",
   "metadata": {},
   "outputs": [],
   "source": [
    "##############################################"
   ]
  },
  {
   "cell_type": "code",
   "execution_count": null,
   "id": "23c96bdf",
   "metadata": {},
   "outputs": [],
   "source": [
    "#reading:-to read  or select the data frame a series"
   ]
  },
  {
   "cell_type": "markdown",
   "id": "624883c3",
   "metadata": {},
   "source": [
    "george['3245']\n",
    "george['5665']"
   ]
  },
  {
   "cell_type": "code",
   "execution_count": null,
   "id": "327f3949",
   "metadata": {},
   "outputs": [],
   "source": [
    "#it can show the index value which has the value assign to it and show that value"
   ]
  },
  {
   "cell_type": "markdown",
   "id": "f4cda316",
   "metadata": {},
   "source": [
    "# we can iterate over in "
   ]
  },
  {
   "cell_type": "code",
   "execution_count": null,
   "id": "747388b7",
   "metadata": {},
   "outputs": [],
   "source": [
    "for item in george:"
   ]
  },
  {
   "cell_type": "code",
   "execution_count": null,
   "id": "c8caba4e",
   "metadata": {},
   "outputs": [],
   "source": [
    "    print(item)"
   ]
  },
  {
   "cell_type": "code",
   "execution_count": null,
   "id": "60a20db7",
   "metadata": {},
   "outputs": [],
   "source": [
    "   #o.p:- \"\"\"23"
   ]
  },
  {
   "cell_type": "markdown",
   "id": "b7eee299",
   "metadata": {},
   "source": [
    "    45\n",
    "    54\n",
    "    7\"\"\""
   ]
  },
  {
   "cell_type": "code",
   "execution_count": null,
   "id": "804dcf04",
   "metadata": {},
   "outputs": [],
   "source": [
    "    # it shows only value"
   ]
  },
  {
   "cell_type": "markdown",
   "id": "2aa288c6",
   "metadata": {},
   "source": []
  },
  {
   "cell_type": "code",
   "execution_count": null,
   "id": "14ba5020",
   "metadata": {},
   "outputs": [],
   "source": [
    "############################################################"
   ]
  },
  {
   "cell_type": "code",
   "execution_count": null,
   "id": "882585ea",
   "metadata": {},
   "outputs": [],
   "source": [
    "#updateing"
   ]
  },
  {
   "cell_type": "code",
   "execution_count": null,
   "id": "1084e3d0",
   "metadata": {},
   "outputs": [],
   "source": [
    "#updating the value sin series little trickle as well as to update the value"
   ]
  },
  {
   "cell_type": "markdown",
   "id": "3726a1c0",
   "metadata": {},
   "source": [
    "george['3245']=68\n",
    "george=['3245']\n",
    "george['3245']\n"
   ]
  },
  {
   "cell_type": "code",
   "execution_count": null,
   "id": "363659de",
   "metadata": {},
   "outputs": [],
   "source": [
    "#########################################################"
   ]
  },
  {
   "cell_type": "code",
   "execution_count": null,
   "id": "ed9b1e77",
   "metadata": {},
   "outputs": [],
   "source": [
    "#deletion"
   ]
  },
  {
   "cell_type": "markdown",
   "id": "9766a1d4",
   "metadata": {},
   "source": [
    "# the del statement appers to have problem with duplicatae value index\n",
    "s=pd.Series([2,3,4],index=[1,2,3])\n",
    "del s[1]\n",
    "s\n"
   ]
  },
  {
   "cell_type": "code",
   "execution_count": null,
   "id": "f2cc8331",
   "metadata": {},
   "outputs": [],
   "source": [
    "#########################################################"
   ]
  },
  {
   "cell_type": "markdown",
   "id": "2fe0af11",
   "metadata": {},
   "source": [
    "# converrt types"
   ]
  },
  {
   "cell_type": "code",
   "execution_count": null,
   "id": "cf5ba868",
   "metadata": {},
   "outputs": [],
   "source": [
    "#string use .astype(str)"
   ]
  },
  {
   "cell_type": "code",
   "execution_count": null,
   "id": "d397658b",
   "metadata": {},
   "outputs": [],
   "source": [
    "#numeric use pd.numeric"
   ]
  },
  {
   "cell_type": "code",
   "execution_count": null,
   "id": "c84f3a49",
   "metadata": {},
   "outputs": [],
   "source": [
    "#innteger use .astype(int)"
   ]
  },
  {
   "cell_type": "markdown",
   "id": "9c7f8a28",
   "metadata": {},
   "source": [
    "# note a"
   ]
  },
  {
   "cell_type": "code",
   "execution_count": null,
   "id": "3b636ed4",
   "metadata": {},
   "outputs": [],
   "source": [
    "#"
   ]
  },
  {
   "cell_type": "markdown",
   "id": "88f9616e",
   "metadata": {},
   "source": [
    "import pandas as pd\n",
    "songs_66=pd.Series([3,None,11,9],\n",
    "                   index=['a','s','d','f'],\n",
    "                   name='Counts')\n",
    "\n",
    "pd.to_numeric(songs_66.apply(str))"
   ]
  },
  {
   "cell_type": "code",
   "execution_count": null,
   "id": "82dd61e3",
   "metadata": {},
   "outputs": [],
   "source": [
    "#ther will be error"
   ]
  },
  {
   "cell_type": "code",
   "execution_count": null,
   "id": "efc9cf05",
   "metadata": {},
   "outputs": [],
   "source": [
    "#that error can be solve by uing the errors='coerce'"
   ]
  },
  {
   "cell_type": "markdown",
   "id": "3dd80b2a",
   "metadata": {},
   "source": [
    "\n",
    "pd.to_numeric(songs_66.apply(str),errors='coerce')"
   ]
  },
  {
   "cell_type": "code",
   "execution_count": null,
   "id": "77ea2ce7",
   "metadata": {},
   "outputs": [],
   "source": [
    "#it can remove the error occur in teh series "
   ]
  },
  {
   "cell_type": "code",
   "execution_count": null,
   "id": "b1ecc587",
   "metadata": {},
   "outputs": [],
   "source": [
    "#dealing with none"
   ]
  },
  {
   "cell_type": "markdown",
   "id": "a20de5bc",
   "metadata": {},
   "source": []
  },
  {
   "cell_type": "code",
   "execution_count": null,
   "id": "b478a0aa",
   "metadata": {},
   "outputs": [],
   "source": [
    "################################################"
   ]
  },
  {
   "cell_type": "markdown",
   "id": "fca65ad5",
   "metadata": {},
   "source": [
    "\n",
    "\n"
   ]
  },
  {
   "cell_type": "code",
   "execution_count": null,
   "id": "92df1712",
   "metadata": {},
   "outputs": [],
   "source": [
    "#dealing with none"
   ]
  },
  {
   "cell_type": "markdown",
   "id": "e71f06d2",
   "metadata": {},
   "source": [
    "songs_66.fillna[-1]"
   ]
  },
  {
   "cell_type": "code",
   "execution_count": null,
   "id": "904f7902",
   "metadata": {},
   "outputs": [],
   "source": [
    "#drop the null data "
   ]
  },
  {
   "cell_type": "markdown",
   "id": "8568b12e",
   "metadata": {},
   "source": [
    "songs_66.dropna()\n"
   ]
  },
  {
   "cell_type": "code",
   "execution_count": null,
   "id": "aad32aa1",
   "metadata": {},
   "outputs": [],
   "source": [
    "###############################################"
   ]
  },
  {
   "cell_type": "code",
   "execution_count": null,
   "id": "65540ee6",
   "metadata": {},
   "outputs": [],
   "source": [
    "#append combine and joining the tow series"
   ]
  },
  {
   "cell_type": "markdown",
   "id": "d67fc5ba",
   "metadata": {},
   "source": [
    "import pandas as pd\n",
    "songs_69=pd.Series([7,56,34,1],\n",
    "                   index=['aa','ss','dd','ff'],\n",
    "                   name='Counts')"
   ]
  },
  {
   "cell_type": "code",
   "execution_count": null,
   "id": "79d956d1",
   "metadata": {},
   "outputs": [],
   "source": [
    "#the concactnet  the tow series together we use simply append()"
   ]
  },
  {
   "cell_type": "markdown",
   "id": "7dc1ffb5",
   "metadata": {},
   "source": [
    "songs=songs_66.append(songs_69)\n"
   ]
  },
  {
   "cell_type": "code",
   "execution_count": null,
   "id": "3cd4eeff",
   "metadata": {},
   "outputs": [],
   "source": [
    "####pandas series opertion"
   ]
  },
  {
   "cell_type": "code",
   "execution_count": null,
   "id": "188bbf7c",
   "metadata": {},
   "outputs": [],
   "source": [
    "#Write a Pandas program to create and display a one-dimensional array-like object "
   ]
  },
  {
   "cell_type": "code",
   "execution_count": null,
   "id": "56a591ed",
   "metadata": {},
   "outputs": [],
   "source": [
    "#containing an array of data."
   ]
  },
  {
   "cell_type": "markdown",
   "id": "04bff5b2",
   "metadata": {},
   "source": [
    "import pandas as pd\n",
    "ds = pd.Series([2, 4, 6, 8, 10])"
   ]
  },
  {
   "cell_type": "code",
   "execution_count": null,
   "id": "46cef561",
   "metadata": {},
   "outputs": [],
   "source": [
    "print(ds)"
   ]
  },
  {
   "cell_type": "markdown",
   "id": "21e8b4a4",
   "metadata": {},
   "source": []
  },
  {
   "cell_type": "code",
   "execution_count": null,
   "id": "13063737",
   "metadata": {},
   "outputs": [],
   "source": [
    "###################################################"
   ]
  },
  {
   "cell_type": "code",
   "execution_count": null,
   "id": "d349774b",
   "metadata": {},
   "outputs": [],
   "source": [
    "#Write a Pandas program to convert a Panda module Series"
   ]
  },
  {
   "cell_type": "markdown",
   "id": "f2b242c1",
   "metadata": {},
   "source": [
    "# to Python list and it’s type.\n",
    "import pandas as pd\n",
    "ds = pd.Series([2, 4, 6, 8, 10])"
   ]
  },
  {
   "cell_type": "code",
   "execution_count": null,
   "id": "536c0393",
   "metadata": {},
   "outputs": [],
   "source": [
    "print(\"Pandas Series and type\")"
   ]
  },
  {
   "cell_type": "code",
   "execution_count": null,
   "id": "3df1f0e7",
   "metadata": {},
   "outputs": [],
   "source": [
    "print(ds)"
   ]
  },
  {
   "cell_type": "code",
   "execution_count": null,
   "id": "3fd5c115",
   "metadata": {},
   "outputs": [],
   "source": [
    "print(type(ds))"
   ]
  },
  {
   "cell_type": "code",
   "execution_count": null,
   "id": "e396a160",
   "metadata": {},
   "outputs": [],
   "source": [
    "print(\"Convert Pandas Series to Python list\")"
   ]
  },
  {
   "cell_type": "code",
   "execution_count": null,
   "id": "e0cbbfe3",
   "metadata": {},
   "outputs": [],
   "source": [
    "print(ds.tolist())"
   ]
  },
  {
   "cell_type": "code",
   "execution_count": null,
   "id": "42268a2f",
   "metadata": {},
   "outputs": [],
   "source": [
    "print(type(ds.tolist()))"
   ]
  },
  {
   "cell_type": "markdown",
   "id": "72897e64",
   "metadata": {},
   "source": []
  },
  {
   "cell_type": "code",
   "execution_count": null,
   "id": "058a5803",
   "metadata": {},
   "outputs": [],
   "source": [
    "#######################################################"
   ]
  },
  {
   "cell_type": "code",
   "execution_count": null,
   "id": "e99a4140",
   "metadata": {},
   "outputs": [],
   "source": [
    "#Write a Pandas program to add, subtract, multiple and divide two Pandas Series."
   ]
  },
  {
   "cell_type": "code",
   "execution_count": null,
   "id": "24e40070",
   "metadata": {},
   "outputs": [],
   "source": [
    "#Sample Series: [2, 4, 6, 8, 10], [1, 3, 5, 7, 9]"
   ]
  },
  {
   "cell_type": "markdown",
   "id": "e5a722f5",
   "metadata": {},
   "source": [
    "import pandas as pd\n",
    "ds1 = pd.Series([2, 4, 6, 8, 10])\n",
    "ds2 = pd.Series([1, 3, 5, 7, 9])\n",
    "ds = ds1 + ds2"
   ]
  },
  {
   "cell_type": "code",
   "execution_count": null,
   "id": "5c862c95",
   "metadata": {},
   "outputs": [],
   "source": [
    "print(\"Add two Series:\")"
   ]
  },
  {
   "cell_type": "code",
   "execution_count": null,
   "id": "2e6c8399",
   "metadata": {},
   "outputs": [],
   "source": [
    "print(ds)"
   ]
  },
  {
   "cell_type": "markdown",
   "id": "c3814e78",
   "metadata": {},
   "source": [
    "‘’’ 0     3\n",
    "1     7\n",
    "2    11\n",
    "3    15\n",
    "4    19\n",
    "dtype: int64’’’’"
   ]
  },
  {
   "cell_type": "code",
   "execution_count": null,
   "id": "a6d303bd",
   "metadata": {},
   "outputs": [],
   "source": [
    "print(\"Subtract two Series:\")"
   ]
  },
  {
   "cell_type": "markdown",
   "id": "54e05515",
   "metadata": {},
   "source": [
    "ds = ds1 - ds2"
   ]
  },
  {
   "cell_type": "code",
   "execution_count": null,
   "id": "2009966d",
   "metadata": {},
   "outputs": [],
   "source": [
    "print(ds)"
   ]
  },
  {
   "cell_type": "markdown",
   "id": "6f996192",
   "metadata": {},
   "source": [
    "‘’’ 0    1\n",
    "1    1\n",
    "2    1\n",
    "3    1\n",
    "4    1\n",
    "dtype: int64’’’’"
   ]
  },
  {
   "cell_type": "code",
   "execution_count": null,
   "id": "ed219801",
   "metadata": {},
   "outputs": [],
   "source": [
    "print(\"Multiply two Series:\")"
   ]
  },
  {
   "cell_type": "markdown",
   "id": "844e2e5c",
   "metadata": {},
   "source": [
    "ds = ds1 * ds2"
   ]
  },
  {
   "cell_type": "code",
   "execution_count": null,
   "id": "a401fba1",
   "metadata": {},
   "outputs": [],
   "source": [
    "print(ds)"
   ]
  },
  {
   "cell_type": "markdown",
   "id": "4f4c0619",
   "metadata": {},
   "source": [
    "‘’’’ 0     2\n",
    "1    12\n",
    "2    30\n",
    "3    56\n",
    "4    90\n",
    "dtype: int64’’’’"
   ]
  },
  {
   "cell_type": "code",
   "execution_count": null,
   "id": "27a79810",
   "metadata": {},
   "outputs": [],
   "source": [
    "print(\"Divide Series1 by Series2:\")"
   ]
  },
  {
   "cell_type": "markdown",
   "id": "640838ee",
   "metadata": {},
   "source": [
    "ds = ds1 / ds2"
   ]
  },
  {
   "cell_type": "code",
   "execution_count": null,
   "id": "20e2fabc",
   "metadata": {},
   "outputs": [],
   "source": [
    "print(ds)"
   ]
  },
  {
   "cell_type": "markdown",
   "id": "3623ec0a",
   "metadata": {},
   "source": [
    "‘’’’ 0    2.000000\n",
    "1    1.333333\n",
    "2    1.200000\n",
    "3    1.142857\n",
    "4    1.111111\n",
    "dtype: float64’’’’\n"
   ]
  },
  {
   "cell_type": "code",
   "execution_count": null,
   "id": "876e59b8",
   "metadata": {},
   "outputs": [],
   "source": [
    "####################################################################"
   ]
  },
  {
   "cell_type": "code",
   "execution_count": null,
   "id": "f49ec7c9",
   "metadata": {},
   "outputs": [],
   "source": [
    "#Write a Pandas program to compare the elements of the two Pandas Series."
   ]
  },
  {
   "cell_type": "code",
   "execution_count": null,
   "id": "863139b5",
   "metadata": {},
   "outputs": [],
   "source": [
    "#Sample Series: [2, 4, 6, 8, 10], [1, 3, 5, 7, 10]"
   ]
  },
  {
   "cell_type": "markdown",
   "id": "2121fc20",
   "metadata": {},
   "source": [
    "import pandas as pd\n",
    "ds1 = pd.Series([2, 4, 6, 8, 10])\n",
    "ds2 = pd.Series([1, 3, 5, 7, 10])"
   ]
  },
  {
   "cell_type": "code",
   "execution_count": null,
   "id": "668ff253",
   "metadata": {},
   "outputs": [],
   "source": [
    "print(\"Series1:\")"
   ]
  },
  {
   "cell_type": "code",
   "execution_count": null,
   "id": "99fc5edf",
   "metadata": {},
   "outputs": [],
   "source": [
    "print(ds1)"
   ]
  },
  {
   "cell_type": "markdown",
   "id": "86e45ba3",
   "metadata": {},
   "source": [
    "‘’’’ 0     2\n",
    "1     4\n",
    "2     6\n",
    "3     8\n",
    "4    10\n",
    "dtype: int64’’’’"
   ]
  },
  {
   "cell_type": "code",
   "execution_count": null,
   "id": "68f8c6ed",
   "metadata": {},
   "outputs": [],
   "source": [
    "print(\"Series2:\")"
   ]
  },
  {
   "cell_type": "code",
   "execution_count": null,
   "id": "49ed5fd2",
   "metadata": {},
   "outputs": [],
   "source": [
    "print(ds2)"
   ]
  },
  {
   "cell_type": "markdown",
   "id": "862a4d1f",
   "metadata": {},
   "source": [
    "‘’’’ 0     1\n",
    "1     3\n",
    "2     5\n",
    "3     7\n",
    "4    10\n",
    "dtype: int64’’’’"
   ]
  },
  {
   "cell_type": "code",
   "execution_count": null,
   "id": "5f082fd4",
   "metadata": {},
   "outputs": [],
   "source": [
    "print(\"Compare the elements of the said Series:\")"
   ]
  },
  {
   "cell_type": "code",
   "execution_count": null,
   "id": "0b613285",
   "metadata": {},
   "outputs": [],
   "source": [
    "print(\"Equals:\")"
   ]
  },
  {
   "cell_type": "code",
   "execution_count": null,
   "id": "470b42d6",
   "metadata": {},
   "outputs": [],
   "source": [
    "print(ds1 == ds2)"
   ]
  },
  {
   "cell_type": "markdown",
   "id": "ade7d293",
   "metadata": {},
   "source": [
    "‘’’’ 0    False\n",
    "1    False\n",
    "2    False\n",
    "3    False\n",
    "4     True\n",
    "dtype: bool’’’’"
   ]
  },
  {
   "cell_type": "code",
   "execution_count": null,
   "id": "98b1b043",
   "metadata": {},
   "outputs": [],
   "source": [
    "print(\"Greater than:\")"
   ]
  },
  {
   "cell_type": "code",
   "execution_count": null,
   "id": "9257f0f2",
   "metadata": {},
   "outputs": [],
   "source": [
    "print(ds1 > ds2)"
   ]
  },
  {
   "cell_type": "markdown",
   "id": "824406d6",
   "metadata": {},
   "source": [
    "‘’’’’ 0     True\n",
    "1     True\n",
    "2     True\n",
    "3     True\n",
    "4    False\n",
    "dtype: bool’’’’"
   ]
  },
  {
   "cell_type": "code",
   "execution_count": null,
   "id": "02e3601a",
   "metadata": {},
   "outputs": [],
   "source": [
    "print(\"Less than:\")"
   ]
  },
  {
   "cell_type": "code",
   "execution_count": null,
   "id": "ca122fb4",
   "metadata": {},
   "outputs": [],
   "source": [
    "print(ds1 < ds2)"
   ]
  },
  {
   "cell_type": "markdown",
   "id": "3efc2617",
   "metadata": {},
   "source": [
    "‘’’’ 0    False\n",
    "1    False\n",
    "2    False\n",
    "3    False\n",
    "4    False\n",
    "dtype: bool’’’’’\n"
   ]
  },
  {
   "cell_type": "code",
   "execution_count": null,
   "id": "7e37e3ef",
   "metadata": {},
   "outputs": [],
   "source": [
    "#######################################################"
   ]
  },
  {
   "cell_type": "code",
   "execution_count": null,
   "id": "d7f0bc55",
   "metadata": {},
   "outputs": [],
   "source": [
    "#Write a Pandas program to convert a dictionary to a Pandas series."
   ]
  },
  {
   "cell_type": "code",
   "execution_count": null,
   "id": "3f028316",
   "metadata": {},
   "outputs": [],
   "source": [
    "#Original dictionary:{'a': 100, 'b': 200, 'c': 300, 'd': 400, 'e': 800}"
   ]
  },
  {
   "cell_type": "markdown",
   "id": "97a56609",
   "metadata": {},
   "source": [
    "import pandas as pd\n",
    "d1 = {'a': 100, 'b': 200, 'c':300, 'd':400, 'e':800}"
   ]
  },
  {
   "cell_type": "code",
   "execution_count": null,
   "id": "28bfd24f",
   "metadata": {},
   "outputs": [],
   "source": [
    "print(\"Original dictionary:\")"
   ]
  },
  {
   "cell_type": "code",
   "execution_count": null,
   "id": "a4c8992c",
   "metadata": {},
   "outputs": [],
   "source": [
    "print(d1)\t\t#{'a': 100, 'b': 200, 'c': 300, 'd': 400, 'e': 800}"
   ]
  },
  {
   "cell_type": "markdown",
   "id": "e5e700a2",
   "metadata": {},
   "source": [
    "new_series = pd.Series(d1)"
   ]
  },
  {
   "cell_type": "code",
   "execution_count": null,
   "id": "dd50ccf2",
   "metadata": {},
   "outputs": [],
   "source": [
    "print(\"Converted series:\")\t"
   ]
  },
  {
   "cell_type": "code",
   "execution_count": null,
   "id": "8a1b09cc",
   "metadata": {},
   "outputs": [],
   "source": [
    "print(new_series)"
   ]
  },
  {
   "cell_type": "markdown",
   "id": "7927e3ce",
   "metadata": {},
   "source": [
    "‘’’ a    100\n",
    "b    200\n",
    "c    300\n",
    "d    400\n",
    "e    800\n",
    "dtype: int64’’’’’\n"
   ]
  },
  {
   "cell_type": "code",
   "execution_count": null,
   "id": "de707e2f",
   "metadata": {},
   "outputs": [],
   "source": [
    "####################################"
   ]
  },
  {
   "cell_type": "code",
   "execution_count": null,
   "id": "81c35e0f",
   "metadata": {},
   "outputs": [],
   "source": [
    "#Write a Pandas program to convert a NumPy array to a Pandas series. "
   ]
  },
  {
   "cell_type": "markdown",
   "id": "aa05d0cc",
   "metadata": {},
   "source": [
    "import numpy as np\n",
    "import pandas as pd\n",
    "n_a = np.array([10, 20, 30, 40, 50])"
   ]
  },
  {
   "cell_type": "code",
   "execution_count": null,
   "id": "5123c599",
   "metadata": {},
   "outputs": [],
   "source": [
    "print(\"NumPy array:\")"
   ]
  },
  {
   "cell_type": "code",
   "execution_count": null,
   "id": "83c514bf",
   "metadata": {},
   "outputs": [],
   "source": [
    "print(n_a)\t\t# [10 20 30 40 50]"
   ]
  },
  {
   "cell_type": "markdown",
   "id": "01b6de8e",
   "metadata": {},
   "source": [
    "new_series = pd.Series(n_a)"
   ]
  },
  {
   "cell_type": "code",
   "execution_count": null,
   "id": "1eb178d0",
   "metadata": {},
   "outputs": [],
   "source": [
    "print(\"Converted Pandas series:\")"
   ]
  },
  {
   "cell_type": "code",
   "execution_count": null,
   "id": "0703cc5d",
   "metadata": {},
   "outputs": [],
   "source": [
    "print(new_series)"
   ]
  },
  {
   "cell_type": "markdown",
   "id": "e511009a",
   "metadata": {},
   "source": [
    "‘’’’ 0    10\n",
    "1    20\n",
    "2    30\n",
    "3    40\n",
    "4    50\n",
    "dtype: int32’’’’"
   ]
  },
  {
   "cell_type": "code",
   "execution_count": null,
   "id": "774d8283",
   "metadata": {},
   "outputs": [],
   "source": [
    "########################################"
   ]
  },
  {
   "cell_type": "code",
   "execution_count": null,
   "id": "1240e667",
   "metadata": {},
   "outputs": [],
   "source": [
    "#Write a Pandas program to change the data type of given a column or a Series. "
   ]
  },
  {
   "cell_type": "markdown",
   "id": "e043362d",
   "metadata": {},
   "source": [
    "'''\n",
    "Sample Series:\n",
    "Original Data Series:\n",
    "0 100\n",
    "1 200\n",
    "2 python\n",
    "3 300.12\n",
    "4 400\n",
    "dtype: object\n",
    "Change the said data type to numeric:\n",
    "0 100.00\n",
    "1 200.00\n",
    "2 NaN\n",
    "3 300.12\n",
    "4 400.00\n",
    "dtype: float64\n",
    "'''\n",
    "import pandas as pd\n",
    "s1 = pd.Series(['100', '200', 'python', '300.12', '400'])"
   ]
  },
  {
   "cell_type": "code",
   "execution_count": null,
   "id": "46b8675b",
   "metadata": {},
   "outputs": [],
   "source": [
    "print(\"Original Data Series:\")"
   ]
  },
  {
   "cell_type": "code",
   "execution_count": null,
   "id": "1f76ee84",
   "metadata": {},
   "outputs": [],
   "source": [
    "print(s1)"
   ]
  },
  {
   "cell_type": "code",
   "execution_count": null,
   "id": "f92e1b6b",
   "metadata": {},
   "outputs": [],
   "source": [
    "print(\"Change the said data type to numeric:\")"
   ]
  },
  {
   "cell_type": "markdown",
   "id": "aaeb2efb",
   "metadata": {},
   "source": [
    "s2 = pd.to_numeric(s1, errors='coerce')"
   ]
  },
  {
   "cell_type": "code",
   "execution_count": null,
   "id": "d63f1ee0",
   "metadata": {},
   "outputs": [],
   "source": [
    "print(s2)"
   ]
  },
  {
   "cell_type": "code",
   "execution_count": null,
   "id": "33e2cd62",
   "metadata": {},
   "outputs": [],
   "source": [
    "#######################################3"
   ]
  },
  {
   "cell_type": "code",
   "execution_count": null,
   "id": "e932fadb",
   "metadata": {},
   "outputs": [],
   "source": [
    "#Write a Pandas program to convert "
   ]
  },
  {
   "cell_type": "code",
   "execution_count": null,
   "id": "260a7590",
   "metadata": {},
   "outputs": [],
   "source": [
    "#the first column of a DataFrame as a Series. "
   ]
  },
  {
   "cell_type": "markdown",
   "id": "19327573",
   "metadata": {},
   "source": [
    "import pandas as pd\n",
    "d = {'col1': [1, 2, 3, 4, 7, 11],\n",
    "     'col2': [4, 5, 6, 9, 5, 0], \n",
    "     'col3': [7, 5, 8, 12, 1,11]\n",
    "     }\n",
    "df = pd.DataFrame(data=d)"
   ]
  },
  {
   "cell_type": "code",
   "execution_count": null,
   "id": "f7492a3a",
   "metadata": {},
   "outputs": [],
   "source": [
    "print(\"Original DataFrame\")"
   ]
  },
  {
   "cell_type": "code",
   "execution_count": null,
   "id": "7a348e94",
   "metadata": {},
   "outputs": [],
   "source": [
    "print(df)"
   ]
  },
  {
   "cell_type": "markdown",
   "id": "520d1f94",
   "metadata": {},
   "source": [
    "s1 = df.iloc[:,0]"
   ]
  },
  {
   "cell_type": "code",
   "execution_count": null,
   "id": "75ce569f",
   "metadata": {},
   "outputs": [],
   "source": [
    "print(\"\\n1st column as a Series:\")"
   ]
  },
  {
   "cell_type": "code",
   "execution_count": null,
   "id": "e101f44e",
   "metadata": {},
   "outputs": [],
   "source": [
    "print(s1)"
   ]
  },
  {
   "cell_type": "code",
   "execution_count": null,
   "id": "eea99fc0",
   "metadata": {},
   "outputs": [],
   "source": [
    "print(type(s1))"
   ]
  },
  {
   "cell_type": "markdown",
   "id": "44284b9b",
   "metadata": {},
   "source": []
  },
  {
   "cell_type": "code",
   "execution_count": null,
   "id": "67ee1c2e",
   "metadata": {},
   "outputs": [],
   "source": [
    "###################################"
   ]
  },
  {
   "cell_type": "markdown",
   "id": "4f35d93b",
   "metadata": {},
   "source": [
    "import pandas as pd\n",
    "s = pd.Series([\n",
    "    ['Red', 'Green', 'White'],\n",
    "    ['Red', 'Black'],\n",
    "    ['Yellow']])"
   ]
  },
  {
   "cell_type": "code",
   "execution_count": null,
   "id": "3fd6197e",
   "metadata": {},
   "outputs": [],
   "source": [
    "print(\"Original Series of list\")"
   ]
  },
  {
   "cell_type": "code",
   "execution_count": null,
   "id": "07585d8b",
   "metadata": {},
   "outputs": [],
   "source": [
    "print(s)"
   ]
  },
  {
   "cell_type": "markdown",
   "id": "726242f5",
   "metadata": {},
   "source": [
    "s = s.apply(pd.Series).stack().reset_index(drop=True)"
   ]
  },
  {
   "cell_type": "code",
   "execution_count": null,
   "id": "360d40db",
   "metadata": {},
   "outputs": [],
   "source": [
    "print(\"One Series\")"
   ]
  },
  {
   "cell_type": "code",
   "execution_count": null,
   "id": "59b55483",
   "metadata": {},
   "outputs": [],
   "source": [
    "print(s)"
   ]
  },
  {
   "cell_type": "markdown",
   "id": "45b1b9a4",
   "metadata": {},
   "source": [
    "\n",
    "\n",
    "\n",
    "\n",
    "\n",
    "\n",
    "DataFrame - stack() function\n",
    "The stack() function is used to stack the prescribed level(s) from columns to index.\n",
    "Return a reshaped DataFrame or Series having a multi-level index with one or more new inner-most levels compared to the current DataFrame. The new inner-most levels are created by pivoting \n",
    " the columns of the current dataframe:    if the columns have a single level, the output is a Series;    if the columns have multiple levels, the new index level(s) is (are) taken from the  prescribed level(s) and the output is a DataFrame. "
   ]
  },
  {
   "cell_type": "code",
   "execution_count": null,
   "id": "269e5aca",
   "metadata": {},
   "outputs": [],
   "source": [
    "################################"
   ]
  },
  {
   "cell_type": "code",
   "execution_count": null,
   "id": "b997ef94",
   "metadata": {},
   "outputs": [],
   "source": [
    "#Write a Pandas program to sort a given Series. "
   ]
  },
  {
   "cell_type": "markdown",
   "id": "8476602b",
   "metadata": {},
   "source": [
    "import pandas as pd\n",
    "s = pd.Series(['100', '200', 'python', '300.12', '400'])"
   ]
  },
  {
   "cell_type": "code",
   "execution_count": null,
   "id": "68d71e60",
   "metadata": {},
   "outputs": [],
   "source": [
    "print(\"Original Data Series:\")"
   ]
  },
  {
   "cell_type": "code",
   "execution_count": null,
   "id": "4258aa55",
   "metadata": {},
   "outputs": [],
   "source": [
    "print(s)"
   ]
  },
  {
   "cell_type": "markdown",
   "id": "e2ca46c7",
   "metadata": {},
   "source": [
    "‘’’ 0       100\n",
    "1       200\n",
    "2    python\n",
    "3    300.12\n",
    "4       400\n",
    "dtype: object’’’’\n",
    "new_s = pd.Series(s).sort_values()"
   ]
  },
  {
   "cell_type": "code",
   "execution_count": null,
   "id": "42649edf",
   "metadata": {},
   "outputs": [],
   "source": [
    "print(new_s)"
   ]
  },
  {
   "cell_type": "markdown",
   "id": "fc27947a",
   "metadata": {},
   "source": [
    "‘’’ 0       100\n",
    "1       200\n",
    "3    300.12\n",
    "4       400\n",
    "2    python\n",
    "dtype: object’’’’’’’\n"
   ]
  },
  {
   "cell_type": "code",
   "execution_count": null,
   "id": "3b288f82",
   "metadata": {},
   "outputs": [],
   "source": [
    "###################################################"
   ]
  },
  {
   "cell_type": "code",
   "execution_count": null,
   "id": "784b9e0a",
   "metadata": {},
   "outputs": [],
   "source": [
    "#Write a Pandas program to add some data "
   ]
  },
  {
   "cell_type": "code",
   "execution_count": null,
   "id": "9207a128",
   "metadata": {},
   "outputs": [],
   "source": [
    "#to an existing Series. "
   ]
  },
  {
   "cell_type": "markdown",
   "id": "46901672",
   "metadata": {},
   "source": [
    "import pandas as pd\n",
    "s = pd.Series(['100', '200', 'python', '300.12', '400'])"
   ]
  },
  {
   "cell_type": "code",
   "execution_count": null,
   "id": "94bdebb6",
   "metadata": {},
   "outputs": [],
   "source": [
    "print(\"Original Data Series:\")"
   ]
  },
  {
   "cell_type": "code",
   "execution_count": null,
   "id": "ad5581b0",
   "metadata": {},
   "outputs": [],
   "source": [
    "print(s)"
   ]
  },
  {
   "cell_type": "markdown",
   "id": "6dcb68ad",
   "metadata": {},
   "source": [
    "‘’’ 0       100\n",
    "1       200\n",
    "2    python\n",
    "3    300.12\n",
    "4       400\n",
    "dtype: object’’’"
   ]
  },
  {
   "cell_type": "code",
   "execution_count": null,
   "id": "b0820835",
   "metadata": {},
   "outputs": [],
   "source": [
    "print(\"\\nData Series after adding some data:\")"
   ]
  },
  {
   "cell_type": "markdown",
   "id": "e8ae8003",
   "metadata": {},
   "source": [
    "new_s = pd.concat([s, pd.Series([500, \"php\"])], ignore_index=True)"
   ]
  },
  {
   "cell_type": "code",
   "execution_count": null,
   "id": "8f61a8bb",
   "metadata": {},
   "outputs": [],
   "source": [
    "print(new_s)"
   ]
  },
  {
   "cell_type": "markdown",
   "id": "abf490bf",
   "metadata": {},
   "source": [
    "‘’’ 0       100\n",
    "1       200\n",
    "2    python\n",
    "3    300.12\n",
    "4       400\n",
    "5       500\n",
    "6       php\n",
    "dtype: object’’’\n"
   ]
  },
  {
   "cell_type": "code",
   "execution_count": null,
   "id": "cf53eb9b",
   "metadata": {},
   "outputs": [],
   "source": [
    "####################################"
   ]
  },
  {
   "cell_type": "code",
   "execution_count": null,
   "id": "cd5924e8",
   "metadata": {},
   "outputs": [],
   "source": [
    "#Write a Pandas program to change the order of index"
   ]
  },
  {
   "cell_type": "markdown",
   "id": "bc667e5e",
   "metadata": {},
   "source": [
    "# of a given series.\n",
    "'''\n",
    "Sample Output:\n",
    "Original Data Series:\n",
    "A    1\n",
    "B    2\n",
    "C    3\n",
    "D    4\n",
    "E    5\n",
    "dtype: int64\n",
    "Data Series after changing the order of index:\n",
    "B    2\n",
    "A    1\n",
    "C    3\n",
    "D    4\n",
    "E    5\n",
    "dtype: int64\n",
    "\n",
    "'''\n",
    "import pandas as pd\n",
    "s = pd.Series(data = [1,2,3,4,5], index = ['A', 'B', 'C','D','E'])"
   ]
  },
  {
   "cell_type": "code",
   "execution_count": null,
   "id": "85fda37a",
   "metadata": {},
   "outputs": [],
   "source": [
    "print(\"Original Data Series:\")"
   ]
  },
  {
   "cell_type": "code",
   "execution_count": null,
   "id": "49fd83a6",
   "metadata": {},
   "outputs": [],
   "source": [
    "print(s)"
   ]
  },
  {
   "cell_type": "markdown",
   "id": "e269683f",
   "metadata": {},
   "source": [
    "s = s.reindex(index = ['B','A','C','D','E'])"
   ]
  },
  {
   "cell_type": "code",
   "execution_count": null,
   "id": "ae626285",
   "metadata": {},
   "outputs": [],
   "source": [
    "print(\"Data Series after changing the order of index:\")"
   ]
  },
  {
   "cell_type": "code",
   "execution_count": null,
   "id": "e82ebe98",
   "metadata": {},
   "outputs": [],
   "source": [
    "print(s)"
   ]
  },
  {
   "cell_type": "markdown",
   "id": "d5bea175",
   "metadata": {},
   "source": []
  },
  {
   "cell_type": "code",
   "execution_count": null,
   "id": "a9fdde22",
   "metadata": {},
   "outputs": [],
   "source": [
    "######################################3"
   ]
  },
  {
   "cell_type": "markdown",
   "id": "695ffdf8",
   "metadata": {},
   "source": [
    "\n",
    "\n",
    "\n",
    "\n",
    "**********************graph draw***************************"
   ]
  },
  {
   "cell_type": "code",
   "execution_count": null,
   "id": "66451a34",
   "metadata": {},
   "outputs": [],
   "source": [
    "#Matplotlip:- it is used to plot the graph,,,, first install the matplotlip i.e. as like a pandas "
   ]
  },
  {
   "cell_type": "markdown",
   "id": "28a19adf",
   "metadata": {},
   "source": [
    "1. wite the command “pip install matplotlip”"
   ]
  },
  {
   "cell_type": "code",
   "execution_count": null,
   "id": "07336b4c",
   "metadata": {},
   "outputs": [],
   "source": [
    "#plaoting the two series"
   ]
  },
  {
   "cell_type": "markdown",
   "id": "5de6d657",
   "metadata": {},
   "source": [
    "import matplotlib.pyplot as plt\n",
    "flg=plt.figure()\n",
    "songs_69.plot()\n",
    "plt.legend()"
   ]
  },
  {
   "cell_type": "code",
   "execution_count": null,
   "id": "b3232f12",
   "metadata": {},
   "outputs": [],
   "source": [
    "#o.p:- "
   ]
  },
  {
   "cell_type": "markdown",
   "id": "c0c09995",
   "metadata": {},
   "source": [
    "Write the description of the above code and all the below code"
   ]
  },
  {
   "cell_type": "code",
   "execution_count": null,
   "id": "db7af074",
   "metadata": {},
   "outputs": [],
   "source": [
    "###################################"
   ]
  },
  {
   "cell_type": "code",
   "execution_count": null,
   "id": "19f4919a",
   "metadata": {},
   "outputs": [],
   "source": [
    "#for studing the bar graph for plotings the series"
   ]
  },
  {
   "cell_type": "markdown",
   "id": "2e310e47",
   "metadata": {},
   "source": [
    "flg=plt.figure()\n",
    "songs_69.plot(kind='bar')\n",
    "songs_66.plot(kind='bar',color='k',alpha=.5)\n",
    "plt.legend()"
   ]
  },
  {
   "cell_type": "code",
   "execution_count": null,
   "id": "58246144",
   "metadata": {},
   "outputs": [],
   "source": [
    "#o.p:- "
   ]
  },
  {
   "cell_type": "markdown",
   "id": "107bb365",
   "metadata": {},
   "source": []
  },
  {
   "cell_type": "code",
   "execution_count": null,
   "id": "7154b6c5",
   "metadata": {},
   "outputs": [],
   "source": [
    "##########################################"
   ]
  },
  {
   "cell_type": "code",
   "execution_count": null,
   "id": "a542eaed",
   "metadata": {},
   "outputs": [],
   "source": [
    "#hextogram"
   ]
  },
  {
   "cell_type": "markdown",
   "id": "ec020e2d",
   "metadata": {},
   "source": [
    "import numpy as np\n",
    "data=pd.Series(np.random.randn(500),\n",
    "name='500 random')\n",
    "flg=plt.figure()\n",
    "ax=flg.add_subplot(111)\n",
    "data.hist()#o.p:- \n",
    "************************use of numpy*********************"
   ]
  },
  {
   "cell_type": "code",
   "execution_count": null,
   "id": "960fa99f",
   "metadata": {},
   "outputs": [],
   "source": [
    "#What is NumPy?"
   ]
  },
  {
   "cell_type": "code",
   "execution_count": null,
   "id": "5621cf78",
   "metadata": {},
   "outputs": [],
   "source": [
    "#The NumPy library is a popular open-source Python library used for scientific computing applications, and it stands for Numerical Python, which is consisting of multidimensional array objects and a collection of routines for processing those arrays."
   ]
  },
  {
   "cell_type": "markdown",
   "id": "63d3685b",
   "metadata": {},
   "source": [
    "1. it is used to working on the array i.e. is matrix  Column feature dimension\n",
    "2. Dimensitonality reduction reduce the large column in small column or less number of column  matrix reduction and develop the model so we required numpy \n"
   ]
  },
  {
   "cell_type": "code",
   "execution_count": null,
   "id": "390624a6",
   "metadata": {},
   "outputs": [],
   "source": [
    "#Install Python NumPy Library"
   ]
  },
  {
   "cell_type": "markdown",
   "id": "85fde457",
   "metadata": {},
   "source": [
    "1)\tgoto base terminal and on prompt\n",
    "2)\tpip install numpy\n",
    "3)\tInstall NumPy using Conda\n",
    "4)\tconda install numpy\n"
   ]
  },
  {
   "cell_type": "markdown",
   "id": "c43ba60a",
   "metadata": {},
   "source": [
    "# While a Python list can contain different data types within a single list,all of the elements in a NumPy array should be homogeneous.\n"
   ]
  },
  {
   "cell_type": "code",
   "execution_count": null,
   "id": "f62a5e28",
   "metadata": {},
   "outputs": [],
   "source": [
    "#Arrays In NumPy"
   ]
  },
  {
   "cell_type": "markdown",
   "id": "e2fc06c7",
   "metadata": {},
   "source": [
    "# Create ndarray\n",
    "import numpy as np\n",
    "arr = np.array([10,20,30]) \n",
    "print (arr)"
   ]
  },
  {
   "cell_type": "markdown",
   "id": "e366a5f4",
   "metadata": {},
   "source": [
    "# Output : [10 20 30]\n"
   ]
  },
  {
   "cell_type": "code",
   "execution_count": null,
   "id": "d7d90327",
   "metadata": {},
   "outputs": [],
   "source": [
    "#######################################################"
   ]
  },
  {
   "cell_type": "code",
   "execution_count": null,
   "id": "d916296b",
   "metadata": {},
   "outputs": [],
   "source": [
    "#Create a Multi-Dimensional Array"
   ]
  },
  {
   "cell_type": "markdown",
   "id": "ab371490",
   "metadata": {},
   "source": [
    "arr = np.array([[10,20,30],[40,50,60]]) \n",
    "print (arr)"
   ]
  },
  {
   "cell_type": "markdown",
   "id": "52526e61",
   "metadata": {},
   "source": [
    "# Output :\n",
    "[[10 20 30]\n",
    " [40 50 60]]\n"
   ]
  },
  {
   "cell_type": "code",
   "execution_count": null,
   "id": "d0c0ec52",
   "metadata": {},
   "outputs": [],
   "source": [
    "#######################################################"
   ]
  },
  {
   "cell_type": "code",
   "execution_count": null,
   "id": "04ba9829",
   "metadata": {},
   "outputs": [],
   "source": [
    "#Represent The Minimum Dimensions"
   ]
  },
  {
   "cell_type": "code",
   "execution_count": null,
   "id": "2526ecb4",
   "metadata": {},
   "outputs": [],
   "source": [
    "#Use ndmin param to specify how many minimum dimensions you wanted to create an array withaccording to the [] square bracket we can define the dimension of the array dimension to create an array with an minimum dimension ndmin"
   ]
  },
  {
   "cell_type": "markdown",
   "id": "eb5106c7",
   "metadata": {},
   "source": [
    "# Minimum dimension\n",
    "arr = np.array([10, 20, 30,40], ndmin = 2) \n",
    "print (arr) "
   ]
  },
  {
   "cell_type": "code",
   "execution_count": null,
   "id": "5ee6e2db",
   "metadata": {},
   "outputs": [],
   "source": [
    " # Output: "
   ]
  },
  {
   "cell_type": "markdown",
   "id": "921db0ec",
   "metadata": {},
   "source": [
    "[[10 20 30 40]]-- \t2 dimension array accourindig to the square bracket\n"
   ]
  },
  {
   "cell_type": "code",
   "execution_count": null,
   "id": "1bb61900",
   "metadata": {},
   "outputs": [],
   "source": [
    "###########################################################"
   ]
  },
  {
   "cell_type": "markdown",
   "id": "308f1cad",
   "metadata": {},
   "source": [
    "arr = np.array([10, 20, 30,40], ndmin = 3) \n",
    "print (arr)"
   ]
  },
  {
   "cell_type": "code",
   "execution_count": null,
   "id": "4ca57f6e",
   "metadata": {},
   "outputs": [],
   "source": [
    " # Output: [[[10 20 30 40]]]"
   ]
  },
  {
   "cell_type": "markdown",
   "id": "10357950",
   "metadata": {},
   "source": []
  },
  {
   "cell_type": "code",
   "execution_count": null,
   "id": "413e212f",
   "metadata": {},
   "outputs": [],
   "source": [
    "#########################################################"
   ]
  },
  {
   "cell_type": "code",
   "execution_count": null,
   "id": "bc46f69e",
   "metadata": {},
   "outputs": [],
   "source": [
    "#Change The Data Type using the dtype parameter "
   ]
  },
  {
   "cell_type": "markdown",
   "id": "802b84ee",
   "metadata": {},
   "source": [
    "arr = np.array([10, 20, 30], dtype = complex) "
   ]
  },
  {
   "cell_type": "code",
   "execution_count": null,
   "id": "e7761e60",
   "metadata": {},
   "outputs": [],
   "source": [
    "print(arr)"
   ]
  },
  {
   "cell_type": "markdown",
   "id": "f6ab03b6",
   "metadata": {},
   "source": [
    "# Output :[10.+0.j 20.+0.j 30.+0.j]\n"
   ]
  },
  {
   "cell_type": "code",
   "execution_count": null,
   "id": "490e97ac",
   "metadata": {},
   "outputs": [],
   "source": [
    "#######################################################"
   ]
  },
  {
   "cell_type": "code",
   "execution_count": null,
   "id": "96636244",
   "metadata": {},
   "outputs": [],
   "source": [
    "#Get The Dimensions of Array"
   ]
  },
  {
   "cell_type": "markdown",
   "id": "abe2e1e5",
   "metadata": {},
   "source": [
    "arr = np.array([[1, 2, 3, 4], [7, 8, 6, 7], [9, 10, 11, 12]])  "
   ]
  },
  {
   "cell_type": "code",
   "execution_count": null,
   "id": "8887e30e",
   "metadata": {},
   "outputs": [],
   "source": [
    "print(arr. ndim) "
   ]
  },
  {
   "cell_type": "code",
   "execution_count": null,
   "id": "6d9614bc",
   "metadata": {},
   "outputs": [],
   "source": [
    "print(arr)"
   ]
  },
  {
   "cell_type": "code",
   "execution_count": null,
   "id": "a3be3b7e",
   "metadata": {},
   "outputs": [],
   "source": [
    "#Outputs :2"
   ]
  },
  {
   "cell_type": "markdown",
   "id": "3264c1a4",
   "metadata": {},
   "source": [
    "[[ 1  2  3  4]\n",
    " [ 7  8  6  7]\n",
    " [ 9 10 11 12]]\n"
   ]
  },
  {
   "cell_type": "code",
   "execution_count": null,
   "id": "5949d003",
   "metadata": {},
   "outputs": [],
   "source": [
    "######################################################"
   ]
  },
  {
   "cell_type": "markdown",
   "id": "2492f65e",
   "metadata": {},
   "source": [
    "# Finding the size of each item in the array  \n",
    "arr = np.array([10,20,30])"
   ]
  },
  {
   "cell_type": "code",
   "execution_count": null,
   "id": "c1ab5e16",
   "metadata": {},
   "outputs": [],
   "source": [
    "print(\"Each item contain in bytes :\",arr.itemsize)  "
   ]
  },
  {
   "cell_type": "code",
   "execution_count": null,
   "id": "a9e269aa",
   "metadata": {},
   "outputs": [],
   "source": [
    "#Outputs:Each item contain in bytes: 4"
   ]
  },
  {
   "cell_type": "markdown",
   "id": "42b2af4d",
   "metadata": {},
   "source": []
  },
  {
   "cell_type": "code",
   "execution_count": null,
   "id": "2d7a1c49",
   "metadata": {},
   "outputs": [],
   "source": [
    "#######################################################"
   ]
  },
  {
   "cell_type": "code",
   "execution_count": null,
   "id": "52639274",
   "metadata": {},
   "outputs": [],
   "source": [
    "#Get The Data Type of Each Array Item"
   ]
  },
  {
   "cell_type": "markdown",
   "id": "3296d5b0",
   "metadata": {},
   "source": [
    "# Finding the data type of each array item  \n",
    "arr = np.array([10,20,30])  "
   ]
  },
  {
   "cell_type": "code",
   "execution_count": null,
   "id": "61774281",
   "metadata": {},
   "outputs": [],
   "source": [
    "print(\"Each item is of the type\", arr.dtype)"
   ]
  },
  {
   "cell_type": "markdown",
   "id": "bda00279",
   "metadata": {},
   "source": [
    "# Output:Each item is of the type int32\n"
   ]
  },
  {
   "cell_type": "code",
   "execution_count": null,
   "id": "521d06bf",
   "metadata": {},
   "outputs": [],
   "source": [
    "#######################################################"
   ]
  },
  {
   "cell_type": "code",
   "execution_count": null,
   "id": "8463b17a",
   "metadata": {},
   "outputs": [],
   "source": [
    "#Get the Shape and Size of Array"
   ]
  },
  {
   "cell_type": "markdown",
   "id": "106a0b13",
   "metadata": {},
   "source": [
    "arr = np.array([[10,20,30,40],[60,70,80,90]])  "
   ]
  },
  {
   "cell_type": "code",
   "execution_count": null,
   "id": "b95145df",
   "metadata": {},
   "outputs": [],
   "source": [
    "print(\"Array Size:\", arr.size)  "
   ]
  },
  {
   "cell_type": "code",
   "execution_count": null,
   "id": "e3671446",
   "metadata": {},
   "outputs": [],
   "source": [
    "print(\"Shape:\", arr.shape)"
   ]
  },
  {
   "cell_type": "code",
   "execution_count": null,
   "id": "4f88d421",
   "metadata": {},
   "outputs": [],
   "source": [
    "#o.p:-Array Size: 8"
   ]
  },
  {
   "cell_type": "code",
   "execution_count": null,
   "id": "481f76d3",
   "metadata": {},
   "outputs": [],
   "source": [
    "#Shape: (2, 4)"
   ]
  },
  {
   "cell_type": "markdown",
   "id": "16556d92",
   "metadata": {},
   "source": []
  },
  {
   "cell_type": "code",
   "execution_count": null,
   "id": "2adc9b89",
   "metadata": {},
   "outputs": [],
   "source": [
    "##################################################"
   ]
  },
  {
   "cell_type": "code",
   "execution_count": null,
   "id": "285f8973",
   "metadata": {},
   "outputs": [],
   "source": [
    "#Create NumPy Array From List"
   ]
  },
  {
   "cell_type": "markdown",
   "id": "a11d3e10",
   "metadata": {},
   "source": [
    "# Creation of Arrays\n",
    "arr = np.array([10, 20, 30])"
   ]
  },
  {
   "cell_type": "code",
   "execution_count": null,
   "id": "e765e8ee",
   "metadata": {},
   "outputs": [],
   "source": [
    "print(\"Array:\",arr)\t\t\t#o.p:- Array: [10 20 30]"
   ]
  },
  {
   "cell_type": "code",
   "execution_count": null,
   "id": "39c216f9",
   "metadata": {},
   "outputs": [],
   "source": [
    "#################################################"
   ]
  },
  {
   "cell_type": "markdown",
   "id": "a7e26eae",
   "metadata": {},
   "source": [
    "# Creating array from list with type float\n",
    "arr = np.array([[10, 20, 40], [30,40,50]], dtype = 'float')\n",
    "print (\"Array created by using list: \\n\", arr)"
   ]
  },
  {
   "cell_type": "markdown",
   "id": "0f9e3801",
   "metadata": {},
   "source": [
    "# Output: Array created by using list: \n",
    " [[10. 20. 40.]\n",
    " [30. 40. 50.]]\n"
   ]
  },
  {
   "cell_type": "code",
   "execution_count": null,
   "id": "55c8864c",
   "metadata": {},
   "outputs": [],
   "source": [
    "###################################################"
   ]
  },
  {
   "cell_type": "code",
   "execution_count": null,
   "id": "acf0c4e0",
   "metadata": {},
   "outputs": [],
   "source": [
    "#Create a Sequence of Integers using arange()"
   ]
  },
  {
   "cell_type": "markdown",
   "id": "55b0ea5b",
   "metadata": {},
   "source": [
    "# Create a sequence of integers from 0 to 20 with steps of 3\n",
    "arr= np.arange(0, 20, 3)\n",
    "print (\"A sequential array with steps of 3:\\n\", arr)"
   ]
  },
  {
   "cell_type": "code",
   "execution_count": null,
   "id": "0f6ea471",
   "metadata": {},
   "outputs": [],
   "source": [
    "#Array Indexing in NumPy"
   ]
  },
  {
   "cell_type": "markdown",
   "id": "c7ffe29e",
   "metadata": {},
   "source": [
    "# Output: A sequential array with steps of 3:[ 0  3  6  9 12 15 18]\n"
   ]
  },
  {
   "cell_type": "code",
   "execution_count": null,
   "id": "ee54855d",
   "metadata": {},
   "outputs": [],
   "source": [
    "################################################"
   ]
  },
  {
   "cell_type": "markdown",
   "id": "21a91300",
   "metadata": {},
   "source": [
    "# Access single element using index \n",
    "arr = np.arange(11)"
   ]
  },
  {
   "cell_type": "code",
   "execution_count": null,
   "id": "640487a4",
   "metadata": {},
   "outputs": [],
   "source": [
    "print(arr)"
   ]
  },
  {
   "cell_type": "code",
   "execution_count": null,
   "id": "2759bbd9",
   "metadata": {},
   "outputs": [],
   "source": [
    "#[ 0  1  2  3  4  5  6  7  8  9 10]"
   ]
  },
  {
   "cell_type": "code",
   "execution_count": null,
   "id": "e4fcf86b",
   "metadata": {},
   "outputs": [],
   "source": [
    "print(arr[2])"
   ]
  },
  {
   "cell_type": "code",
   "execution_count": null,
   "id": "d87659d1",
   "metadata": {},
   "outputs": [],
   "source": [
    "#2"
   ]
  },
  {
   "cell_type": "code",
   "execution_count": null,
   "id": "6b85b93c",
   "metadata": {},
   "outputs": [],
   "source": [
    "print(arr[-2])"
   ]
  },
  {
   "cell_type": "code",
   "execution_count": null,
   "id": "c1439aa8",
   "metadata": {},
   "outputs": [],
   "source": [
    "#9"
   ]
  },
  {
   "cell_type": "markdown",
   "id": "06d0f308",
   "metadata": {},
   "source": []
  },
  {
   "cell_type": "code",
   "execution_count": null,
   "id": "1bd2ae2d",
   "metadata": {},
   "outputs": [],
   "source": [
    "###########################################################"
   ]
  },
  {
   "cell_type": "code",
   "execution_count": null,
   "id": "9d06f734",
   "metadata": {},
   "outputs": [],
   "source": [
    "#Multi-Dimenstional Array Indexing"
   ]
  },
  {
   "cell_type": "markdown",
   "id": "e7328d1f",
   "metadata": {},
   "source": [
    "# Access multi-dimensional array element using array indexing\n",
    "arr =np.array([[10,20,30,40,50],[20,30,50,10,30]])"
   ]
  },
  {
   "cell_type": "code",
   "execution_count": null,
   "id": "cdfd7bfb",
   "metadata": {},
   "outputs": [],
   "source": [
    "print(arr)"
   ]
  },
  {
   "cell_type": "code",
   "execution_count": null,
   "id": "23cf7063",
   "metadata": {},
   "outputs": [],
   "source": [
    "#o.p:-[[10 20 30 40 50]"
   ]
  },
  {
   "cell_type": "markdown",
   "id": "9f509c48",
   "metadata": {},
   "source": [
    " [20 30 50 10 30]]\n"
   ]
  },
  {
   "cell_type": "code",
   "execution_count": null,
   "id": "61d47088",
   "metadata": {},
   "outputs": [],
   "source": [
    "print(arr.shape)"
   ]
  },
  {
   "cell_type": "code",
   "execution_count": null,
   "id": "ccbc9222",
   "metadata": {},
   "outputs": [],
   "source": [
    "#o.p:-(2,5) # now x is 2-dimensional"
   ]
  },
  {
   "cell_type": "markdown",
   "id": "a976a5de",
   "metadata": {},
   "source": []
  },
  {
   "cell_type": "code",
   "execution_count": null,
   "id": "495aa295",
   "metadata": {},
   "outputs": [],
   "source": [
    "print(arr[1,1])"
   ]
  },
  {
   "cell_type": "code",
   "execution_count": null,
   "id": "d94001a3",
   "metadata": {},
   "outputs": [],
   "source": [
    "#30"
   ]
  },
  {
   "cell_type": "code",
   "execution_count": null,
   "id": "4c2ce3b1",
   "metadata": {},
   "outputs": [],
   "source": [
    "print(arr[0,4])"
   ]
  },
  {
   "cell_type": "code",
   "execution_count": null,
   "id": "95f0c7ae",
   "metadata": {},
   "outputs": [],
   "source": [
    "#50"
   ]
  },
  {
   "cell_type": "code",
   "execution_count": null,
   "id": "43f93532",
   "metadata": {},
   "outputs": [],
   "source": [
    "print(arr[1,-1])#rows starts from 0,we need 1 st row and last column"
   ]
  },
  {
   "cell_type": "code",
   "execution_count": null,
   "id": "d5132c96",
   "metadata": {},
   "outputs": [],
   "source": [
    "#30"
   ]
  },
  {
   "cell_type": "markdown",
   "id": "772d7ecd",
   "metadata": {},
   "source": []
  },
  {
   "cell_type": "code",
   "execution_count": null,
   "id": "eeea019a",
   "metadata": {},
   "outputs": [],
   "source": [
    "##################################################"
   ]
  },
  {
   "cell_type": "markdown",
   "id": "65bf9390",
   "metadata": {},
   "source": []
  },
  {
   "cell_type": "markdown",
   "id": "9671527e",
   "metadata": {},
   "source": [
    "# Access array elements using slicing\n",
    "arr = np.array([0, 1, 2, 3, 4, 5, 6, 7, 8, 9])\n",
    "x= arr[1:8:2]   #start:end:in step of 2"
   ]
  },
  {
   "cell_type": "code",
   "execution_count": null,
   "id": "74b9b2a2",
   "metadata": {},
   "outputs": [],
   "source": [
    "print(x)"
   ]
  },
  {
   "cell_type": "markdown",
   "id": "2781b68d",
   "metadata": {},
   "source": [
    "# Output: [1 3 5 7]\n"
   ]
  },
  {
   "cell_type": "code",
   "execution_count": null,
   "id": "6cb1aedf",
   "metadata": {},
   "outputs": [],
   "source": [
    "#################################################"
   ]
  },
  {
   "cell_type": "markdown",
   "id": "3bbb843d",
   "metadata": {},
   "source": [
    "# Example\n",
    "x=arr[-2:3:-1]#start last but one(-2) upto 3 but not 3 in step of -1"
   ]
  },
  {
   "cell_type": "code",
   "execution_count": null,
   "id": "1a578a2f",
   "metadata": {},
   "outputs": [],
   "source": [
    "print(x)"
   ]
  },
  {
   "cell_type": "markdown",
   "id": "8c508ca4",
   "metadata": {},
   "source": [
    "# Output: [8 7 6 5 4]\n"
   ]
  },
  {
   "cell_type": "markdown",
   "id": "f53186e6",
   "metadata": {},
   "source": [
    "################################################## "
   ]
  },
  {
   "cell_type": "markdown",
   "id": "3922c9a1",
   "metadata": {},
   "source": [
    "# Example\n",
    "x=arr[-2:10]#start last but one(-2) and upto 10 but not 10"
   ]
  },
  {
   "cell_type": "code",
   "execution_count": null,
   "id": "b9bd906f",
   "metadata": {},
   "outputs": [],
   "source": [
    "print(x)"
   ]
  },
  {
   "cell_type": "code",
   "execution_count": null,
   "id": "04cd7860",
   "metadata": {},
   "outputs": [],
   "source": [
    "#[8 9]"
   ]
  },
  {
   "cell_type": "markdown",
   "id": "2c333a5e",
   "metadata": {},
   "source": []
  },
  {
   "cell_type": "code",
   "execution_count": null,
   "id": "b5902b09",
   "metadata": {},
   "outputs": [],
   "source": [
    "######################################################"
   ]
  },
  {
   "cell_type": "markdown",
   "id": "dd320d83",
   "metadata": {},
   "source": [
    "# indexing in numpy\n",
    "multi_arr = np.array([[10, 20, 10, 40],\n",
    "        [40, 50, 70, 90],\n",
    "            [60, 10, 70, 80],\n",
    "        [30, 90, 40, 30]])\n",
    "Arr\n"
   ]
  },
  {
   "cell_type": "code",
   "execution_count": null,
   "id": "f8231605",
   "metadata": {},
   "outputs": [],
   "source": [
    "#############################################"
   ]
  },
  {
   "cell_type": "markdown",
   "id": "df55398a",
   "metadata": {},
   "source": [
    "# Slicing array"
   ]
  },
  {
   "cell_type": "code",
   "execution_count": null,
   "id": "2a39f824",
   "metadata": {},
   "outputs": [],
   "source": [
    "#For multi-dimensional NumPy arrays, "
   ]
  },
  {
   "cell_type": "code",
   "execution_count": null,
   "id": "5d6c72d9",
   "metadata": {},
   "outputs": [],
   "source": [
    "#you can access the elements as below"
   ]
  },
  {
   "cell_type": "markdown",
   "id": "00568eef",
   "metadata": {},
   "source": [
    "\n",
    "multi_arr [1, 2] #– To access the value at row 1 and column 2.\n",
    "multi_arr [1,:] #– To get the value at row 1 and all columns.\n",
    "multi_arr [:, 1] #– Access the value at all rows and columns 1.\n"
   ]
  },
  {
   "cell_type": "code",
   "execution_count": null,
   "id": "0a0935de",
   "metadata": {},
   "outputs": [],
   "source": [
    "###############################################"
   ]
  },
  {
   "cell_type": "markdown",
   "id": "e250fc4a",
   "metadata": {},
   "source": [
    "x= multi_arr[:3, ::2] #columns from 0 to 3,in all selected rows and column every alternate rows\n",
    "print (x)"
   ]
  },
  {
   "cell_type": "markdown",
   "id": "b129f4a1",
   "metadata": {},
   "source": [
    "# Output : "
   ]
  },
  {
   "cell_type": "markdown",
   "id": "549fba09",
   "metadata": {},
   "source": [
    "# [[10 10]"
   ]
  },
  {
   "cell_type": "markdown",
   "id": "b8ad3745",
   "metadata": {},
   "source": [
    "# [40 70]"
   ]
  },
  {
   "cell_type": "markdown",
   "id": "983a3c7c",
   "metadata": {},
   "source": [
    "# [60 70]]\n"
   ]
  },
  {
   "cell_type": "code",
   "execution_count": null,
   "id": "15e3f56c",
   "metadata": {},
   "outputs": [],
   "source": [
    "###############################################"
   ]
  },
  {
   "cell_type": "markdown",
   "id": "c29af183",
   "metadata": {},
   "source": [
    "\n"
   ]
  },
  {
   "cell_type": "code",
   "execution_count": null,
   "id": "f512d663",
   "metadata": {},
   "outputs": [],
   "source": [
    "#Integer Array Indexing"
   ]
  },
  {
   "cell_type": "markdown",
   "id": "e5d5855d",
   "metadata": {},
   "source": [
    "Integer array indexing allows the selection of arbitrary items in the array based on their N-dimensional index. Each integer array represents a number of indices into that dimension. In this method, lists are passed for indexing for each dimension. One to one mapping of corresponding elements is done to construct a new arbitrary array.\n"
   ]
  },
  {
   "cell_type": "markdown",
   "id": "10c394de",
   "metadata": {},
   "source": [
    "# Integer array indexing\n",
    "arr = np.arange(35).reshape(5, 7)"
   ]
  },
  {
   "cell_type": "code",
   "execution_count": null,
   "id": "a87852d2",
   "metadata": {},
   "outputs": [],
   "source": [
    "print(arr)"
   ]
  },
  {
   "cell_type": "markdown",
   "id": "7be567f0",
   "metadata": {},
   "source": [
    "‘’’ [[ 0  1  2  3  4  5  6]\n",
    " [ 7  8  9 10 11 12 13]\n",
    " [14 15 16 17 18 19 20]\n",
    " [21 22 23 24 25 26 27]\n",
    " [28 29 30 31 32 33 34]]’’’\n"
   ]
  },
  {
   "cell_type": "code",
   "execution_count": null,
   "id": "6669aa62",
   "metadata": {},
   "outputs": [],
   "source": [
    "###########################################################"
   ]
  },
  {
   "cell_type": "markdown",
   "id": "6481b94c",
   "metadata": {},
   "source": [
    "# Boolean Array Indexing"
   ]
  },
  {
   "cell_type": "code",
   "execution_count": null,
   "id": "c920d7b5",
   "metadata": {},
   "outputs": [],
   "source": [
    "#This advanced indexing occurs when an object is an array object of Boolean types, such as may be returned from comparison operators. Use this method when we want to pick elements from the array which satisfy some conditions."
   ]
  },
  {
   "cell_type": "markdown",
   "id": "a94f4009",
   "metadata": {},
   "source": [
    "# Boolean array indexing\n",
    "arr = np.arange(12).reshape(3,4)"
   ]
  },
  {
   "cell_type": "code",
   "execution_count": null,
   "id": "02dea5c8",
   "metadata": {},
   "outputs": [],
   "source": [
    "print(arr)"
   ]
  },
  {
   "cell_type": "code",
   "execution_count": null,
   "id": "a18d90a7",
   "metadata": {},
   "outputs": [],
   "source": [
    "#o.p:-"
   ]
  },
  {
   "cell_type": "markdown",
   "id": "e879e6e2",
   "metadata": {},
   "source": [
    "[[ 0  1  2  3]\n",
    " [ 4  5  6  7]\n",
    " [ 8  9 10 11]]\n"
   ]
  },
  {
   "cell_type": "code",
   "execution_count": null,
   "id": "1bce7037",
   "metadata": {},
   "outputs": [],
   "source": [
    "###############################################"
   ]
  },
  {
   "cell_type": "markdown",
   "id": "69e78441",
   "metadata": {},
   "source": [
    "rows = np.array([False,True,True])#not 0th row only first and second row\n",
    "wanted_rows= arr[rows, : ]#In selected rows all rows and columns"
   ]
  },
  {
   "cell_type": "code",
   "execution_count": null,
   "id": "ae5be619",
   "metadata": {},
   "outputs": [],
   "source": [
    "print(wanted_rows)"
   ]
  },
  {
   "cell_type": "code",
   "execution_count": null,
   "id": "db139cf4",
   "metadata": {},
   "outputs": [],
   "source": [
    "#o.p:-"
   ]
  },
  {
   "cell_type": "markdown",
   "id": "ee65174c",
   "metadata": {},
   "source": [
    "[[ 4  5  6  7]\n",
    " [ 8  9 10 11]]\n"
   ]
  },
  {
   "cell_type": "code",
   "execution_count": null,
   "id": "c4231998",
   "metadata": {},
   "outputs": [],
   "source": [
    "####################################################"
   ]
  },
  {
   "cell_type": "code",
   "execution_count": null,
   "id": "eabc0ae8",
   "metadata": {},
   "outputs": [],
   "source": [
    "#Convert NumPy Array to Python List"
   ]
  },
  {
   "cell_type": "markdown",
   "id": "7ae6868f",
   "metadata": {},
   "source": [
    "We can convert the Numpy array to the list by using tolist() method, We may have a list of data elements that have been converted from the array using this method."
   ]
  },
  {
   "cell_type": "markdown",
   "id": "400a5943",
   "metadata": {},
   "source": [
    "# Convert One Dimensional Array To List"
   ]
  },
  {
   "cell_type": "markdown",
   "id": "7d45ef04",
   "metadata": {},
   "source": [
    "# create array\n",
    "array = np.array([10, 20, 30, 40])  "
   ]
  },
  {
   "cell_type": "code",
   "execution_count": null,
   "id": "85037733",
   "metadata": {},
   "outputs": [],
   "source": [
    "print(\"Array:\", array)"
   ]
  },
  {
   "cell_type": "code",
   "execution_count": null,
   "id": "c5f50915",
   "metadata": {},
   "outputs": [],
   "source": [
    "print(type(array))"
   ]
  },
  {
   "cell_type": "code",
   "execution_count": null,
   "id": "fcf9f5b5",
   "metadata": {},
   "outputs": [],
   "source": [
    "#Array: [10 20 30 40]"
   ]
  },
  {
   "cell_type": "code",
   "execution_count": null,
   "id": "9d444c74",
   "metadata": {},
   "outputs": [],
   "source": [
    "#######################################################"
   ]
  },
  {
   "cell_type": "markdown",
   "id": "5ec66f12",
   "metadata": {},
   "source": [
    "# Convert list\n",
    "lst = array.tolist()"
   ]
  },
  {
   "cell_type": "code",
   "execution_count": null,
   "id": "439f5f65",
   "metadata": {},
   "outputs": [],
   "source": [
    "print(\"list:\", lst)"
   ]
  },
  {
   "cell_type": "code",
   "execution_count": null,
   "id": "fb154f44",
   "metadata": {},
   "outputs": [],
   "source": [
    "print(type(lst))"
   ]
  },
  {
   "cell_type": "code",
   "execution_count": null,
   "id": "d4a8e5ef",
   "metadata": {},
   "outputs": [],
   "source": [
    "#list: [10, 20, 30, 40]"
   ]
  },
  {
   "cell_type": "markdown",
   "id": "7e3003d6",
   "metadata": {},
   "source": []
  },
  {
   "cell_type": "code",
   "execution_count": null,
   "id": "5650745e",
   "metadata": {},
   "outputs": [],
   "source": [
    "#######################################################3"
   ]
  },
  {
   "cell_type": "markdown",
   "id": "1af65454",
   "metadata": {},
   "source": [
    "# Convert Multi Dimensional Array to list"
   ]
  },
  {
   "cell_type": "markdown",
   "id": "87dfd3c7",
   "metadata": {},
   "source": [
    "# create array\n",
    "array = np.array([[10, 20, 30, 40],\n",
    "                  [50, 60, 70, 80],\n",
    "                  [60, 40 ,20 ,10]])  "
   ]
  },
  {
   "cell_type": "code",
   "execution_count": null,
   "id": "0363a5ce",
   "metadata": {},
   "outputs": [],
   "source": [
    "print(\"Array:\", array)"
   ]
  },
  {
   "cell_type": "code",
   "execution_count": null,
   "id": "ca951ea4",
   "metadata": {},
   "outputs": [],
   "source": [
    "#Array: [[10 20 30 40]"
   ]
  },
  {
   "cell_type": "markdown",
   "id": "acbe327c",
   "metadata": {},
   "source": [
    " [50 60 70 80]\n",
    " [60 40 20 10]]\n"
   ]
  },
  {
   "cell_type": "code",
   "execution_count": null,
   "id": "50395a2b",
   "metadata": {},
   "outputs": [],
   "source": [
    "#######################################################"
   ]
  },
  {
   "cell_type": "markdown",
   "id": "c00c77b0",
   "metadata": {},
   "source": [
    "# Convert list\n",
    "lst = array.tolist()"
   ]
  },
  {
   "cell_type": "code",
   "execution_count": null,
   "id": "18058eb4",
   "metadata": {},
   "outputs": [],
   "source": [
    "print(\"list:\", lst)"
   ]
  },
  {
   "cell_type": "code",
   "execution_count": null,
   "id": "0141f296",
   "metadata": {},
   "outputs": [],
   "source": [
    "#o.p:-list: [[10, 20, 30, 40], [50, 60, 70, 80], [60, 40, 20, 10]]"
   ]
  },
  {
   "cell_type": "markdown",
   "id": "f7f90dc0",
   "metadata": {},
   "source": []
  },
  {
   "cell_type": "code",
   "execution_count": null,
   "id": "5c89cf13",
   "metadata": {},
   "outputs": [],
   "source": [
    "###################################################"
   ]
  },
  {
   "cell_type": "markdown",
   "id": "73de3e3b",
   "metadata": {},
   "source": [
    "# Convert Python List to A NumPy Array\n",
    "Lists can convert to arrays using the built-in functions in the Python NumPy library."
   ]
  },
  {
   "cell_type": "code",
   "execution_count": null,
   "id": "1e7898ea",
   "metadata": {},
   "outputs": [],
   "source": [
    "#How to convert a list to an array in Python"
   ]
  },
  {
   "cell_type": "markdown",
   "id": "f5456b68",
   "metadata": {},
   "source": [
    "NumPy provides us with two functions to use when converting a list into an array:\n",
    "1.\tnumpy.array()\n",
    "2.\tnumpy.asarray()"
   ]
  },
  {
   "cell_type": "code",
   "execution_count": null,
   "id": "f7160d7c",
   "metadata": {},
   "outputs": [],
   "source": [
    "#numpy.array() : Using numpy.array() This function of the numpy library allows a list as an argument and returns an array that contains all the elements of the list. See the example below: import numpy as np. …"
   ]
  },
  {
   "cell_type": "markdown",
   "id": "780e2776",
   "metadata": {},
   "source": [
    "# Create list\n",
    "list = [20,40,60,80]"
   ]
  },
  {
   "cell_type": "markdown",
   "id": "ca19dfd2",
   "metadata": {},
   "source": [
    "# Convert array\n",
    "array = np.array(list)\n",
    "print (\"Array:\", array)"
   ]
  },
  {
   "cell_type": "markdown",
   "id": "8e5f8e0f",
   "metadata": {},
   "source": [
    "# Output: Array: [20 40 60 80]\n"
   ]
  },
  {
   "cell_type": "code",
   "execution_count": null,
   "id": "c9b42aa4",
   "metadata": {},
   "outputs": [],
   "source": [
    "########################################################"
   ]
  },
  {
   "cell_type": "code",
   "execution_count": null,
   "id": "bdaa3b46",
   "metadata": {},
   "outputs": [],
   "source": [
    "#numpy.asarray() : Using numpy.asarray() This function calls the numpy.array() function inside itself."
   ]
  },
  {
   "cell_type": "markdown",
   "id": "694786a3",
   "metadata": {},
   "source": [
    "# Use asarray()\n",
    "list = [20,40,60,80]\n",
    "array = np.asarray(list)"
   ]
  },
  {
   "cell_type": "code",
   "execution_count": null,
   "id": "da8ba914",
   "metadata": {},
   "outputs": [],
   "source": [
    "print(\" Array:\", array)"
   ]
  },
  {
   "cell_type": "code",
   "execution_count": null,
   "id": "65a73de3",
   "metadata": {},
   "outputs": [],
   "source": [
    "print(type(array))"
   ]
  },
  {
   "cell_type": "markdown",
   "id": "f05a4988",
   "metadata": {},
   "source": [
    "# Output : Array: [20 40 60 80]\n"
   ]
  },
  {
   "cell_type": "code",
   "execution_count": null,
   "id": "8c2f56e0",
   "metadata": {},
   "outputs": [],
   "source": [
    "#######################################################"
   ]
  },
  {
   "cell_type": "markdown",
   "id": "ec92c1c1",
   "metadata": {},
   "source": [
    "# Numpy Array Properties \n",
    "1)\tndarray.shape\n",
    "2)\tndarray.ndim\n",
    "3)\tndarray.itemsize\n",
    "4)\tndaray.size\n",
    "5)\tndarray.dtype\n"
   ]
  },
  {
   "cell_type": "code",
   "execution_count": null,
   "id": "35707f7b",
   "metadata": {},
   "outputs": [],
   "source": [
    "#ndarray.shape"
   ]
  },
  {
   "cell_type": "code",
   "execution_count": null,
   "id": "a52a2dcf",
   "metadata": {},
   "outputs": [],
   "source": [
    "#To get the shape of a Python NumPy array use numpy.ndarray.shape property. The array shape can be defined as the number of elements in each dimension and dimension is defined as a number of indices or subscripts, that can specify an individual element of an array.shape attribute returns a tuple consisting of array dimensions. It can also use to resize the array. For example,"
   ]
  },
  {
   "cell_type": "code",
   "execution_count": null,
   "id": "5b48b1ac",
   "metadata": {},
   "outputs": [],
   "source": [
    "#Shape"
   ]
  },
  {
   "cell_type": "markdown",
   "id": "6aaaf1fc",
   "metadata": {},
   "source": [
    "array = np.array([[1,2,3],[4,5,6]]) "
   ]
  },
  {
   "cell_type": "code",
   "execution_count": null,
   "id": "0710e40d",
   "metadata": {},
   "outputs": [],
   "source": [
    "print(array.shape)"
   ]
  },
  {
   "cell_type": "markdown",
   "id": "1786ddf2",
   "metadata": {},
   "source": [
    "# Output :(2, 3)\n"
   ]
  },
  {
   "cell_type": "code",
   "execution_count": null,
   "id": "04b33465",
   "metadata": {},
   "outputs": [],
   "source": [
    "#########################################################"
   ]
  },
  {
   "cell_type": "markdown",
   "id": "59e8c550",
   "metadata": {},
   "source": [
    "# Resize the array\n",
    "array = np.array([[10,20,30],[40,50,60]]) \n",
    "array.shape=(3,2)"
   ]
  },
  {
   "cell_type": "code",
   "execution_count": null,
   "id": "e546caad",
   "metadata": {},
   "outputs": [],
   "source": [
    "print(array)"
   ]
  },
  {
   "cell_type": "markdown",
   "id": "a003d222",
   "metadata": {},
   "source": []
  },
  {
   "cell_type": "markdown",
   "id": "ee65e14a",
   "metadata": {},
   "source": [
    "# Output:\n",
    "[[10 20]\n",
    " [30 40]\n",
    " [50 60]]\n"
   ]
  },
  {
   "cell_type": "code",
   "execution_count": null,
   "id": "5b905945",
   "metadata": {},
   "outputs": [],
   "source": [
    "####################################################"
   ]
  },
  {
   "cell_type": "code",
   "execution_count": null,
   "id": "fa00aef2",
   "metadata": {},
   "outputs": [],
   "source": [
    "#NumPy also provides a numpy.reshape() function to resize an array. For example:-"
   ]
  },
  {
   "cell_type": "code",
   "execution_count": null,
   "id": "be7537b9",
   "metadata": {},
   "outputs": [],
   "source": [
    "#reshape usage"
   ]
  },
  {
   "cell_type": "markdown",
   "id": "e29d75da",
   "metadata": {},
   "source": [
    "array = np.array([[10,20,30],[40,50,60]]) \n",
    "new_array = array.reshape(3,2)"
   ]
  },
  {
   "cell_type": "code",
   "execution_count": null,
   "id": "d769aa9d",
   "metadata": {},
   "outputs": [],
   "source": [
    "print(new_array)"
   ]
  },
  {
   "cell_type": "markdown",
   "id": "bfa16346",
   "metadata": {},
   "source": []
  },
  {
   "cell_type": "markdown",
   "id": "4edb5fba",
   "metadata": {},
   "source": [
    "# Output : \n",
    "[[10 20]\n",
    " [30 40]\n",
    " [50 60]]\n"
   ]
  },
  {
   "cell_type": "code",
   "execution_count": null,
   "id": "85701e0f",
   "metadata": {},
   "outputs": [],
   "source": [
    "#############################################"
   ]
  },
  {
   "cell_type": "markdown",
   "id": "1838da0a",
   "metadata": {},
   "source": [
    "# ndarray.ndim\n",
    "The ndim property is used to find the dimensions of the array."
   ]
  },
  {
   "cell_type": "markdown",
   "id": "973ef7f8",
   "metadata": {},
   "source": [
    "# Usage of ndim\n",
    "array = np.array([[1, 2, 3, 4], \n",
    "                  [7, 8, 6, 7], \n",
    "                  [9, 10, 11, 12]])  "
   ]
  },
  {
   "cell_type": "code",
   "execution_count": null,
   "id": "5a8830b6",
   "metadata": {},
   "outputs": [],
   "source": [
    "print(array.ndim) "
   ]
  },
  {
   "cell_type": "code",
   "execution_count": null,
   "id": "896af09d",
   "metadata": {},
   "outputs": [],
   "source": [
    "#Outputs :2"
   ]
  },
  {
   "cell_type": "markdown",
   "id": "41d68b14",
   "metadata": {},
   "source": []
  },
  {
   "cell_type": "code",
   "execution_count": null,
   "id": "a316523c",
   "metadata": {},
   "outputs": [],
   "source": [
    "##################################################"
   ]
  },
  {
   "cell_type": "code",
   "execution_count": null,
   "id": "51bd9b35",
   "metadata": {},
   "outputs": [],
   "source": [
    "#ndarray.itemsize"
   ]
  },
  {
   "cell_type": "code",
   "execution_count": null,
   "id": "3012c2b5",
   "metadata": {},
   "outputs": [],
   "source": [
    "#The itemsize property is used to get the size of each array item. It returns the number of bytes taken by each array element."
   ]
  },
  {
   "cell_type": "markdown",
   "id": "7c780d0c",
   "metadata": {},
   "source": [
    "# Finding the size of each item in the array  \n",
    "array = np.array([10,20,30])"
   ]
  },
  {
   "cell_type": "code",
   "execution_count": null,
   "id": "f1cbe72e",
   "metadata": {},
   "outputs": [],
   "source": [
    "print(\"Each item contain in bytes :\",array.itemsize)  "
   ]
  },
  {
   "cell_type": "code",
   "execution_count": null,
   "id": "b0198ad7",
   "metadata": {},
   "outputs": [],
   "source": [
    "#Outputs:Each item contain in bytes: 4"
   ]
  },
  {
   "cell_type": "markdown",
   "id": "3d5e39ac",
   "metadata": {},
   "source": []
  },
  {
   "cell_type": "code",
   "execution_count": null,
   "id": "5a6de032",
   "metadata": {},
   "outputs": [],
   "source": [
    "##################################################"
   ]
  },
  {
   "cell_type": "markdown",
   "id": "cbdcaebe",
   "metadata": {},
   "source": [
    "# ndarray.dtype"
   ]
  },
  {
   "cell_type": "code",
   "execution_count": null,
   "id": "109800ff",
   "metadata": {},
   "outputs": [],
   "source": [
    "#Use dtype function to check the data type of each array item.  "
   ]
  },
  {
   "cell_type": "markdown",
   "id": "5c90ec01",
   "metadata": {},
   "source": [
    "# Finding the data type of each array item  \n",
    "array = np.array([10,20,30])  "
   ]
  },
  {
   "cell_type": "code",
   "execution_count": null,
   "id": "dc4fb5c8",
   "metadata": {},
   "outputs": [],
   "source": [
    "print(\"Each item is of the type\", array.dtype)"
   ]
  },
  {
   "cell_type": "code",
   "execution_count": null,
   "id": "c896f693",
   "metadata": {},
   "outputs": [],
   "source": [
    "#Output:Each item is of the type int32"
   ]
  },
  {
   "cell_type": "markdown",
   "id": "fe325bed",
   "metadata": {},
   "source": []
  },
  {
   "cell_type": "code",
   "execution_count": null,
   "id": "fc77d94a",
   "metadata": {},
   "outputs": [],
   "source": [
    "##################################################"
   ]
  },
  {
   "cell_type": "markdown",
   "id": "560c8b74",
   "metadata": {},
   "source": [
    "# ndaray.size"
   ]
  },
  {
   "cell_type": "code",
   "execution_count": null,
   "id": "a3e1ccb0",
   "metadata": {},
   "outputs": [],
   "source": [
    "#To get the shape and size of the array,the size and shape function associated with the numpy array is used. "
   ]
  },
  {
   "cell_type": "markdown",
   "id": "48de178f",
   "metadata": {},
   "source": [
    "# Get shape and size of array\n",
    "array = np.array([[10,20,30,40],[60,70,80,90]])  "
   ]
  },
  {
   "cell_type": "code",
   "execution_count": null,
   "id": "88de210a",
   "metadata": {},
   "outputs": [],
   "source": [
    "print(\"Array Size:\", array.size)  "
   ]
  },
  {
   "cell_type": "code",
   "execution_count": null,
   "id": "2396624d",
   "metadata": {},
   "outputs": [],
   "source": [
    "print(\"Shape:\", array.shape)"
   ]
  },
  {
   "cell_type": "markdown",
   "id": "4132005b",
   "metadata": {},
   "source": []
  },
  {
   "cell_type": "markdown",
   "id": "03ec5982",
   "metadata": {},
   "source": [
    "# Output:Array Size: 8\n",
    "Shape: (2, 4)\n"
   ]
  },
  {
   "cell_type": "code",
   "execution_count": null,
   "id": "b06857f7",
   "metadata": {},
   "outputs": [],
   "source": [
    "#####################################################"
   ]
  },
  {
   "cell_type": "markdown",
   "id": "8c9bd4a3",
   "metadata": {},
   "source": [
    "# Operations Using in NumPy "
   ]
  },
  {
   "cell_type": "code",
   "execution_count": null,
   "id": "ec8bd2b8",
   "metadata": {},
   "outputs": [],
   "source": [
    "#NumPy’s operations are divided into three main"
   ]
  },
  {
   "cell_type": "markdown",
   "id": "f94ce9a4",
   "metadata": {},
   "source": [
    "# categories:\n",
    "\n",
    "1)\tFourier Transform and Shape Manipulation\n",
    "2)\tMathematical and Logical Operations\n",
    "3)\tLinear Algebra and Random Number Generation."
   ]
  },
  {
   "cell_type": "markdown",
   "id": "ce7e0328",
   "metadata": {},
   "source": [
    "# Arithmetic Operations\n",
    "Arithmetic operators on arrays apply elementwise. A new array is created and filled with the result."
   ]
  },
  {
   "cell_type": "markdown",
   "id": "10abf010",
   "metadata": {},
   "source": [
    "# Apply arithmetic operations on numpy arrays\n",
    "arr1 = np.arange(16).reshape(4,4)\n",
    "arr2 = np.array([1, 3, 2, 4])\n"
   ]
  },
  {
   "cell_type": "markdown",
   "id": "75969c6c",
   "metadata": {},
   "source": [
    "# add()\n",
    "add_arr = np.add(arr1,arr2)"
   ]
  },
  {
   "cell_type": "code",
   "execution_count": null,
   "id": "15873ddc",
   "metadata": {},
   "outputs": [],
   "source": [
    "print(f\"Adding two arrays:\\n{add_arr}\")"
   ]
  },
  {
   "cell_type": "code",
   "execution_count": null,
   "id": "3e660b99",
   "metadata": {},
   "outputs": [],
   "source": [
    "#Adding two arrays:"
   ]
  },
  {
   "cell_type": "markdown",
   "id": "02e42464",
   "metadata": {},
   "source": [
    "# [[ 1  4  4  7]"
   ]
  },
  {
   "cell_type": "markdown",
   "id": "dd49831d",
   "metadata": {},
   "source": [
    "# [ 5  8  8 11]"
   ]
  },
  {
   "cell_type": "markdown",
   "id": "2361159c",
   "metadata": {},
   "source": [
    "# [ 9 12 12 15]"
   ]
  },
  {
   "cell_type": "markdown",
   "id": "f9581ec7",
   "metadata": {},
   "source": [
    "# [13 16 16 19]]\n"
   ]
  },
  {
   "cell_type": "code",
   "execution_count": null,
   "id": "b60b44eb",
   "metadata": {},
   "outputs": [],
   "source": [
    "##################################################"
   ]
  },
  {
   "cell_type": "markdown",
   "id": "b2b7a458",
   "metadata": {},
   "source": [
    "# substract()\n",
    "sub_arr=np.subtract(arr1,arr2)"
   ]
  },
  {
   "cell_type": "code",
   "execution_count": null,
   "id": "3c3b7551",
   "metadata": {},
   "outputs": [],
   "source": [
    "print(f\"Subtracting two arrays:\\n{sub_arr}\")"
   ]
  },
  {
   "cell_type": "code",
   "execution_count": null,
   "id": "719f592b",
   "metadata": {},
   "outputs": [],
   "source": [
    "#Subtracting two arrays:"
   ]
  },
  {
   "cell_type": "markdown",
   "id": "08b0d3d5",
   "metadata": {},
   "source": [
    "# [[-1 -2  0 -1]"
   ]
  },
  {
   "cell_type": "markdown",
   "id": "293cc05a",
   "metadata": {},
   "source": [
    "# [ 3  2  4  3]"
   ]
  },
  {
   "cell_type": "markdown",
   "id": "14453f98",
   "metadata": {},
   "source": [
    "# [ 7  6  8  7]"
   ]
  },
  {
   "cell_type": "markdown",
   "id": "e28fba68",
   "metadata": {},
   "source": [
    "# [11 10 12 11]]\n"
   ]
  },
  {
   "cell_type": "code",
   "execution_count": null,
   "id": "243ccdcd",
   "metadata": {},
   "outputs": [],
   "source": [
    "##################################################"
   ]
  },
  {
   "cell_type": "markdown",
   "id": "07be20ea",
   "metadata": {},
   "source": [
    "# multiply()\n",
    "mul_arr = np.multiply(arr1, arr2)"
   ]
  },
  {
   "cell_type": "code",
   "execution_count": null,
   "id": "aa22fc9a",
   "metadata": {},
   "outputs": [],
   "source": [
    "print(f\"multiplying two arrays:\\n{mul_arr}\")"
   ]
  },
  {
   "cell_type": "code",
   "execution_count": null,
   "id": "1b68a0f3",
   "metadata": {},
   "outputs": [],
   "source": [
    "#Multiplying the two arrays:"
   ]
  },
  {
   "cell_type": "markdown",
   "id": "bb968a77",
   "metadata": {},
   "source": [
    "# [[ 0  3  4 12]"
   ]
  },
  {
   "cell_type": "markdown",
   "id": "1456581e",
   "metadata": {},
   "source": [
    "# [ 4 15 12 28]"
   ]
  },
  {
   "cell_type": "markdown",
   "id": "468e92d7",
   "metadata": {},
   "source": [
    "# [ 8 27 20 44]"
   ]
  },
  {
   "cell_type": "markdown",
   "id": "d7e5c4c9",
   "metadata": {},
   "source": [
    "# [12 39 28 60]]\n"
   ]
  },
  {
   "cell_type": "code",
   "execution_count": null,
   "id": "0f282ef8",
   "metadata": {},
   "outputs": [],
   "source": [
    "#################################################"
   ]
  },
  {
   "cell_type": "markdown",
   "id": "5f4e459d",
   "metadata": {},
   "source": [
    "# divide()\n",
    "div_arr = np.divide(arr1, arr2)"
   ]
  },
  {
   "cell_type": "code",
   "execution_count": null,
   "id": "8596deb0",
   "metadata": {},
   "outputs": [],
   "source": [
    "print(f\"Dividing two arrays:\\n{div_arr}\")"
   ]
  },
  {
   "cell_type": "code",
   "execution_count": null,
   "id": "2e736d79",
   "metadata": {},
   "outputs": [],
   "source": [
    "#Dividing the two arrays:"
   ]
  },
  {
   "cell_type": "markdown",
   "id": "a5bac14e",
   "metadata": {},
   "source": [
    "# [[ 0.          0.33333333  1.          0.75      ]"
   ]
  },
  {
   "cell_type": "markdown",
   "id": "175d7506",
   "metadata": {},
   "source": [
    "# [ 4.          1.66666667  3.          1.75      ]"
   ]
  },
  {
   "cell_type": "markdown",
   "id": "750b7956",
   "metadata": {},
   "source": [
    "# [ 8.          3.          5.          2.75      ]"
   ]
  },
  {
   "cell_type": "markdown",
   "id": "7a0d098f",
   "metadata": {},
   "source": [
    "# [12.          4.33333333  7.          3.75      ]]\n"
   ]
  },
  {
   "cell_type": "code",
   "execution_count": null,
   "id": "616cc8c9",
   "metadata": {},
   "outputs": [],
   "source": [
    "##################################################"
   ]
  },
  {
   "cell_type": "markdown",
   "id": "1102281f",
   "metadata": {},
   "source": [
    "# numpy.reciprocol()\n",
    "This function returns the reciprocal of argumentelement-wise. For elements with absolute values larger than 1, the result is always 0 because of the way in which Python handles integer division. For integer 0, an overflow warning is issued.\n"
   ]
  },
  {
   "cell_type": "markdown",
   "id": "9d7a079b",
   "metadata": {},
   "source": [
    "# To perform Reciprocal operation\n",
    "arr1 = np.array([50, 10.3, 5, 1, 200])\n",
    "rep_arr1=np.reciprocal(arr1)"
   ]
  },
  {
   "cell_type": "code",
   "execution_count": null,
   "id": "8b594381",
   "metadata": {},
   "outputs": [],
   "source": [
    "print(f\"After applying reciprocal function to array:\\n{rep_arr1}\")"
   ]
  },
  {
   "cell_type": "code",
   "execution_count": null,
   "id": "b70c2b4c",
   "metadata": {},
   "outputs": [],
   "source": [
    "#o.p:-After applying reciprocal function:"
   ]
  },
  {
   "cell_type": "markdown",
   "id": "cb1598ec",
   "metadata": {},
   "source": [
    "# [0.02       0.09708738 0.2        1.         0.005     ]\n"
   ]
  },
  {
   "cell_type": "code",
   "execution_count": null,
   "id": "4fadca6d",
   "metadata": {},
   "outputs": [],
   "source": [
    "###############################################"
   ]
  },
  {
   "cell_type": "markdown",
   "id": "8dabe875",
   "metadata": {},
   "source": [
    "# numpy.power()\n",
    "This NumPy power() function treats elements in the first input array as the base and returns it raised to the power of the corresponding element in the second input array.\n"
   ]
  },
  {
   "cell_type": "markdown",
   "id": "555e544b",
   "metadata": {},
   "source": [
    "# To perform power operation\n",
    "arr1 = np.array([3, 10, 5])\n",
    "pow_arr1 = np.power(arr1, 3)"
   ]
  },
  {
   "cell_type": "code",
   "execution_count": null,
   "id": "346fe821",
   "metadata": {},
   "outputs": [],
   "source": [
    "print(f\"After applying power function to array:\\n{pow_arr1}\")"
   ]
  },
  {
   "cell_type": "code",
   "execution_count": null,
   "id": "8c913edb",
   "metadata": {},
   "outputs": [],
   "source": [
    "#o.p:-Applying power function:"
   ]
  },
  {
   "cell_type": "markdown",
   "id": "8ebd24d7",
   "metadata": {},
   "source": [
    "# [  27 1000  125]\n",
    "\n",
    "arr2 = np.array([3, 2, 1])"
   ]
  },
  {
   "cell_type": "code",
   "execution_count": null,
   "id": "55a6e943",
   "metadata": {},
   "outputs": [],
   "source": [
    "print(\"My second array:\\n\",arr2)"
   ]
  },
  {
   "cell_type": "markdown",
   "id": "0dfd4dad",
   "metadata": {},
   "source": [
    "pow_arr2=np.power(arr1, arr2)"
   ]
  },
  {
   "cell_type": "code",
   "execution_count": null,
   "id": "c8381cf8",
   "metadata": {},
   "outputs": [],
   "source": [
    "print(f\"After applying power function to array:\\n{pow_arr2}\")"
   ]
  },
  {
   "cell_type": "code",
   "execution_count": null,
   "id": "fc0bf762",
   "metadata": {},
   "outputs": [],
   "source": [
    "#o.p:-Applying power function again:"
   ]
  },
  {
   "cell_type": "markdown",
   "id": "3d4cb9bd",
   "metadata": {},
   "source": [
    "# [ 27 100   5]\n"
   ]
  },
  {
   "cell_type": "code",
   "execution_count": null,
   "id": "ee0ce4e1",
   "metadata": {},
   "outputs": [],
   "source": [
    "#################################################"
   ]
  },
  {
   "cell_type": "markdown",
   "id": "d2e6b2d5",
   "metadata": {},
   "source": [
    "# numpy.mod()\n",
    "This function returns the remainder of the division of the corresponding elements in the input array. The function numpy.remainder() also produces the same result."
   ]
  },
  {
   "cell_type": "markdown",
   "id": "936401fc",
   "metadata": {},
   "source": [
    "# To perform mod function"
   ]
  },
  {
   "cell_type": "markdown",
   "id": "65f0ac8a",
   "metadata": {},
   "source": [
    "# on NumPy array\n",
    "import numpy as np\n",
    "arr1 = np.array([7, 20, 13])\n",
    "arr2 = np.array([3, 5, 2])\n",
    "arr1\n",
    "arr1.dtype"
   ]
  },
  {
   "cell_type": "markdown",
   "id": "7b4cac1a",
   "metadata": {},
   "source": [
    "# mod()\n",
    "mod_arr = np.mod(arr1, arr2)"
   ]
  },
  {
   "cell_type": "code",
   "execution_count": null,
   "id": "c9f431a1",
   "metadata": {},
   "outputs": [],
   "source": [
    "print(f\"After applying mod function to array:\\n{mod_arr}\")"
   ]
  },
  {
   "cell_type": "code",
   "execution_count": null,
   "id": "61d0d833",
   "metadata": {},
   "outputs": [],
   "source": [
    "#o.p:- Applying mod() function: [1 0 1]"
   ]
  },
  {
   "cell_type": "code",
   "execution_count": null,
   "id": "2f772376",
   "metadata": {},
   "outputs": [],
   "source": [
    "##########################################"
   ]
  },
  {
   "cell_type": "markdown",
   "id": "42f2ff7d",
   "metadata": {},
   "source": []
  },
  {
   "cell_type": "markdown",
   "id": "c2fd71ba",
   "metadata": {},
   "source": [
    "# remainder()\n",
    "rem_arr = np.remainder(arr1, arr2)"
   ]
  },
  {
   "cell_type": "code",
   "execution_count": null,
   "id": "02cdaa7b",
   "metadata": {},
   "outputs": [],
   "source": [
    "print(f\"After applying remainder function to array:\\n{rem_arr}\")"
   ]
  },
  {
   "cell_type": "code",
   "execution_count": null,
   "id": "7fa1197d",
   "metadata": {},
   "outputs": [],
   "source": [
    "#o.p:-Applying remainder() function: [1 0 1]"
   ]
  },
  {
   "cell_type": "markdown",
   "id": "fc11d9d4",
   "metadata": {},
   "source": [
    "\n",
    "\n",
    "\n",
    "\n",
    "\n",
    "\n",
    "\n"
   ]
  },
  {
   "cell_type": "code",
   "execution_count": null,
   "id": "0c7e3d37",
   "metadata": {},
   "outputs": [],
   "source": [
    "#################opertion on array and matrix"
   ]
  },
  {
   "cell_type": "markdown",
   "id": "35e3a052",
   "metadata": {},
   "source": [
    "# create array\n",
    "from numpy import array"
   ]
  },
  {
   "cell_type": "markdown",
   "id": "f5bc7f11",
   "metadata": {},
   "source": [
    "# create array\n",
    "l = [1.0, 2.0, 3.0]\n",
    "a = array(l)"
   ]
  },
  {
   "cell_type": "markdown",
   "id": "fe42ff76",
   "metadata": {},
   "source": [
    "# display array"
   ]
  },
  {
   "cell_type": "code",
   "execution_count": null,
   "id": "d1f9f857",
   "metadata": {},
   "outputs": [],
   "source": [
    "print(a)        #o.p:-[1. 2. 3.]"
   ]
  },
  {
   "cell_type": "markdown",
   "id": "1ac0e400",
   "metadata": {},
   "source": [
    "# display array shape"
   ]
  },
  {
   "cell_type": "code",
   "execution_count": null,
   "id": "cd07c985",
   "metadata": {},
   "outputs": [],
   "source": [
    "print(a.shape)  #o.p:-(3,)"
   ]
  },
  {
   "cell_type": "markdown",
   "id": "b52f46a9",
   "metadata": {},
   "source": [
    "# display array data type"
   ]
  },
  {
   "cell_type": "code",
   "execution_count": null,
   "id": "9ad3864f",
   "metadata": {},
   "outputs": [],
   "source": [
    "print(a.dtype)      #o.p:-float64"
   ]
  },
  {
   "cell_type": "markdown",
   "id": "f21160ac",
   "metadata": {},
   "source": []
  },
  {
   "cell_type": "code",
   "execution_count": null,
   "id": "4e4f4168",
   "metadata": {},
   "outputs": [],
   "source": [
    "################################################"
   ]
  },
  {
   "cell_type": "markdown",
   "id": "f6fa71ac",
   "metadata": {},
   "source": [
    "# create empty array\n",
    "from numpy import empty\n",
    "a = empty([3,3])"
   ]
  },
  {
   "cell_type": "code",
   "execution_count": null,
   "id": "61e01d7c",
   "metadata": {},
   "outputs": [],
   "source": [
    "print(a)"
   ]
  },
  {
   "cell_type": "markdown",
   "id": "942663f0",
   "metadata": {},
   "source": [
    "'''\n",
    "[[4.67296746e-307 1.69121096e-306 1.24610994e-306]\n",
    " [1.42413555e-306 1.78019082e-306 1.37959740e-306]\n",
    " [6.23057349e-307 1.42419530e-306 3.91786943e-317]]\n",
    "'''"
   ]
  },
  {
   "cell_type": "code",
   "execution_count": null,
   "id": "ae0363fd",
   "metadata": {},
   "outputs": [],
   "source": [
    "########################################"
   ]
  },
  {
   "cell_type": "markdown",
   "id": "cd03461b",
   "metadata": {},
   "source": [
    "# create zero array\n",
    "from numpy import zeros\n",
    "a = zeros([3,5])"
   ]
  },
  {
   "cell_type": "code",
   "execution_count": null,
   "id": "3f5ed4b9",
   "metadata": {},
   "outputs": [],
   "source": [
    "print(a)"
   ]
  },
  {
   "cell_type": "markdown",
   "id": "dfb4c97f",
   "metadata": {},
   "source": [
    "'''\n",
    "[[0. 0. 0. 0. 0.]\n",
    " [0. 0. 0. 0. 0.]\n",
    " [0. 0. 0. 0. 0.]]\n",
    "'''"
   ]
  },
  {
   "cell_type": "code",
   "execution_count": null,
   "id": "af70a257",
   "metadata": {},
   "outputs": [],
   "source": [
    "###########################################"
   ]
  },
  {
   "cell_type": "markdown",
   "id": "66f64a39",
   "metadata": {},
   "source": [
    "# create one array\n",
    "from numpy import ones\n",
    "a = ones([5])"
   ]
  },
  {
   "cell_type": "code",
   "execution_count": null,
   "id": "d0338f13",
   "metadata": {},
   "outputs": [],
   "source": [
    "print(a)        #o.p:-[1. 1. 1. 1. 1.]"
   ]
  },
  {
   "cell_type": "markdown",
   "id": "7747c410",
   "metadata": {},
   "source": []
  },
  {
   "cell_type": "code",
   "execution_count": null,
   "id": "b85f1a81",
   "metadata": {},
   "outputs": [],
   "source": [
    "#########################################"
   ]
  },
  {
   "cell_type": "markdown",
   "id": "bb146f80",
   "metadata": {},
   "source": [
    "# create array with vstack\n",
    "from numpy import array\n",
    "from numpy import vstack"
   ]
  },
  {
   "cell_type": "markdown",
   "id": "901eb335",
   "metadata": {},
   "source": [
    "# create first array\n",
    "a1 = array([1,2,3])"
   ]
  },
  {
   "cell_type": "code",
   "execution_count": null,
   "id": "34a9a847",
   "metadata": {},
   "outputs": [],
   "source": [
    "print(a1)               #o.p:-[1 2 3]"
   ]
  },
  {
   "cell_type": "markdown",
   "id": "8e0863c0",
   "metadata": {},
   "source": [
    "# create second array\n",
    "a2 = array([4,5,6])"
   ]
  },
  {
   "cell_type": "code",
   "execution_count": null,
   "id": "863eb2ea",
   "metadata": {},
   "outputs": [],
   "source": [
    "print(a2)               #o.p:-[4 5 6]"
   ]
  },
  {
   "cell_type": "markdown",
   "id": "0e2ebfd4",
   "metadata": {},
   "source": [
    "# vertical stack\n",
    "a3 = vstack((a1, a2))"
   ]
  },
  {
   "cell_type": "code",
   "execution_count": null,
   "id": "95a98509",
   "metadata": {},
   "outputs": [],
   "source": [
    "print(a3)               #o.p:-[[1 2 3] [4 5 6]]"
   ]
  },
  {
   "cell_type": "code",
   "execution_count": null,
   "id": "d1017fbf",
   "metadata": {},
   "outputs": [],
   "source": [
    "print(a3.shape)         #o.p:-(2, 3)"
   ]
  },
  {
   "cell_type": "markdown",
   "id": "6cce5371",
   "metadata": {},
   "source": []
  },
  {
   "cell_type": "code",
   "execution_count": null,
   "id": "be6165a2",
   "metadata": {},
   "outputs": [],
   "source": [
    "#############################################"
   ]
  },
  {
   "cell_type": "markdown",
   "id": "e5e71381",
   "metadata": {},
   "source": [
    "# create array with hstack\n",
    "from numpy import array\n",
    "from numpy import hstack"
   ]
  },
  {
   "cell_type": "markdown",
   "id": "fb7ca530",
   "metadata": {},
   "source": [
    "# create first array\n",
    "a1 = array([1,2,3])"
   ]
  },
  {
   "cell_type": "code",
   "execution_count": null,
   "id": "14401b8b",
   "metadata": {},
   "outputs": [],
   "source": [
    "print(a1)               #o.p:-[1 2 3]"
   ]
  },
  {
   "cell_type": "markdown",
   "id": "39a04421",
   "metadata": {},
   "source": [
    "# create second array\n",
    "a2 = array([4,5,6])"
   ]
  },
  {
   "cell_type": "code",
   "execution_count": null,
   "id": "354b1935",
   "metadata": {},
   "outputs": [],
   "source": [
    "print(a2)               #o.p:-[4 5 6]"
   ]
  },
  {
   "cell_type": "markdown",
   "id": "fd602bd7",
   "metadata": {},
   "source": [
    "# create horizontal stack\n",
    "a3 = hstack((a1, a2))"
   ]
  },
  {
   "cell_type": "code",
   "execution_count": null,
   "id": "fcdbb4bc",
   "metadata": {},
   "outputs": [],
   "source": [
    "print(a3)               #o.p:-[1 2 3 4 5 6]"
   ]
  },
  {
   "cell_type": "code",
   "execution_count": null,
   "id": "17baadc7",
   "metadata": {},
   "outputs": [],
   "source": [
    "print(a3.shape)         #o.p:-(6,)"
   ]
  },
  {
   "cell_type": "markdown",
   "id": "5af4dea2",
   "metadata": {},
   "source": []
  },
  {
   "cell_type": "code",
   "execution_count": null,
   "id": "c5f311e5",
   "metadata": {},
   "outputs": [],
   "source": [
    "######################################################"
   ]
  },
  {
   "cell_type": "code",
   "execution_count": null,
   "id": "05f75e26",
   "metadata": {},
   "outputs": [],
   "source": [
    "#One-Dimensional List to Array"
   ]
  },
  {
   "cell_type": "markdown",
   "id": "52eaa962",
   "metadata": {},
   "source": [
    "# create one-dimensional array\n",
    "from numpy import array"
   ]
  },
  {
   "cell_type": "markdown",
   "id": "ea9f6d24",
   "metadata": {},
   "source": [
    "# list of data\n",
    "data = [11, 22, 33, 44, 55]"
   ]
  },
  {
   "cell_type": "markdown",
   "id": "2d0451bc",
   "metadata": {},
   "source": [
    "# array of data\n",
    "data = array(data)"
   ]
  },
  {
   "cell_type": "code",
   "execution_count": null,
   "id": "2e02b8ac",
   "metadata": {},
   "outputs": [],
   "source": [
    "print(data)     #o.p:-[11 22 33 44 55]"
   ]
  },
  {
   "cell_type": "code",
   "execution_count": null,
   "id": "d0c5dca8",
   "metadata": {},
   "outputs": [],
   "source": [
    "print(type(data))       #o.p:-<class 'numpy.ndarray'>"
   ]
  },
  {
   "cell_type": "markdown",
   "id": "f71a04e9",
   "metadata": {},
   "source": []
  },
  {
   "cell_type": "code",
   "execution_count": null,
   "id": "cd8c8b4e",
   "metadata": {},
   "outputs": [],
   "source": [
    "######################################################"
   ]
  },
  {
   "cell_type": "code",
   "execution_count": null,
   "id": "ab9aea08",
   "metadata": {},
   "outputs": [],
   "source": [
    "#Two-Dimensional List of Lists to Array"
   ]
  },
  {
   "cell_type": "markdown",
   "id": "8b9564e3",
   "metadata": {},
   "source": [
    "# create two-dimensional array\n",
    "from numpy import array"
   ]
  },
  {
   "cell_type": "markdown",
   "id": "8d1bfc2c",
   "metadata": {},
   "source": [
    "# list of data\n",
    "data = [[11, 22],\n",
    "[33, 44],\n",
    "[55, 66]]"
   ]
  },
  {
   "cell_type": "markdown",
   "id": "40399ad8",
   "metadata": {},
   "source": [
    "# array of data\n",
    "data = array(data)"
   ]
  },
  {
   "cell_type": "code",
   "execution_count": null,
   "id": "fee1db38",
   "metadata": {},
   "outputs": [],
   "source": [
    "print(data)"
   ]
  },
  {
   "cell_type": "markdown",
   "id": "f72ba68e",
   "metadata": {},
   "source": [
    "'''o.p:-[[11 22]\n",
    " [33 44]\n",
    " [55 66]]'''"
   ]
  },
  {
   "cell_type": "code",
   "execution_count": null,
   "id": "384c31db",
   "metadata": {},
   "outputs": [],
   "source": [
    "print(type(data))           #o.p:-<class 'numpy.ndarray'>"
   ]
  },
  {
   "cell_type": "markdown",
   "id": "a0dbc330",
   "metadata": {},
   "source": []
  },
  {
   "cell_type": "code",
   "execution_count": null,
   "id": "4db93e67",
   "metadata": {},
   "outputs": [],
   "source": [
    "###################################################"
   ]
  },
  {
   "cell_type": "markdown",
   "id": "f28ef0f4",
   "metadata": {},
   "source": [
    "# index a one-dimensional array\n",
    "from numpy import array"
   ]
  },
  {
   "cell_type": "markdown",
   "id": "1cc6cf56",
   "metadata": {},
   "source": [
    "# define array\n",
    "data = array([11, 22, 33, 44, 55])"
   ]
  },
  {
   "cell_type": "markdown",
   "id": "2bb355c4",
   "metadata": {},
   "source": [
    "# index data"
   ]
  },
  {
   "cell_type": "code",
   "execution_count": null,
   "id": "d48fbd5c",
   "metadata": {},
   "outputs": [],
   "source": [
    "print(data[0])          #o.p:-11"
   ]
  },
  {
   "cell_type": "code",
   "execution_count": null,
   "id": "15757bef",
   "metadata": {},
   "outputs": [],
   "source": [
    "print(data[4])          #o.p:-55"
   ]
  },
  {
   "cell_type": "markdown",
   "id": "8f8e9d84",
   "metadata": {},
   "source": []
  },
  {
   "cell_type": "code",
   "execution_count": null,
   "id": "f9757334",
   "metadata": {},
   "outputs": [],
   "source": [
    "################################################"
   ]
  },
  {
   "cell_type": "markdown",
   "id": "ede9a4f6",
   "metadata": {},
   "source": [
    "# index array out of bounds\n",
    "from numpy import array"
   ]
  },
  {
   "cell_type": "markdown",
   "id": "17fc16c8",
   "metadata": {},
   "source": [
    "# define array\n",
    "data = array([11, 22, 33, 44, 55])"
   ]
  },
  {
   "cell_type": "markdown",
   "id": "f32b5be6",
   "metadata": {},
   "source": [
    "# index data"
   ]
  },
  {
   "cell_type": "code",
   "execution_count": null,
   "id": "f3b2a4d8",
   "metadata": {},
   "outputs": [],
   "source": [
    "print(data[5])"
   ]
  },
  {
   "cell_type": "code",
   "execution_count": null,
   "id": "c0484f6a",
   "metadata": {},
   "outputs": [],
   "source": [
    "#IndexError: index 5 is out of bounds for axis 0 with size 5"
   ]
  },
  {
   "cell_type": "markdown",
   "id": "646a954a",
   "metadata": {},
   "source": []
  },
  {
   "cell_type": "code",
   "execution_count": null,
   "id": "39061a32",
   "metadata": {},
   "outputs": [],
   "source": [
    "##################################################"
   ]
  },
  {
   "cell_type": "markdown",
   "id": "e8d89911",
   "metadata": {},
   "source": [
    "# negative array indexing\n",
    "from numpy import array"
   ]
  },
  {
   "cell_type": "markdown",
   "id": "11653bdf",
   "metadata": {},
   "source": [
    "# define array\n",
    "data = array([11, 22, 33, 44, 55])"
   ]
  },
  {
   "cell_type": "markdown",
   "id": "dce14fd0",
   "metadata": {},
   "source": [
    "# index data"
   ]
  },
  {
   "cell_type": "code",
   "execution_count": null,
   "id": "d6f37b56",
   "metadata": {},
   "outputs": [],
   "source": [
    "print(data[-1])         #o.p:-55"
   ]
  },
  {
   "cell_type": "code",
   "execution_count": null,
   "id": "e815ac33",
   "metadata": {},
   "outputs": [],
   "source": [
    "print(data[-5])         #o.p:-11"
   ]
  },
  {
   "cell_type": "markdown",
   "id": "5db99b65",
   "metadata": {},
   "source": []
  },
  {
   "cell_type": "code",
   "execution_count": null,
   "id": "3c2559d7",
   "metadata": {},
   "outputs": [],
   "source": [
    "##################################################"
   ]
  },
  {
   "cell_type": "markdown",
   "id": "f6abc57d",
   "metadata": {},
   "source": [
    "# index two-dimensional array\n",
    "from numpy import array"
   ]
  },
  {
   "cell_type": "markdown",
   "id": "11cf48e2",
   "metadata": {},
   "source": [
    "# define array\n",
    "data = array([\n",
    "[11, 22],\n",
    "[33, 44],\n",
    "[55, 66]])"
   ]
  },
  {
   "cell_type": "markdown",
   "id": "e17215a1",
   "metadata": {},
   "source": [
    "# index data"
   ]
  },
  {
   "cell_type": "code",
   "execution_count": null,
   "id": "0bd90037",
   "metadata": {},
   "outputs": [],
   "source": [
    "print(data[0,0])        #o.p:-11"
   ]
  },
  {
   "cell_type": "markdown",
   "id": "8479a735",
   "metadata": {},
   "source": []
  },
  {
   "cell_type": "code",
   "execution_count": null,
   "id": "7725d5a0",
   "metadata": {},
   "outputs": [],
   "source": [
    "###########################################"
   ]
  },
  {
   "cell_type": "markdown",
   "id": "e6a99db3",
   "metadata": {},
   "source": [
    "\n",
    "\n"
   ]
  },
  {
   "cell_type": "markdown",
   "id": "c9deaa03",
   "metadata": {},
   "source": [
    "# index row of two-dimensional array\n",
    "from numpy import array"
   ]
  },
  {
   "cell_type": "markdown",
   "id": "b924aa81",
   "metadata": {},
   "source": [
    "# define array\n",
    "data = array([\n",
    "[11, 22],\n",
    "[33, 44],\n",
    "[55, 66]])"
   ]
  },
  {
   "cell_type": "markdown",
   "id": "6ae25613",
   "metadata": {},
   "source": [
    "# index data"
   ]
  },
  {
   "cell_type": "code",
   "execution_count": null,
   "id": "1ee6a674",
   "metadata": {},
   "outputs": [],
   "source": [
    "print(data[0,])#o th row and all columns"
   ]
  },
  {
   "cell_type": "code",
   "execution_count": null,
   "id": "39f81bfb",
   "metadata": {},
   "outputs": [],
   "source": [
    "#[11 22]"
   ]
  },
  {
   "cell_type": "markdown",
   "id": "c1dd6a12",
   "metadata": {},
   "source": []
  },
  {
   "cell_type": "code",
   "execution_count": null,
   "id": "3266a332",
   "metadata": {},
   "outputs": [],
   "source": [
    "##########################################"
   ]
  },
  {
   "cell_type": "markdown",
   "id": "c4ba417d",
   "metadata": {},
   "source": [
    "# slice a one-dimensional array\n",
    "from numpy import array"
   ]
  },
  {
   "cell_type": "markdown",
   "id": "e2278efc",
   "metadata": {},
   "source": [
    "# define array\n",
    "data = array([11, 22, 33, 44, 55])"
   ]
  },
  {
   "cell_type": "code",
   "execution_count": null,
   "id": "c9fbb4bc",
   "metadata": {},
   "outputs": [],
   "source": [
    "print(data[1:4])"
   ]
  },
  {
   "cell_type": "code",
   "execution_count": null,
   "id": "6257f48f",
   "metadata": {},
   "outputs": [],
   "source": [
    "#[22 33 44]"
   ]
  },
  {
   "cell_type": "markdown",
   "id": "a84a2057",
   "metadata": {},
   "source": []
  },
  {
   "cell_type": "code",
   "execution_count": null,
   "id": "e6353f28",
   "metadata": {},
   "outputs": [],
   "source": [
    "###################################################"
   ]
  },
  {
   "cell_type": "markdown",
   "id": "d09027e5",
   "metadata": {},
   "source": [
    "# negative slicing of a one-dimensional array\n",
    "from numpy import array"
   ]
  },
  {
   "cell_type": "markdown",
   "id": "e5175922",
   "metadata": {},
   "source": [
    "# define array\n",
    "data = array([11, 22, 33, 44, 55])"
   ]
  },
  {
   "cell_type": "code",
   "execution_count": null,
   "id": "54715f99",
   "metadata": {},
   "outputs": [],
   "source": [
    "print(data[-2:])            #o.p:-[44 55]"
   ]
  },
  {
   "cell_type": "markdown",
   "id": "aab973ef",
   "metadata": {},
   "source": []
  },
  {
   "cell_type": "code",
   "execution_count": null,
   "id": "6506a04d",
   "metadata": {},
   "outputs": [],
   "source": [
    "##################################################"
   ]
  },
  {
   "cell_type": "markdown",
   "id": "0175018b",
   "metadata": {},
   "source": [
    "# split input and output data\n",
    "from numpy import array"
   ]
  },
  {
   "cell_type": "markdown",
   "id": "bad0eed3",
   "metadata": {},
   "source": [
    "# define array\n",
    "data = array([\n",
    "[11, 22, 33],\n",
    "[44, 55, 66],\n",
    "[77, 88, 99]])"
   ]
  },
  {
   "cell_type": "markdown",
   "id": "afe8ae7f",
   "metadata": {},
   "source": [
    "# separate data\n",
    "X, y = data[:, :-1], data[:, -1]"
   ]
  },
  {
   "cell_type": "code",
   "execution_count": null,
   "id": "cf1dc827",
   "metadata": {},
   "outputs": [],
   "source": [
    "#data[:, :-1]-all rows and all columns"
   ]
  },
  {
   "cell_type": "code",
   "execution_count": null,
   "id": "27da10d9",
   "metadata": {},
   "outputs": [],
   "source": [
    "#except all rows and last column"
   ]
  },
  {
   "cell_type": "code",
   "execution_count": null,
   "id": "28e083c5",
   "metadata": {},
   "outputs": [],
   "source": [
    "#data[:, -1]-taking all rows (:) "
   ]
  },
  {
   "cell_type": "code",
   "execution_count": null,
   "id": "b5ea7aab",
   "metadata": {},
   "outputs": [],
   "source": [
    "#but keeping the last column (-1)"
   ]
  },
  {
   "cell_type": "code",
   "execution_count": null,
   "id": "8851a695",
   "metadata": {},
   "outputs": [],
   "source": [
    "print(X)"
   ]
  },
  {
   "cell_type": "markdown",
   "id": "3641a990",
   "metadata": {},
   "source": [
    "'''o.p:-[[11 22]\n",
    " [44 55]\n",
    " [77 88]]'''"
   ]
  },
  {
   "cell_type": "code",
   "execution_count": null,
   "id": "af1573ac",
   "metadata": {},
   "outputs": [],
   "source": [
    "print(y)        #o.p:-[33 66 99]"
   ]
  },
  {
   "cell_type": "code",
   "execution_count": null,
   "id": "73f34286",
   "metadata": {},
   "outputs": [],
   "source": [
    "###########################################"
   ]
  },
  {
   "cell_type": "markdown",
   "id": "6fd9d581",
   "metadata": {},
   "source": [
    "# broadcast scalar to one-dimensional array\n",
    "from numpy import array"
   ]
  },
  {
   "cell_type": "markdown",
   "id": "3e384bfb",
   "metadata": {},
   "source": [
    "# define array\n",
    "a = array([1, 2, 3])"
   ]
  },
  {
   "cell_type": "code",
   "execution_count": null,
   "id": "0a9eac3b",
   "metadata": {},
   "outputs": [],
   "source": [
    "print(a)        #o.p:-[1 2 3]"
   ]
  },
  {
   "cell_type": "markdown",
   "id": "897bf0d9",
   "metadata": {},
   "source": [
    "# define scalar\n",
    "b = 2           #o.p:-2"
   ]
  },
  {
   "cell_type": "code",
   "execution_count": null,
   "id": "f7f278a4",
   "metadata": {},
   "outputs": [],
   "source": [
    "print(b)"
   ]
  },
  {
   "cell_type": "markdown",
   "id": "49f542e9",
   "metadata": {},
   "source": [
    "# broadcast\n",
    "c = a + b"
   ]
  },
  {
   "cell_type": "code",
   "execution_count": null,
   "id": "2b533a5a",
   "metadata": {},
   "outputs": [],
   "source": [
    "print(c)        #o.p:-[3 4 5]"
   ]
  },
  {
   "cell_type": "markdown",
   "id": "e8cf5dbe",
   "metadata": {},
   "source": []
  },
  {
   "cell_type": "code",
   "execution_count": null,
   "id": "40041ce8",
   "metadata": {},
   "outputs": [],
   "source": [
    "################################################"
   ]
  },
  {
   "cell_type": "markdown",
   "id": "eb7782f6",
   "metadata": {},
   "source": [
    "# vector addition\n",
    "from numpy import array"
   ]
  },
  {
   "cell_type": "markdown",
   "id": "99cdc03e",
   "metadata": {},
   "source": [
    "# define first vector\n",
    "a = array([1, 2, 3])"
   ]
  },
  {
   "cell_type": "code",
   "execution_count": null,
   "id": "ea2a17d9",
   "metadata": {},
   "outputs": [],
   "source": [
    "print(a)        #o.p:-[1 2 3]"
   ]
  },
  {
   "cell_type": "markdown",
   "id": "f65abbe5",
   "metadata": {},
   "source": [
    "# define second vector\n",
    "b = array([1, 2, 3])"
   ]
  },
  {
   "cell_type": "code",
   "execution_count": null,
   "id": "46272e68",
   "metadata": {},
   "outputs": [],
   "source": [
    "print(b)                #o.p:-[1 2 3]"
   ]
  },
  {
   "cell_type": "markdown",
   "id": "0c7f618b",
   "metadata": {},
   "source": [
    "# add vectors\n",
    "c = a + b"
   ]
  },
  {
   "cell_type": "code",
   "execution_count": null,
   "id": "f920f807",
   "metadata": {},
   "outputs": [],
   "source": [
    "print(c)                #o.p:-[2 4 6]"
   ]
  },
  {
   "cell_type": "markdown",
   "id": "55d9fc2a",
   "metadata": {},
   "source": []
  },
  {
   "cell_type": "code",
   "execution_count": null,
   "id": "6670e544",
   "metadata": {},
   "outputs": [],
   "source": [
    "############################################"
   ]
  },
  {
   "cell_type": "markdown",
   "id": "fa60072b",
   "metadata": {},
   "source": [
    "# vector subtraction\n",
    "from numpy import array"
   ]
  },
  {
   "cell_type": "markdown",
   "id": "46938dc4",
   "metadata": {},
   "source": [
    "# define first vector\n",
    "a = array([1, 2, 3])"
   ]
  },
  {
   "cell_type": "code",
   "execution_count": null,
   "id": "dfa79b38",
   "metadata": {},
   "outputs": [],
   "source": [
    "print(a)            #o.p:-[1 2 3]"
   ]
  },
  {
   "cell_type": "markdown",
   "id": "f5ade95e",
   "metadata": {},
   "source": [
    "# define second vector\n",
    "b = array([0.5, 0.5, 0.5])"
   ]
  },
  {
   "cell_type": "code",
   "execution_count": null,
   "id": "3b2b089b",
   "metadata": {},
   "outputs": [],
   "source": [
    "print(b)            #o.p:-[0.5 0.5 0.5]"
   ]
  },
  {
   "cell_type": "markdown",
   "id": "b170cbed",
   "metadata": {},
   "source": [
    "# subtract vectors\n",
    "c = a - b"
   ]
  },
  {
   "cell_type": "code",
   "execution_count": null,
   "id": "7fb848ea",
   "metadata": {},
   "outputs": [],
   "source": [
    "print(c)            #o.p:-[0.5 1.5 2.5]"
   ]
  },
  {
   "cell_type": "markdown",
   "id": "9334e072",
   "metadata": {},
   "source": []
  },
  {
   "cell_type": "code",
   "execution_count": null,
   "id": "e681bbee",
   "metadata": {},
   "outputs": [],
   "source": [
    "###########################################"
   ]
  },
  {
   "cell_type": "markdown",
   "id": "a660bfd8",
   "metadata": {},
   "source": [
    "# vector L1 norm\n",
    "from numpy import array\n",
    "from numpy.linalg import norm"
   ]
  },
  {
   "cell_type": "markdown",
   "id": "4414c605",
   "metadata": {},
   "source": [
    "# define vector\n",
    "a = array([1, 2, 3])"
   ]
  },
  {
   "cell_type": "code",
   "execution_count": null,
   "id": "7dbe524f",
   "metadata": {},
   "outputs": [],
   "source": [
    "print(a)            #o.p:-[1 2 3]"
   ]
  },
  {
   "cell_type": "markdown",
   "id": "35c6a2e6",
   "metadata": {},
   "source": [
    "# calculate norm\n",
    "l1 = norm(a, 1)"
   ]
  },
  {
   "cell_type": "code",
   "execution_count": null,
   "id": "a58d71cf",
   "metadata": {},
   "outputs": [],
   "source": [
    "print(l1)       #o.p:-6.0"
   ]
  },
  {
   "cell_type": "markdown",
   "id": "8510fd11",
   "metadata": {},
   "source": []
  },
  {
   "cell_type": "code",
   "execution_count": null,
   "id": "5a8e50a4",
   "metadata": {},
   "outputs": [],
   "source": [
    "############################################"
   ]
  },
  {
   "cell_type": "markdown",
   "id": "eca994c7",
   "metadata": {},
   "source": [
    "# vector L2 norm\n",
    "from numpy import array\n",
    "from numpy.linalg import norm"
   ]
  },
  {
   "cell_type": "markdown",
   "id": "14c5839b",
   "metadata": {},
   "source": [
    "# define vector\n",
    "a = array([1, 2, 3])"
   ]
  },
  {
   "cell_type": "code",
   "execution_count": null,
   "id": "7b69060d",
   "metadata": {},
   "outputs": [],
   "source": [
    "print(a)            #o.p:-[1 2 3]"
   ]
  },
  {
   "cell_type": "markdown",
   "id": "21fa92d6",
   "metadata": {},
   "source": [
    "# calculate norm\n",
    "l2 = norm(a)"
   ]
  },
  {
   "cell_type": "code",
   "execution_count": null,
   "id": "6e9ceb50",
   "metadata": {},
   "outputs": [],
   "source": [
    "print(l2)           #o.p:-3.7416573867739413"
   ]
  },
  {
   "cell_type": "markdown",
   "id": "07b890d9",
   "metadata": {},
   "source": []
  },
  {
   "cell_type": "code",
   "execution_count": null,
   "id": "9de588f2",
   "metadata": {},
   "outputs": [],
   "source": [
    "################################################"
   ]
  },
  {
   "cell_type": "markdown",
   "id": "182dc041",
   "metadata": {},
   "source": [
    "# triangular matrices\n",
    "from numpy import array\n",
    "from numpy import tril\n",
    "from numpy import triu"
   ]
  },
  {
   "cell_type": "markdown",
   "id": "e32eddd2",
   "metadata": {},
   "source": [
    "# define square matrix\n",
    "M = array([\n",
    "[1, 2, 3],\n",
    "[1, 2, 3],\n",
    "[1, 2, 3]])"
   ]
  },
  {
   "cell_type": "code",
   "execution_count": null,
   "id": "2366c7f1",
   "metadata": {},
   "outputs": [],
   "source": [
    "print(M)"
   ]
  },
  {
   "cell_type": "markdown",
   "id": "aa369ed7",
   "metadata": {},
   "source": [
    "'''o.p:-[[1 2 3]\n",
    " [1 2 3]\n",
    " [1 2 3]]'''"
   ]
  },
  {
   "cell_type": "markdown",
   "id": "06d31304",
   "metadata": {},
   "source": [
    "# lower triangular matrix\n",
    "lower = tril(M)"
   ]
  },
  {
   "cell_type": "code",
   "execution_count": null,
   "id": "13630360",
   "metadata": {},
   "outputs": [],
   "source": [
    "print(lower)"
   ]
  },
  {
   "cell_type": "markdown",
   "id": "4df7c354",
   "metadata": {},
   "source": [
    "'''o.p:-[[1 0 0]\n",
    " [1 2 0]\n",
    " [1 2 3]]'''"
   ]
  },
  {
   "cell_type": "markdown",
   "id": "f774dbd2",
   "metadata": {},
   "source": [
    "# upper triangular matrix\n",
    "upper = triu(M)"
   ]
  },
  {
   "cell_type": "code",
   "execution_count": null,
   "id": "6ab02530",
   "metadata": {},
   "outputs": [],
   "source": [
    "print(upper)"
   ]
  },
  {
   "cell_type": "markdown",
   "id": "eaced208",
   "metadata": {},
   "source": [
    "'''o.p:-[[1 2 3]\n",
    " [0 2 3]\n",
    " [0 0 3]]'''\n"
   ]
  },
  {
   "cell_type": "code",
   "execution_count": null,
   "id": "33aec2ab",
   "metadata": {},
   "outputs": [],
   "source": [
    "##############################################"
   ]
  },
  {
   "cell_type": "markdown",
   "id": "0b823c05",
   "metadata": {},
   "source": [
    "# diagonal matrix\n",
    "from numpy import array\n",
    "from numpy import diag"
   ]
  },
  {
   "cell_type": "markdown",
   "id": "b8444f98",
   "metadata": {},
   "source": [
    "# define square matrix\n",
    "M = array([\n",
    "[1, 2, 3],\n",
    "[1, 2, 3],\n",
    "[1, 2, 3]])"
   ]
  },
  {
   "cell_type": "code",
   "execution_count": null,
   "id": "0be5e1b2",
   "metadata": {},
   "outputs": [],
   "source": [
    "print(M)"
   ]
  },
  {
   "cell_type": "markdown",
   "id": "278ae30e",
   "metadata": {},
   "source": [
    "'''o.p:-[[1 2 3]\n",
    " [1 2 3]\n",
    " [1 2 3]]'''"
   ]
  },
  {
   "cell_type": "markdown",
   "id": "c3295b6c",
   "metadata": {},
   "source": [
    "# extract diagonal vector\n",
    "d = diag(M)"
   ]
  },
  {
   "cell_type": "code",
   "execution_count": null,
   "id": "75bae94b",
   "metadata": {},
   "outputs": [],
   "source": [
    "print(d)"
   ]
  },
  {
   "cell_type": "code",
   "execution_count": null,
   "id": "47b15022",
   "metadata": {},
   "outputs": [],
   "source": [
    "#o.p:-[1 2 3]"
   ]
  },
  {
   "cell_type": "markdown",
   "id": "2d554fac",
   "metadata": {},
   "source": [
    "# create diagonal matrix from vector\n",
    "D = diag(d)"
   ]
  },
  {
   "cell_type": "code",
   "execution_count": null,
   "id": "6051fe3b",
   "metadata": {},
   "outputs": [],
   "source": [
    "print(D)"
   ]
  },
  {
   "cell_type": "markdown",
   "id": "622e2928",
   "metadata": {},
   "source": [
    "'''o.p:-[[1 0 0]\n",
    " [0 2 0]\n",
    " [0 0 3]]'''\n"
   ]
  },
  {
   "cell_type": "code",
   "execution_count": null,
   "id": "862ea6fc",
   "metadata": {},
   "outputs": [],
   "source": [
    "#############################################"
   ]
  },
  {
   "cell_type": "code",
   "execution_count": null,
   "id": "57d45fc0",
   "metadata": {},
   "outputs": [],
   "source": [
    "#identity matrix"
   ]
  },
  {
   "cell_type": "markdown",
   "id": "97a2b4c4",
   "metadata": {},
   "source": [
    "from numpy import identity\n",
    "I = identity(3)"
   ]
  },
  {
   "cell_type": "code",
   "execution_count": null,
   "id": "3b05346e",
   "metadata": {},
   "outputs": [],
   "source": [
    "print(I)"
   ]
  },
  {
   "cell_type": "markdown",
   "id": "33d84e54",
   "metadata": {},
   "source": [
    "'''o.p:-[[1. 0. 0.]\n",
    " [0. 1. 0.]\n",
    " [0. 0. 1.]]'''\n"
   ]
  },
  {
   "cell_type": "code",
   "execution_count": null,
   "id": "2c65990d",
   "metadata": {},
   "outputs": [],
   "source": [
    "##############################################"
   ]
  },
  {
   "cell_type": "markdown",
   "id": "ca0b609f",
   "metadata": {},
   "source": [
    "# orthogonal matrix\n",
    "from numpy import array\n",
    "from numpy.linalg import inv"
   ]
  },
  {
   "cell_type": "markdown",
   "id": "e0595bee",
   "metadata": {},
   "source": [
    "# define orthogonal matrix\n",
    "Q = array([\n",
    "[1, 0],\n",
    "[0, -1]])"
   ]
  },
  {
   "cell_type": "code",
   "execution_count": null,
   "id": "2ca4310b",
   "metadata": {},
   "outputs": [],
   "source": [
    "print(Q)"
   ]
  },
  {
   "cell_type": "markdown",
   "id": "bad71797",
   "metadata": {},
   "source": [
    "'''o.p:-[[ 1  0]\n",
    " [ 0 -1]]'''"
   ]
  },
  {
   "cell_type": "markdown",
   "id": "3892ac3c",
   "metadata": {},
   "source": [
    "# inverse equivalence\n",
    "V = inv(Q)"
   ]
  },
  {
   "cell_type": "code",
   "execution_count": null,
   "id": "e9e359a1",
   "metadata": {},
   "outputs": [],
   "source": [
    "print(Q.T)"
   ]
  },
  {
   "cell_type": "markdown",
   "id": "7dd84df9",
   "metadata": {},
   "source": [
    "'''o.p:-\n",
    "[[ 1  0]\n",
    " [ 0 -1]]'''"
   ]
  },
  {
   "cell_type": "code",
   "execution_count": null,
   "id": "6444141a",
   "metadata": {},
   "outputs": [],
   "source": [
    "print(V)"
   ]
  },
  {
   "cell_type": "markdown",
   "id": "8fa00344",
   "metadata": {},
   "source": [
    "'''o.p:-[[ 1.  0.]\n",
    " [-0. -1.]]'''\n"
   ]
  },
  {
   "cell_type": "code",
   "execution_count": null,
   "id": "c746e303",
   "metadata": {},
   "outputs": [],
   "source": [
    "###################"
   ]
  },
  {
   "cell_type": "markdown",
   "id": "49d23dcf",
   "metadata": {},
   "source": [
    "# identity equivalence\n",
    "I = Q.dot(Q.T)"
   ]
  },
  {
   "cell_type": "code",
   "execution_count": null,
   "id": "2ba81c4f",
   "metadata": {},
   "outputs": [],
   "source": [
    "print(I)"
   ]
  },
  {
   "cell_type": "markdown",
   "id": "1af9663c",
   "metadata": {},
   "source": [
    "'''o.p:-[[1 0]\n",
    " [0 1]]'''\n"
   ]
  },
  {
   "cell_type": "code",
   "execution_count": null,
   "id": "8ff420fa",
   "metadata": {},
   "outputs": [],
   "source": [
    "########################################"
   ]
  },
  {
   "cell_type": "markdown",
   "id": "95aad89a",
   "metadata": {},
   "source": [
    "# transpose matrix\n",
    "from numpy import array"
   ]
  },
  {
   "cell_type": "markdown",
   "id": "d800ea9e",
   "metadata": {},
   "source": [
    "# define matrix\n",
    "A = array([\n",
    "[1, 2],\n",
    "[3, 4],\n",
    "[5, 6]])"
   ]
  },
  {
   "cell_type": "code",
   "execution_count": null,
   "id": "ba9688be",
   "metadata": {},
   "outputs": [],
   "source": [
    "print(A)            #o.p:- it will print the array"
   ]
  },
  {
   "cell_type": "markdown",
   "id": "767dce3d",
   "metadata": {},
   "source": [
    "# calculate transpose\n",
    "C = A.T"
   ]
  },
  {
   "cell_type": "code",
   "execution_count": null,
   "id": "d86cbf9e",
   "metadata": {},
   "outputs": [],
   "source": [
    "print(C)"
   ]
  },
  {
   "cell_type": "markdown",
   "id": "7e6f2256",
   "metadata": {},
   "source": [
    "'''o.p:-[[1 3 5]\n",
    " [2 4 6]]'''\n"
   ]
  },
  {
   "cell_type": "code",
   "execution_count": null,
   "id": "27b2f5c2",
   "metadata": {},
   "outputs": [],
   "source": [
    "##########################################"
   ]
  },
  {
   "cell_type": "markdown",
   "id": "599d5f39",
   "metadata": {},
   "source": [
    "# invert matrix\n",
    "from numpy import array\n",
    "from numpy.linalg import inv"
   ]
  },
  {
   "cell_type": "markdown",
   "id": "c61da1b6",
   "metadata": {},
   "source": [
    "# define matrix\n",
    "A = array([\n",
    "[1.0, 2.0],\n",
    "[3.0, 4.0]])"
   ]
  },
  {
   "cell_type": "code",
   "execution_count": null,
   "id": "a6f67e59",
   "metadata": {},
   "outputs": [],
   "source": [
    "print(A)            #o.p:- it gove the above matrix"
   ]
  },
  {
   "cell_type": "markdown",
   "id": "bf844d62",
   "metadata": {},
   "source": [
    "# invert matrix\n",
    "B = inv(A)"
   ]
  },
  {
   "cell_type": "code",
   "execution_count": null,
   "id": "a29046c3",
   "metadata": {},
   "outputs": [],
   "source": [
    "print(B)"
   ]
  },
  {
   "cell_type": "markdown",
   "id": "c6b19200",
   "metadata": {},
   "source": [
    "'''o.p:-[[-2.   1. ]\n",
    " [ 1.5 -0.5]]'''"
   ]
  },
  {
   "cell_type": "markdown",
   "id": "4504be65",
   "metadata": {},
   "source": [
    "# multiply A and B\n",
    "I = A.dot(B)"
   ]
  },
  {
   "cell_type": "code",
   "execution_count": null,
   "id": "a835e3e5",
   "metadata": {},
   "outputs": [],
   "source": [
    "print(I)"
   ]
  },
  {
   "cell_type": "markdown",
   "id": "a07444cd",
   "metadata": {},
   "source": [
    "'''o.p:-[[1.00000000e+00 1.11022302e-16]\n",
    " [0.00000000e+00 1.00000000e+00]]'''"
   ]
  },
  {
   "cell_type": "code",
   "execution_count": null,
   "id": "efd23702",
   "metadata": {},
   "outputs": [],
   "source": [
    "###########################################"
   ]
  },
  {
   "cell_type": "markdown",
   "id": "71929f8a",
   "metadata": {},
   "source": []
  },
  {
   "cell_type": "markdown",
   "id": "03d03463",
   "metadata": {},
   "source": [
    "# sparse matrix\n",
    "from numpy import array\n",
    "from scipy.sparse import csr_matrix"
   ]
  },
  {
   "cell_type": "markdown",
   "id": "01608f5d",
   "metadata": {},
   "source": [
    "# create dense matrix\n",
    "A = array([\n",
    "[1, 0, 0, 1, 0, 0],\n",
    "[0, 0, 2, 0, 0, 1],\n",
    "[0, 0, 0, 2, 0, 0]])"
   ]
  },
  {
   "cell_type": "code",
   "execution_count": null,
   "id": "53a146a5",
   "metadata": {},
   "outputs": [],
   "source": [
    "print(A)                #o.p:-it will give the above array"
   ]
  },
  {
   "cell_type": "markdown",
   "id": "4ad5c399",
   "metadata": {},
   "source": [
    "# convert to sparse matrix (CSR method)\n",
    "S = csr_matrix(A)"
   ]
  },
  {
   "cell_type": "code",
   "execution_count": null,
   "id": "a33fc1e1",
   "metadata": {},
   "outputs": [],
   "source": [
    "print(S)"
   ]
  },
  {
   "cell_type": "markdown",
   "id": "edbb3cd8",
   "metadata": {},
   "source": [
    "'''o.p:-  (0, 0)\t1\n",
    "  (0, 3)\t1\n",
    "  (1, 2)\t2\n",
    "  (1, 5)\t1\n",
    "  (2, 3)\t2'''"
   ]
  },
  {
   "cell_type": "markdown",
   "id": "92d214c3",
   "metadata": {},
   "source": [
    "# reconstruct dense matrix\n",
    "B = S.todense()"
   ]
  },
  {
   "cell_type": "code",
   "execution_count": null,
   "id": "09890592",
   "metadata": {},
   "outputs": [],
   "source": [
    "print(B)"
   ]
  },
  {
   "cell_type": "markdown",
   "id": "2e5b4a2b",
   "metadata": {},
   "source": [
    "'''o.p:-[[1 0 0 1 0 0]\n",
    " [0 0 2 0 0 1]\n",
    " [0 0 0 2 0 0]]'''\n"
   ]
  },
  {
   "cell_type": "code",
   "execution_count": null,
   "id": "cdaf9337",
   "metadata": {},
   "outputs": [],
   "source": [
    "##############################################"
   ]
  },
  {
   "cell_type": "markdown",
   "id": "d4b9eba4",
   "metadata": {},
   "source": [
    "from numpy import array\n",
    "T = array([\n",
    "[[1,2,3], [4,5,6], [7,8,9]],\n",
    "[[11,12,13], [14,15,16], [17,18,19]],\n",
    "[[21,22,23], [24,25,26], [27,28,29]]])"
   ]
  },
  {
   "cell_type": "code",
   "execution_count": null,
   "id": "acb5b7f1",
   "metadata": {},
   "outputs": [],
   "source": [
    "print(T.shape)                  #o.p:-(3, 3, 3)"
   ]
  },
  {
   "cell_type": "code",
   "execution_count": null,
   "id": "b29410ac",
   "metadata": {},
   "outputs": [],
   "source": [
    "print(T)"
   ]
  },
  {
   "cell_type": "markdown",
   "id": "45232b2b",
   "metadata": {},
   "source": [
    "'''o.p:-[[[ 1  2  3]\n",
    "  [ 4  5  6]\n",
    "  [ 7  8  9]]\n",
    "\n",
    " [[11 12 13]\n",
    "  [14 15 16]\n",
    "  [17 18 19]]\n",
    "\n",
    " [[21 22 23]\n",
    "  [24 25 26]\n",
    "  [27 28 29]]]'''\n",
    "\n",
    "\n",
    "\n",
    "\tMatplotlib\n",
    "                                 Matplotlib is an amazing visualization library in Python for 2D plots of arrays. Matplotlib is a multi-platform data visualization library built on NumPy arrays and designed to work with the broader SciPy stack. It was introduced by John Hunter in the year 2002. One of the greatest benefits of visualization is that it allows us visual access to huge amounts of data in easily digestible visuals. Matplotlib consists of several plots like line, bar, scatter, histogram etc.\n",
    "•\t  Create publication quality plots.\n",
    "•\tMake interactive figures that can zoom, pan, update.\n",
    "•\tCustomize visual style and layout.\n",
    "•\tExport to many file formats.\n",
    "•\tEmbed in JupyterLab and Graphical User Interfaces.\n",
    "•\tUse a rich array of third-party packages built on Matplotlib.\n",
    "\tPyplot :\n",
    "                       Pyplot is a Matplotlib module that provides a MATLAB-like interface. Matplotlib is designed to be as usable as MATLAB, with the ability to use Python and the advantage of being free and open-source. Each pyplot function makes some changes to a figure: e.g., creates a figure, creates a plotting area in a figure, plots some lines in a plotting area, decorates the plot with labels, etc. The various plots we can utilize using Pyplot are Line Plot, Histogram, Scatter, 3D Plot, Image, Contour, and Polar.\n",
    "\n",
    "import matplotlib.pyplot as plt\n",
    "plt.plot([1, 3, 2, 4]) --------------------------------------------------------------------------\n",
    "plt.show()\n"
   ]
  },
  {
   "cell_type": "code",
   "execution_count": null,
   "id": "8bcfd418",
   "metadata": {},
   "outputs": [],
   "source": [
    "##################################"
   ]
  },
  {
   "cell_type": "code",
   "execution_count": null,
   "id": "d91c2373",
   "metadata": {},
   "outputs": [],
   "source": [
    "#Multiline plots"
   ]
  },
  {
   "cell_type": "markdown",
   "id": "45041a51",
   "metadata": {},
   "source": [
    "import matplotlib.pyplot as plt\n",
    "x = range(1, 5)\n",
    "plt.plot(x, [xi*1.5 for xi in x])-------------------------\n",
    "\n",
    "plt.plot(x, [xi/3.0 for xi in x])-------------------------------------------------------------\n",
    "plt.show()\n"
   ]
  },
  {
   "cell_type": "code",
   "execution_count": null,
   "id": "5d2440ce",
   "metadata": {},
   "outputs": [],
   "source": [
    "####################################"
   ]
  },
  {
   "cell_type": "code",
   "execution_count": null,
   "id": "e047b97b",
   "metadata": {},
   "outputs": [],
   "source": [
    "#Note how Matplotlib automatically chooses different colors for each line—green for "
   ]
  },
  {
   "cell_type": "code",
   "execution_count": null,
   "id": "305eeb92",
   "metadata": {},
   "outputs": [],
   "source": [
    "#the first line, blue for the second line, and red for the third one (from top to bottom)."
   ]
  },
  {
   "cell_type": "markdown",
   "id": "d5e75eb2",
   "metadata": {},
   "source": []
  },
  {
   "cell_type": "code",
   "execution_count": null,
   "id": "70e2ec47",
   "metadata": {},
   "outputs": [],
   "source": [
    "########################################"
   ]
  },
  {
   "cell_type": "code",
   "execution_count": null,
   "id": "138fe153",
   "metadata": {},
   "outputs": [],
   "source": [
    "#Grid, axes, and labels"
   ]
  },
  {
   "cell_type": "code",
   "execution_count": null,
   "id": "20b4878b",
   "metadata": {},
   "outputs": [],
   "source": [
    "#Adding a grid"
   ]
  },
  {
   "cell_type": "markdown",
   "id": "f36b8be7",
   "metadata": {},
   "source": [
    "import matplotlib.pyplot as plt\n",
    "import numpy as np\n",
    "x = np.arange(1, 5)\n",
    "plt.plot(x, x*1.5, x, x*3.0, x, x/3.0)-------------------------------------------------------\n",
    "\n",
    "plt.grid(True)------------------------------------------\n",
    "plt.show()\n"
   ]
  },
  {
   "cell_type": "code",
   "execution_count": null,
   "id": "1f8d09b2",
   "metadata": {},
   "outputs": [],
   "source": [
    "################################"
   ]
  },
  {
   "cell_type": "code",
   "execution_count": null,
   "id": "3fdfda75",
   "metadata": {},
   "outputs": [],
   "source": [
    "#Handling axes"
   ]
  },
  {
   "cell_type": "markdown",
   "id": "2e1f2189",
   "metadata": {},
   "source": [
    "import matplotlib.pyplot as plt \n",
    "import numpy as np \n",
    "x = np.arange(1, 5) \n",
    "plt.plot(x, x*1.5, x, x*3.0, x, x/3.0) ----------------------------------------------\n",
    " \n",
    "plt.axis() -------------------------------------------"
   ]
  },
  {
   "cell_type": "markdown",
   "id": "fd1100f8",
   "metadata": {},
   "source": [
    "# shows the current axis limits values\n",
    "\n",
    "\n",
    "\n",
    "\n",
    "plt.axis([0, 5, -1, 13]) # set new axes limits --------------------------------------"
   ]
  },
  {
   "cell_type": "markdown",
   "id": "05206fec",
   "metadata": {},
   "source": [
    "# [xmin,xmax, ymin, ymax]"
   ]
  },
  {
   "cell_type": "code",
   "execution_count": null,
   "id": "5bf41f24",
   "metadata": {},
   "outputs": [],
   "source": [
    "#[0, 5, -1, 13] "
   ]
  },
  {
   "cell_type": "markdown",
   "id": "fc501d8a",
   "metadata": {},
   "source": [
    "plt.show()\n"
   ]
  },
  {
   "cell_type": "code",
   "execution_count": null,
   "id": "bb7acd9f",
   "metadata": {},
   "outputs": [],
   "source": [
    "#####################################"
   ]
  },
  {
   "cell_type": "code",
   "execution_count": null,
   "id": "13d6a38b",
   "metadata": {},
   "outputs": [],
   "source": [
    "#Adding labels"
   ]
  },
  {
   "cell_type": "markdown",
   "id": "6c7c1228",
   "metadata": {},
   "source": [
    "import matplotlib.pyplot as plt \n",
    "plt.plot([1, 3, 2, 4]) -------------------------------\n",
    " \n",
    "\n",
    "\n",
    "\n",
    "plt.xlabel('This is the X axis') -----------------------------------------------------------\n",
    " \n",
    "plt.ylabel('This is the Y axis') --------------------\n",
    "plt.show() \n"
   ]
  },
  {
   "cell_type": "code",
   "execution_count": null,
   "id": "db3cb465",
   "metadata": {},
   "outputs": [],
   "source": [
    "#####################################"
   ]
  },
  {
   "cell_type": "code",
   "execution_count": null,
   "id": "615aa195",
   "metadata": {},
   "outputs": [],
   "source": [
    "#Adding a title"
   ]
  },
  {
   "cell_type": "markdown",
   "id": "66f86550",
   "metadata": {},
   "source": [
    "import matplotlib.pyplot as plt \n",
    "plt.plot([1, 3, 2, 4]) ---------------------------------------------------------------------\n",
    "\n",
    "plt.title('Simple plot') ---------------------------\n",
    "plt.show()\n"
   ]
  },
  {
   "cell_type": "code",
   "execution_count": null,
   "id": "72f386ce",
   "metadata": {},
   "outputs": [],
   "source": [
    "#Matplotlib provides a simple function, "
   ]
  },
  {
   "cell_type": "markdown",
   "id": "e4ad43da",
   "metadata": {},
   "source": [
    "plt.title(), to add a title to an image"
   ]
  },
  {
   "cell_type": "code",
   "execution_count": null,
   "id": "0b2b23c9",
   "metadata": {},
   "outputs": [],
   "source": [
    "#=================================="
   ]
  },
  {
   "cell_type": "code",
   "execution_count": null,
   "id": "c8372ebb",
   "metadata": {},
   "outputs": [],
   "source": [
    "#Adding a legend"
   ]
  },
  {
   "cell_type": "markdown",
   "id": "b3c89b31",
   "metadata": {},
   "source": [
    "import matplotlib.pyplot as plt \n",
    "import numpy as np \n",
    "x = np.arange(1, 5)\n",
    "plt.plot(x, x*1.5, label='Normal') --------\n",
    " \n",
    "\n",
    "plt.plot(x, x*3.0, label='Fast') -------------------------------------------------\n",
    " \n",
    "plt.plot(x, x/3.0, label='Slow') --------------------------------------------------\n",
    " \n",
    "plt.legend() -------------------\n",
    " \n",
    "plt.show()\n",
    "\n",
    "\n"
   ]
  },
  {
   "cell_type": "code",
   "execution_count": null,
   "id": "5b8bb61b",
   "metadata": {},
   "outputs": [],
   "source": [
    "#############################"
   ]
  },
  {
   "cell_type": "code",
   "execution_count": null,
   "id": "c061582b",
   "metadata": {},
   "outputs": [],
   "source": [
    "#Control colors"
   ]
  },
  {
   "cell_type": "markdown",
   "id": "9954ab2f",
   "metadata": {},
   "source": [
    "import matplotlib.pyplot as plt \n",
    "import numpy as np \n",
    "y = np.arange(1, 3) \n",
    "plt.plot(y, 'y'); -------------------------\n",
    "\n",
    "plt.plot(y+1, 'm');---------------------------------------------------------------\n",
    "\n",
    "plt.plot(y+2, 'c');------------------\n",
    "plt.show()\n"
   ]
  },
  {
   "cell_type": "code",
   "execution_count": null,
   "id": "804569c5",
   "metadata": {},
   "outputs": [],
   "source": [
    "##########################"
   ]
  },
  {
   "cell_type": "markdown",
   "id": "def29b78",
   "metadata": {},
   "source": [
    "'''Color abbreviation\n",
    "Color Name\n",
    "b     blue\n",
    "c     cyan\n",
    "g     green\n",
    "k     black\n",
    "m     magenta\n",
    "r     red\n",
    "w     white\n",
    "y     yellow\n",
    "'''"
   ]
  },
  {
   "cell_type": "code",
   "execution_count": null,
   "id": "10550009",
   "metadata": {},
   "outputs": [],
   "source": [
    "#Specifying styles in multiline plots"
   ]
  },
  {
   "cell_type": "markdown",
   "id": "b3d0df45",
   "metadata": {},
   "source": [
    "import matplotlib.pyplot as plt \n",
    "import numpy as np \n",
    "y = np.arange(1, 3) \n",
    "plt.plot(y, 'y', y+1, 'm', y+2, 'c');--------\n",
    "plt.show()\n"
   ]
  },
  {
   "cell_type": "code",
   "execution_count": null,
   "id": "0d103f3c",
   "metadata": {},
   "outputs": [],
   "source": [
    "#========================================="
   ]
  },
  {
   "cell_type": "markdown",
   "id": "3d72729f",
   "metadata": {},
   "source": []
  },
  {
   "cell_type": "code",
   "execution_count": null,
   "id": "ce352352",
   "metadata": {},
   "outputs": [],
   "source": [
    "#Control line styles"
   ]
  },
  {
   "cell_type": "markdown",
   "id": "c3e81184",
   "metadata": {},
   "source": [
    "import matplotlib.pyplot as plt \n",
    "import numpy as np \n",
    "y = np.arange(1, 3) \n",
    "plt.plot(y, '--', y+1, '-.', y+2, ':');----------------\n",
    "plt.show()\n"
   ]
  },
  {
   "cell_type": "code",
   "execution_count": null,
   "id": "27d9c824",
   "metadata": {},
   "outputs": [],
   "source": [
    "##################################"
   ]
  },
  {
   "cell_type": "markdown",
   "id": "5dc00f94",
   "metadata": {},
   "source": [
    "'''\n",
    "Style abbreviation Style\n",
    "- solid line\n",
    "-- dashed line\n",
    "-. dash-dot line\n",
    ": dotted line\n",
    "'''"
   ]
  },
  {
   "cell_type": "code",
   "execution_count": null,
   "id": "1cf8113a",
   "metadata": {},
   "outputs": [],
   "source": [
    "#==================================================="
   ]
  },
  {
   "cell_type": "code",
   "execution_count": null,
   "id": "961775c8",
   "metadata": {},
   "outputs": [],
   "source": [
    "#Control marker styles"
   ]
  },
  {
   "cell_type": "markdown",
   "id": "342421ed",
   "metadata": {},
   "source": [
    "Marker abbreviation Marker style\n",
    "•\t. Point marker\n",
    "•\t, Pixel marker\n",
    "•\tCircle marker\n",
    "•\tv Triangle down marker\n",
    "•\t^ Triangle up marker\n",
    "•\t< Triangle left marker\n",
    "•\tTriangle right marker\n",
    "1.\t Tripod down marker\n",
    "2.\t Tripod up marker\n",
    "3.\t Tripod left marker\n",
    "4.\t Tripod right marker\n",
    "5.\t Square marker\n",
    "6.\tP Pentagon marker\n",
    "7.\t* Star marker\n",
    "8.\th Hexagon marker\n",
    "9.\tH Rotated hexagon marker\n",
    "10.\t+ Plus marker\n",
    "11.\tx Cross (x) marker\n",
    "12.\tD Diamond marker\n",
    "13.\td Thin diamond marker\n",
    "14.\t| Vertical line (vline symbol) marker\n",
    "\n",
    "import matplotlib.pyplot as plt\n",
    "import numpy as np\n",
    "y = np.arange(1, 3, 0.2)\n",
    "plt.plot(y, 'x', y+0.5, 'o', y+1, 'D', y+1.5, '^', y+2, 's');---\n",
    "plt.show()\n"
   ]
  },
  {
   "cell_type": "code",
   "execution_count": null,
   "id": "91c5c2b7",
   "metadata": {},
   "outputs": [],
   "source": [
    "#########################################"
   ]
  },
  {
   "cell_type": "markdown",
   "id": "05583f96",
   "metadata": {},
   "source": [
    "\n"
   ]
  },
  {
   "cell_type": "code",
   "execution_count": null,
   "id": "a4e23dd1",
   "metadata": {},
   "outputs": [],
   "source": [
    "#Histogram charts"
   ]
  },
  {
   "cell_type": "markdown",
   "id": "08b6c62c",
   "metadata": {},
   "source": [
    "import matplotlib.pyplot as plt \n",
    "import numpy as np \n",
    "y = np.random.randn(1000)\n",
    "plt.hist(y);-------------------------\n",
    "plt.show()\n"
   ]
  },
  {
   "cell_type": "code",
   "execution_count": null,
   "id": "d994bd02",
   "metadata": {},
   "outputs": [],
   "source": [
    "####################"
   ]
  },
  {
   "cell_type": "markdown",
   "id": "cb11bb89",
   "metadata": {},
   "source": [
    "import matplotlib.pyplot as plt\n",
    "plt.bar([1, 2, 3], [3, 2, 5]);--------------------------------------------------\n",
    "plt.show()\n",
    "\n",
    "'''\n",
    "The bar() function is used to generate bar charts in Matplotlib. \n",
    "The function expects two lists of values: \n",
    "the X coordinates that are the positions of the bar's left margin and the heights of the bars:\n",
    " As we can see  the left margin of the bars start at the points specified in the first list, while their heights are the values of the second list.    \n",
    "'''"
   ]
  },
  {
   "cell_type": "code",
   "execution_count": null,
   "id": "f17d1931",
   "metadata": {},
   "outputs": [],
   "source": [
    "#======================================================="
   ]
  },
  {
   "cell_type": "code",
   "execution_count": null,
   "id": "aeb272b7",
   "metadata": {},
   "outputs": [],
   "source": [
    "#Scatter plots"
   ]
  },
  {
   "cell_type": "markdown",
   "id": "0d3ee170",
   "metadata": {},
   "source": [
    "'''\n",
    "Bivariate analysis\n",
    "Scatter plots display values for two sets of data. The data visualization is done as a collection of points not connected by lines. Each of them has its coordinates determined by the value of the variables \n",
    "(one variable determines the X position, the other the Y position).\n",
    "'''\n",
    "import matplotlib.pyplot as plt\n",
    "import numpy as np\n",
    "x = np.random.randn(1000)\n",
    "y = np.random.randn(1000)\n",
    "plt.scatter(x, y) --------------------------------------------------------------\n",
    "plt.show()\n"
   ]
  },
  {
   "cell_type": "code",
   "execution_count": null,
   "id": "8bb3762f",
   "metadata": {},
   "outputs": [],
   "source": [
    "##################################################"
   ]
  },
  {
   "cell_type": "markdown",
   "id": "77b400d9",
   "metadata": {},
   "source": [
    "size = 50*np.random.randn(1000)\n",
    "colors = np.random.rand(1000)\n",
    "plt.scatter(x, y, s=size, c=colors);-\n",
    "plt.show()\n"
   ]
  },
  {
   "cell_type": "code",
   "execution_count": null,
   "id": "c2407975",
   "metadata": {},
   "outputs": [],
   "source": [
    "#######################"
   ]
  },
  {
   "cell_type": "code",
   "execution_count": null,
   "id": "da0c97ea",
   "metadata": {},
   "outputs": [],
   "source": [
    "#Adding text"
   ]
  },
  {
   "cell_type": "markdown",
   "id": "774619f3",
   "metadata": {},
   "source": [
    "import numpy as np\n",
    "import matplotlib.pyplot as plt\n",
    "X = np.linspace(-4, 4, 1024)\n",
    "Y = .25 * (X + 4.) * (X + 1.) * (X - 2.)\n",
    "plt.text(-0.5, -0.25, 'Brackmard minimum')----------------------------------\n",
    "\n",
    "\n",
    "\n",
    "plt.plot(X, Y, c = 'k')-------------------------------------------------------------\n",
    "plt.show()\n",
    "\n",
    "\n",
    "\n",
    "\n"
   ]
  },
  {
   "cell_type": "code",
   "execution_count": null,
   "id": "498280ab",
   "metadata": {},
   "outputs": [],
   "source": [
    "##########################################"
   ]
  },
  {
   "cell_type": "markdown",
   "id": "f28ae5fe",
   "metadata": {},
   "source": [
    "\tSeaborn: \n",
    "                              Seaborn is an amazing visualization library for statistical graphics plotting in Python. It provides beautiful default styles and color palettes to make statistical plots more attractive. It is built on top matplotlib library and is also closely integrated with the data structures from pandas.\n",
    " Seaborn aims to make visualization the central part of exploring and understanding data. It provides dataset-oriented APIs so that we can switch between different visual representations for the same variables for a better understanding of the dataset.\n"
   ]
  },
  {
   "cell_type": "code",
   "execution_count": null,
   "id": "11f9310d",
   "metadata": {},
   "outputs": [],
   "source": [
    "#How to use Seaborn for Data Visualization"
   ]
  },
  {
   "cell_type": "code",
   "execution_count": null,
   "id": "6a3d814a",
   "metadata": {},
   "outputs": [],
   "source": [
    "#pip install seaborn"
   ]
  },
  {
   "cell_type": "markdown",
   "id": "fc211a1f",
   "metadata": {},
   "source": [
    "\n",
    "Seaborn is a library for making statistical graphics in Python. It builds on top of matplotlib and integrates closely with pandas data structures.\n",
    "Seaborn helps you explore and understand your data. Its plotting functions operate on dataframes and arrays containing whole datasets and internally perform the necessary semantic mapping and statistical aggregation to produce informative plots. Its dataset-oriented, declarative API lets you focus on what the different elements of your plots mean, rather than on the details of how to draw them.\n",
    "Seaborn is the only library we need to import for this simple example. By convention, it is imported with the shorthand sns.\n",
    "Behind the scenes, seaborn uses matplotlib to draw its plots. For interactive work, it’s recommended to use a Jupyter/IPython interface in matplotlib mode, or else you’ll have to call matplotlib.pyplot.show() when you want to see the plot.\n",
    "Different categories of plot in Seaborn \n",
    "Plots are basically used for visualizing the relationship between variables. Those variables can be either completely numerical or a category like a group, class, or division. Seaborn divides the plot into the below categories – \n",
    " \n",
    "•\tRelational plots: This plot is used to understand the relation between two variables.\n",
    "•\tCategorical plots: This plot deals with categorical variables and how they can be visualized.\n",
    "•\tDistribution plots: This plot is used for examining univariate and bivariate distributions\n",
    "•\tRegression plots: The regression plots in Seaborn are primarily intended to add a visual guide that helps to emphasize patterns in a dataset during exploratory data analyses.\n",
    "•\tMatrix plots: A matrix plot is an array of scatterplots.\n",
    "•\tMulti-plot grids: It is a useful approach to draw multiple instances of the same plot on different subsets of the dataset.\n",
    "\n",
    "import seaborn as sns\n",
    "import pandas\n",
    "import matplotlib.pyplot as plt"
   ]
  },
  {
   "cell_type": "code",
   "execution_count": null,
   "id": "1a820e61",
   "metadata": {},
   "outputs": [],
   "source": [
    "#Seaborn has 18 in-built datasets, "
   ]
  },
  {
   "cell_type": "code",
   "execution_count": null,
   "id": "25905a6d",
   "metadata": {},
   "outputs": [],
   "source": [
    "#that can be found using the following command."
   ]
  },
  {
   "cell_type": "markdown",
   "id": "27a937f2",
   "metadata": {},
   "source": [
    "sns.get_dataset_names()\n",
    "Out[77]: \n",
    "['anagrams',\n",
    " 'anscombe',\n",
    " 'attention',\n",
    " 'brain_networks',\n",
    " 'car_crashes',\n",
    " 'diamonds',\n",
    " 'dots',\n",
    " 'dowjones',\n",
    " 'exercise',\n",
    " 'flights',\n",
    " 'fmri',\n",
    " 'geyser',\n",
    " 'glue',\n",
    " 'healthexp',\n",
    " 'iris',\n",
    " 'mpg',\n",
    " 'penguins',\n",
    " 'planets',\n",
    " 'seaice',\n",
    " 'taxis',\n",
    " 'tips',\n",
    " 'titanic']\n",
    "df = sns.load_dataset('titanic')\n",
    "df.head()"
   ]
  },
  {
   "cell_type": "code",
   "execution_count": null,
   "id": "1a431082",
   "metadata": {},
   "outputs": [],
   "source": [
    "#Out[79]: "
   ]
  },
  {
   "cell_type": "markdown",
   "id": "d8a6e874",
   "metadata": {},
   "source": [
    "   survived  pclass     sex   age  ...  deck  embark_town  alive  alone\n",
    "0         0       3    male  22.0  ...   NaN  Southampton     no  False\n",
    "1         1       1  female  38.0  ...     C    Cherbourg    yes  False\n",
    "2         1       3  female  26.0  ...   NaN  Southampton    yes   True\n",
    "3         1       1  female  35.0  ...     C  Southampton    yes  False\n",
    "4         0       3    male  35.0  ...   NaN  Southampton     no   True\n",
    "\n",
    "[5 rows x 15 columns]"
   ]
  },
  {
   "cell_type": "code",
   "execution_count": null,
   "id": "8f47904c",
   "metadata": {},
   "outputs": [],
   "source": [
    "#=====================================================     ^"
   ]
  },
  {
   "cell_type": "code",
   "execution_count": null,
   "id": "22b0fc45",
   "metadata": {},
   "outputs": [],
   "source": [
    "#Count plot                                                                                                       l"
   ]
  },
  {
   "cell_type": "markdown",
   "id": "559c7a75",
   "metadata": {},
   "source": [
    "'''                                                                                                                          l\n",
    "A count plot is helpful when dealing with categorical values. It is used to plot the frequency of the different categories. The column sex contains categorical data in the     l   titanic data, i.e., male and female.                                                                l\n",
    "'''                                                                                                                          l\n",
    "sns.countplot(x='sex',data=df)----------------------------------------------------"
   ]
  },
  {
   "cell_type": "code",
   "execution_count": null,
   "id": "959bdf0d",
   "metadata": {},
   "outputs": [],
   "source": [
    "#x - The name of the column."
   ]
  },
  {
   "cell_type": "code",
   "execution_count": null,
   "id": "f05683de",
   "metadata": {},
   "outputs": [],
   "source": [
    "#data - The dataframe."
   ]
  },
  {
   "cell_type": "markdown",
   "id": "fdb3b092",
   "metadata": {},
   "source": [
    "\n",
    "sns.countplot(x='sex', hue = 'survived', data = df, \n",
    "palette = 'Set1') ------------------------------------------------------------------\n",
    "\n",
    "sns.countplot(x='sex', hue = 'survived',\n",
    "data = df, palette = 'Set2')------------------------------------------------------\n",
    "\n",
    "\n",
    "\n",
    "\n",
    "\n",
    "sns.countplot(x='sex', hue = 'survived',\n",
    "data = df, palette = 'Set3')--------------\n",
    "\n",
    "\n"
   ]
  },
  {
   "cell_type": "code",
   "execution_count": null,
   "id": "0ca18eaa",
   "metadata": {},
   "outputs": [],
   "source": [
    "#hue - The name of the categorical column to split the bars."
   ]
  },
  {
   "cell_type": "code",
   "execution_count": null,
   "id": "f611a265",
   "metadata": {},
   "outputs": [],
   "source": [
    "#palette - The color palette to be used. "
   ]
  },
  {
   "cell_type": "markdown",
   "id": "1d476170",
   "metadata": {},
   "source": []
  },
  {
   "cell_type": "code",
   "execution_count": null,
   "id": "6ac5319b",
   "metadata": {},
   "outputs": [],
   "source": [
    "##############################################"
   ]
  },
  {
   "cell_type": "markdown",
   "id": "4dd7ee75",
   "metadata": {},
   "source": [
    "\tKDE Plot :\n",
    "                      \n",
    "                       A kernel density estimate (KDE) plot is a method for visualizing the distribution of observations in a dataset, analogous to a histogram. KDE represents the data using a continuous probability density curve in one or more dimensions.\n",
    "The approach is explained further in the user guide.\n",
    "Relative to a histogram, KDE can produce a plot that is less cluttered and more interpretable, especially when drawing multiple distributions. But it has the potential to introduce distortions if the underlying distribution is bounded or not smooth. Like a histogram, the quality of the representation also depends on the selection of good smoothing parameters.\n"
   ]
  },
  {
   "cell_type": "code",
   "execution_count": null,
   "id": "829e7848",
   "metadata": {},
   "outputs": [],
   "source": [
    "#A Kernel Density Estimate (KDE) Plot is used "
   ]
  },
  {
   "cell_type": "code",
   "execution_count": null,
   "id": "0859ecfd",
   "metadata": {},
   "outputs": [],
   "source": [
    "#to plot the distribution of continuous data."
   ]
  },
  {
   "cell_type": "markdown",
   "id": "ed4a6ce3",
   "metadata": {},
   "source": [
    "sns.kdeplot(x = 'age' , data = df , color = 'black')---------------------\n"
   ]
  },
  {
   "cell_type": "markdown",
   "id": "1c503307",
   "metadata": {},
   "source": [
    "# x - The name of the column."
   ]
  },
  {
   "cell_type": "code",
   "execution_count": null,
   "id": "53112d98",
   "metadata": {},
   "outputs": [],
   "source": [
    "#data - The dataframe."
   ]
  },
  {
   "cell_type": "code",
   "execution_count": null,
   "id": "e148fed6",
   "metadata": {},
   "outputs": [],
   "source": [
    "#color - The color of the graph. You can find a list of colors here."
   ]
  },
  {
   "cell_type": "code",
   "execution_count": null,
   "id": "8a8782fe",
   "metadata": {},
   "outputs": [],
   "source": [
    "#Distribution plot"
   ]
  },
  {
   "cell_type": "markdown",
   "id": "e3f5ccde",
   "metadata": {},
   "source": [
    "\n",
    "sns.displot(x = 'age',kde=True,bins = 6 , data =df)--------------------\n"
   ]
  },
  {
   "cell_type": "code",
   "execution_count": null,
   "id": "69d564cf",
   "metadata": {},
   "outputs": [],
   "source": [
    "#kde - It is set to False by default. However, if you wish to plot a KDE graph on top of the bars, you can set it to True."
   ]
  },
  {
   "cell_type": "markdown",
   "id": "e773e798",
   "metadata": {},
   "source": []
  },
  {
   "cell_type": "code",
   "execution_count": null,
   "id": "b0fa00cb",
   "metadata": {},
   "outputs": [],
   "source": [
    " # bins - The number of bins/bars. "
   ]
  },
  {
   "cell_type": "code",
   "execution_count": null,
   "id": "09560719",
   "metadata": {},
   "outputs": [],
   "source": [
    " #The lower the number, wider the bars and wider the intervals."
   ]
  },
  {
   "cell_type": "markdown",
   "id": "2719e18a",
   "metadata": {},
   "source": [
    "\n",
    "\n",
    "sns.displot(x ='age',kde=True,bins = 5 ,\n",
    "hue = df['survived'] , palette = 'Set1', data=df)--------------\n"
   ]
  },
  {
   "cell_type": "code",
   "execution_count": null,
   "id": "81d2a10b",
   "metadata": {},
   "outputs": [],
   "source": [
    "#Scatter plot"
   ]
  },
  {
   "cell_type": "code",
   "execution_count": null,
   "id": "8060aa8c",
   "metadata": {},
   "outputs": [],
   "source": [
    "#For this plot and the plots below,"
   ]
  },
  {
   "cell_type": "markdown",
   "id": "4d475ba2",
   "metadata": {},
   "source": [
    "# we will be working with the iris dataset. "
   ]
  },
  {
   "cell_type": "code",
   "execution_count": null,
   "id": "e9143193",
   "metadata": {},
   "outputs": [],
   "source": [
    "#The iris dataset contains data related "
   ]
  },
  {
   "cell_type": "code",
   "execution_count": null,
   "id": "817cd8aa",
   "metadata": {},
   "outputs": [],
   "source": [
    "#to flower’s petal size (petal length and petal width)"
   ]
  },
  {
   "cell_type": "markdown",
   "id": "6f1eaedf",
   "metadata": {},
   "source": [
    "# and sepal size (sepal length and sepal width)."
   ]
  },
  {
   "cell_type": "code",
   "execution_count": null,
   "id": "e6952dc8",
   "metadata": {},
   "outputs": [],
   "source": [
    "#These features are used to classify the type of iris"
   ]
  },
  {
   "cell_type": "markdown",
   "id": "06a51218",
   "metadata": {},
   "source": [
    "# (Setosa, Versicolour, and Virginica).\n"
   ]
  },
  {
   "cell_type": "code",
   "execution_count": null,
   "id": "53a6482b",
   "metadata": {},
   "outputs": [],
   "source": [
    "#First, we will need to load the iris dataset."
   ]
  },
  {
   "cell_type": "markdown",
   "id": "5e8aec00",
   "metadata": {},
   "source": [
    "                            The Iris dataset is a widely recognized benchmark in data analysis and visualization using matplotlib and seaborn which are libraries of Python. This article presents a comprehensive guide on how to plot graphs for the Iris dataset using two powerful Python libraries: Seaborn and Matplotlib.\n",
    "\n",
    "df = sns.load_dataset('iris')\n",
    "df.head()"
   ]
  },
  {
   "cell_type": "code",
   "execution_count": null,
   "id": "4f4f0b38",
   "metadata": {},
   "outputs": [],
   "source": [
    "#Out[100]: "
   ]
  },
  {
   "cell_type": "markdown",
   "id": "65012fe1",
   "metadata": {},
   "source": [
    "   sepal_length  sepal_width  petal_length  petal_width species\n",
    "0           5.1          3.5           1.4          0.2  setosa\n",
    "1           4.9          3.0           1.4          0.2  setosa\n",
    "2           4.7          3.2           1.3          0.2  setosa\n",
    "3           4.6          3.1           1.5          0.2  setosa\n",
    "4           5.0          3.6           1.4          0.2  setosa\n"
   ]
  },
  {
   "cell_type": "code",
   "execution_count": null,
   "id": "4fb2dec5",
   "metadata": {},
   "outputs": [],
   "source": [
    "#Scatter plots help understand co-relation between data,"
   ]
  },
  {
   "cell_type": "markdown",
   "id": "04c560b5",
   "metadata": {},
   "source": [
    "sns.scatterplot(x='sepal_length', y ='petal_length' ,\n",
    "data = df , hue = 'species')----------------------------------------------"
   ]
  },
  {
   "cell_type": "code",
   "execution_count": null,
   "id": "f1a7f760",
   "metadata": {},
   "outputs": [],
   "source": [
    "#Out[101]: <Axes: xlabel='sepal_length', ylabel='petal_length'>"
   ]
  },
  {
   "cell_type": "markdown",
   "id": "c73eeeae",
   "metadata": {},
   "source": [
    "\n",
    "'''\n",
    "In the plot above we can observe that an iris flower with a sepal length < 6cm and petal length < 2cm \n",
    "is most likely of type setosa. Although there is no distinct boundary present between the versicolor dots and virginica dots, an iris flower with petal length between 2cm and 5cm is most likely of type versicolor, "
   ]
  },
  {
   "cell_type": "code",
   "execution_count": null,
   "id": "64396bb2",
   "metadata": {},
   "outputs": [],
   "source": [
    "while iris flowers with petal length > 5cm are most likely of type virginica."
   ]
  },
  {
   "cell_type": "markdown",
   "id": "edbae0f7",
   "metadata": {},
   "source": [
    "'''\n",
    "\n",
    "\tJoint plot :\n"
   ]
  },
  {
   "cell_type": "code",
   "execution_count": null,
   "id": "c75cd813",
   "metadata": {},
   "outputs": [],
   "source": [
    "#A Joint Plot is also used to plot the correlation between data."
   ]
  },
  {
   "cell_type": "markdown",
   "id": "12937553",
   "metadata": {},
   "source": [
    "\n",
    "sns.jointplot(x='sepal_length' , y ='petal_length',\n",
    "data = df , kind = 'reg')-----------------------------------------------------"
   ]
  },
  {
   "cell_type": "code",
   "execution_count": null,
   "id": "434681a8",
   "metadata": {},
   "outputs": [],
   "source": [
    "#Out[102]: <seaborn.axisgrid.JointGrid at 0x2b728b0ae30>"
   ]
  },
  {
   "cell_type": "markdown",
   "id": "87b48a9c",
   "metadata": {},
   "source": [
    "\n",
    "\n",
    "sns.jointplot(x='sepal_length' , y ='petal_length',\n",
    "data = df , kind = 'hist')-----------------------------------------------------------"
   ]
  },
  {
   "cell_type": "code",
   "execution_count": null,
   "id": "c911ccd3",
   "metadata": {},
   "outputs": [],
   "source": [
    "#Out[103]: <seaborn.axisgrid.JointGrid at 0x2b72a3202b0>"
   ]
  },
  {
   "cell_type": "markdown",
   "id": "c791a7c9",
   "metadata": {},
   "source": [
    "\n",
    "\n",
    "\n",
    "\n",
    "\n",
    "\n",
    "\n",
    "sns.jointplot(x='sepal_length' , y ='petal_length',\n",
    "data = df , kind = 'kde')-------------------------------------------------\n",
    "Out[104]: <seaborn.axisgrid.JointGrid at 0x2b728a3d480>\n",
    "\n",
    "'''\n",
    "    kind - The kind of plot to be plotted. \n",
    "    It can be one of the following.\n",
    "\n",
    "'scatter', 'hist', 'hex', 'kde', 'reg', 'resid'\n",
    "'''\n"
   ]
  },
  {
   "cell_type": "code",
   "execution_count": null,
   "id": "cc4bf999",
   "metadata": {},
   "outputs": [],
   "source": [
    "#Pair plots"
   ]
  },
  {
   "cell_type": "markdown",
   "id": "e3e65b3f",
   "metadata": {},
   "source": [
    "sns.pairplot(df)\n",
    "------------\n",
    "\n",
    "\n",
    "\n",
    "\n",
    "\n",
    "\n",
    "\n"
   ]
  },
  {
   "cell_type": "code",
   "execution_count": null,
   "id": "6af81a6f",
   "metadata": {},
   "outputs": [],
   "source": [
    "###########################################"
   ]
  },
  {
   "cell_type": "code",
   "execution_count": null,
   "id": "3bc58e93",
   "metadata": {},
   "outputs": [],
   "source": [
    "#A heat map can be used to visualize confusion, matrices, and correlation."
   ]
  },
  {
   "cell_type": "markdown",
   "id": "d2aa5c0b",
   "metadata": {},
   "source": [
    "corr = df.corr()\n",
    "sns.heatmap(corr)"
   ]
  },
  {
   "cell_type": "code",
   "execution_count": null,
   "id": "d5701236",
   "metadata": {},
   "outputs": [],
   "source": [
    "#Out[107]: <Axes: >"
   ]
  },
  {
   "cell_type": "markdown",
   "id": "b026d09a",
   "metadata": {},
   "source": []
  },
  {
   "cell_type": "code",
   "execution_count": null,
   "id": "168738d3",
   "metadata": {},
   "outputs": [],
   "source": [
    "########################################"
   ]
  },
  {
   "cell_type": "code",
   "execution_count": null,
   "id": "c4cc95d9",
   "metadata": {},
   "outputs": [],
   "source": [
    "#Visualizing the Pokemon dataset"
   ]
  },
  {
   "cell_type": "markdown",
   "id": "5742b65f",
   "metadata": {},
   "source": [
    "\n",
    "This data set includes 721 Pokemon, including their number, name, first and second type, and basic stats: HP, Attack, Defense, Special Attack, Special Defense, and Speed. It has been of great use when teaching statistics to kids. With certain types you can also give a geeky introduction to machine learning.\n",
    "\n",
    "\n",
    "\n",
    "import pandas as pd\n",
    "pokemon_df = pd.read_csv('c:/10-python/pokemon.csv')\n",
    "pokemon_df.head()\n",
    "\n",
    "plt.figure(figsize=(15,8))"
   ]
  },
  {
   "cell_type": "markdown",
   "id": "4196f0ac",
   "metadata": {},
   "source": [
    "# Out[111]: <Figure size 1500x800 with 0 Axes>\n",
    "\n",
    "sns.countplot(x = 'type1' , data = pokemon_df,\n",
    "hue = 'is_legendary')"
   ]
  },
  {
   "cell_type": "code",
   "execution_count": null,
   "id": "ae98b8f7",
   "metadata": {},
   "outputs": [],
   "source": [
    "#Relation between Attack and Defense"
   ]
  },
  {
   "cell_type": "markdown",
   "id": "e706db8a",
   "metadata": {},
   "source": [
    "sns.pairplot(x_vars=['attack' , 'defense','sp_attack','sp_defense'] ,\n",
    "y_vars=['attack' , 'defense','sp_attack','sp_defense'] ,\n",
    "data = pokemon_df)"
   ]
  },
  {
   "cell_type": "code",
   "execution_count": null,
   "id": "4861371e",
   "metadata": {},
   "outputs": [],
   "source": [
    "#Relation between Height and Weight"
   ]
  },
  {
   "cell_type": "markdown",
   "id": "309c0c52",
   "metadata": {},
   "source": [
    "sns.jointplot(x = 'weight_kg', y = 'height_m',\n",
    "data = pokemon_df,hue = 'is_legendary')"
   ]
  },
  {
   "cell_type": "code",
   "execution_count": null,
   "id": "1d89b36b",
   "metadata": {},
   "outputs": [],
   "source": [
    "#Based on the graph above, we can conclude that "
   ]
  },
  {
   "cell_type": "code",
   "execution_count": null,
   "id": "b72771b0",
   "metadata": {},
   "outputs": [],
   "source": [
    "#height and weight of a Pokemon do not have "
   ]
  },
  {
   "cell_type": "code",
   "execution_count": null,
   "id": "eb4bd663",
   "metadata": {},
   "outputs": [],
   "source": [
    "#any correlation."
   ]
  },
  {
   "cell_type": "markdown",
   "id": "aed019a6",
   "metadata": {},
   "source": [
    "\n",
    "\n",
    "\n",
    "\n",
    "\n",
    "\n",
    "\n",
    "\n",
    "\n",
    "\n",
    "\n",
    "\n",
    "\n",
    "\n",
    "\n",
    "\n",
    "\n",
    "\n"
   ]
  }
 ],
 "metadata": {},
 "nbformat": 4,
 "nbformat_minor": 5
}
